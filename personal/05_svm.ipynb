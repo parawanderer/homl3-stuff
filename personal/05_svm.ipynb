{
 "cells": [
  {
   "cell_type": "markdown",
   "id": "ea28ddb2",
   "metadata": {},
   "source": [
    "# Setup"
   ]
  },
  {
   "cell_type": "code",
   "execution_count": 698,
   "id": "298c6b57",
   "metadata": {},
   "outputs": [],
   "source": [
    "import sys\n",
    "import os\n",
    "import numpy as np\n",
    "import pandas as pd\n",
    "from numpy.typing import NDArray\n",
    "from sklearn.model_selection import cross_val_score\n",
    "\n",
    "RANDOM_SEED = 42\n",
    "\n",
    "sys.path.append(os.path.abspath(\".\"))\n",
    "np.random.seed(RANDOM_SEED)"
   ]
  },
  {
   "cell_type": "markdown",
   "id": "e2ae6894",
   "metadata": {},
   "source": [
    "# Fetch Data"
   ]
  },
  {
   "cell_type": "code",
   "execution_count": 699,
   "id": "edcede4c",
   "metadata": {},
   "outputs": [
    {
     "data": {
      "text/plain": [
       "{'data':      sepal length (cm)  sepal width (cm)  petal length (cm)  petal width (cm)\n",
       " 0                  5.1               3.5                1.4               0.2\n",
       " 1                  4.9               3.0                1.4               0.2\n",
       " 2                  4.7               3.2                1.3               0.2\n",
       " 3                  4.6               3.1                1.5               0.2\n",
       " 4                  5.0               3.6                1.4               0.2\n",
       " ..                 ...               ...                ...               ...\n",
       " 145                6.7               3.0                5.2               2.3\n",
       " 146                6.3               2.5                5.0               1.9\n",
       " 147                6.5               3.0                5.2               2.0\n",
       " 148                6.2               3.4                5.4               2.3\n",
       " 149                5.9               3.0                5.1               1.8\n",
       " \n",
       " [150 rows x 4 columns],\n",
       " 'target': 0      0\n",
       " 1      0\n",
       " 2      0\n",
       " 3      0\n",
       " 4      0\n",
       "       ..\n",
       " 145    2\n",
       " 146    2\n",
       " 147    2\n",
       " 148    2\n",
       " 149    2\n",
       " Name: target, Length: 150, dtype: int64,\n",
       " 'frame':      sepal length (cm)  sepal width (cm)  petal length (cm)  petal width (cm)  \\\n",
       " 0                  5.1               3.5                1.4               0.2   \n",
       " 1                  4.9               3.0                1.4               0.2   \n",
       " 2                  4.7               3.2                1.3               0.2   \n",
       " 3                  4.6               3.1                1.5               0.2   \n",
       " 4                  5.0               3.6                1.4               0.2   \n",
       " ..                 ...               ...                ...               ...   \n",
       " 145                6.7               3.0                5.2               2.3   \n",
       " 146                6.3               2.5                5.0               1.9   \n",
       " 147                6.5               3.0                5.2               2.0   \n",
       " 148                6.2               3.4                5.4               2.3   \n",
       " 149                5.9               3.0                5.1               1.8   \n",
       " \n",
       "      target  \n",
       " 0         0  \n",
       " 1         0  \n",
       " 2         0  \n",
       " 3         0  \n",
       " 4         0  \n",
       " ..      ...  \n",
       " 145       2  \n",
       " 146       2  \n",
       " 147       2  \n",
       " 148       2  \n",
       " 149       2  \n",
       " \n",
       " [150 rows x 5 columns],\n",
       " 'target_names': array(['setosa', 'versicolor', 'virginica'], dtype='<U10'),\n",
       " 'DESCR': '.. _iris_dataset:\\n\\nIris plants dataset\\n--------------------\\n\\n**Data Set Characteristics:**\\n\\n    :Number of Instances: 150 (50 in each of three classes)\\n    :Number of Attributes: 4 numeric, predictive attributes and the class\\n    :Attribute Information:\\n        - sepal length in cm\\n        - sepal width in cm\\n        - petal length in cm\\n        - petal width in cm\\n        - class:\\n                - Iris-Setosa\\n                - Iris-Versicolour\\n                - Iris-Virginica\\n                \\n    :Summary Statistics:\\n\\n    ============== ==== ==== ======= ===== ====================\\n                    Min  Max   Mean    SD   Class Correlation\\n    ============== ==== ==== ======= ===== ====================\\n    sepal length:   4.3  7.9   5.84   0.83    0.7826\\n    sepal width:    2.0  4.4   3.05   0.43   -0.4194\\n    petal length:   1.0  6.9   3.76   1.76    0.9490  (high!)\\n    petal width:    0.1  2.5   1.20   0.76    0.9565  (high!)\\n    ============== ==== ==== ======= ===== ====================\\n\\n    :Missing Attribute Values: None\\n    :Class Distribution: 33.3% for each of 3 classes.\\n    :Creator: R.A. Fisher\\n    :Donor: Michael Marshall (MARSHALL%PLU@io.arc.nasa.gov)\\n    :Date: July, 1988\\n\\nThe famous Iris database, first used by Sir R.A. Fisher. The dataset is taken\\nfrom Fisher\\'s paper. Note that it\\'s the same as in R, but not as in the UCI\\nMachine Learning Repository, which has two wrong data points.\\n\\nThis is perhaps the best known database to be found in the\\npattern recognition literature.  Fisher\\'s paper is a classic in the field and\\nis referenced frequently to this day.  (See Duda & Hart, for example.)  The\\ndata set contains 3 classes of 50 instances each, where each class refers to a\\ntype of iris plant.  One class is linearly separable from the other 2; the\\nlatter are NOT linearly separable from each other.\\n\\n|details-start|\\n**References**\\n|details-split|\\n\\n- Fisher, R.A. \"The use of multiple measurements in taxonomic problems\"\\n  Annual Eugenics, 7, Part II, 179-188 (1936); also in \"Contributions to\\n  Mathematical Statistics\" (John Wiley, NY, 1950).\\n- Duda, R.O., & Hart, P.E. (1973) Pattern Classification and Scene Analysis.\\n  (Q327.D83) John Wiley & Sons.  ISBN 0-471-22361-1.  See page 218.\\n- Dasarathy, B.V. (1980) \"Nosing Around the Neighborhood: A New System\\n  Structure and Classification Rule for Recognition in Partially Exposed\\n  Environments\".  IEEE Transactions on Pattern Analysis and Machine\\n  Intelligence, Vol. PAMI-2, No. 1, 67-71.\\n- Gates, G.W. (1972) \"The Reduced Nearest Neighbor Rule\".  IEEE Transactions\\n  on Information Theory, May 1972, 431-433.\\n- See also: 1988 MLC Proceedings, 54-64.  Cheeseman et al\"s AUTOCLASS II\\n  conceptual clustering system finds 3 classes in the data.\\n- Many, many more ...\\n\\n|details-end|',\n",
       " 'feature_names': ['sepal length (cm)',\n",
       "  'sepal width (cm)',\n",
       "  'petal length (cm)',\n",
       "  'petal width (cm)'],\n",
       " 'filename': 'iris.csv',\n",
       " 'data_module': 'sklearn.datasets.data'}"
      ]
     },
     "execution_count": 699,
     "metadata": {},
     "output_type": "execute_result"
    }
   ],
   "source": [
    "from sklearn import datasets\n",
    "\n",
    "iris = datasets.load_iris(as_frame=True)\n",
    "iris"
   ]
  },
  {
   "cell_type": "code",
   "execution_count": 700,
   "id": "7abc6f5f",
   "metadata": {},
   "outputs": [
    {
     "data": {
      "application/vnd.microsoft.datawrangler.viewer.v0+json": {
       "columns": [
        {
         "name": "target",
         "rawType": "int64",
         "type": "integer"
        },
        {
         "name": "count",
         "rawType": "int64",
         "type": "integer"
        }
       ],
       "ref": "b8aba3fa-5ced-4486-9f39-21bf4c34161d",
       "rows": [
        [
         "0",
         "50"
        ],
        [
         "1",
         "50"
        ],
        [
         "2",
         "50"
        ]
       ],
       "shape": {
        "columns": 1,
        "rows": 3
       }
      },
      "text/plain": [
       "target\n",
       "0    50\n",
       "1    50\n",
       "2    50\n",
       "Name: count, dtype: int64"
      ]
     },
     "execution_count": 700,
     "metadata": {},
     "output_type": "execute_result"
    }
   ],
   "source": [
    "iris_target: pd.DataFrame = iris.target\n",
    "iris_target.value_counts()"
   ]
  },
  {
   "cell_type": "code",
   "execution_count": 701,
   "id": "edb35f5e",
   "metadata": {},
   "outputs": [
    {
     "data": {
      "application/vnd.microsoft.datawrangler.viewer.v0+json": {
       "columns": [
        {
         "name": "index",
         "rawType": "int64",
         "type": "integer"
        },
        {
         "name": "petal length (cm)",
         "rawType": "float64",
         "type": "float"
        },
        {
         "name": "petal width (cm)",
         "rawType": "float64",
         "type": "float"
        }
       ],
       "ref": "15072db4-cf42-48bb-b42f-160ae17b304e",
       "rows": [
        [
         "0",
         "1.4",
         "0.2"
        ],
        [
         "1",
         "1.4",
         "0.2"
        ],
        [
         "2",
         "1.3",
         "0.2"
        ],
        [
         "3",
         "1.5",
         "0.2"
        ],
        [
         "4",
         "1.4",
         "0.2"
        ],
        [
         "5",
         "1.7",
         "0.4"
        ],
        [
         "6",
         "1.4",
         "0.3"
        ],
        [
         "7",
         "1.5",
         "0.2"
        ],
        [
         "8",
         "1.4",
         "0.2"
        ],
        [
         "9",
         "1.5",
         "0.1"
        ],
        [
         "10",
         "1.5",
         "0.2"
        ],
        [
         "11",
         "1.6",
         "0.2"
        ],
        [
         "12",
         "1.4",
         "0.1"
        ],
        [
         "13",
         "1.1",
         "0.1"
        ],
        [
         "14",
         "1.2",
         "0.2"
        ],
        [
         "15",
         "1.5",
         "0.4"
        ],
        [
         "16",
         "1.3",
         "0.4"
        ],
        [
         "17",
         "1.4",
         "0.3"
        ],
        [
         "18",
         "1.7",
         "0.3"
        ],
        [
         "19",
         "1.5",
         "0.3"
        ],
        [
         "20",
         "1.7",
         "0.2"
        ],
        [
         "21",
         "1.5",
         "0.4"
        ],
        [
         "22",
         "1.0",
         "0.2"
        ],
        [
         "23",
         "1.7",
         "0.5"
        ],
        [
         "24",
         "1.9",
         "0.2"
        ],
        [
         "25",
         "1.6",
         "0.2"
        ],
        [
         "26",
         "1.6",
         "0.4"
        ],
        [
         "27",
         "1.5",
         "0.2"
        ],
        [
         "28",
         "1.4",
         "0.2"
        ],
        [
         "29",
         "1.6",
         "0.2"
        ],
        [
         "30",
         "1.6",
         "0.2"
        ],
        [
         "31",
         "1.5",
         "0.4"
        ],
        [
         "32",
         "1.5",
         "0.1"
        ],
        [
         "33",
         "1.4",
         "0.2"
        ],
        [
         "34",
         "1.5",
         "0.2"
        ],
        [
         "35",
         "1.2",
         "0.2"
        ],
        [
         "36",
         "1.3",
         "0.2"
        ],
        [
         "37",
         "1.4",
         "0.1"
        ],
        [
         "38",
         "1.3",
         "0.2"
        ],
        [
         "39",
         "1.5",
         "0.2"
        ],
        [
         "40",
         "1.3",
         "0.3"
        ],
        [
         "41",
         "1.3",
         "0.3"
        ],
        [
         "42",
         "1.3",
         "0.2"
        ],
        [
         "43",
         "1.6",
         "0.6"
        ],
        [
         "44",
         "1.9",
         "0.4"
        ],
        [
         "45",
         "1.4",
         "0.3"
        ],
        [
         "46",
         "1.6",
         "0.2"
        ],
        [
         "47",
         "1.4",
         "0.2"
        ],
        [
         "48",
         "1.5",
         "0.2"
        ],
        [
         "49",
         "1.4",
         "0.2"
        ]
       ],
       "shape": {
        "columns": 2,
        "rows": 150
       }
      },
      "text/html": [
       "<div>\n",
       "<style scoped>\n",
       "    .dataframe tbody tr th:only-of-type {\n",
       "        vertical-align: middle;\n",
       "    }\n",
       "\n",
       "    .dataframe tbody tr th {\n",
       "        vertical-align: top;\n",
       "    }\n",
       "\n",
       "    .dataframe thead th {\n",
       "        text-align: right;\n",
       "    }\n",
       "</style>\n",
       "<table border=\"1\" class=\"dataframe\">\n",
       "  <thead>\n",
       "    <tr style=\"text-align: right;\">\n",
       "      <th></th>\n",
       "      <th>petal length (cm)</th>\n",
       "      <th>petal width (cm)</th>\n",
       "    </tr>\n",
       "  </thead>\n",
       "  <tbody>\n",
       "    <tr>\n",
       "      <th>0</th>\n",
       "      <td>1.4</td>\n",
       "      <td>0.2</td>\n",
       "    </tr>\n",
       "    <tr>\n",
       "      <th>1</th>\n",
       "      <td>1.4</td>\n",
       "      <td>0.2</td>\n",
       "    </tr>\n",
       "    <tr>\n",
       "      <th>2</th>\n",
       "      <td>1.3</td>\n",
       "      <td>0.2</td>\n",
       "    </tr>\n",
       "    <tr>\n",
       "      <th>3</th>\n",
       "      <td>1.5</td>\n",
       "      <td>0.2</td>\n",
       "    </tr>\n",
       "    <tr>\n",
       "      <th>4</th>\n",
       "      <td>1.4</td>\n",
       "      <td>0.2</td>\n",
       "    </tr>\n",
       "    <tr>\n",
       "      <th>...</th>\n",
       "      <td>...</td>\n",
       "      <td>...</td>\n",
       "    </tr>\n",
       "    <tr>\n",
       "      <th>145</th>\n",
       "      <td>5.2</td>\n",
       "      <td>2.3</td>\n",
       "    </tr>\n",
       "    <tr>\n",
       "      <th>146</th>\n",
       "      <td>5.0</td>\n",
       "      <td>1.9</td>\n",
       "    </tr>\n",
       "    <tr>\n",
       "      <th>147</th>\n",
       "      <td>5.2</td>\n",
       "      <td>2.0</td>\n",
       "    </tr>\n",
       "    <tr>\n",
       "      <th>148</th>\n",
       "      <td>5.4</td>\n",
       "      <td>2.3</td>\n",
       "    </tr>\n",
       "    <tr>\n",
       "      <th>149</th>\n",
       "      <td>5.1</td>\n",
       "      <td>1.8</td>\n",
       "    </tr>\n",
       "  </tbody>\n",
       "</table>\n",
       "<p>150 rows × 2 columns</p>\n",
       "</div>"
      ],
      "text/plain": [
       "     petal length (cm)  petal width (cm)\n",
       "0                  1.4               0.2\n",
       "1                  1.4               0.2\n",
       "2                  1.3               0.2\n",
       "3                  1.5               0.2\n",
       "4                  1.4               0.2\n",
       "..                 ...               ...\n",
       "145                5.2               2.3\n",
       "146                5.0               1.9\n",
       "147                5.2               2.0\n",
       "148                5.4               2.3\n",
       "149                5.1               1.8\n",
       "\n",
       "[150 rows x 2 columns]"
      ]
     },
     "execution_count": 701,
     "metadata": {},
     "output_type": "execute_result"
    }
   ],
   "source": [
    "# we know it's linearly separabel but let's plot it anyways for now\n",
    "iris_features: pd.DataFrame = iris.data[[\"petal length (cm)\", \"petal width (cm)\"]]\n",
    "\n",
    "iris_features"
   ]
  },
  {
   "cell_type": "code",
   "execution_count": 702,
   "id": "515ae42f",
   "metadata": {},
   "outputs": [
    {
     "data": {
      "application/vnd.microsoft.datawrangler.viewer.v0+json": {
       "columns": [
        {
         "name": "index",
         "rawType": "int64",
         "type": "integer"
        },
        {
         "name": "petal length (cm)",
         "rawType": "float64",
         "type": "float"
        },
        {
         "name": "petal width (cm)",
         "rawType": "float64",
         "type": "float"
        },
        {
         "name": "target",
         "rawType": "int64",
         "type": "integer"
        }
       ],
       "ref": "cda7e728-6eb3-4ad4-b45f-fdd9fea81c4e",
       "rows": [
        [
         "0",
         "1.4",
         "0.2",
         "0"
        ],
        [
         "1",
         "1.4",
         "0.2",
         "0"
        ],
        [
         "2",
         "1.3",
         "0.2",
         "0"
        ],
        [
         "3",
         "1.5",
         "0.2",
         "0"
        ],
        [
         "4",
         "1.4",
         "0.2",
         "0"
        ],
        [
         "5",
         "1.7",
         "0.4",
         "0"
        ],
        [
         "6",
         "1.4",
         "0.3",
         "0"
        ],
        [
         "7",
         "1.5",
         "0.2",
         "0"
        ],
        [
         "8",
         "1.4",
         "0.2",
         "0"
        ],
        [
         "9",
         "1.5",
         "0.1",
         "0"
        ],
        [
         "10",
         "1.5",
         "0.2",
         "0"
        ],
        [
         "11",
         "1.6",
         "0.2",
         "0"
        ],
        [
         "12",
         "1.4",
         "0.1",
         "0"
        ],
        [
         "13",
         "1.1",
         "0.1",
         "0"
        ],
        [
         "14",
         "1.2",
         "0.2",
         "0"
        ],
        [
         "15",
         "1.5",
         "0.4",
         "0"
        ],
        [
         "16",
         "1.3",
         "0.4",
         "0"
        ],
        [
         "17",
         "1.4",
         "0.3",
         "0"
        ],
        [
         "18",
         "1.7",
         "0.3",
         "0"
        ],
        [
         "19",
         "1.5",
         "0.3",
         "0"
        ],
        [
         "20",
         "1.7",
         "0.2",
         "0"
        ],
        [
         "21",
         "1.5",
         "0.4",
         "0"
        ],
        [
         "22",
         "1.0",
         "0.2",
         "0"
        ],
        [
         "23",
         "1.7",
         "0.5",
         "0"
        ],
        [
         "24",
         "1.9",
         "0.2",
         "0"
        ],
        [
         "25",
         "1.6",
         "0.2",
         "0"
        ],
        [
         "26",
         "1.6",
         "0.4",
         "0"
        ],
        [
         "27",
         "1.5",
         "0.2",
         "0"
        ],
        [
         "28",
         "1.4",
         "0.2",
         "0"
        ],
        [
         "29",
         "1.6",
         "0.2",
         "0"
        ],
        [
         "30",
         "1.6",
         "0.2",
         "0"
        ],
        [
         "31",
         "1.5",
         "0.4",
         "0"
        ],
        [
         "32",
         "1.5",
         "0.1",
         "0"
        ],
        [
         "33",
         "1.4",
         "0.2",
         "0"
        ],
        [
         "34",
         "1.5",
         "0.2",
         "0"
        ],
        [
         "35",
         "1.2",
         "0.2",
         "0"
        ],
        [
         "36",
         "1.3",
         "0.2",
         "0"
        ],
        [
         "37",
         "1.4",
         "0.1",
         "0"
        ],
        [
         "38",
         "1.3",
         "0.2",
         "0"
        ],
        [
         "39",
         "1.5",
         "0.2",
         "0"
        ],
        [
         "40",
         "1.3",
         "0.3",
         "0"
        ],
        [
         "41",
         "1.3",
         "0.3",
         "0"
        ],
        [
         "42",
         "1.3",
         "0.2",
         "0"
        ],
        [
         "43",
         "1.6",
         "0.6",
         "0"
        ],
        [
         "44",
         "1.9",
         "0.4",
         "0"
        ],
        [
         "45",
         "1.4",
         "0.3",
         "0"
        ],
        [
         "46",
         "1.6",
         "0.2",
         "0"
        ],
        [
         "47",
         "1.4",
         "0.2",
         "0"
        ],
        [
         "48",
         "1.5",
         "0.2",
         "0"
        ],
        [
         "49",
         "1.4",
         "0.2",
         "0"
        ]
       ],
       "shape": {
        "columns": 3,
        "rows": 150
       }
      },
      "text/html": [
       "<div>\n",
       "<style scoped>\n",
       "    .dataframe tbody tr th:only-of-type {\n",
       "        vertical-align: middle;\n",
       "    }\n",
       "\n",
       "    .dataframe tbody tr th {\n",
       "        vertical-align: top;\n",
       "    }\n",
       "\n",
       "    .dataframe thead th {\n",
       "        text-align: right;\n",
       "    }\n",
       "</style>\n",
       "<table border=\"1\" class=\"dataframe\">\n",
       "  <thead>\n",
       "    <tr style=\"text-align: right;\">\n",
       "      <th></th>\n",
       "      <th>petal length (cm)</th>\n",
       "      <th>petal width (cm)</th>\n",
       "      <th>target</th>\n",
       "    </tr>\n",
       "  </thead>\n",
       "  <tbody>\n",
       "    <tr>\n",
       "      <th>0</th>\n",
       "      <td>1.4</td>\n",
       "      <td>0.2</td>\n",
       "      <td>0</td>\n",
       "    </tr>\n",
       "    <tr>\n",
       "      <th>1</th>\n",
       "      <td>1.4</td>\n",
       "      <td>0.2</td>\n",
       "      <td>0</td>\n",
       "    </tr>\n",
       "    <tr>\n",
       "      <th>2</th>\n",
       "      <td>1.3</td>\n",
       "      <td>0.2</td>\n",
       "      <td>0</td>\n",
       "    </tr>\n",
       "    <tr>\n",
       "      <th>3</th>\n",
       "      <td>1.5</td>\n",
       "      <td>0.2</td>\n",
       "      <td>0</td>\n",
       "    </tr>\n",
       "    <tr>\n",
       "      <th>4</th>\n",
       "      <td>1.4</td>\n",
       "      <td>0.2</td>\n",
       "      <td>0</td>\n",
       "    </tr>\n",
       "    <tr>\n",
       "      <th>...</th>\n",
       "      <td>...</td>\n",
       "      <td>...</td>\n",
       "      <td>...</td>\n",
       "    </tr>\n",
       "    <tr>\n",
       "      <th>145</th>\n",
       "      <td>5.2</td>\n",
       "      <td>2.3</td>\n",
       "      <td>2</td>\n",
       "    </tr>\n",
       "    <tr>\n",
       "      <th>146</th>\n",
       "      <td>5.0</td>\n",
       "      <td>1.9</td>\n",
       "      <td>2</td>\n",
       "    </tr>\n",
       "    <tr>\n",
       "      <th>147</th>\n",
       "      <td>5.2</td>\n",
       "      <td>2.0</td>\n",
       "      <td>2</td>\n",
       "    </tr>\n",
       "    <tr>\n",
       "      <th>148</th>\n",
       "      <td>5.4</td>\n",
       "      <td>2.3</td>\n",
       "      <td>2</td>\n",
       "    </tr>\n",
       "    <tr>\n",
       "      <th>149</th>\n",
       "      <td>5.1</td>\n",
       "      <td>1.8</td>\n",
       "      <td>2</td>\n",
       "    </tr>\n",
       "  </tbody>\n",
       "</table>\n",
       "<p>150 rows × 3 columns</p>\n",
       "</div>"
      ],
      "text/plain": [
       "     petal length (cm)  petal width (cm)  target\n",
       "0                  1.4               0.2       0\n",
       "1                  1.4               0.2       0\n",
       "2                  1.3               0.2       0\n",
       "3                  1.5               0.2       0\n",
       "4                  1.4               0.2       0\n",
       "..                 ...               ...     ...\n",
       "145                5.2               2.3       2\n",
       "146                5.0               1.9       2\n",
       "147                5.2               2.0       2\n",
       "148                5.4               2.3       2\n",
       "149                5.1               1.8       2\n",
       "\n",
       "[150 rows x 3 columns]"
      ]
     },
     "execution_count": 702,
     "metadata": {},
     "output_type": "execute_result"
    }
   ],
   "source": [
    "iris_full = iris_features.copy()\n",
    "iris_full[\"target\"] = iris_target\n",
    "iris_full"
   ]
  },
  {
   "cell_type": "code",
   "execution_count": 703,
   "id": "c62d8059",
   "metadata": {},
   "outputs": [
    {
     "data": {
      "text/plain": [
       "<Axes: xlabel='petal length (cm)', ylabel='petal width (cm)'>"
      ]
     },
     "execution_count": 703,
     "metadata": {},
     "output_type": "execute_result"
    },
    {
     "data": {
      "image/png": "[encoded data removed]",
      "text/plain": [
       "<Figure size 640x480 with 2 Axes>"
      ]
     },
     "metadata": {},
     "output_type": "display_data"
    }
   ],
   "source": [
    "iris_full.plot.scatter(\n",
    "    x=\"petal length (cm)\",\n",
    "    y=\"petal width (cm)\",\n",
    "    c=\"target\",\n",
    "    colormap=\"viridis\"\n",
    ")"
   ]
  },
  {
   "cell_type": "code",
   "execution_count": 704,
   "id": "ec632f46",
   "metadata": {},
   "outputs": [
    {
     "data": {
      "image/png": "[encoded data removed]",
      "text/plain": [
       "<Figure size 640x480 with 1 Axes>"
      ]
     },
     "metadata": {},
     "output_type": "display_data"
    }
   ],
   "source": [
    "import matplotlib.pyplot as plt\n",
    "\n",
    "plt.scatter(x=iris_features['petal length (cm)'], y=iris_features['petal width (cm)'], c=iris_target, cmap='viridis')\n",
    "plt.xlabel('petal length (cm)')\n",
    "plt.ylabel('petal width (cm)')\n",
    "plt.show()"
   ]
  },
  {
   "cell_type": "code",
   "execution_count": 705,
   "id": "a91d2303",
   "metadata": {},
   "outputs": [],
   "source": [
    "type_0_1_filter = (iris_target == 0) | (iris_target == 1)\n",
    "\n",
    "\n",
    "full_features: NDArray[np.float64] = iris_features[type_0_1_filter].values\n",
    "full_labels: NDArray[np.int32] = iris_target[type_0_1_filter].values"
   ]
  },
  {
   "cell_type": "code",
   "execution_count": 706,
   "id": "214e205c",
   "metadata": {},
   "outputs": [],
   "source": [
    "from sklearn.model_selection import train_test_split\n",
    "\n",
    "X_train, X_test, y_train, y_test = train_test_split(full_features, full_labels, test_size=0.2, random_state=RANDOM_SEED)"
   ]
  },
  {
   "cell_type": "code",
   "execution_count": 707,
   "id": "2ca89a36",
   "metadata": {},
   "outputs": [
    {
     "data": {
      "text/plain": [
       "array([[4.5, 1.3],\n",
       "       [4.1, 1.3],\n",
       "       [1.6, 0.4],\n",
       "       [1.3, 0.2],\n",
       "       [3.9, 1.1],\n",
       "       [1.5, 0.4],\n",
       "       [1.3, 0.3],\n",
       "       [4.2, 1.3],\n",
       "       [1.5, 0.1],\n",
       "       [4.9, 1.5],\n",
       "       [1.6, 0.2],\n",
       "       [1.4, 0.2],\n",
       "       [4.5, 1.6],\n",
       "       [1.4, 0.2],\n",
       "       [3.3, 1. ],\n",
       "       [1.7, 0.4],\n",
       "       [4.5, 1.5],\n",
       "       [4.4, 1.4],\n",
       "       [1.2, 0.2],\n",
       "       [1.3, 0.4],\n",
       "       [1.4, 0.2],\n",
       "       [1.5, 0.2],\n",
       "       [1.5, 0.2],\n",
       "       [4.2, 1.2],\n",
       "       [1.5, 0.2],\n",
       "       [1.5, 0.3],\n",
       "       [3.7, 1. ],\n",
       "       [1.6, 0.2],\n",
       "       [4. , 1. ],\n",
       "       [1.1, 0.1],\n",
       "       [1.9, 0.2],\n",
       "       [1.5, 0.2],\n",
       "       [1.4, 0.3],\n",
       "       [1.3, 0.2],\n",
       "       [1.4, 0.2],\n",
       "       [4.5, 1.5],\n",
       "       [1.4, 0.3],\n",
       "       [3.6, 1.3],\n",
       "       [1.3, 0.2],\n",
       "       [4. , 1.3],\n",
       "       [4.7, 1.6],\n",
       "       [4.1, 1.3],\n",
       "       [4.6, 1.5],\n",
       "       [1.6, 0.6],\n",
       "       [4.7, 1.4],\n",
       "       [4.1, 1. ],\n",
       "       [1.6, 0.2],\n",
       "       [4.5, 1.5],\n",
       "       [4.2, 1.5],\n",
       "       [4.3, 1.3],\n",
       "       [3.5, 1. ],\n",
       "       [1.3, 0.3],\n",
       "       [4.6, 1.3],\n",
       "       [1.5, 0.2],\n",
       "       [3. , 1.1],\n",
       "       [3.3, 1. ],\n",
       "       [4.4, 1.4],\n",
       "       [1.5, 0.1],\n",
       "       [4.2, 1.3],\n",
       "       [3.9, 1.4],\n",
       "       [4.7, 1.4],\n",
       "       [4.5, 1.5],\n",
       "       [1.4, 0.1],\n",
       "       [1.6, 0.2],\n",
       "       [1.4, 0.2],\n",
       "       [4.9, 1.5],\n",
       "       [1.5, 0.4],\n",
       "       [1.3, 0.2],\n",
       "       [1.7, 0.5],\n",
       "       [4.4, 1.3],\n",
       "       [4.6, 1.4],\n",
       "       [4.3, 1.3],\n",
       "       [4.7, 1.5],\n",
       "       [3.9, 1.2],\n",
       "       [1.7, 0.2],\n",
       "       [3.5, 1. ],\n",
       "       [4. , 1.3],\n",
       "       [1.2, 0.2],\n",
       "       [4. , 1.2],\n",
       "       [4.5, 1.5]])"
      ]
     },
     "execution_count": 707,
     "metadata": {},
     "output_type": "execute_result"
    }
   ],
   "source": [
    "X_train"
   ]
  },
  {
   "cell_type": "code",
   "execution_count": 708,
   "id": "c046cb11",
   "metadata": {},
   "outputs": [
    {
     "data": {
      "text/plain": [
       "array([1, 1, 0, 0, 1, 0, 0, 1, 0, 1, 0, 0, 1, 0, 1, 0, 1, 1, 0, 0, 0, 0,\n",
       "       0, 1, 0, 0, 1, 0, 1, 0, 0, 0, 0, 0, 0, 1, 0, 1, 0, 1, 1, 1, 1, 0,\n",
       "       1, 1, 0, 1, 1, 1, 1, 0, 1, 0, 1, 1, 1, 0, 1, 1, 1, 1, 0, 0, 0, 1,\n",
       "       0, 0, 0, 1, 1, 1, 1, 1, 0, 1, 1, 0, 1, 1])"
      ]
     },
     "execution_count": 708,
     "metadata": {},
     "output_type": "execute_result"
    }
   ],
   "source": [
    "y_train\n",
    "\n"
   ]
  },
  {
   "cell_type": "code",
   "execution_count": 709,
   "id": "30dbce68",
   "metadata": {},
   "outputs": [
    {
     "data": {
      "text/html": [
       "<style>#sk-container-id-122 {color: black;}#sk-container-id-122 pre{padding: 0;}#sk-container-id-122 div.sk-toggleable {background-color: white;}#sk-container-id-122 label.sk-toggleable__label {cursor: pointer;display: block;width: 100%;margin-bottom: 0;padding: 0.3em;box-sizing: border-box;text-align: center;}#sk-container-id-122 label.sk-toggleable__label-arrow:before {content: \"▸\";float: left;margin-right: 0.25em;color: #696969;}#sk-container-id-122 label.sk-toggleable__label-arrow:hover:before {color: black;}#sk-container-id-122 div.sk-estimator:hover label.sk-toggleable__label-arrow:before {color: black;}#sk-container-id-122 div.sk-toggleable__content {max-height: 0;max-width: 0;overflow: hidden;text-align: left;background-color: #f0f8ff;}#sk-container-id-122 div.sk-toggleable__content pre {margin: 0.2em;color: black;border-radius: 0.25em;background-color: #f0f8ff;}#sk-container-id-122 input.sk-toggleable__control:checked~div.sk-toggleable__content {max-height: 200px;max-width: 100%;overflow: auto;}#sk-container-id-122 input.sk-toggleable__control:checked~label.sk-toggleable__label-arrow:before {content: \"▾\";}#sk-container-id-122 div.sk-estimator input.sk-toggleable__control:checked~label.sk-toggleable__label {background-color: #d4ebff;}#sk-container-id-122 div.sk-label input.sk-toggleable__control:checked~label.sk-toggleable__label {background-color: #d4ebff;}#sk-container-id-122 input.sk-hidden--visually {border: 0;clip: rect(1px 1px 1px 1px);clip: rect(1px, 1px, 1px, 1px);height: 1px;margin: -1px;overflow: hidden;padding: 0;position: absolute;width: 1px;}#sk-container-id-122 div.sk-estimator {font-family: monospace;background-color: #f0f8ff;border: 1px dotted black;border-radius: 0.25em;box-sizing: border-box;margin-bottom: 0.5em;}#sk-container-id-122 div.sk-estimator:hover {background-color: #d4ebff;}#sk-container-id-122 div.sk-parallel-item::after {content: \"\";width: 100%;border-bottom: 1px solid gray;flex-grow: 1;}#sk-container-id-122 div.sk-label:hover label.sk-toggleable__label {background-color: #d4ebff;}#sk-container-id-122 div.sk-serial::before {content: \"\";position: absolute;border-left: 1px solid gray;box-sizing: border-box;top: 0;bottom: 0;left: 50%;z-index: 0;}#sk-container-id-122 div.sk-serial {display: flex;flex-direction: column;align-items: center;background-color: white;padding-right: 0.2em;padding-left: 0.2em;position: relative;}#sk-container-id-122 div.sk-item {position: relative;z-index: 1;}#sk-container-id-122 div.sk-parallel {display: flex;align-items: stretch;justify-content: center;background-color: white;position: relative;}#sk-container-id-122 div.sk-item::before, #sk-container-id-122 div.sk-parallel-item::before {content: \"\";position: absolute;border-left: 1px solid gray;box-sizing: border-box;top: 0;bottom: 0;left: 50%;z-index: -1;}#sk-container-id-122 div.sk-parallel-item {display: flex;flex-direction: column;z-index: 1;position: relative;background-color: white;}#sk-container-id-122 div.sk-parallel-item:first-child::after {align-self: flex-end;width: 50%;}#sk-container-id-122 div.sk-parallel-item:last-child::after {align-self: flex-start;width: 50%;}#sk-container-id-122 div.sk-parallel-item:only-child::after {width: 0;}#sk-container-id-122 div.sk-dashed-wrapped {border: 1px dashed gray;margin: 0 0.4em 0.5em 0.4em;box-sizing: border-box;padding-bottom: 0.4em;background-color: white;}#sk-container-id-122 div.sk-label label {font-family: monospace;font-weight: bold;display: inline-block;line-height: 1.2em;}#sk-container-id-122 div.sk-label-container {text-align: center;}#sk-container-id-122 div.sk-container {/* jupyter's `normalize.less` sets `[hidden] { display: none; }` but bootstrap.min.css set `[hidden] { display: none !important; }` so we also need the `!important` here to be able to override the default hidden behavior on the sphinx rendered scikit-learn.org. See: https://github.com/scikit-learn/scikit-learn/issues/21755 */display: inline-block !important;position: relative;}#sk-container-id-122 div.sk-text-repr-fallback {display: none;}</style><div id=\"sk-container-id-122\" class=\"sk-top-container\"><div class=\"sk-text-repr-fallback\"><pre>ColumnTransformer(transformers=[(&#x27;scale&#x27;, StandardScaler(),\n",
       "                                 [&#x27;petal length (cm)&#x27;, &#x27;petal width (cm)&#x27;])])</pre><b>In a Jupyter environment, please rerun this cell to show the HTML representation or trust the notebook. <br />On GitHub, the HTML representation is unable to render, please try loading this page with nbviewer.org.</b></div><div class=\"sk-container\" hidden><div class=\"sk-item sk-dashed-wrapped\"><div class=\"sk-label-container\"><div class=\"sk-label sk-toggleable\"><input class=\"sk-toggleable__control sk-hidden--visually\" id=\"sk-estimator-id-511\" type=\"checkbox\" ><label for=\"sk-estimator-id-511\" class=\"sk-toggleable__label sk-toggleable__label-arrow\">ColumnTransformer</label><div class=\"sk-toggleable__content\"><pre>ColumnTransformer(transformers=[(&#x27;scale&#x27;, StandardScaler(),\n",
       "                                 [&#x27;petal length (cm)&#x27;, &#x27;petal width (cm)&#x27;])])</pre></div></div></div><div class=\"sk-parallel\"><div class=\"sk-parallel-item\"><div class=\"sk-item\"><div class=\"sk-label-container\"><div class=\"sk-label sk-toggleable\"><input class=\"sk-toggleable__control sk-hidden--visually\" id=\"sk-estimator-id-512\" type=\"checkbox\" ><label for=\"sk-estimator-id-512\" class=\"sk-toggleable__label sk-toggleable__label-arrow\">scale</label><div class=\"sk-toggleable__content\"><pre>[&#x27;petal length (cm)&#x27;, &#x27;petal width (cm)&#x27;]</pre></div></div></div><div class=\"sk-serial\"><div class=\"sk-item\"><div class=\"sk-estimator sk-toggleable\"><input class=\"sk-toggleable__control sk-hidden--visually\" id=\"sk-estimator-id-513\" type=\"checkbox\" ><label for=\"sk-estimator-id-513\" class=\"sk-toggleable__label sk-toggleable__label-arrow\">StandardScaler</label><div class=\"sk-toggleable__content\"><pre>StandardScaler()</pre></div></div></div></div></div></div></div></div></div></div>"
      ],
      "text/plain": [
       "ColumnTransformer(transformers=[('scale', StandardScaler(),\n",
       "                                 ['petal length (cm)', 'petal width (cm)'])])"
      ]
     },
     "execution_count": 709,
     "metadata": {},
     "output_type": "execute_result"
    }
   ],
   "source": [
    "from sklearn.compose import ColumnTransformer\n",
    "from sklearn.svm import LinearSVC\n",
    "from sklearn.preprocessing import StandardScaler\n",
    "from sklearn.pipeline import Pipeline\n",
    "\n",
    "preprocessing = ColumnTransformer([\n",
    "        (\"scale\", StandardScaler(), [\"petal length (cm)\", \"petal width (cm)\"])\n",
    "    ],\n",
    "    remainder=\"drop\"\n",
    ")\n",
    "\n",
    "preprocessing"
   ]
  },
  {
   "cell_type": "code",
   "execution_count": 710,
   "id": "34be7c3e",
   "metadata": {},
   "outputs": [],
   "source": [
    "#preprocessing.fit_transform(X_train, y_train)"
   ]
  },
  {
   "cell_type": "markdown",
   "id": "39ef7b1c",
   "metadata": {},
   "source": [
    "# Predictions"
   ]
  },
  {
   "cell_type": "markdown",
   "id": "be961af1",
   "metadata": {},
   "source": [
    "For plotting (copied)"
   ]
  },
  {
   "cell_type": "code",
   "execution_count": 711,
   "id": "b758888c",
   "metadata": {},
   "outputs": [],
   "source": [
    "def plot_dataset(X, y, axes):\n",
    "    plt.plot(X[:, 0][y==0], X[:, 1][y==0], \"bs\")\n",
    "    plt.plot(X[:, 0][y==1], X[:, 1][y==1], \"g^\")\n",
    "    plt.axis(axes)\n",
    "    plt.grid(True)\n",
    "    plt.xlabel(\"$x_1$\")\n",
    "    plt.ylabel(\"$x_2$\", rotation=0)\n",
    "\n",
    "def plot_predictions(clf, axes):\n",
    "    x0s = np.linspace(axes[0], axes[1], 100)\n",
    "    x1s = np.linspace(axes[2], axes[3], 100)\n",
    "    x0, x1 = np.meshgrid(x0s, x1s)\n",
    "    X = np.c_[x0.ravel(), x1.ravel()]\n",
    "    y_pred = clf.predict(X).reshape(x0.shape)\n",
    "    y_decision = clf.decision_function(X).reshape(x0.shape)\n",
    "    plt.contourf(x0, x1, y_pred, cmap=plt.cm.brg, alpha=0.2)\n",
    "    plt.contourf(x0, x1, y_decision, cmap=plt.cm.brg, alpha=0.1)"
   ]
  },
  {
   "cell_type": "markdown",
   "id": "062c4adf",
   "metadata": {},
   "source": [
    "Initialise some test data"
   ]
  },
  {
   "cell_type": "code",
   "execution_count": 712,
   "id": "b5c4a38a",
   "metadata": {},
   "outputs": [],
   "source": [
    "sample_predict_input = np.array([[4.0, 1.5], [1.45, 0.5], [2.5, 0.7], [3.0, 0.85]])"
   ]
  },
  {
   "cell_type": "markdown",
   "id": "5fa9d84a",
   "metadata": {},
   "source": [
    "## LinearSVC"
   ]
  },
  {
   "cell_type": "code",
   "execution_count": 713,
   "id": "9cac5f67",
   "metadata": {},
   "outputs": [
    {
     "data": {
      "text/html": [
       "<style>#sk-container-id-123 {color: black;}#sk-container-id-123 pre{padding: 0;}#sk-container-id-123 div.sk-toggleable {background-color: white;}#sk-container-id-123 label.sk-toggleable__label {cursor: pointer;display: block;width: 100%;margin-bottom: 0;padding: 0.3em;box-sizing: border-box;text-align: center;}#sk-container-id-123 label.sk-toggleable__label-arrow:before {content: \"▸\";float: left;margin-right: 0.25em;color: #696969;}#sk-container-id-123 label.sk-toggleable__label-arrow:hover:before {color: black;}#sk-container-id-123 div.sk-estimator:hover label.sk-toggleable__label-arrow:before {color: black;}#sk-container-id-123 div.sk-toggleable__content {max-height: 0;max-width: 0;overflow: hidden;text-align: left;background-color: #f0f8ff;}#sk-container-id-123 div.sk-toggleable__content pre {margin: 0.2em;color: black;border-radius: 0.25em;background-color: #f0f8ff;}#sk-container-id-123 input.sk-toggleable__control:checked~div.sk-toggleable__content {max-height: 200px;max-width: 100%;overflow: auto;}#sk-container-id-123 input.sk-toggleable__control:checked~label.sk-toggleable__label-arrow:before {content: \"▾\";}#sk-container-id-123 div.sk-estimator input.sk-toggleable__control:checked~label.sk-toggleable__label {background-color: #d4ebff;}#sk-container-id-123 div.sk-label input.sk-toggleable__control:checked~label.sk-toggleable__label {background-color: #d4ebff;}#sk-container-id-123 input.sk-hidden--visually {border: 0;clip: rect(1px 1px 1px 1px);clip: rect(1px, 1px, 1px, 1px);height: 1px;margin: -1px;overflow: hidden;padding: 0;position: absolute;width: 1px;}#sk-container-id-123 div.sk-estimator {font-family: monospace;background-color: #f0f8ff;border: 1px dotted black;border-radius: 0.25em;box-sizing: border-box;margin-bottom: 0.5em;}#sk-container-id-123 div.sk-estimator:hover {background-color: #d4ebff;}#sk-container-id-123 div.sk-parallel-item::after {content: \"\";width: 100%;border-bottom: 1px solid gray;flex-grow: 1;}#sk-container-id-123 div.sk-label:hover label.sk-toggleable__label {background-color: #d4ebff;}#sk-container-id-123 div.sk-serial::before {content: \"\";position: absolute;border-left: 1px solid gray;box-sizing: border-box;top: 0;bottom: 0;left: 50%;z-index: 0;}#sk-container-id-123 div.sk-serial {display: flex;flex-direction: column;align-items: center;background-color: white;padding-right: 0.2em;padding-left: 0.2em;position: relative;}#sk-container-id-123 div.sk-item {position: relative;z-index: 1;}#sk-container-id-123 div.sk-parallel {display: flex;align-items: stretch;justify-content: center;background-color: white;position: relative;}#sk-container-id-123 div.sk-item::before, #sk-container-id-123 div.sk-parallel-item::before {content: \"\";position: absolute;border-left: 1px solid gray;box-sizing: border-box;top: 0;bottom: 0;left: 50%;z-index: -1;}#sk-container-id-123 div.sk-parallel-item {display: flex;flex-direction: column;z-index: 1;position: relative;background-color: white;}#sk-container-id-123 div.sk-parallel-item:first-child::after {align-self: flex-end;width: 50%;}#sk-container-id-123 div.sk-parallel-item:last-child::after {align-self: flex-start;width: 50%;}#sk-container-id-123 div.sk-parallel-item:only-child::after {width: 0;}#sk-container-id-123 div.sk-dashed-wrapped {border: 1px dashed gray;margin: 0 0.4em 0.5em 0.4em;box-sizing: border-box;padding-bottom: 0.4em;background-color: white;}#sk-container-id-123 div.sk-label label {font-family: monospace;font-weight: bold;display: inline-block;line-height: 1.2em;}#sk-container-id-123 div.sk-label-container {text-align: center;}#sk-container-id-123 div.sk-container {/* jupyter's `normalize.less` sets `[hidden] { display: none; }` but bootstrap.min.css set `[hidden] { display: none !important; }` so we also need the `!important` here to be able to override the default hidden behavior on the sphinx rendered scikit-learn.org. See: https://github.com/scikit-learn/scikit-learn/issues/21755 */display: inline-block !important;position: relative;}#sk-container-id-123 div.sk-text-repr-fallback {display: none;}</style><div id=\"sk-container-id-123\" class=\"sk-top-container\"><div class=\"sk-text-repr-fallback\"><pre>Pipeline(steps=[(&#x27;scale&#x27;, StandardScaler()),\n",
       "                (&#x27;linearsvc&#x27;,\n",
       "                 LinearSVC(dual=True, random_state=42, tol=1e-05))])</pre><b>In a Jupyter environment, please rerun this cell to show the HTML representation or trust the notebook. <br />On GitHub, the HTML representation is unable to render, please try loading this page with nbviewer.org.</b></div><div class=\"sk-container\" hidden><div class=\"sk-item sk-dashed-wrapped\"><div class=\"sk-label-container\"><div class=\"sk-label sk-toggleable\"><input class=\"sk-toggleable__control sk-hidden--visually\" id=\"sk-estimator-id-514\" type=\"checkbox\" ><label for=\"sk-estimator-id-514\" class=\"sk-toggleable__label sk-toggleable__label-arrow\">Pipeline</label><div class=\"sk-toggleable__content\"><pre>Pipeline(steps=[(&#x27;scale&#x27;, StandardScaler()),\n",
       "                (&#x27;linearsvc&#x27;,\n",
       "                 LinearSVC(dual=True, random_state=42, tol=1e-05))])</pre></div></div></div><div class=\"sk-serial\"><div class=\"sk-item\"><div class=\"sk-estimator sk-toggleable\"><input class=\"sk-toggleable__control sk-hidden--visually\" id=\"sk-estimator-id-515\" type=\"checkbox\" ><label for=\"sk-estimator-id-515\" class=\"sk-toggleable__label sk-toggleable__label-arrow\">StandardScaler</label><div class=\"sk-toggleable__content\"><pre>StandardScaler()</pre></div></div></div><div class=\"sk-item\"><div class=\"sk-estimator sk-toggleable\"><input class=\"sk-toggleable__control sk-hidden--visually\" id=\"sk-estimator-id-516\" type=\"checkbox\" ><label for=\"sk-estimator-id-516\" class=\"sk-toggleable__label sk-toggleable__label-arrow\">LinearSVC</label><div class=\"sk-toggleable__content\"><pre>LinearSVC(dual=True, random_state=42, tol=1e-05)</pre></div></div></div></div></div></div></div>"
      ],
      "text/plain": [
       "Pipeline(steps=[('scale', StandardScaler()),\n",
       "                ('linearsvc',\n",
       "                 LinearSVC(dual=True, random_state=42, tol=1e-05))])"
      ]
     },
     "execution_count": 713,
     "metadata": {},
     "output_type": "execute_result"
    }
   ],
   "source": [
    "linearsvc_pipeline = Pipeline([\n",
    "    (\"scale\", StandardScaler()),\n",
    "    (\"linearsvc\", LinearSVC(random_state=RANDOM_SEED, tol=1e-5, dual=True))\n",
    "])\n",
    "\n",
    "# We know that the iris dataset is linearly separable as we've filtered it above,\n",
    "# so we can use this one without doing any polynomial feature stuff\n",
    "linearsvc_pipeline.fit(X_train, y_train)"
   ]
  },
  {
   "cell_type": "code",
   "execution_count": 714,
   "id": "745c78d3",
   "metadata": {},
   "outputs": [
    {
     "data": {
      "text/plain": [
       "array([1, 0, 0, 1])"
      ]
     },
     "execution_count": 714,
     "metadata": {},
     "output_type": "execute_result"
    }
   ],
   "source": [
    "linearsvc_pipeline.predict(sample_predict_input)"
   ]
  },
  {
   "cell_type": "code",
   "execution_count": 715,
   "id": "036913b1",
   "metadata": {},
   "outputs": [
    {
     "data": {
      "image/png": "[encoded data removed]",
      "text/plain": [
       "<Figure size 640x480 with 1 Axes>"
      ]
     },
     "metadata": {},
     "output_type": "display_data"
    }
   ],
   "source": [
    "plot_predictions(linearsvc_pipeline, [0.0, 6.0, -0.2, 2.0])\n",
    "plot_dataset(X_train, y_train, [0.0, 6.0, -0.2, 2.0])\n",
    "\n",
    "plt.show()"
   ]
  },
  {
   "cell_type": "markdown",
   "id": "e0aa59cd",
   "metadata": {},
   "source": [
    "## SVC class (linear)"
   ]
  },
  {
   "cell_type": "code",
   "execution_count": 716,
   "id": "eb0ddc83",
   "metadata": {},
   "outputs": [
    {
     "data": {
      "text/html": [
       "<style>#sk-container-id-124 {color: black;}#sk-container-id-124 pre{padding: 0;}#sk-container-id-124 div.sk-toggleable {background-color: white;}#sk-container-id-124 label.sk-toggleable__label {cursor: pointer;display: block;width: 100%;margin-bottom: 0;padding: 0.3em;box-sizing: border-box;text-align: center;}#sk-container-id-124 label.sk-toggleable__label-arrow:before {content: \"▸\";float: left;margin-right: 0.25em;color: #696969;}#sk-container-id-124 label.sk-toggleable__label-arrow:hover:before {color: black;}#sk-container-id-124 div.sk-estimator:hover label.sk-toggleable__label-arrow:before {color: black;}#sk-container-id-124 div.sk-toggleable__content {max-height: 0;max-width: 0;overflow: hidden;text-align: left;background-color: #f0f8ff;}#sk-container-id-124 div.sk-toggleable__content pre {margin: 0.2em;color: black;border-radius: 0.25em;background-color: #f0f8ff;}#sk-container-id-124 input.sk-toggleable__control:checked~div.sk-toggleable__content {max-height: 200px;max-width: 100%;overflow: auto;}#sk-container-id-124 input.sk-toggleable__control:checked~label.sk-toggleable__label-arrow:before {content: \"▾\";}#sk-container-id-124 div.sk-estimator input.sk-toggleable__control:checked~label.sk-toggleable__label {background-color: #d4ebff;}#sk-container-id-124 div.sk-label input.sk-toggleable__control:checked~label.sk-toggleable__label {background-color: #d4ebff;}#sk-container-id-124 input.sk-hidden--visually {border: 0;clip: rect(1px 1px 1px 1px);clip: rect(1px, 1px, 1px, 1px);height: 1px;margin: -1px;overflow: hidden;padding: 0;position: absolute;width: 1px;}#sk-container-id-124 div.sk-estimator {font-family: monospace;background-color: #f0f8ff;border: 1px dotted black;border-radius: 0.25em;box-sizing: border-box;margin-bottom: 0.5em;}#sk-container-id-124 div.sk-estimator:hover {background-color: #d4ebff;}#sk-container-id-124 div.sk-parallel-item::after {content: \"\";width: 100%;border-bottom: 1px solid gray;flex-grow: 1;}#sk-container-id-124 div.sk-label:hover label.sk-toggleable__label {background-color: #d4ebff;}#sk-container-id-124 div.sk-serial::before {content: \"\";position: absolute;border-left: 1px solid gray;box-sizing: border-box;top: 0;bottom: 0;left: 50%;z-index: 0;}#sk-container-id-124 div.sk-serial {display: flex;flex-direction: column;align-items: center;background-color: white;padding-right: 0.2em;padding-left: 0.2em;position: relative;}#sk-container-id-124 div.sk-item {position: relative;z-index: 1;}#sk-container-id-124 div.sk-parallel {display: flex;align-items: stretch;justify-content: center;background-color: white;position: relative;}#sk-container-id-124 div.sk-item::before, #sk-container-id-124 div.sk-parallel-item::before {content: \"\";position: absolute;border-left: 1px solid gray;box-sizing: border-box;top: 0;bottom: 0;left: 50%;z-index: -1;}#sk-container-id-124 div.sk-parallel-item {display: flex;flex-direction: column;z-index: 1;position: relative;background-color: white;}#sk-container-id-124 div.sk-parallel-item:first-child::after {align-self: flex-end;width: 50%;}#sk-container-id-124 div.sk-parallel-item:last-child::after {align-self: flex-start;width: 50%;}#sk-container-id-124 div.sk-parallel-item:only-child::after {width: 0;}#sk-container-id-124 div.sk-dashed-wrapped {border: 1px dashed gray;margin: 0 0.4em 0.5em 0.4em;box-sizing: border-box;padding-bottom: 0.4em;background-color: white;}#sk-container-id-124 div.sk-label label {font-family: monospace;font-weight: bold;display: inline-block;line-height: 1.2em;}#sk-container-id-124 div.sk-label-container {text-align: center;}#sk-container-id-124 div.sk-container {/* jupyter's `normalize.less` sets `[hidden] { display: none; }` but bootstrap.min.css set `[hidden] { display: none !important; }` so we also need the `!important` here to be able to override the default hidden behavior on the sphinx rendered scikit-learn.org. See: https://github.com/scikit-learn/scikit-learn/issues/21755 */display: inline-block !important;position: relative;}#sk-container-id-124 div.sk-text-repr-fallback {display: none;}</style><div id=\"sk-container-id-124\" class=\"sk-top-container\"><div class=\"sk-text-repr-fallback\"><pre>Pipeline(steps=[(&#x27;scale&#x27;, StandardScaler()),\n",
       "                (&#x27;svc&#x27;, SVC(kernel=&#x27;linear&#x27;, random_state=42))])</pre><b>In a Jupyter environment, please rerun this cell to show the HTML representation or trust the notebook. <br />On GitHub, the HTML representation is unable to render, please try loading this page with nbviewer.org.</b></div><div class=\"sk-container\" hidden><div class=\"sk-item sk-dashed-wrapped\"><div class=\"sk-label-container\"><div class=\"sk-label sk-toggleable\"><input class=\"sk-toggleable__control sk-hidden--visually\" id=\"sk-estimator-id-517\" type=\"checkbox\" ><label for=\"sk-estimator-id-517\" class=\"sk-toggleable__label sk-toggleable__label-arrow\">Pipeline</label><div class=\"sk-toggleable__content\"><pre>Pipeline(steps=[(&#x27;scale&#x27;, StandardScaler()),\n",
       "                (&#x27;svc&#x27;, SVC(kernel=&#x27;linear&#x27;, random_state=42))])</pre></div></div></div><div class=\"sk-serial\"><div class=\"sk-item\"><div class=\"sk-estimator sk-toggleable\"><input class=\"sk-toggleable__control sk-hidden--visually\" id=\"sk-estimator-id-518\" type=\"checkbox\" ><label for=\"sk-estimator-id-518\" class=\"sk-toggleable__label sk-toggleable__label-arrow\">StandardScaler</label><div class=\"sk-toggleable__content\"><pre>StandardScaler()</pre></div></div></div><div class=\"sk-item\"><div class=\"sk-estimator sk-toggleable\"><input class=\"sk-toggleable__control sk-hidden--visually\" id=\"sk-estimator-id-519\" type=\"checkbox\" ><label for=\"sk-estimator-id-519\" class=\"sk-toggleable__label sk-toggleable__label-arrow\">SVC</label><div class=\"sk-toggleable__content\"><pre>SVC(kernel=&#x27;linear&#x27;, random_state=42)</pre></div></div></div></div></div></div></div>"
      ],
      "text/plain": [
       "Pipeline(steps=[('scale', StandardScaler()),\n",
       "                ('svc', SVC(kernel='linear', random_state=42))])"
      ]
     },
     "execution_count": 716,
     "metadata": {},
     "output_type": "execute_result"
    }
   ],
   "source": [
    "from sklearn.svm import SVC\n",
    "\n",
    "\n",
    "svc_pipeline = Pipeline([\n",
    "    (\"scale\", StandardScaler()),\n",
    "    (\"svc\", SVC(kernel=\"linear\", random_state=RANDOM_SEED))\n",
    "])\n",
    "\n",
    "svc_pipeline.fit(X_train, y_train)"
   ]
  },
  {
   "cell_type": "code",
   "execution_count": 717,
   "id": "fcfb784a",
   "metadata": {},
   "outputs": [
    {
     "data": {
      "text/plain": [
       "array([1, 0, 0, 1])"
      ]
     },
     "execution_count": 717,
     "metadata": {},
     "output_type": "execute_result"
    }
   ],
   "source": [
    "svc_pipeline.predict(sample_predict_input)"
   ]
  },
  {
   "cell_type": "code",
   "execution_count": 718,
   "id": "9996b2a9",
   "metadata": {},
   "outputs": [
    {
     "data": {
      "image/png": "[encoded data removed]",
      "text/plain": [
       "<Figure size 640x480 with 1 Axes>"
      ]
     },
     "metadata": {},
     "output_type": "display_data"
    }
   ],
   "source": [
    "plot_predictions(svc_pipeline, [0.0, 6.0, -0.2, 2.0])\n",
    "plot_dataset(X_train, y_train, [0.0, 6.0, -0.2, 2.0])\n",
    "\n",
    "plt.show()"
   ]
  },
  {
   "cell_type": "markdown",
   "id": "5cb11e79",
   "metadata": {},
   "source": [
    "## SGDClassifier with hinge loss"
   ]
  },
  {
   "cell_type": "code",
   "execution_count": 719,
   "id": "bca3e565",
   "metadata": {},
   "outputs": [
    {
     "data": {
      "text/html": [
       "<style>#sk-container-id-125 {color: black;}#sk-container-id-125 pre{padding: 0;}#sk-container-id-125 div.sk-toggleable {background-color: white;}#sk-container-id-125 label.sk-toggleable__label {cursor: pointer;display: block;width: 100%;margin-bottom: 0;padding: 0.3em;box-sizing: border-box;text-align: center;}#sk-container-id-125 label.sk-toggleable__label-arrow:before {content: \"▸\";float: left;margin-right: 0.25em;color: #696969;}#sk-container-id-125 label.sk-toggleable__label-arrow:hover:before {color: black;}#sk-container-id-125 div.sk-estimator:hover label.sk-toggleable__label-arrow:before {color: black;}#sk-container-id-125 div.sk-toggleable__content {max-height: 0;max-width: 0;overflow: hidden;text-align: left;background-color: #f0f8ff;}#sk-container-id-125 div.sk-toggleable__content pre {margin: 0.2em;color: black;border-radius: 0.25em;background-color: #f0f8ff;}#sk-container-id-125 input.sk-toggleable__control:checked~div.sk-toggleable__content {max-height: 200px;max-width: 100%;overflow: auto;}#sk-container-id-125 input.sk-toggleable__control:checked~label.sk-toggleable__label-arrow:before {content: \"▾\";}#sk-container-id-125 div.sk-estimator input.sk-toggleable__control:checked~label.sk-toggleable__label {background-color: #d4ebff;}#sk-container-id-125 div.sk-label input.sk-toggleable__control:checked~label.sk-toggleable__label {background-color: #d4ebff;}#sk-container-id-125 input.sk-hidden--visually {border: 0;clip: rect(1px 1px 1px 1px);clip: rect(1px, 1px, 1px, 1px);height: 1px;margin: -1px;overflow: hidden;padding: 0;position: absolute;width: 1px;}#sk-container-id-125 div.sk-estimator {font-family: monospace;background-color: #f0f8ff;border: 1px dotted black;border-radius: 0.25em;box-sizing: border-box;margin-bottom: 0.5em;}#sk-container-id-125 div.sk-estimator:hover {background-color: #d4ebff;}#sk-container-id-125 div.sk-parallel-item::after {content: \"\";width: 100%;border-bottom: 1px solid gray;flex-grow: 1;}#sk-container-id-125 div.sk-label:hover label.sk-toggleable__label {background-color: #d4ebff;}#sk-container-id-125 div.sk-serial::before {content: \"\";position: absolute;border-left: 1px solid gray;box-sizing: border-box;top: 0;bottom: 0;left: 50%;z-index: 0;}#sk-container-id-125 div.sk-serial {display: flex;flex-direction: column;align-items: center;background-color: white;padding-right: 0.2em;padding-left: 0.2em;position: relative;}#sk-container-id-125 div.sk-item {position: relative;z-index: 1;}#sk-container-id-125 div.sk-parallel {display: flex;align-items: stretch;justify-content: center;background-color: white;position: relative;}#sk-container-id-125 div.sk-item::before, #sk-container-id-125 div.sk-parallel-item::before {content: \"\";position: absolute;border-left: 1px solid gray;box-sizing: border-box;top: 0;bottom: 0;left: 50%;z-index: -1;}#sk-container-id-125 div.sk-parallel-item {display: flex;flex-direction: column;z-index: 1;position: relative;background-color: white;}#sk-container-id-125 div.sk-parallel-item:first-child::after {align-self: flex-end;width: 50%;}#sk-container-id-125 div.sk-parallel-item:last-child::after {align-self: flex-start;width: 50%;}#sk-container-id-125 div.sk-parallel-item:only-child::after {width: 0;}#sk-container-id-125 div.sk-dashed-wrapped {border: 1px dashed gray;margin: 0 0.4em 0.5em 0.4em;box-sizing: border-box;padding-bottom: 0.4em;background-color: white;}#sk-container-id-125 div.sk-label label {font-family: monospace;font-weight: bold;display: inline-block;line-height: 1.2em;}#sk-container-id-125 div.sk-label-container {text-align: center;}#sk-container-id-125 div.sk-container {/* jupyter's `normalize.less` sets `[hidden] { display: none; }` but bootstrap.min.css set `[hidden] { display: none !important; }` so we also need the `!important` here to be able to override the default hidden behavior on the sphinx rendered scikit-learn.org. See: https://github.com/scikit-learn/scikit-learn/issues/21755 */display: inline-block !important;position: relative;}#sk-container-id-125 div.sk-text-repr-fallback {display: none;}</style><div id=\"sk-container-id-125\" class=\"sk-top-container\"><div class=\"sk-text-repr-fallback\"><pre>Pipeline(steps=[(&#x27;scale&#x27;, StandardScaler()),\n",
       "                (&#x27;svc&#x27;, SGDClassifier(alpha=0.01, random_state=42))])</pre><b>In a Jupyter environment, please rerun this cell to show the HTML representation or trust the notebook. <br />On GitHub, the HTML representation is unable to render, please try loading this page with nbviewer.org.</b></div><div class=\"sk-container\" hidden><div class=\"sk-item sk-dashed-wrapped\"><div class=\"sk-label-container\"><div class=\"sk-label sk-toggleable\"><input class=\"sk-toggleable__control sk-hidden--visually\" id=\"sk-estimator-id-520\" type=\"checkbox\" ><label for=\"sk-estimator-id-520\" class=\"sk-toggleable__label sk-toggleable__label-arrow\">Pipeline</label><div class=\"sk-toggleable__content\"><pre>Pipeline(steps=[(&#x27;scale&#x27;, StandardScaler()),\n",
       "                (&#x27;svc&#x27;, SGDClassifier(alpha=0.01, random_state=42))])</pre></div></div></div><div class=\"sk-serial\"><div class=\"sk-item\"><div class=\"sk-estimator sk-toggleable\"><input class=\"sk-toggleable__control sk-hidden--visually\" id=\"sk-estimator-id-521\" type=\"checkbox\" ><label for=\"sk-estimator-id-521\" class=\"sk-toggleable__label sk-toggleable__label-arrow\">StandardScaler</label><div class=\"sk-toggleable__content\"><pre>StandardScaler()</pre></div></div></div><div class=\"sk-item\"><div class=\"sk-estimator sk-toggleable\"><input class=\"sk-toggleable__control sk-hidden--visually\" id=\"sk-estimator-id-522\" type=\"checkbox\" ><label for=\"sk-estimator-id-522\" class=\"sk-toggleable__label sk-toggleable__label-arrow\">SGDClassifier</label><div class=\"sk-toggleable__content\"><pre>SGDClassifier(alpha=0.01, random_state=42)</pre></div></div></div></div></div></div></div>"
      ],
      "text/plain": [
       "Pipeline(steps=[('scale', StandardScaler()),\n",
       "                ('svc', SGDClassifier(alpha=0.01, random_state=42))])"
      ]
     },
     "execution_count": 719,
     "metadata": {},
     "output_type": "execute_result"
    }
   ],
   "source": [
    "from sklearn.linear_model import SGDClassifier\n",
    "\n",
    "\n",
    "sgd_svm_pipeline = Pipeline([\n",
    "    (\"scale\", StandardScaler()),\n",
    "    (\"svc\", SGDClassifier(loss=\"hinge\", alpha=0.01, penalty='l2', random_state=RANDOM_SEED)) # <- linear SVM\n",
    "])\n",
    "\n",
    "sgd_svm_pipeline.fit(X_train, y_train)"
   ]
  },
  {
   "cell_type": "code",
   "execution_count": 720,
   "id": "b5532559",
   "metadata": {},
   "outputs": [
    {
     "data": {
      "text/plain": [
       "array([1, 0, 0, 1])"
      ]
     },
     "execution_count": 720,
     "metadata": {},
     "output_type": "execute_result"
    }
   ],
   "source": [
    "sgd_svm_pipeline.predict(sample_predict_input)"
   ]
  },
  {
   "cell_type": "code",
   "execution_count": 721,
   "id": "5cdc36f9",
   "metadata": {},
   "outputs": [
    {
     "data": {
      "image/png": "[encoded data removed]",
      "text/plain": [
       "<Figure size 640x480 with 1 Axes>"
      ]
     },
     "metadata": {},
     "output_type": "display_data"
    }
   ],
   "source": [
    "plot_predictions(sgd_svm_pipeline, [0.0, 6.0, -0.2, 2.0])\n",
    "plot_dataset(X_train, y_train, [0.0, 6.0, -0.2, 2.0])\n",
    "\n",
    "plt.show()"
   ]
  },
  {
   "cell_type": "markdown",
   "id": "425d2c41",
   "metadata": {},
   "source": [
    "Compare them?"
   ]
  },
  {
   "cell_type": "code",
   "execution_count": 722,
   "id": "859ee149",
   "metadata": {},
   "outputs": [
    {
     "data": {
      "image/png": "[encoded data removed]",
      "text/plain": [
       "<Figure size 640x480 with 1 Axes>"
      ]
     },
     "metadata": {},
     "output_type": "display_data"
    }
   ],
   "source": [
    "dim = [0.0, 6.0, -0.2, 2.0]\n",
    "\n",
    "plot_predictions(sgd_svm_pipeline, dim)\n",
    "plot_predictions(svc_pipeline, dim)\n",
    "plot_predictions(linearsvc_pipeline, dim)\n",
    "\n",
    "plot_dataset(X_train, y_train, dim)\n",
    "\n",
    "plt.show()"
   ]
  },
  {
   "cell_type": "markdown",
   "id": "d9355047",
   "metadata": {},
   "source": [
    "# SVM Classifier - Wine Dataset"
   ]
  },
  {
   "cell_type": "markdown",
   "id": "252539a7",
   "metadata": {},
   "source": [
    "Load it"
   ]
  },
  {
   "cell_type": "code",
   "execution_count": 723,
   "id": "832de669",
   "metadata": {},
   "outputs": [],
   "source": [
    "from sklearn.datasets import load_wine\n",
    "\n",
    "wine_data, wine_target = load_wine(return_X_y=True, as_frame=True)"
   ]
  },
  {
   "cell_type": "code",
   "execution_count": 724,
   "id": "2f2d929c",
   "metadata": {},
   "outputs": [
    {
     "data": {
      "application/vnd.microsoft.datawrangler.viewer.v0+json": {
       "columns": [
        {
         "name": "index",
         "rawType": "int64",
         "type": "integer"
        },
        {
         "name": "alcohol",
         "rawType": "float64",
         "type": "float"
        },
        {
         "name": "malic_acid",
         "rawType": "float64",
         "type": "float"
        },
        {
         "name": "ash",
         "rawType": "float64",
         "type": "float"
        },
        {
         "name": "alcalinity_of_ash",
         "rawType": "float64",
         "type": "float"
        },
        {
         "name": "magnesium",
         "rawType": "float64",
         "type": "float"
        },
        {
         "name": "total_phenols",
         "rawType": "float64",
         "type": "float"
        },
        {
         "name": "flavanoids",
         "rawType": "float64",
         "type": "float"
        },
        {
         "name": "nonflavanoid_phenols",
         "rawType": "float64",
         "type": "float"
        },
        {
         "name": "proanthocyanins",
         "rawType": "float64",
         "type": "float"
        },
        {
         "name": "color_intensity",
         "rawType": "float64",
         "type": "float"
        },
        {
         "name": "hue",
         "rawType": "float64",
         "type": "float"
        },
        {
         "name": "od280/od315_of_diluted_wines",
         "rawType": "float64",
         "type": "float"
        },
        {
         "name": "proline",
         "rawType": "float64",
         "type": "float"
        }
       ],
       "ref": "239c4e51-3b68-4491-8553-9190c185ee71",
       "rows": [
        [
         "0",
         "14.23",
         "1.71",
         "2.43",
         "15.6",
         "127.0",
         "2.8",
         "3.06",
         "0.28",
         "2.29",
         "5.64",
         "1.04",
         "3.92",
         "1065.0"
        ],
        [
         "1",
         "13.2",
         "1.78",
         "2.14",
         "11.2",
         "100.0",
         "2.65",
         "2.76",
         "0.26",
         "1.28",
         "4.38",
         "1.05",
         "3.4",
         "1050.0"
        ],
        [
         "2",
         "13.16",
         "2.36",
         "2.67",
         "18.6",
         "101.0",
         "2.8",
         "3.24",
         "0.3",
         "2.81",
         "5.68",
         "1.03",
         "3.17",
         "1185.0"
        ],
        [
         "3",
         "14.37",
         "1.95",
         "2.5",
         "16.8",
         "113.0",
         "3.85",
         "3.49",
         "0.24",
         "2.18",
         "7.8",
         "0.86",
         "3.45",
         "1480.0"
        ],
        [
         "4",
         "13.24",
         "2.59",
         "2.87",
         "21.0",
         "118.0",
         "2.8",
         "2.69",
         "0.39",
         "1.82",
         "4.32",
         "1.04",
         "2.93",
         "735.0"
        ],
        [
         "5",
         "14.2",
         "1.76",
         "2.45",
         "15.2",
         "112.0",
         "3.27",
         "3.39",
         "0.34",
         "1.97",
         "6.75",
         "1.05",
         "2.85",
         "1450.0"
        ],
        [
         "6",
         "14.39",
         "1.87",
         "2.45",
         "14.6",
         "96.0",
         "2.5",
         "2.52",
         "0.3",
         "1.98",
         "5.25",
         "1.02",
         "3.58",
         "1290.0"
        ],
        [
         "7",
         "14.06",
         "2.15",
         "2.61",
         "17.6",
         "121.0",
         "2.6",
         "2.51",
         "0.31",
         "1.25",
         "5.05",
         "1.06",
         "3.58",
         "1295.0"
        ],
        [
         "8",
         "14.83",
         "1.64",
         "2.17",
         "14.0",
         "97.0",
         "2.8",
         "2.98",
         "0.29",
         "1.98",
         "5.2",
         "1.08",
         "2.85",
         "1045.0"
        ],
        [
         "9",
         "13.86",
         "1.35",
         "2.27",
         "16.0",
         "98.0",
         "2.98",
         "3.15",
         "0.22",
         "1.85",
         "7.22",
         "1.01",
         "3.55",
         "1045.0"
        ],
        [
         "10",
         "14.1",
         "2.16",
         "2.3",
         "18.0",
         "105.0",
         "2.95",
         "3.32",
         "0.22",
         "2.38",
         "5.75",
         "1.25",
         "3.17",
         "1510.0"
        ],
        [
         "11",
         "14.12",
         "1.48",
         "2.32",
         "16.8",
         "95.0",
         "2.2",
         "2.43",
         "0.26",
         "1.57",
         "5.0",
         "1.17",
         "2.82",
         "1280.0"
        ],
        [
         "12",
         "13.75",
         "1.73",
         "2.41",
         "16.0",
         "89.0",
         "2.6",
         "2.76",
         "0.29",
         "1.81",
         "5.6",
         "1.15",
         "2.9",
         "1320.0"
        ],
        [
         "13",
         "14.75",
         "1.73",
         "2.39",
         "11.4",
         "91.0",
         "3.1",
         "3.69",
         "0.43",
         "2.81",
         "5.4",
         "1.25",
         "2.73",
         "1150.0"
        ],
        [
         "14",
         "14.38",
         "1.87",
         "2.38",
         "12.0",
         "102.0",
         "3.3",
         "3.64",
         "0.29",
         "2.96",
         "7.5",
         "1.2",
         "3.0",
         "1547.0"
        ],
        [
         "15",
         "13.63",
         "1.81",
         "2.7",
         "17.2",
         "112.0",
         "2.85",
         "2.91",
         "0.3",
         "1.46",
         "7.3",
         "1.28",
         "2.88",
         "1310.0"
        ],
        [
         "16",
         "14.3",
         "1.92",
         "2.72",
         "20.0",
         "120.0",
         "2.8",
         "3.14",
         "0.33",
         "1.97",
         "6.2",
         "1.07",
         "2.65",
         "1280.0"
        ],
        [
         "17",
         "13.83",
         "1.57",
         "2.62",
         "20.0",
         "115.0",
         "2.95",
         "3.4",
         "0.4",
         "1.72",
         "6.6",
         "1.13",
         "2.57",
         "1130.0"
        ],
        [
         "18",
         "14.19",
         "1.59",
         "2.48",
         "16.5",
         "108.0",
         "3.3",
         "3.93",
         "0.32",
         "1.86",
         "8.7",
         "1.23",
         "2.82",
         "1680.0"
        ],
        [
         "19",
         "13.64",
         "3.1",
         "2.56",
         "15.2",
         "116.0",
         "2.7",
         "3.03",
         "0.17",
         "1.66",
         "5.1",
         "0.96",
         "3.36",
         "845.0"
        ],
        [
         "20",
         "14.06",
         "1.63",
         "2.28",
         "16.0",
         "126.0",
         "3.0",
         "3.17",
         "0.24",
         "2.1",
         "5.65",
         "1.09",
         "3.71",
         "780.0"
        ],
        [
         "21",
         "12.93",
         "3.8",
         "2.65",
         "18.6",
         "102.0",
         "2.41",
         "2.41",
         "0.25",
         "1.98",
         "4.5",
         "1.03",
         "3.52",
         "770.0"
        ],
        [
         "22",
         "13.71",
         "1.86",
         "2.36",
         "16.6",
         "101.0",
         "2.61",
         "2.88",
         "0.27",
         "1.69",
         "3.8",
         "1.11",
         "4.0",
         "1035.0"
        ],
        [
         "23",
         "12.85",
         "1.6",
         "2.52",
         "17.8",
         "95.0",
         "2.48",
         "2.37",
         "0.26",
         "1.46",
         "3.93",
         "1.09",
         "3.63",
         "1015.0"
        ],
        [
         "24",
         "13.5",
         "1.81",
         "2.61",
         "20.0",
         "96.0",
         "2.53",
         "2.61",
         "0.28",
         "1.66",
         "3.52",
         "1.12",
         "3.82",
         "845.0"
        ],
        [
         "25",
         "13.05",
         "2.05",
         "3.22",
         "25.0",
         "124.0",
         "2.63",
         "2.68",
         "0.47",
         "1.92",
         "3.58",
         "1.13",
         "3.2",
         "830.0"
        ],
        [
         "26",
         "13.39",
         "1.77",
         "2.62",
         "16.1",
         "93.0",
         "2.85",
         "2.94",
         "0.34",
         "1.45",
         "4.8",
         "0.92",
         "3.22",
         "1195.0"
        ],
        [
         "27",
         "13.3",
         "1.72",
         "2.14",
         "17.0",
         "94.0",
         "2.4",
         "2.19",
         "0.27",
         "1.35",
         "3.95",
         "1.02",
         "2.77",
         "1285.0"
        ],
        [
         "28",
         "13.87",
         "1.9",
         "2.8",
         "19.4",
         "107.0",
         "2.95",
         "2.97",
         "0.37",
         "1.76",
         "4.5",
         "1.25",
         "3.4",
         "915.0"
        ],
        [
         "29",
         "14.02",
         "1.68",
         "2.21",
         "16.0",
         "96.0",
         "2.65",
         "2.33",
         "0.26",
         "1.98",
         "4.7",
         "1.04",
         "3.59",
         "1035.0"
        ],
        [
         "30",
         "13.73",
         "1.5",
         "2.7",
         "22.5",
         "101.0",
         "3.0",
         "3.25",
         "0.29",
         "2.38",
         "5.7",
         "1.19",
         "2.71",
         "1285.0"
        ],
        [
         "31",
         "13.58",
         "1.66",
         "2.36",
         "19.1",
         "106.0",
         "2.86",
         "3.19",
         "0.22",
         "1.95",
         "6.9",
         "1.09",
         "2.88",
         "1515.0"
        ],
        [
         "32",
         "13.68",
         "1.83",
         "2.36",
         "17.2",
         "104.0",
         "2.42",
         "2.69",
         "0.42",
         "1.97",
         "3.84",
         "1.23",
         "2.87",
         "990.0"
        ],
        [
         "33",
         "13.76",
         "1.53",
         "2.7",
         "19.5",
         "132.0",
         "2.95",
         "2.74",
         "0.5",
         "1.35",
         "5.4",
         "1.25",
         "3.0",
         "1235.0"
        ],
        [
         "34",
         "13.51",
         "1.8",
         "2.65",
         "19.0",
         "110.0",
         "2.35",
         "2.53",
         "0.29",
         "1.54",
         "4.2",
         "1.1",
         "2.87",
         "1095.0"
        ],
        [
         "35",
         "13.48",
         "1.81",
         "2.41",
         "20.5",
         "100.0",
         "2.7",
         "2.98",
         "0.26",
         "1.86",
         "5.1",
         "1.04",
         "3.47",
         "920.0"
        ],
        [
         "36",
         "13.28",
         "1.64",
         "2.84",
         "15.5",
         "110.0",
         "2.6",
         "2.68",
         "0.34",
         "1.36",
         "4.6",
         "1.09",
         "2.78",
         "880.0"
        ],
        [
         "37",
         "13.05",
         "1.65",
         "2.55",
         "18.0",
         "98.0",
         "2.45",
         "2.43",
         "0.29",
         "1.44",
         "4.25",
         "1.12",
         "2.51",
         "1105.0"
        ],
        [
         "38",
         "13.07",
         "1.5",
         "2.1",
         "15.5",
         "98.0",
         "2.4",
         "2.64",
         "0.28",
         "1.37",
         "3.7",
         "1.18",
         "2.69",
         "1020.0"
        ],
        [
         "39",
         "14.22",
         "3.99",
         "2.51",
         "13.2",
         "128.0",
         "3.0",
         "3.04",
         "0.2",
         "2.08",
         "5.1",
         "0.89",
         "3.53",
         "760.0"
        ],
        [
         "40",
         "13.56",
         "1.71",
         "2.31",
         "16.2",
         "117.0",
         "3.15",
         "3.29",
         "0.34",
         "2.34",
         "6.13",
         "0.95",
         "3.38",
         "795.0"
        ],
        [
         "41",
         "13.41",
         "3.84",
         "2.12",
         "18.8",
         "90.0",
         "2.45",
         "2.68",
         "0.27",
         "1.48",
         "4.28",
         "0.91",
         "3.0",
         "1035.0"
        ],
        [
         "42",
         "13.88",
         "1.89",
         "2.59",
         "15.0",
         "101.0",
         "3.25",
         "3.56",
         "0.17",
         "1.7",
         "5.43",
         "0.88",
         "3.56",
         "1095.0"
        ],
        [
         "43",
         "13.24",
         "3.98",
         "2.29",
         "17.5",
         "103.0",
         "2.64",
         "2.63",
         "0.32",
         "1.66",
         "4.36",
         "0.82",
         "3.0",
         "680.0"
        ],
        [
         "44",
         "13.05",
         "1.77",
         "2.1",
         "17.0",
         "107.0",
         "3.0",
         "3.0",
         "0.28",
         "2.03",
         "5.04",
         "0.88",
         "3.35",
         "885.0"
        ],
        [
         "45",
         "14.21",
         "4.04",
         "2.44",
         "18.9",
         "111.0",
         "2.85",
         "2.65",
         "0.3",
         "1.25",
         "5.24",
         "0.87",
         "3.33",
         "1080.0"
        ],
        [
         "46",
         "14.38",
         "3.59",
         "2.28",
         "16.0",
         "102.0",
         "3.25",
         "3.17",
         "0.27",
         "2.19",
         "4.9",
         "1.04",
         "3.44",
         "1065.0"
        ],
        [
         "47",
         "13.9",
         "1.68",
         "2.12",
         "16.0",
         "101.0",
         "3.1",
         "3.39",
         "0.21",
         "2.14",
         "6.1",
         "0.91",
         "3.33",
         "985.0"
        ],
        [
         "48",
         "14.1",
         "2.02",
         "2.4",
         "18.8",
         "103.0",
         "2.75",
         "2.92",
         "0.32",
         "2.38",
         "6.2",
         "1.07",
         "2.75",
         "1060.0"
        ],
        [
         "49",
         "13.94",
         "1.73",
         "2.27",
         "17.4",
         "108.0",
         "2.88",
         "3.54",
         "0.32",
         "2.08",
         "8.9",
         "1.12",
         "3.1",
         "1260.0"
        ]
       ],
       "shape": {
        "columns": 13,
        "rows": 178
       }
      },
      "text/html": [
       "<div>\n",
       "<style scoped>\n",
       "    .dataframe tbody tr th:only-of-type {\n",
       "        vertical-align: middle;\n",
       "    }\n",
       "\n",
       "    .dataframe tbody tr th {\n",
       "        vertical-align: top;\n",
       "    }\n",
       "\n",
       "    .dataframe thead th {\n",
       "        text-align: right;\n",
       "    }\n",
       "</style>\n",
       "<table border=\"1\" class=\"dataframe\">\n",
       "  <thead>\n",
       "    <tr style=\"text-align: right;\">\n",
       "      <th></th>\n",
       "      <th>alcohol</th>\n",
       "      <th>malic_acid</th>\n",
       "      <th>ash</th>\n",
       "      <th>alcalinity_of_ash</th>\n",
       "      <th>magnesium</th>\n",
       "      <th>total_phenols</th>\n",
       "      <th>flavanoids</th>\n",
       "      <th>nonflavanoid_phenols</th>\n",
       "      <th>proanthocyanins</th>\n",
       "      <th>color_intensity</th>\n",
       "      <th>hue</th>\n",
       "      <th>od280/od315_of_diluted_wines</th>\n",
       "      <th>proline</th>\n",
       "    </tr>\n",
       "  </thead>\n",
       "  <tbody>\n",
       "    <tr>\n",
       "      <th>0</th>\n",
       "      <td>14.23</td>\n",
       "      <td>1.71</td>\n",
       "      <td>2.43</td>\n",
       "      <td>15.6</td>\n",
       "      <td>127.0</td>\n",
       "      <td>2.80</td>\n",
       "      <td>3.06</td>\n",
       "      <td>0.28</td>\n",
       "      <td>2.29</td>\n",
       "      <td>5.64</td>\n",
       "      <td>1.04</td>\n",
       "      <td>3.92</td>\n",
       "      <td>1065.0</td>\n",
       "    </tr>\n",
       "    <tr>\n",
       "      <th>1</th>\n",
       "      <td>13.20</td>\n",
       "      <td>1.78</td>\n",
       "      <td>2.14</td>\n",
       "      <td>11.2</td>\n",
       "      <td>100.0</td>\n",
       "      <td>2.65</td>\n",
       "      <td>2.76</td>\n",
       "      <td>0.26</td>\n",
       "      <td>1.28</td>\n",
       "      <td>4.38</td>\n",
       "      <td>1.05</td>\n",
       "      <td>3.40</td>\n",
       "      <td>1050.0</td>\n",
       "    </tr>\n",
       "    <tr>\n",
       "      <th>2</th>\n",
       "      <td>13.16</td>\n",
       "      <td>2.36</td>\n",
       "      <td>2.67</td>\n",
       "      <td>18.6</td>\n",
       "      <td>101.0</td>\n",
       "      <td>2.80</td>\n",
       "      <td>3.24</td>\n",
       "      <td>0.30</td>\n",
       "      <td>2.81</td>\n",
       "      <td>5.68</td>\n",
       "      <td>1.03</td>\n",
       "      <td>3.17</td>\n",
       "      <td>1185.0</td>\n",
       "    </tr>\n",
       "    <tr>\n",
       "      <th>3</th>\n",
       "      <td>14.37</td>\n",
       "      <td>1.95</td>\n",
       "      <td>2.50</td>\n",
       "      <td>16.8</td>\n",
       "      <td>113.0</td>\n",
       "      <td>3.85</td>\n",
       "      <td>3.49</td>\n",
       "      <td>0.24</td>\n",
       "      <td>2.18</td>\n",
       "      <td>7.80</td>\n",
       "      <td>0.86</td>\n",
       "      <td>3.45</td>\n",
       "      <td>1480.0</td>\n",
       "    </tr>\n",
       "    <tr>\n",
       "      <th>4</th>\n",
       "      <td>13.24</td>\n",
       "      <td>2.59</td>\n",
       "      <td>2.87</td>\n",
       "      <td>21.0</td>\n",
       "      <td>118.0</td>\n",
       "      <td>2.80</td>\n",
       "      <td>2.69</td>\n",
       "      <td>0.39</td>\n",
       "      <td>1.82</td>\n",
       "      <td>4.32</td>\n",
       "      <td>1.04</td>\n",
       "      <td>2.93</td>\n",
       "      <td>735.0</td>\n",
       "    </tr>\n",
       "    <tr>\n",
       "      <th>...</th>\n",
       "      <td>...</td>\n",
       "      <td>...</td>\n",
       "      <td>...</td>\n",
       "      <td>...</td>\n",
       "      <td>...</td>\n",
       "      <td>...</td>\n",
       "      <td>...</td>\n",
       "      <td>...</td>\n",
       "      <td>...</td>\n",
       "      <td>...</td>\n",
       "      <td>...</td>\n",
       "      <td>...</td>\n",
       "      <td>...</td>\n",
       "    </tr>\n",
       "    <tr>\n",
       "      <th>173</th>\n",
       "      <td>13.71</td>\n",
       "      <td>5.65</td>\n",
       "      <td>2.45</td>\n",
       "      <td>20.5</td>\n",
       "      <td>95.0</td>\n",
       "      <td>1.68</td>\n",
       "      <td>0.61</td>\n",
       "      <td>0.52</td>\n",
       "      <td>1.06</td>\n",
       "      <td>7.70</td>\n",
       "      <td>0.64</td>\n",
       "      <td>1.74</td>\n",
       "      <td>740.0</td>\n",
       "    </tr>\n",
       "    <tr>\n",
       "      <th>174</th>\n",
       "      <td>13.40</td>\n",
       "      <td>3.91</td>\n",
       "      <td>2.48</td>\n",
       "      <td>23.0</td>\n",
       "      <td>102.0</td>\n",
       "      <td>1.80</td>\n",
       "      <td>0.75</td>\n",
       "      <td>0.43</td>\n",
       "      <td>1.41</td>\n",
       "      <td>7.30</td>\n",
       "      <td>0.70</td>\n",
       "      <td>1.56</td>\n",
       "      <td>750.0</td>\n",
       "    </tr>\n",
       "    <tr>\n",
       "      <th>175</th>\n",
       "      <td>13.27</td>\n",
       "      <td>4.28</td>\n",
       "      <td>2.26</td>\n",
       "      <td>20.0</td>\n",
       "      <td>120.0</td>\n",
       "      <td>1.59</td>\n",
       "      <td>0.69</td>\n",
       "      <td>0.43</td>\n",
       "      <td>1.35</td>\n",
       "      <td>10.20</td>\n",
       "      <td>0.59</td>\n",
       "      <td>1.56</td>\n",
       "      <td>835.0</td>\n",
       "    </tr>\n",
       "    <tr>\n",
       "      <th>176</th>\n",
       "      <td>13.17</td>\n",
       "      <td>2.59</td>\n",
       "      <td>2.37</td>\n",
       "      <td>20.0</td>\n",
       "      <td>120.0</td>\n",
       "      <td>1.65</td>\n",
       "      <td>0.68</td>\n",
       "      <td>0.53</td>\n",
       "      <td>1.46</td>\n",
       "      <td>9.30</td>\n",
       "      <td>0.60</td>\n",
       "      <td>1.62</td>\n",
       "      <td>840.0</td>\n",
       "    </tr>\n",
       "    <tr>\n",
       "      <th>177</th>\n",
       "      <td>14.13</td>\n",
       "      <td>4.10</td>\n",
       "      <td>2.74</td>\n",
       "      <td>24.5</td>\n",
       "      <td>96.0</td>\n",
       "      <td>2.05</td>\n",
       "      <td>0.76</td>\n",
       "      <td>0.56</td>\n",
       "      <td>1.35</td>\n",
       "      <td>9.20</td>\n",
       "      <td>0.61</td>\n",
       "      <td>1.60</td>\n",
       "      <td>560.0</td>\n",
       "    </tr>\n",
       "  </tbody>\n",
       "</table>\n",
       "<p>178 rows × 13 columns</p>\n",
       "</div>"
      ],
      "text/plain": [
       "     alcohol  malic_acid   ash  alcalinity_of_ash  magnesium  total_phenols  \\\n",
       "0      14.23        1.71  2.43               15.6      127.0           2.80   \n",
       "1      13.20        1.78  2.14               11.2      100.0           2.65   \n",
       "2      13.16        2.36  2.67               18.6      101.0           2.80   \n",
       "3      14.37        1.95  2.50               16.8      113.0           3.85   \n",
       "4      13.24        2.59  2.87               21.0      118.0           2.80   \n",
       "..       ...         ...   ...                ...        ...            ...   \n",
       "173    13.71        5.65  2.45               20.5       95.0           1.68   \n",
       "174    13.40        3.91  2.48               23.0      102.0           1.80   \n",
       "175    13.27        4.28  2.26               20.0      120.0           1.59   \n",
       "176    13.17        2.59  2.37               20.0      120.0           1.65   \n",
       "177    14.13        4.10  2.74               24.5       96.0           2.05   \n",
       "\n",
       "     flavanoids  nonflavanoid_phenols  proanthocyanins  color_intensity   hue  \\\n",
       "0          3.06                  0.28             2.29             5.64  1.04   \n",
       "1          2.76                  0.26             1.28             4.38  1.05   \n",
       "2          3.24                  0.30             2.81             5.68  1.03   \n",
       "3          3.49                  0.24             2.18             7.80  0.86   \n",
       "4          2.69                  0.39             1.82             4.32  1.04   \n",
       "..          ...                   ...              ...              ...   ...   \n",
       "173        0.61                  0.52             1.06             7.70  0.64   \n",
       "174        0.75                  0.43             1.41             7.30  0.70   \n",
       "175        0.69                  0.43             1.35            10.20  0.59   \n",
       "176        0.68                  0.53             1.46             9.30  0.60   \n",
       "177        0.76                  0.56             1.35             9.20  0.61   \n",
       "\n",
       "     od280/od315_of_diluted_wines  proline  \n",
       "0                            3.92   1065.0  \n",
       "1                            3.40   1050.0  \n",
       "2                            3.17   1185.0  \n",
       "3                            3.45   1480.0  \n",
       "4                            2.93    735.0  \n",
       "..                            ...      ...  \n",
       "173                          1.74    740.0  \n",
       "174                          1.56    750.0  \n",
       "175                          1.56    835.0  \n",
       "176                          1.62    840.0  \n",
       "177                          1.60    560.0  \n",
       "\n",
       "[178 rows x 13 columns]"
      ]
     },
     "execution_count": 724,
     "metadata": {},
     "output_type": "execute_result"
    }
   ],
   "source": [
    "wine_data"
   ]
  },
  {
   "cell_type": "code",
   "execution_count": 725,
   "id": "fb1a6037",
   "metadata": {},
   "outputs": [
    {
     "data": {
      "application/vnd.microsoft.datawrangler.viewer.v0+json": {
       "columns": [
        {
         "name": "index",
         "rawType": "int64",
         "type": "integer"
        },
        {
         "name": "target",
         "rawType": "int64",
         "type": "integer"
        }
       ],
       "ref": "f411efa2-a16b-448e-be1a-0a6eb415bf45",
       "rows": [
        [
         "0",
         "0"
        ],
        [
         "1",
         "0"
        ],
        [
         "2",
         "0"
        ],
        [
         "3",
         "0"
        ],
        [
         "4",
         "0"
        ],
        [
         "5",
         "0"
        ],
        [
         "6",
         "0"
        ],
        [
         "7",
         "0"
        ],
        [
         "8",
         "0"
        ],
        [
         "9",
         "0"
        ],
        [
         "10",
         "0"
        ],
        [
         "11",
         "0"
        ],
        [
         "12",
         "0"
        ],
        [
         "13",
         "0"
        ],
        [
         "14",
         "0"
        ],
        [
         "15",
         "0"
        ],
        [
         "16",
         "0"
        ],
        [
         "17",
         "0"
        ],
        [
         "18",
         "0"
        ],
        [
         "19",
         "0"
        ],
        [
         "20",
         "0"
        ],
        [
         "21",
         "0"
        ],
        [
         "22",
         "0"
        ],
        [
         "23",
         "0"
        ],
        [
         "24",
         "0"
        ],
        [
         "25",
         "0"
        ],
        [
         "26",
         "0"
        ],
        [
         "27",
         "0"
        ],
        [
         "28",
         "0"
        ],
        [
         "29",
         "0"
        ],
        [
         "30",
         "0"
        ],
        [
         "31",
         "0"
        ],
        [
         "32",
         "0"
        ],
        [
         "33",
         "0"
        ],
        [
         "34",
         "0"
        ],
        [
         "35",
         "0"
        ],
        [
         "36",
         "0"
        ],
        [
         "37",
         "0"
        ],
        [
         "38",
         "0"
        ],
        [
         "39",
         "0"
        ],
        [
         "40",
         "0"
        ],
        [
         "41",
         "0"
        ],
        [
         "42",
         "0"
        ],
        [
         "43",
         "0"
        ],
        [
         "44",
         "0"
        ],
        [
         "45",
         "0"
        ],
        [
         "46",
         "0"
        ],
        [
         "47",
         "0"
        ],
        [
         "48",
         "0"
        ],
        [
         "49",
         "0"
        ]
       ],
       "shape": {
        "columns": 1,
        "rows": 178
       }
      },
      "text/plain": [
       "0      0\n",
       "1      0\n",
       "2      0\n",
       "3      0\n",
       "4      0\n",
       "      ..\n",
       "173    2\n",
       "174    2\n",
       "175    2\n",
       "176    2\n",
       "177    2\n",
       "Name: target, Length: 178, dtype: int64"
      ]
     },
     "execution_count": 725,
     "metadata": {},
     "output_type": "execute_result"
    }
   ],
   "source": [
    "wine_target"
   ]
  },
  {
   "cell_type": "markdown",
   "id": "7acecac8",
   "metadata": {},
   "source": [
    "## Inspect Data"
   ]
  },
  {
   "cell_type": "code",
   "execution_count": 726,
   "id": "636ef767",
   "metadata": {},
   "outputs": [],
   "source": [
    "X_train, X_test, y_train, y_test = train_test_split(wine_data, wine_target, test_size=0.2, random_state=RANDOM_SEED)"
   ]
  },
  {
   "cell_type": "code",
   "execution_count": 727,
   "id": "57c9001c",
   "metadata": {},
   "outputs": [
    {
     "data": {
      "application/vnd.microsoft.datawrangler.viewer.v0+json": {
       "columns": [
        {
         "name": "index",
         "rawType": "int64",
         "type": "integer"
        },
        {
         "name": "alcohol",
         "rawType": "float64",
         "type": "float"
        },
        {
         "name": "malic_acid",
         "rawType": "float64",
         "type": "float"
        },
        {
         "name": "ash",
         "rawType": "float64",
         "type": "float"
        },
        {
         "name": "alcalinity_of_ash",
         "rawType": "float64",
         "type": "float"
        },
        {
         "name": "magnesium",
         "rawType": "float64",
         "type": "float"
        },
        {
         "name": "total_phenols",
         "rawType": "float64",
         "type": "float"
        },
        {
         "name": "flavanoids",
         "rawType": "float64",
         "type": "float"
        },
        {
         "name": "nonflavanoid_phenols",
         "rawType": "float64",
         "type": "float"
        },
        {
         "name": "proanthocyanins",
         "rawType": "float64",
         "type": "float"
        },
        {
         "name": "color_intensity",
         "rawType": "float64",
         "type": "float"
        },
        {
         "name": "hue",
         "rawType": "float64",
         "type": "float"
        },
        {
         "name": "od280/od315_of_diluted_wines",
         "rawType": "float64",
         "type": "float"
        },
        {
         "name": "proline",
         "rawType": "float64",
         "type": "float"
        }
       ],
       "ref": "f7ab7bd2-f30a-42e0-a3ef-13fe626ca4b6",
       "rows": [
        [
         "158",
         "14.34",
         "1.68",
         "2.7",
         "25.0",
         "98.0",
         "2.8",
         "1.31",
         "0.53",
         "2.7",
         "13.0",
         "0.57",
         "1.96",
         "660.0"
        ],
        [
         "137",
         "12.53",
         "5.51",
         "2.64",
         "25.0",
         "96.0",
         "1.79",
         "0.6",
         "0.63",
         "1.1",
         "5.0",
         "0.82",
         "1.69",
         "515.0"
        ],
        [
         "98",
         "12.37",
         "1.07",
         "2.1",
         "18.5",
         "88.0",
         "3.52",
         "3.75",
         "0.24",
         "1.95",
         "4.5",
         "1.04",
         "2.77",
         "660.0"
        ],
        [
         "159",
         "13.48",
         "1.67",
         "2.64",
         "22.5",
         "89.0",
         "2.6",
         "1.1",
         "0.52",
         "2.29",
         "11.75",
         "0.57",
         "1.78",
         "620.0"
        ],
        [
         "38",
         "13.07",
         "1.5",
         "2.1",
         "15.5",
         "98.0",
         "2.4",
         "2.64",
         "0.28",
         "1.37",
         "3.7",
         "1.18",
         "2.69",
         "1020.0"
        ],
        [
         "108",
         "12.22",
         "1.29",
         "1.94",
         "19.0",
         "92.0",
         "2.36",
         "2.04",
         "0.39",
         "2.08",
         "2.7",
         "0.86",
         "3.02",
         "312.0"
        ],
        [
         "85",
         "12.67",
         "0.98",
         "2.24",
         "18.0",
         "99.0",
         "2.2",
         "1.94",
         "0.3",
         "1.46",
         "2.62",
         "1.23",
         "3.16",
         "450.0"
        ],
        [
         "68",
         "13.34",
         "0.94",
         "2.36",
         "17.0",
         "110.0",
         "2.53",
         "1.3",
         "0.55",
         "0.42",
         "3.17",
         "1.02",
         "1.93",
         "750.0"
        ],
        [
         "143",
         "13.62",
         "4.95",
         "2.35",
         "20.0",
         "92.0",
         "2.0",
         "0.8",
         "0.47",
         "1.02",
         "4.4",
         "0.91",
         "2.05",
         "550.0"
        ],
        [
         "2",
         "13.16",
         "2.36",
         "2.67",
         "18.6",
         "101.0",
         "2.8",
         "3.24",
         "0.3",
         "2.81",
         "5.68",
         "1.03",
         "3.17",
         "1185.0"
        ],
        [
         "100",
         "12.08",
         "2.08",
         "1.7",
         "17.5",
         "97.0",
         "2.23",
         "2.17",
         "0.26",
         "1.4",
         "3.3",
         "1.27",
         "2.96",
         "710.0"
        ],
        [
         "122",
         "12.42",
         "4.43",
         "2.73",
         "26.5",
         "102.0",
         "2.2",
         "2.13",
         "0.43",
         "1.71",
         "2.08",
         "0.92",
         "3.12",
         "365.0"
        ],
        [
         "154",
         "12.58",
         "1.29",
         "2.1",
         "20.0",
         "103.0",
         "1.48",
         "0.58",
         "0.53",
         "1.4",
         "7.6",
         "0.58",
         "1.55",
         "640.0"
        ],
        [
         "51",
         "13.83",
         "1.65",
         "2.6",
         "17.2",
         "94.0",
         "2.45",
         "2.99",
         "0.22",
         "2.29",
         "5.6",
         "1.24",
         "3.37",
         "1265.0"
        ],
        [
         "76",
         "13.03",
         "0.9",
         "1.71",
         "16.0",
         "86.0",
         "1.95",
         "2.03",
         "0.24",
         "1.46",
         "4.6",
         "1.19",
         "2.48",
         "392.0"
        ],
        [
         "56",
         "14.22",
         "1.7",
         "2.3",
         "16.3",
         "118.0",
         "3.2",
         "3.0",
         "0.26",
         "2.03",
         "6.38",
         "0.94",
         "3.31",
         "970.0"
        ],
        [
         "26",
         "13.39",
         "1.77",
         "2.62",
         "16.1",
         "93.0",
         "2.85",
         "2.94",
         "0.34",
         "1.45",
         "4.8",
         "0.92",
         "3.22",
         "1195.0"
        ],
        [
         "153",
         "13.23",
         "3.3",
         "2.28",
         "18.5",
         "98.0",
         "1.8",
         "0.83",
         "0.61",
         "1.87",
         "10.52",
         "0.56",
         "1.51",
         "675.0"
        ],
        [
         "138",
         "13.49",
         "3.59",
         "2.19",
         "19.5",
         "88.0",
         "1.62",
         "0.48",
         "0.58",
         "0.88",
         "5.7",
         "0.81",
         "1.82",
         "580.0"
        ],
        [
         "104",
         "12.51",
         "1.73",
         "1.98",
         "20.5",
         "85.0",
         "2.2",
         "1.92",
         "0.32",
         "1.48",
         "2.94",
         "1.04",
         "3.57",
         "672.0"
        ],
        [
         "78",
         "12.33",
         "0.99",
         "1.95",
         "14.8",
         "136.0",
         "1.9",
         "1.85",
         "0.35",
         "2.76",
         "3.4",
         "1.06",
         "2.31",
         "750.0"
        ],
        [
         "36",
         "13.28",
         "1.64",
         "2.84",
         "15.5",
         "110.0",
         "2.6",
         "2.68",
         "0.34",
         "1.36",
         "4.6",
         "1.09",
         "2.78",
         "880.0"
        ],
        [
         "93",
         "12.29",
         "2.83",
         "2.22",
         "18.0",
         "88.0",
         "2.45",
         "2.25",
         "0.25",
         "1.99",
         "2.15",
         "1.15",
         "3.3",
         "290.0"
        ],
        [
         "22",
         "13.71",
         "1.86",
         "2.36",
         "16.6",
         "101.0",
         "2.61",
         "2.88",
         "0.27",
         "1.69",
         "3.8",
         "1.11",
         "4.0",
         "1035.0"
        ],
        [
         "146",
         "13.88",
         "5.04",
         "2.23",
         "20.0",
         "80.0",
         "0.98",
         "0.34",
         "0.4",
         "0.68",
         "4.9",
         "0.58",
         "1.33",
         "415.0"
        ],
        [
         "97",
         "12.29",
         "1.41",
         "1.98",
         "16.0",
         "85.0",
         "2.55",
         "2.5",
         "0.29",
         "1.77",
         "2.9",
         "1.23",
         "2.74",
         "428.0"
        ],
        [
         "69",
         "12.21",
         "1.19",
         "1.75",
         "16.8",
         "151.0",
         "1.85",
         "1.28",
         "0.14",
         "2.5",
         "2.85",
         "1.28",
         "3.07",
         "718.0"
        ],
        [
         "167",
         "12.82",
         "3.37",
         "2.3",
         "19.5",
         "88.0",
         "1.48",
         "0.66",
         "0.4",
         "0.97",
         "10.26",
         "0.72",
         "1.75",
         "685.0"
        ],
        [
         "11",
         "14.12",
         "1.48",
         "2.32",
         "16.8",
         "95.0",
         "2.2",
         "2.43",
         "0.26",
         "1.57",
         "5.0",
         "1.17",
         "2.82",
         "1280.0"
        ],
        [
         "6",
         "14.39",
         "1.87",
         "2.45",
         "14.6",
         "96.0",
         "2.5",
         "2.52",
         "0.3",
         "1.98",
         "5.25",
         "1.02",
         "3.58",
         "1290.0"
        ],
        [
         "27",
         "13.3",
         "1.72",
         "2.14",
         "17.0",
         "94.0",
         "2.4",
         "2.19",
         "0.27",
         "1.35",
         "3.95",
         "1.02",
         "2.77",
         "1285.0"
        ],
        [
         "144",
         "12.25",
         "3.88",
         "2.2",
         "18.5",
         "112.0",
         "1.38",
         "0.78",
         "0.29",
         "1.14",
         "8.21",
         "0.65",
         "2.0",
         "855.0"
        ],
        [
         "4",
         "13.24",
         "2.59",
         "2.87",
         "21.0",
         "118.0",
         "2.8",
         "2.69",
         "0.39",
         "1.82",
         "4.32",
         "1.04",
         "2.93",
         "735.0"
        ],
        [
         "32",
         "13.68",
         "1.83",
         "2.36",
         "17.2",
         "104.0",
         "2.42",
         "2.69",
         "0.42",
         "1.97",
         "3.84",
         "1.23",
         "2.87",
         "990.0"
        ],
        [
         "95",
         "12.47",
         "1.52",
         "2.2",
         "19.0",
         "162.0",
         "2.5",
         "2.27",
         "0.32",
         "3.28",
         "2.6",
         "1.16",
         "2.63",
         "937.0"
        ],
        [
         "170",
         "12.2",
         "3.03",
         "2.32",
         "19.0",
         "96.0",
         "1.25",
         "0.49",
         "0.4",
         "0.73",
         "5.5",
         "0.66",
         "1.83",
         "510.0"
        ],
        [
         "75",
         "11.66",
         "1.88",
         "1.92",
         "16.0",
         "97.0",
         "1.61",
         "1.57",
         "0.34",
         "1.15",
         "3.8",
         "1.23",
         "2.14",
         "428.0"
        ],
        [
         "10",
         "14.1",
         "2.16",
         "2.3",
         "18.0",
         "105.0",
         "2.95",
         "3.32",
         "0.22",
         "2.38",
         "5.75",
         "1.25",
         "3.17",
         "1510.0"
        ],
        [
         "147",
         "12.87",
         "4.61",
         "2.48",
         "21.5",
         "86.0",
         "1.7",
         "0.65",
         "0.47",
         "0.86",
         "7.65",
         "0.54",
         "1.86",
         "625.0"
        ],
        [
         "123",
         "13.05",
         "5.8",
         "2.13",
         "21.5",
         "86.0",
         "2.62",
         "2.65",
         "0.3",
         "2.01",
         "2.6",
         "0.73",
         "3.1",
         "380.0"
        ],
        [
         "0",
         "14.23",
         "1.71",
         "2.43",
         "15.6",
         "127.0",
         "2.8",
         "3.06",
         "0.28",
         "2.29",
         "5.64",
         "1.04",
         "3.92",
         "1065.0"
        ],
        [
         "142",
         "13.52",
         "3.17",
         "2.72",
         "23.5",
         "97.0",
         "1.55",
         "0.52",
         "0.5",
         "0.55",
         "4.35",
         "0.89",
         "2.06",
         "520.0"
        ],
        [
         "126",
         "12.43",
         "1.53",
         "2.29",
         "21.5",
         "86.0",
         "2.74",
         "3.15",
         "0.39",
         "1.77",
         "3.94",
         "0.69",
         "2.84",
         "352.0"
        ],
        [
         "64",
         "12.17",
         "1.45",
         "2.53",
         "19.0",
         "104.0",
         "1.89",
         "1.75",
         "0.45",
         "1.03",
         "2.95",
         "1.45",
         "2.23",
         "355.0"
        ],
        [
         "44",
         "13.05",
         "1.77",
         "2.1",
         "17.0",
         "107.0",
         "3.0",
         "3.0",
         "0.28",
         "2.03",
         "5.04",
         "0.88",
         "3.35",
         "885.0"
        ],
        [
         "96",
         "11.81",
         "2.12",
         "2.74",
         "21.5",
         "134.0",
         "1.6",
         "0.99",
         "0.14",
         "1.56",
         "2.5",
         "0.95",
         "2.26",
         "625.0"
        ],
        [
         "28",
         "13.87",
         "1.9",
         "2.8",
         "19.4",
         "107.0",
         "2.95",
         "2.97",
         "0.37",
         "1.76",
         "4.5",
         "1.25",
         "3.4",
         "915.0"
        ],
        [
         "40",
         "13.56",
         "1.71",
         "2.31",
         "16.2",
         "117.0",
         "3.15",
         "3.29",
         "0.34",
         "2.34",
         "6.13",
         "0.95",
         "3.38",
         "795.0"
        ],
        [
         "127",
         "11.79",
         "2.13",
         "2.78",
         "28.5",
         "92.0",
         "2.13",
         "2.24",
         "0.58",
         "1.76",
         "3.0",
         "0.97",
         "2.44",
         "466.0"
        ],
        [
         "25",
         "13.05",
         "2.05",
         "3.22",
         "25.0",
         "124.0",
         "2.63",
         "2.68",
         "0.47",
         "1.92",
         "3.58",
         "1.13",
         "3.2",
         "830.0"
        ]
       ],
       "shape": {
        "columns": 13,
        "rows": 142
       }
      },
      "text/html": [
       "<div>\n",
       "<style scoped>\n",
       "    .dataframe tbody tr th:only-of-type {\n",
       "        vertical-align: middle;\n",
       "    }\n",
       "\n",
       "    .dataframe tbody tr th {\n",
       "        vertical-align: top;\n",
       "    }\n",
       "\n",
       "    .dataframe thead th {\n",
       "        text-align: right;\n",
       "    }\n",
       "</style>\n",
       "<table border=\"1\" class=\"dataframe\">\n",
       "  <thead>\n",
       "    <tr style=\"text-align: right;\">\n",
       "      <th></th>\n",
       "      <th>alcohol</th>\n",
       "      <th>malic_acid</th>\n",
       "      <th>ash</th>\n",
       "      <th>alcalinity_of_ash</th>\n",
       "      <th>magnesium</th>\n",
       "      <th>total_phenols</th>\n",
       "      <th>flavanoids</th>\n",
       "      <th>nonflavanoid_phenols</th>\n",
       "      <th>proanthocyanins</th>\n",
       "      <th>color_intensity</th>\n",
       "      <th>hue</th>\n",
       "      <th>od280/od315_of_diluted_wines</th>\n",
       "      <th>proline</th>\n",
       "    </tr>\n",
       "  </thead>\n",
       "  <tbody>\n",
       "    <tr>\n",
       "      <th>158</th>\n",
       "      <td>14.34</td>\n",
       "      <td>1.68</td>\n",
       "      <td>2.70</td>\n",
       "      <td>25.0</td>\n",
       "      <td>98.0</td>\n",
       "      <td>2.80</td>\n",
       "      <td>1.31</td>\n",
       "      <td>0.53</td>\n",
       "      <td>2.70</td>\n",
       "      <td>13.00</td>\n",
       "      <td>0.57</td>\n",
       "      <td>1.96</td>\n",
       "      <td>660.0</td>\n",
       "    </tr>\n",
       "    <tr>\n",
       "      <th>137</th>\n",
       "      <td>12.53</td>\n",
       "      <td>5.51</td>\n",
       "      <td>2.64</td>\n",
       "      <td>25.0</td>\n",
       "      <td>96.0</td>\n",
       "      <td>1.79</td>\n",
       "      <td>0.60</td>\n",
       "      <td>0.63</td>\n",
       "      <td>1.10</td>\n",
       "      <td>5.00</td>\n",
       "      <td>0.82</td>\n",
       "      <td>1.69</td>\n",
       "      <td>515.0</td>\n",
       "    </tr>\n",
       "    <tr>\n",
       "      <th>98</th>\n",
       "      <td>12.37</td>\n",
       "      <td>1.07</td>\n",
       "      <td>2.10</td>\n",
       "      <td>18.5</td>\n",
       "      <td>88.0</td>\n",
       "      <td>3.52</td>\n",
       "      <td>3.75</td>\n",
       "      <td>0.24</td>\n",
       "      <td>1.95</td>\n",
       "      <td>4.50</td>\n",
       "      <td>1.04</td>\n",
       "      <td>2.77</td>\n",
       "      <td>660.0</td>\n",
       "    </tr>\n",
       "    <tr>\n",
       "      <th>159</th>\n",
       "      <td>13.48</td>\n",
       "      <td>1.67</td>\n",
       "      <td>2.64</td>\n",
       "      <td>22.5</td>\n",
       "      <td>89.0</td>\n",
       "      <td>2.60</td>\n",
       "      <td>1.10</td>\n",
       "      <td>0.52</td>\n",
       "      <td>2.29</td>\n",
       "      <td>11.75</td>\n",
       "      <td>0.57</td>\n",
       "      <td>1.78</td>\n",
       "      <td>620.0</td>\n",
       "    </tr>\n",
       "    <tr>\n",
       "      <th>38</th>\n",
       "      <td>13.07</td>\n",
       "      <td>1.50</td>\n",
       "      <td>2.10</td>\n",
       "      <td>15.5</td>\n",
       "      <td>98.0</td>\n",
       "      <td>2.40</td>\n",
       "      <td>2.64</td>\n",
       "      <td>0.28</td>\n",
       "      <td>1.37</td>\n",
       "      <td>3.70</td>\n",
       "      <td>1.18</td>\n",
       "      <td>2.69</td>\n",
       "      <td>1020.0</td>\n",
       "    </tr>\n",
       "    <tr>\n",
       "      <th>...</th>\n",
       "      <td>...</td>\n",
       "      <td>...</td>\n",
       "      <td>...</td>\n",
       "      <td>...</td>\n",
       "      <td>...</td>\n",
       "      <td>...</td>\n",
       "      <td>...</td>\n",
       "      <td>...</td>\n",
       "      <td>...</td>\n",
       "      <td>...</td>\n",
       "      <td>...</td>\n",
       "      <td>...</td>\n",
       "      <td>...</td>\n",
       "    </tr>\n",
       "    <tr>\n",
       "      <th>71</th>\n",
       "      <td>13.86</td>\n",
       "      <td>1.51</td>\n",
       "      <td>2.67</td>\n",
       "      <td>25.0</td>\n",
       "      <td>86.0</td>\n",
       "      <td>2.95</td>\n",
       "      <td>2.86</td>\n",
       "      <td>0.21</td>\n",
       "      <td>1.87</td>\n",
       "      <td>3.38</td>\n",
       "      <td>1.36</td>\n",
       "      <td>3.16</td>\n",
       "      <td>410.0</td>\n",
       "    </tr>\n",
       "    <tr>\n",
       "      <th>106</th>\n",
       "      <td>12.25</td>\n",
       "      <td>1.73</td>\n",
       "      <td>2.12</td>\n",
       "      <td>19.0</td>\n",
       "      <td>80.0</td>\n",
       "      <td>1.65</td>\n",
       "      <td>2.03</td>\n",
       "      <td>0.37</td>\n",
       "      <td>1.63</td>\n",
       "      <td>3.40</td>\n",
       "      <td>1.00</td>\n",
       "      <td>3.17</td>\n",
       "      <td>510.0</td>\n",
       "    </tr>\n",
       "    <tr>\n",
       "      <th>14</th>\n",
       "      <td>14.38</td>\n",
       "      <td>1.87</td>\n",
       "      <td>2.38</td>\n",
       "      <td>12.0</td>\n",
       "      <td>102.0</td>\n",
       "      <td>3.30</td>\n",
       "      <td>3.64</td>\n",
       "      <td>0.29</td>\n",
       "      <td>2.96</td>\n",
       "      <td>7.50</td>\n",
       "      <td>1.20</td>\n",
       "      <td>3.00</td>\n",
       "      <td>1547.0</td>\n",
       "    </tr>\n",
       "    <tr>\n",
       "      <th>92</th>\n",
       "      <td>12.69</td>\n",
       "      <td>1.53</td>\n",
       "      <td>2.26</td>\n",
       "      <td>20.7</td>\n",
       "      <td>80.0</td>\n",
       "      <td>1.38</td>\n",
       "      <td>1.46</td>\n",
       "      <td>0.58</td>\n",
       "      <td>1.62</td>\n",
       "      <td>3.05</td>\n",
       "      <td>0.96</td>\n",
       "      <td>2.06</td>\n",
       "      <td>495.0</td>\n",
       "    </tr>\n",
       "    <tr>\n",
       "      <th>102</th>\n",
       "      <td>12.34</td>\n",
       "      <td>2.45</td>\n",
       "      <td>2.46</td>\n",
       "      <td>21.0</td>\n",
       "      <td>98.0</td>\n",
       "      <td>2.56</td>\n",
       "      <td>2.11</td>\n",
       "      <td>0.34</td>\n",
       "      <td>1.31</td>\n",
       "      <td>2.80</td>\n",
       "      <td>0.80</td>\n",
       "      <td>3.38</td>\n",
       "      <td>438.0</td>\n",
       "    </tr>\n",
       "  </tbody>\n",
       "</table>\n",
       "<p>142 rows × 13 columns</p>\n",
       "</div>"
      ],
      "text/plain": [
       "     alcohol  malic_acid   ash  alcalinity_of_ash  magnesium  total_phenols  \\\n",
       "158    14.34        1.68  2.70               25.0       98.0           2.80   \n",
       "137    12.53        5.51  2.64               25.0       96.0           1.79   \n",
       "98     12.37        1.07  2.10               18.5       88.0           3.52   \n",
       "159    13.48        1.67  2.64               22.5       89.0           2.60   \n",
       "38     13.07        1.50  2.10               15.5       98.0           2.40   \n",
       "..       ...         ...   ...                ...        ...            ...   \n",
       "71     13.86        1.51  2.67               25.0       86.0           2.95   \n",
       "106    12.25        1.73  2.12               19.0       80.0           1.65   \n",
       "14     14.38        1.87  2.38               12.0      102.0           3.30   \n",
       "92     12.69        1.53  2.26               20.7       80.0           1.38   \n",
       "102    12.34        2.45  2.46               21.0       98.0           2.56   \n",
       "\n",
       "     flavanoids  nonflavanoid_phenols  proanthocyanins  color_intensity   hue  \\\n",
       "158        1.31                  0.53             2.70            13.00  0.57   \n",
       "137        0.60                  0.63             1.10             5.00  0.82   \n",
       "98         3.75                  0.24             1.95             4.50  1.04   \n",
       "159        1.10                  0.52             2.29            11.75  0.57   \n",
       "38         2.64                  0.28             1.37             3.70  1.18   \n",
       "..          ...                   ...              ...              ...   ...   \n",
       "71         2.86                  0.21             1.87             3.38  1.36   \n",
       "106        2.03                  0.37             1.63             3.40  1.00   \n",
       "14         3.64                  0.29             2.96             7.50  1.20   \n",
       "92         1.46                  0.58             1.62             3.05  0.96   \n",
       "102        2.11                  0.34             1.31             2.80  0.80   \n",
       "\n",
       "     od280/od315_of_diluted_wines  proline  \n",
       "158                          1.96    660.0  \n",
       "137                          1.69    515.0  \n",
       "98                           2.77    660.0  \n",
       "159                          1.78    620.0  \n",
       "38                           2.69   1020.0  \n",
       "..                            ...      ...  \n",
       "71                           3.16    410.0  \n",
       "106                          3.17    510.0  \n",
       "14                           3.00   1547.0  \n",
       "92                           2.06    495.0  \n",
       "102                          3.38    438.0  \n",
       "\n",
       "[142 rows x 13 columns]"
      ]
     },
     "execution_count": 727,
     "metadata": {},
     "output_type": "execute_result"
    }
   ],
   "source": [
    "X_train"
   ]
  },
  {
   "cell_type": "markdown",
   "id": "959b0bdc",
   "metadata": {},
   "source": [
    "## Transform into better format"
   ]
  },
  {
   "cell_type": "code",
   "execution_count": 728,
   "id": "9c240968",
   "metadata": {},
   "outputs": [
    {
     "data": {
      "text/plain": [
       "Index(['alcohol', 'malic_acid', 'ash', 'alcalinity_of_ash', 'magnesium',\n",
       "       'total_phenols', 'flavanoids', 'nonflavanoid_phenols',\n",
       "       'proanthocyanins', 'color_intensity', 'hue',\n",
       "       'od280/od315_of_diluted_wines', 'proline'],\n",
       "      dtype='object')"
      ]
     },
     "execution_count": 728,
     "metadata": {},
     "output_type": "execute_result"
    }
   ],
   "source": [
    "X_train.columns"
   ]
  },
  {
   "cell_type": "code",
   "execution_count": 729,
   "id": "2eca316d",
   "metadata": {},
   "outputs": [],
   "source": [
    "NUMERIC_COLS = [\n",
    "    'alcohol',\n",
    "    'malic_acid',\n",
    "    'ash',\n",
    "    'alcalinity_of_ash',\n",
    "    'magnesium',\n",
    "    'total_phenols',\n",
    "    'flavanoids',\n",
    "    'nonflavanoid_phenols',\n",
    "    'proanthocyanins',\n",
    "    'color_intensity',\n",
    "    'hue',\n",
    "    'od280/od315_of_diluted_wines',\n",
    "    'proline'\n",
    "]\n",
    "\n",
    "preprocessing = ColumnTransformer([\n",
    "        (\"scale\", StandardScaler(), NUMERIC_COLS)\n",
    "    ],\n",
    "    remainder=\"drop\"\n",
    ")"
   ]
  },
  {
   "cell_type": "code",
   "execution_count": 730,
   "id": "df5d037f",
   "metadata": {},
   "outputs": [
    {
     "data": {
      "application/vnd.microsoft.datawrangler.viewer.v0+json": {
       "columns": [
        {
         "name": "index",
         "rawType": "int64",
         "type": "integer"
        },
        {
         "name": "scale__alcohol",
         "rawType": "float64",
         "type": "float"
        },
        {
         "name": "scale__malic_acid",
         "rawType": "float64",
         "type": "float"
        },
        {
         "name": "scale__ash",
         "rawType": "float64",
         "type": "float"
        },
        {
         "name": "scale__alcalinity_of_ash",
         "rawType": "float64",
         "type": "float"
        },
        {
         "name": "scale__magnesium",
         "rawType": "float64",
         "type": "float"
        },
        {
         "name": "scale__total_phenols",
         "rawType": "float64",
         "type": "float"
        },
        {
         "name": "scale__flavanoids",
         "rawType": "float64",
         "type": "float"
        },
        {
         "name": "scale__nonflavanoid_phenols",
         "rawType": "float64",
         "type": "float"
        },
        {
         "name": "scale__proanthocyanins",
         "rawType": "float64",
         "type": "float"
        },
        {
         "name": "scale__color_intensity",
         "rawType": "float64",
         "type": "float"
        },
        {
         "name": "scale__hue",
         "rawType": "float64",
         "type": "float"
        },
        {
         "name": "scale__od280/od315_of_diluted_wines",
         "rawType": "float64",
         "type": "float"
        },
        {
         "name": "scale__proline",
         "rawType": "float64",
         "type": "float"
        }
       ],
       "ref": "92f9e866-e241-4950-b841-f4b881c776f8",
       "rows": [
        [
         "158",
         "1.665292751552409",
         "-0.6084058708306584",
         "1.2189619406086034",
         "1.6054001692619027",
         "-0.1673842573575889",
         "0.8040015729247536",
         "-0.6916784037712645",
         "1.2672255168374742",
         "1.877539798119426",
         "3.4194730479873927",
         "-1.6563285651202309",
         "-0.8794090367008003",
         "-0.24860606665054186"
        ],
        [
         "137",
         "-0.549525064768421",
         "2.7515414982794346",
         "1.0033150192218652",
         "1.6054001692619027",
         "-0.3043788656848372",
         "-0.7853837556606104",
         "-1.4012329079248962",
         "2.04959953158061",
         "-0.8735052304677888",
         "-0.024801200131702693",
         "-0.5846327232187217",
         "-1.254620949310512",
         "-0.7299223724648021"
        ],
        [
         "98",
         "-0.745310065106174",
         "-1.1435410914983233",
         "-0.9375072732587756",
         "-0.2827042601834796",
         "-0.8523572989938302",
         "1.9370287378568947",
         "1.7467905964186805",
         "-1.0016591259176204",
         "0.5879874409691687",
         "-0.24006834063914614",
         "0.35845961765460665",
         "0.24622670112833472",
         "-0.24860606665054186"
        ],
        [
         "159",
         "0.6129483747369879",
         "-0.6171785793661939",
         "1.0033150192218652",
         "0.8792061579367556",
         "-0.7838599948302061",
         "0.4892718048880482",
         "-0.9015466373941696",
         "1.1889881153631607",
         "1.172584509543952",
         "2.881305196718784",
         "-1.6563285651202309",
         "-1.1295503117739414",
         "-0.3813829785993033"
        ],
        [
         "38",
         "0.11124931137149602",
         "-0.7663146244702972",
         "-0.9375072732587756",
         "-1.154137073773656",
         "-0.1673842573575889",
         "0.17454203685134215",
         "0.6374870758404678",
         "-0.6887095200203657",
         "-0.40926638189369635",
         "-0.5844957654510556",
         "0.9586092891194513",
         "0.13505280109582748",
         "0.946386140888311"
        ],
        [
         "108",
         "-0.9288585029228157",
         "-0.9505415037165426",
         "-1.512565730290077",
         "-0.1374654579184502",
         "-0.5783680823393337",
         "0.11159608324400093",
         "0.03786355120359604",
         "0.1719018961970838",
         "0.81150984954188",
         "-1.0150300464659425",
         "-0.41316138851448014",
         "0.5936451387299196",
         "-1.4037652006047663"
        ],
        [
         "85",
         "-0.37821318947288657",
         "-1.2224954683181428",
         "-0.4343311233563868",
         "-0.427943062448509",
         "-0.09888695319396477",
         "-0.14018773118536323",
         "-0.062073702902549335",
         "-0.5322347170717389",
         "-0.2545200990356658",
         "-1.0494727889471336",
         "1.1729484574997533",
         "0.7881994637868073",
         "-0.9456848543815394"
        ],
        [
         "68",
         "0.44163649944145345",
         "-1.2575863024602847",
         "-0.0030372805829122756",
         "-0.7184206669785678",
         "0.6545833926059006",
         "0.37911638607520076",
         "-0.701672129181879",
         "1.4237003197861016",
         "-2.0426993676173555",
         "-0.8126789343889458",
         "0.2727239503024858",
         "-0.9210992492129905",
         "0.05014198523417133"
        ],
        [
         "143",
         "0.7842602500325202",
         "2.2602698202894476",
         "-0.03897843414736782",
         "0.1530121466116086",
         "-0.5783680823393337",
         "-0.4549174992220693",
         "-1.2013583997126056",
         "0.7978011079915923",
         "-1.0110574818971496",
         "-0.2831217687406347",
         "-0.19882222013417813",
         "-0.75433839916423",
         "-0.6137425745096358"
        ],
        [
         "2",
         "0.22137837406148184",
         "-0.011861690414245077",
         "1.1111384799152335",
         "-0.2536564997304733",
         "0.03810765513328348",
         "0.8040015729247536",
         "1.2371106004773398",
         "-0.5322347170717389",
         "2.066674143834797",
         "0.2679621109584203",
         "0.3155917839785462",
         "0.8020962012908704",
         "1.4940909026769518"
        ],
        [
         "100",
         "-1.10017037821835",
         "-0.25749752940923865",
         "-2.3751534158370284",
         "-0.5731818647135384",
         "-0.23588156152121303",
         "-0.09297826597985766",
         "0.1677819815415848",
         "-0.845184322968993",
         "-0.35768428760768645",
         "-0.7567094778570106",
         "1.3444197922039949",
         "0.5102647137055392",
         "-0.08263492671459009"
        ],
        [
         "122",
         "-0.6841272525006254",
         "1.8040889764416015",
         "1.3267854013019715",
         "2.0411165760569907",
         "0.10660495929690761",
         "-0.14018773118536323",
         "0.12780707989912665",
         "0.484851502094338",
         "0.17533068668108648",
         "-1.2819613006951724",
         "-0.15595438645811774",
         "0.7326125137705537",
         "-1.2278357922726573"
        ],
        [
         "154",
         "-0.4883422521628724",
         "-0.9505415037165426",
         "-0.9375072732587756",
         "0.1530121466116086",
         "0.17510226346053173",
         "-1.2732148961175045",
         "-1.4212203587461252",
         "1.2672255168374742",
         "-0.35768428760768645",
         "1.0945879305070032",
         "-1.6134607314441705",
         "-1.4491752743673993",
         "-0.31499452262492256"
        ],
        [
         "51",
         "1.041228062975822",
         "-0.634723996437265",
         "0.8595504049640399",
         "-0.6603251460725562",
         "-0.44137347401208543",
         "0.253224478860519",
         "0.9872674652119765",
         "-1.1581339288662476",
         "1.172584509543952",
         "0.23351936847722932",
         "1.2158162911758137",
         "1.0800309513721384",
         "1.7596447265744746"
        ],
        [
         "76",
         "0.06230306128705667",
         "-1.2926771366024268",
         "-2.339212262272572",
         "-1.0088982715086265",
         "-0.9893519073210785",
         "-0.5335999412312458",
         "0.027869825792981282",
         "-1.0016591259176204",
         "-0.2545200990356658",
         "-0.19701491253765763",
         "1.0014771227955117",
         "-0.15677868648950374",
         "-1.1382113767072435"
        ],
        [
         "56",
         "1.5184540012990952",
         "-0.5908604537595874",
         "-0.21868420196965033",
         "-0.9217549901496087",
         "1.2025618259148936",
         "1.4334611089981657",
         "0.9972611906225908",
         "-0.845184322968993",
         "0.7255396923985291",
         "0.5693361076688412",
         "-0.0702187191059974",
         "0.9966505263477581",
         "0.7804150009523592"
        ],
        [
         "26",
         "0.5028193120470021",
         "-0.5294514940108389",
         "0.9314327120929526",
         "-0.9798505110556203",
         "-0.5098707781757096",
         "0.8826840149339304",
         "0.9372988381589036",
         "-0.21928511117448413",
         "-0.2717141304643359",
         "-0.11090805633468015",
         "-0.15595438645811774",
         "0.8715798888111878",
         "1.5272851306641422"
        ],
        [
         "153",
         "0.30703431170924905",
         "0.812772911926091",
         "-0.290566509098563",
         "-0.2827042601834796",
         "-0.1673842573575889",
         "-0.769647267258775",
         "-1.171377223480762",
         "1.8931247286319828",
         "0.4504351895398082",
         "2.351748031070473",
         "-1.6991963987962908",
         "-1.504762224383653",
         "-0.19881472466975633"
        ],
        [
         "138",
         "0.6251849372580972",
         "1.0671814594566202",
         "-0.6140368911786692",
         "0.007773344346579222",
         "-0.8523572989938302",
         "-1.0529040584918101",
         "-1.5211576128522706",
         "1.6584125242090417",
         "-1.251773921898531",
         "0.27657279657871825",
         "-0.6275005568947817",
         "-1.0739633617576876",
         "-0.5141598905480647"
        ],
        [
         "104",
         "-0.5739981898106397",
         "-0.5645423281529809",
         "-1.3688011160322517",
         "0.298250948876638",
         "-1.0578492114847027",
         "-0.14018773118536323",
         "-0.08206115372377841",
         "-0.3757599141231115",
         "-0.22013203617832558",
         "-0.9117018190223698",
         "0.35845961765460665",
         "1.3579657014534061",
         "-0.20877299306591343"
        ],
        [
         "78",
         "-0.7942563151906112",
         "-1.2137227597826072",
         "-1.4766245767256208",
         "-1.357471396944697",
         "2.435513300860128",
         "-0.6122823832404223",
         "-0.15201723159807995",
         "-0.1410477097001709",
         "1.9807039866914458",
         "-0.7136560497555218",
         "0.44419528500672745",
         "-0.39302322405858137",
         "0.05014198523417133"
        ],
        [
         "36",
         "0.36821712431479553",
         "-0.6434967049728004",
         "1.7221380905109904",
         "-1.154137073773656",
         "0.6545833926059006",
         "0.4892718048880482",
         "0.677461977482926",
         "-0.21928511117448413",
         "-0.4264604133223665",
         "-0.19701491253765763",
         "0.5727987860349086",
         "0.26012343863239784",
         "0.48166694906764596"
        ],
        [
         "93",
         "-0.8432025652750506",
         "0.4004556107559232",
         "-0.5062134304852994",
         "-0.427943062448509",
         "-0.8523572989938302",
         "0.253224478860519",
         "0.24773178482650113",
         "-0.9234217244433067",
         "0.656763566683849",
         "-1.2518239010241305",
         "0.8300057880912701",
         "0.9827537888436944",
         "-1.476792502176585"
        ],
        [
         "22",
         "0.8943893127225082",
         "-0.4504971171910194",
         "-0.0030372805829122756",
         "-0.8346117087905909",
         "0.03810765513328348",
         "0.5050082932898832",
         "0.8773364856952164",
         "-0.7669469214946794",
         "0.14094262382374628",
         "-0.541442337349567",
         "0.6585344533870294",
         "1.9555254141281322",
         "0.9961774828690965"
        ],
        [
         "146",
         "1.1024108755813704",
         "2.339224197109267",
         "-0.4702722769208439",
         "0.1530121466116086",
         "-1.4003357323028232",
         "-2.0600393162092687",
         "-1.6610697686008737",
         "0.2501392976713975",
         "-1.5956545504719328",
         "-0.06785462823319123",
         "-1.6134607314441705",
         "-1.754903499456794",
         "-1.0618646523367057"
        ],
        [
         "97",
         "-0.8432025652750506",
         "-0.8452690012901167",
         "-1.3688011160322517",
         "-1.0088982715086265",
         "-1.0578492114847027",
         "0.4105893628788714",
         "0.4975749200918643",
         "-0.6104721185460524",
         "0.2784948752531071",
         "-0.9289231902629653",
         "1.1729484574997533",
         "0.20453648861614482",
         "-1.018712155953358"
        ],
        [
         "69",
         "-0.941095065443925",
         "-1.0382685890718975",
         "-2.1954476480147465",
         "-0.7765161878845793",
         "3.46297286331449",
         "-0.6909648252495985",
         "-0.7216595800031081",
         "-1.7840331406607561",
         "1.5336591695460238",
         "-0.9504499043137096",
         "1.3872876258800553",
         "0.6631288262502363",
         "-0.056079544324837804"
        ],
        [
         "167",
         "-0.19466475165624283",
         "0.8741818716748397",
         "-0.21868420196965033",
         "0.007773344346579222",
         "-0.8523572989938302",
         "-1.2732148961175045",
         "-1.3412705554612088",
         "0.2501392976713975",
         "-1.0970276390405003",
         "2.2398091180066024",
         "-1.0133110599793254",
         "-1.1712405242861315",
         "-0.16562049668256598"
        ],
        [
         "11",
         "1.3960883760879979",
         "-0.7838600415413682",
         "-0.14680189484073763",
         "-0.7765161878845793",
         "-0.3728761698484613",
         "-0.14018773118536323",
         "0.4276188422175628",
         "-0.845184322968993",
         "-0.06538575332029463",
         "-0.024801200131702693",
         "0.9157414554433909",
         "0.3157103886486515",
         "1.8094360685552602"
        ],
        [
         "6",
         "1.7264755641579574",
         "-0.44172440865548396",
         "0.3204331014971956",
         "-1.415566917850709",
         "-0.3043788656848372",
         "0.3319069208696952",
         "0.5175623709130934",
         "-0.5322347170717389",
         "0.639569535255179",
         "0.08283237012201904",
         "0.2727239503024858",
         "1.3718624389574698",
         "1.8426302965424506"
        ],
        [
         "27",
         "0.3926902493570163",
         "-0.5733150366885165",
         "-0.7937426590009502",
         "-0.7184206669785678",
         "-0.44137347401208543",
         "0.17454203685134215",
         "0.18776943236281388",
         "-0.7669469214946794",
         "-0.4436544447510366",
         "-0.4768621951973339",
         "0.2727239503024858",
         "0.24622670112833472",
         "1.8260331825488554"
        ],
        [
         "144",
         "-0.8921488153594878",
         "1.3215900069871496",
         "-0.5780957376142122",
         "-0.2827042601834796",
         "0.7915780009331489",
         "-1.4305797801358575",
         "-1.2213458505338346",
         "-0.6104721185460524",
         "-0.8047291047531088",
         "1.3572138419260846",
         "-1.3133858957117477",
         "-0.8238220866845467",
         "0.39868137909967005"
        ],
        [
         "4",
         "0.3192708742303583",
         "0.1899106059030712",
         "1.8299615512043603",
         "0.44348975114166744",
         "1.2025618259148936",
         "0.8040015729247536",
         "0.6874557028935403",
         "0.1719018961970838",
         "0.36446503239645767",
         "-0.31756451122182566",
         "0.35845961765460665",
         "0.46857450119334926",
         "0.0003506432533857977"
        ],
        [
         "32",
         "0.8576796251591782",
         "-0.47681524279762594",
         "-0.0030372805829122756",
         "-0.6603251460725562",
         "0.24359956762415585",
         "0.20601501365501276",
         "0.6874557028935403",
         "0.40661410062002434",
         "0.6223755038265089",
         "-0.5242209661089716",
         "1.1729484574997533",
         "0.3851940761689688",
         "0.8468034569267399"
        ],
        [
         "95",
         "-0.6229444398950768",
         "-0.7487692073992263",
         "-0.5780957376142122",
         "-0.1374654579184502",
         "4.216443209114355",
         "0.3319069208696952",
         "0.2677192356477302",
         "-0.3757599141231115",
         "2.8747936209822904",
         "-1.0580834745674312",
         "0.8728736217673305",
         "0.05167237607144704",
         "0.670874048594631"
        ],
        [
         "170",
         "-0.9533316279650365",
         "0.5759097814666327",
         "-0.14680189484073763",
         "-0.1374654579184502",
         "-0.3043788656848372",
         "-1.635154129359716",
         "-1.511163887441656",
         "0.2501392976713975",
         "-1.5096843933285824",
         "0.19046594037574077",
         "-1.2705180620356873",
         "-1.0600666242536243",
         "-0.7465194864583972"
        ],
        [
         "75",
         "-1.6141060041049513",
         "-0.43295170011994866",
         "-1.5844480374189898",
         "-1.0088982715086265",
         "-0.23588156152121303",
         "-1.0686405468936455",
         "-0.4318415430952868",
         "-0.21928511117448413",
         "-0.7875350733244387",
         "-0.541442337349567",
         "1.1729484574997533",
         "-0.629267761627659",
         "-1.018712155953358"
        ],
        [
         "10",
         "1.3716152510457793",
         "-0.18731586112495466",
         "-0.21868420196965033",
         "-0.427943062448509",
         "0.31209687178778",
         "1.0400488989522836",
         "1.3170604037622555",
         "-1.1581339288662476",
         "1.3273307924019824",
         "0.2980995106294625",
         "1.258684124851874",
         "0.8020962012908704",
         "2.5729033122606384"
        ],
        [
         "147",
         "-0.13348193905069636",
         "1.9619977300812408",
         "0.4282565621905638",
         "0.5887285534066968",
         "-0.9893519073210785",
         "-0.9270121512771281",
         "-1.3512642808718236",
         "0.7978011079915923",
         "-1.2861619847558712",
         "1.116114644557748",
         "-1.7849320661484116",
         "-1.018376411741434",
         "-0.3647858646057081"
        ],
        [
         "123",
         "0.08677618632927743",
         "3.0059500458099637",
         "-0.8296838125654074",
         "0.5887285534066968",
         "-0.9893519073210785",
         "0.5207447816917188",
         "0.6474808012510822",
         "-0.5322347170717389",
         "0.6911516295411889",
         "-1.0580834745674312",
         "-0.970443226303265",
         "0.7048190387624269",
         "-1.1780444502918719"
        ],
        [
         "0",
         "1.5306905638202044",
         "-0.5820877452240519",
         "0.2485507943682829",
         "-1.1250893133206503",
         "1.8190375633875109",
         "0.8040015729247536",
         "1.057223543086278",
         "-0.6887095200203657",
         "1.172584509543952",
         "0.2507407397178248",
         "0.35845961765460665",
         "1.844351514095625",
         "1.0957601668306676"
        ],
        [
         "142",
         "0.6618946248214251",
         "0.6987277009641297",
         "1.290844247737516",
         "1.1696837624668144",
         "-0.23588156152121303",
         "-1.1630594773046572",
         "-1.4811827112098124",
         "1.0325133124145334",
         "-1.819176959044644",
         "-0.30464848279137935",
         "-0.28455788748629895",
         "-0.7404416616601662",
         "-0.7133252584712069"
        ],
        [
         "126",
         "-0.6718906899795162",
         "-0.7399964988636907",
         "-0.25462535553410587",
         "0.5887285534066968",
         "-0.9893519073210785",
         "0.7095826425137425",
         "1.1471670717818085",
         "0.1719018961970838",
         "0.2784948752531071",
         "-0.48116753800748285",
         "-1.1419145610075065",
         "0.34350386365677826",
         "-1.2709882886560049"
        ],
        [
         "64",
         "-0.9900413155283643",
         "-0.8101781671479747",
         "0.6079623300128447",
         "-0.1374654579184502",
         "0.24359956762415585",
         "-0.6280188716422577",
         "-0.25195448570422535",
         "0.6413263050429654",
         "-0.9938634504684796",
         "-0.9073964762122209",
         "2.1160407983730813",
         "-0.5041971240910886",
         "-1.2610300202598477"
        ],
        [
         "44",
         "0.08677618632927743",
         "-0.5294514940108389",
         "-0.9375072732587756",
         "-0.7184206669785678",
         "0.44909148011502825",
         "1.1187313409614597",
         "0.9972611906225908",
         "-0.6887095200203657",
         "0.7255396923985291",
         "-0.007579828891107202",
         "-0.32742572116235935",
         "1.0522374763640117",
         "0.4982640630612411"
        ],
        [
         "96",
         "-1.4305575662883074",
         "-0.22240669526709667",
         "1.3627265548664287",
         "0.5887285534066968",
         "2.2985186925328795",
         "-1.0843770352954807",
         "-1.0114776169109296",
         "-1.7840331406607561",
         "-0.08257978474896473",
         "-1.10113690266892",
         "-0.027350885429937005",
         "-0.4625069115788987",
         "-0.3647858646057081"
        ],
        [
         "28",
         "1.090174313060259",
         "-0.41540628304887767",
         "1.5783734762531652",
         "-0.021274416106427073",
         "0.44909148011502825",
         "1.0400488989522836",
         "0.9672800143907474",
         "0.015427093248456442",
         "0.261300843824437",
         "-0.24006834063914614",
         "1.258684124851874",
         "1.1217211638843285",
         "0.5978467470228122"
        ],
        [
         "40",
         "0.7108408749058645",
         "-0.5820877452240519",
         "-0.18274304840519318",
         "-0.950802750602615",
         "1.1340645217512695",
         "1.354778666988989",
         "1.2870792275304122",
         "-0.21928511117448413",
         "1.258554666687302",
         "0.46170253741511946",
         "-0.027350885429937005",
         "1.0939276888762017",
         "0.19951601117652792"
        ],
        [
         "127",
         "-1.4550306913305282",
         "-0.21363398673156136",
         "1.5064911691242524",
         "2.6220717851171083",
         "-0.5783680823393337",
         "-0.2503431499982107",
         "0.2377380594158868",
         "1.6584125242090417",
         "0.261300843824437",
         "-0.8858697621614765",
         "0.058384781922183805",
         "-0.21236563650575738",
         "-0.8925740896020348"
        ],
        [
         "25",
         "0.08677618632927743",
         "-0.2838156550158454",
         "3.0879019259603315",
         "1.6054001692619027",
         "1.6135456508966384",
         "0.5364812700935537",
         "0.677461977482926",
         "0.7978011079915923",
         "0.5364053466831583",
         "-0.6361598791728421",
         "0.7442701207391493",
         "0.843786413803061",
         "0.31569580913169415"
        ]
       ],
       "shape": {
        "columns": 13,
        "rows": 142
       }
      },
      "text/html": [
       "<div>\n",
       "<style scoped>\n",
       "    .dataframe tbody tr th:only-of-type {\n",
       "        vertical-align: middle;\n",
       "    }\n",
       "\n",
       "    .dataframe tbody tr th {\n",
       "        vertical-align: top;\n",
       "    }\n",
       "\n",
       "    .dataframe thead th {\n",
       "        text-align: right;\n",
       "    }\n",
       "</style>\n",
       "<table border=\"1\" class=\"dataframe\">\n",
       "  <thead>\n",
       "    <tr style=\"text-align: right;\">\n",
       "      <th></th>\n",
       "      <th>scale__alcohol</th>\n",
       "      <th>scale__malic_acid</th>\n",
       "      <th>scale__ash</th>\n",
       "      <th>scale__alcalinity_of_ash</th>\n",
       "      <th>scale__magnesium</th>\n",
       "      <th>scale__total_phenols</th>\n",
       "      <th>scale__flavanoids</th>\n",
       "      <th>scale__nonflavanoid_phenols</th>\n",
       "      <th>scale__proanthocyanins</th>\n",
       "      <th>scale__color_intensity</th>\n",
       "      <th>scale__hue</th>\n",
       "      <th>scale__od280/od315_of_diluted_wines</th>\n",
       "      <th>scale__proline</th>\n",
       "    </tr>\n",
       "  </thead>\n",
       "  <tbody>\n",
       "    <tr>\n",
       "      <th>158</th>\n",
       "      <td>1.665293</td>\n",
       "      <td>-0.608406</td>\n",
       "      <td>1.218962</td>\n",
       "      <td>1.605400</td>\n",
       "      <td>-0.167384</td>\n",
       "      <td>0.804002</td>\n",
       "      <td>-0.691678</td>\n",
       "      <td>1.267226</td>\n",
       "      <td>1.877540</td>\n",
       "      <td>3.419473</td>\n",
       "      <td>-1.656329</td>\n",
       "      <td>-0.879409</td>\n",
       "      <td>-0.248606</td>\n",
       "    </tr>\n",
       "    <tr>\n",
       "      <th>137</th>\n",
       "      <td>-0.549525</td>\n",
       "      <td>2.751541</td>\n",
       "      <td>1.003315</td>\n",
       "      <td>1.605400</td>\n",
       "      <td>-0.304379</td>\n",
       "      <td>-0.785384</td>\n",
       "      <td>-1.401233</td>\n",
       "      <td>2.049600</td>\n",
       "      <td>-0.873505</td>\n",
       "      <td>-0.024801</td>\n",
       "      <td>-0.584633</td>\n",
       "      <td>-1.254621</td>\n",
       "      <td>-0.729922</td>\n",
       "    </tr>\n",
       "    <tr>\n",
       "      <th>98</th>\n",
       "      <td>-0.745310</td>\n",
       "      <td>-1.143541</td>\n",
       "      <td>-0.937507</td>\n",
       "      <td>-0.282704</td>\n",
       "      <td>-0.852357</td>\n",
       "      <td>1.937029</td>\n",
       "      <td>1.746791</td>\n",
       "      <td>-1.001659</td>\n",
       "      <td>0.587987</td>\n",
       "      <td>-0.240068</td>\n",
       "      <td>0.358460</td>\n",
       "      <td>0.246227</td>\n",
       "      <td>-0.248606</td>\n",
       "    </tr>\n",
       "    <tr>\n",
       "      <th>159</th>\n",
       "      <td>0.612948</td>\n",
       "      <td>-0.617179</td>\n",
       "      <td>1.003315</td>\n",
       "      <td>0.879206</td>\n",
       "      <td>-0.783860</td>\n",
       "      <td>0.489272</td>\n",
       "      <td>-0.901547</td>\n",
       "      <td>1.188988</td>\n",
       "      <td>1.172585</td>\n",
       "      <td>2.881305</td>\n",
       "      <td>-1.656329</td>\n",
       "      <td>-1.129550</td>\n",
       "      <td>-0.381383</td>\n",
       "    </tr>\n",
       "    <tr>\n",
       "      <th>38</th>\n",
       "      <td>0.111249</td>\n",
       "      <td>-0.766315</td>\n",
       "      <td>-0.937507</td>\n",
       "      <td>-1.154137</td>\n",
       "      <td>-0.167384</td>\n",
       "      <td>0.174542</td>\n",
       "      <td>0.637487</td>\n",
       "      <td>-0.688710</td>\n",
       "      <td>-0.409266</td>\n",
       "      <td>-0.584496</td>\n",
       "      <td>0.958609</td>\n",
       "      <td>0.135053</td>\n",
       "      <td>0.946386</td>\n",
       "    </tr>\n",
       "    <tr>\n",
       "      <th>...</th>\n",
       "      <td>...</td>\n",
       "      <td>...</td>\n",
       "      <td>...</td>\n",
       "      <td>...</td>\n",
       "      <td>...</td>\n",
       "      <td>...</td>\n",
       "      <td>...</td>\n",
       "      <td>...</td>\n",
       "      <td>...</td>\n",
       "      <td>...</td>\n",
       "      <td>...</td>\n",
       "      <td>...</td>\n",
       "      <td>...</td>\n",
       "    </tr>\n",
       "    <tr>\n",
       "      <th>71</th>\n",
       "      <td>1.077938</td>\n",
       "      <td>-0.757542</td>\n",
       "      <td>1.111138</td>\n",
       "      <td>1.605400</td>\n",
       "      <td>-0.989352</td>\n",
       "      <td>1.040049</td>\n",
       "      <td>0.857349</td>\n",
       "      <td>-1.236371</td>\n",
       "      <td>0.450435</td>\n",
       "      <td>-0.722267</td>\n",
       "      <td>1.730230</td>\n",
       "      <td>0.788199</td>\n",
       "      <td>-1.078462</td>\n",
       "    </tr>\n",
       "    <tr>\n",
       "      <th>106</th>\n",
       "      <td>-0.892149</td>\n",
       "      <td>-0.564542</td>\n",
       "      <td>-0.865625</td>\n",
       "      <td>-0.137465</td>\n",
       "      <td>-1.400336</td>\n",
       "      <td>-1.005695</td>\n",
       "      <td>0.027870</td>\n",
       "      <td>0.015427</td>\n",
       "      <td>0.037778</td>\n",
       "      <td>-0.713656</td>\n",
       "      <td>0.186988</td>\n",
       "      <td>0.802096</td>\n",
       "      <td>-0.746519</td>\n",
       "    </tr>\n",
       "    <tr>\n",
       "      <th>14</th>\n",
       "      <td>1.714239</td>\n",
       "      <td>-0.441724</td>\n",
       "      <td>0.068845</td>\n",
       "      <td>-2.170809</td>\n",
       "      <td>0.106605</td>\n",
       "      <td>1.590826</td>\n",
       "      <td>1.636860</td>\n",
       "      <td>-0.610472</td>\n",
       "      <td>2.324585</td>\n",
       "      <td>1.051535</td>\n",
       "      <td>1.044345</td>\n",
       "      <td>0.565852</td>\n",
       "      <td>2.695722</td>\n",
       "    </tr>\n",
       "    <tr>\n",
       "      <th>92</th>\n",
       "      <td>-0.353740</td>\n",
       "      <td>-0.739996</td>\n",
       "      <td>-0.362449</td>\n",
       "      <td>0.356346</td>\n",
       "      <td>-1.400336</td>\n",
       "      <td>-1.430580</td>\n",
       "      <td>-0.541773</td>\n",
       "      <td>1.658413</td>\n",
       "      <td>0.020584</td>\n",
       "      <td>-0.864343</td>\n",
       "      <td>0.015517</td>\n",
       "      <td>-0.740442</td>\n",
       "      <td>-0.796311</td>\n",
       "    </tr>\n",
       "    <tr>\n",
       "      <th>102</th>\n",
       "      <td>-0.782020</td>\n",
       "      <td>0.067093</td>\n",
       "      <td>0.356374</td>\n",
       "      <td>0.443490</td>\n",
       "      <td>-0.167384</td>\n",
       "      <td>0.426326</td>\n",
       "      <td>0.107820</td>\n",
       "      <td>-0.219285</td>\n",
       "      <td>-0.512431</td>\n",
       "      <td>-0.971977</td>\n",
       "      <td>-0.670368</td>\n",
       "      <td>1.093928</td>\n",
       "      <td>-0.985518</td>\n",
       "    </tr>\n",
       "  </tbody>\n",
       "</table>\n",
       "<p>142 rows × 13 columns</p>\n",
       "</div>"
      ],
      "text/plain": [
       "     scale__alcohol  scale__malic_acid  scale__ash  scale__alcalinity_of_ash  \\\n",
       "158        1.665293          -0.608406    1.218962                  1.605400   \n",
       "137       -0.549525           2.751541    1.003315                  1.605400   \n",
       "98        -0.745310          -1.143541   -0.937507                 -0.282704   \n",
       "159        0.612948          -0.617179    1.003315                  0.879206   \n",
       "38         0.111249          -0.766315   -0.937507                 -1.154137   \n",
       "..              ...                ...         ...                       ...   \n",
       "71         1.077938          -0.757542    1.111138                  1.605400   \n",
       "106       -0.892149          -0.564542   -0.865625                 -0.137465   \n",
       "14         1.714239          -0.441724    0.068845                 -2.170809   \n",
       "92        -0.353740          -0.739996   -0.362449                  0.356346   \n",
       "102       -0.782020           0.067093    0.356374                  0.443490   \n",
       "\n",
       "     scale__magnesium  scale__total_phenols  scale__flavanoids  \\\n",
       "158         -0.167384              0.804002          -0.691678   \n",
       "137         -0.304379             -0.785384          -1.401233   \n",
       "98          -0.852357              1.937029           1.746791   \n",
       "159         -0.783860              0.489272          -0.901547   \n",
       "38          -0.167384              0.174542           0.637487   \n",
       "..                ...                   ...                ...   \n",
       "71          -0.989352              1.040049           0.857349   \n",
       "106         -1.400336             -1.005695           0.027870   \n",
       "14           0.106605              1.590826           1.636860   \n",
       "92          -1.400336             -1.430580          -0.541773   \n",
       "102         -0.167384              0.426326           0.107820   \n",
       "\n",
       "     scale__nonflavanoid_phenols  scale__proanthocyanins  \\\n",
       "158                     1.267226                1.877540   \n",
       "137                     2.049600               -0.873505   \n",
       "98                     -1.001659                0.587987   \n",
       "159                     1.188988                1.172585   \n",
       "38                     -0.688710               -0.409266   \n",
       "..                           ...                     ...   \n",
       "71                     -1.236371                0.450435   \n",
       "106                     0.015427                0.037778   \n",
       "14                     -0.610472                2.324585   \n",
       "92                      1.658413                0.020584   \n",
       "102                    -0.219285               -0.512431   \n",
       "\n",
       "     scale__color_intensity  scale__hue  scale__od280/od315_of_diluted_wines  \\\n",
       "158                3.419473   -1.656329                            -0.879409   \n",
       "137               -0.024801   -0.584633                            -1.254621   \n",
       "98                -0.240068    0.358460                             0.246227   \n",
       "159                2.881305   -1.656329                            -1.129550   \n",
       "38                -0.584496    0.958609                             0.135053   \n",
       "..                      ...         ...                                  ...   \n",
       "71                -0.722267    1.730230                             0.788199   \n",
       "106               -0.713656    0.186988                             0.802096   \n",
       "14                 1.051535    1.044345                             0.565852   \n",
       "92                -0.864343    0.015517                            -0.740442   \n",
       "102               -0.971977   -0.670368                             1.093928   \n",
       "\n",
       "     scale__proline  \n",
       "158       -0.248606  \n",
       "137       -0.729922  \n",
       "98        -0.248606  \n",
       "159       -0.381383  \n",
       "38         0.946386  \n",
       "..              ...  \n",
       "71        -1.078462  \n",
       "106       -0.746519  \n",
       "14         2.695722  \n",
       "92        -0.796311  \n",
       "102       -0.985518  \n",
       "\n",
       "[142 rows x 13 columns]"
      ]
     },
     "execution_count": 730,
     "metadata": {},
     "output_type": "execute_result"
    }
   ],
   "source": [
    "train_preprocessed = preprocessing.fit_transform(X_train, y_train)\n",
    "\n",
    "tmp_df = pd.DataFrame(train_preprocessed, columns=preprocessing.get_feature_names_out(), index=X_train.index)\n",
    "tmp_df"
   ]
  },
  {
   "cell_type": "markdown",
   "id": "46881333",
   "metadata": {},
   "source": [
    "## Train an SVM Classifier"
   ]
  },
  {
   "cell_type": "markdown",
   "id": "0bcac24b",
   "metadata": {},
   "source": [
    "We know that SVM Classifiers cannot natively do multiclass classification, only true/false.\n",
    "So we have to compose our own.\n",
    "\n",
    "In this case we don't have that many feature columns and even less instances. Let's start with `LinearSVC`"
   ]
  },
  {
   "cell_type": "code",
   "execution_count": 731,
   "id": "58fc4313",
   "metadata": {},
   "outputs": [
    {
     "data": {
      "text/html": [
       "<style>#sk-container-id-126 {color: black;}#sk-container-id-126 pre{padding: 0;}#sk-container-id-126 div.sk-toggleable {background-color: white;}#sk-container-id-126 label.sk-toggleable__label {cursor: pointer;display: block;width: 100%;margin-bottom: 0;padding: 0.3em;box-sizing: border-box;text-align: center;}#sk-container-id-126 label.sk-toggleable__label-arrow:before {content: \"▸\";float: left;margin-right: 0.25em;color: #696969;}#sk-container-id-126 label.sk-toggleable__label-arrow:hover:before {color: black;}#sk-container-id-126 div.sk-estimator:hover label.sk-toggleable__label-arrow:before {color: black;}#sk-container-id-126 div.sk-toggleable__content {max-height: 0;max-width: 0;overflow: hidden;text-align: left;background-color: #f0f8ff;}#sk-container-id-126 div.sk-toggleable__content pre {margin: 0.2em;color: black;border-radius: 0.25em;background-color: #f0f8ff;}#sk-container-id-126 input.sk-toggleable__control:checked~div.sk-toggleable__content {max-height: 200px;max-width: 100%;overflow: auto;}#sk-container-id-126 input.sk-toggleable__control:checked~label.sk-toggleable__label-arrow:before {content: \"▾\";}#sk-container-id-126 div.sk-estimator input.sk-toggleable__control:checked~label.sk-toggleable__label {background-color: #d4ebff;}#sk-container-id-126 div.sk-label input.sk-toggleable__control:checked~label.sk-toggleable__label {background-color: #d4ebff;}#sk-container-id-126 input.sk-hidden--visually {border: 0;clip: rect(1px 1px 1px 1px);clip: rect(1px, 1px, 1px, 1px);height: 1px;margin: -1px;overflow: hidden;padding: 0;position: absolute;width: 1px;}#sk-container-id-126 div.sk-estimator {font-family: monospace;background-color: #f0f8ff;border: 1px dotted black;border-radius: 0.25em;box-sizing: border-box;margin-bottom: 0.5em;}#sk-container-id-126 div.sk-estimator:hover {background-color: #d4ebff;}#sk-container-id-126 div.sk-parallel-item::after {content: \"\";width: 100%;border-bottom: 1px solid gray;flex-grow: 1;}#sk-container-id-126 div.sk-label:hover label.sk-toggleable__label {background-color: #d4ebff;}#sk-container-id-126 div.sk-serial::before {content: \"\";position: absolute;border-left: 1px solid gray;box-sizing: border-box;top: 0;bottom: 0;left: 50%;z-index: 0;}#sk-container-id-126 div.sk-serial {display: flex;flex-direction: column;align-items: center;background-color: white;padding-right: 0.2em;padding-left: 0.2em;position: relative;}#sk-container-id-126 div.sk-item {position: relative;z-index: 1;}#sk-container-id-126 div.sk-parallel {display: flex;align-items: stretch;justify-content: center;background-color: white;position: relative;}#sk-container-id-126 div.sk-item::before, #sk-container-id-126 div.sk-parallel-item::before {content: \"\";position: absolute;border-left: 1px solid gray;box-sizing: border-box;top: 0;bottom: 0;left: 50%;z-index: -1;}#sk-container-id-126 div.sk-parallel-item {display: flex;flex-direction: column;z-index: 1;position: relative;background-color: white;}#sk-container-id-126 div.sk-parallel-item:first-child::after {align-self: flex-end;width: 50%;}#sk-container-id-126 div.sk-parallel-item:last-child::after {align-self: flex-start;width: 50%;}#sk-container-id-126 div.sk-parallel-item:only-child::after {width: 0;}#sk-container-id-126 div.sk-dashed-wrapped {border: 1px dashed gray;margin: 0 0.4em 0.5em 0.4em;box-sizing: border-box;padding-bottom: 0.4em;background-color: white;}#sk-container-id-126 div.sk-label label {font-family: monospace;font-weight: bold;display: inline-block;line-height: 1.2em;}#sk-container-id-126 div.sk-label-container {text-align: center;}#sk-container-id-126 div.sk-container {/* jupyter's `normalize.less` sets `[hidden] { display: none; }` but bootstrap.min.css set `[hidden] { display: none !important; }` so we also need the `!important` here to be able to override the default hidden behavior on the sphinx rendered scikit-learn.org. See: https://github.com/scikit-learn/scikit-learn/issues/21755 */display: inline-block !important;position: relative;}#sk-container-id-126 div.sk-text-repr-fallback {display: none;}</style><div id=\"sk-container-id-126\" class=\"sk-top-container\"><div class=\"sk-text-repr-fallback\"><pre>Pipeline(steps=[(&#x27;columntransformer&#x27;,\n",
       "                 ColumnTransformer(transformers=[(&#x27;scale&#x27;, StandardScaler(),\n",
       "                                                  [&#x27;alcohol&#x27;, &#x27;malic_acid&#x27;,\n",
       "                                                   &#x27;ash&#x27;, &#x27;alcalinity_of_ash&#x27;,\n",
       "                                                   &#x27;magnesium&#x27;, &#x27;total_phenols&#x27;,\n",
       "                                                   &#x27;flavanoids&#x27;,\n",
       "                                                   &#x27;nonflavanoid_phenols&#x27;,\n",
       "                                                   &#x27;proanthocyanins&#x27;,\n",
       "                                                   &#x27;color_intensity&#x27;, &#x27;hue&#x27;,\n",
       "                                                   &#x27;od280/od315_of_diluted_wines&#x27;,\n",
       "                                                   &#x27;proline&#x27;])])),\n",
       "                (&#x27;linearsvc&#x27;,\n",
       "                 LinearSVC(dual=True, random_state=42, tol=1e-05))])</pre><b>In a Jupyter environment, please rerun this cell to show the HTML representation or trust the notebook. <br />On GitHub, the HTML representation is unable to render, please try loading this page with nbviewer.org.</b></div><div class=\"sk-container\" hidden><div class=\"sk-item sk-dashed-wrapped\"><div class=\"sk-label-container\"><div class=\"sk-label sk-toggleable\"><input class=\"sk-toggleable__control sk-hidden--visually\" id=\"sk-estimator-id-523\" type=\"checkbox\" ><label for=\"sk-estimator-id-523\" class=\"sk-toggleable__label sk-toggleable__label-arrow\">Pipeline</label><div class=\"sk-toggleable__content\"><pre>Pipeline(steps=[(&#x27;columntransformer&#x27;,\n",
       "                 ColumnTransformer(transformers=[(&#x27;scale&#x27;, StandardScaler(),\n",
       "                                                  [&#x27;alcohol&#x27;, &#x27;malic_acid&#x27;,\n",
       "                                                   &#x27;ash&#x27;, &#x27;alcalinity_of_ash&#x27;,\n",
       "                                                   &#x27;magnesium&#x27;, &#x27;total_phenols&#x27;,\n",
       "                                                   &#x27;flavanoids&#x27;,\n",
       "                                                   &#x27;nonflavanoid_phenols&#x27;,\n",
       "                                                   &#x27;proanthocyanins&#x27;,\n",
       "                                                   &#x27;color_intensity&#x27;, &#x27;hue&#x27;,\n",
       "                                                   &#x27;od280/od315_of_diluted_wines&#x27;,\n",
       "                                                   &#x27;proline&#x27;])])),\n",
       "                (&#x27;linearsvc&#x27;,\n",
       "                 LinearSVC(dual=True, random_state=42, tol=1e-05))])</pre></div></div></div><div class=\"sk-serial\"><div class=\"sk-item sk-dashed-wrapped\"><div class=\"sk-label-container\"><div class=\"sk-label sk-toggleable\"><input class=\"sk-toggleable__control sk-hidden--visually\" id=\"sk-estimator-id-524\" type=\"checkbox\" ><label for=\"sk-estimator-id-524\" class=\"sk-toggleable__label sk-toggleable__label-arrow\">columntransformer: ColumnTransformer</label><div class=\"sk-toggleable__content\"><pre>ColumnTransformer(transformers=[(&#x27;scale&#x27;, StandardScaler(),\n",
       "                                 [&#x27;alcohol&#x27;, &#x27;malic_acid&#x27;, &#x27;ash&#x27;,\n",
       "                                  &#x27;alcalinity_of_ash&#x27;, &#x27;magnesium&#x27;,\n",
       "                                  &#x27;total_phenols&#x27;, &#x27;flavanoids&#x27;,\n",
       "                                  &#x27;nonflavanoid_phenols&#x27;, &#x27;proanthocyanins&#x27;,\n",
       "                                  &#x27;color_intensity&#x27;, &#x27;hue&#x27;,\n",
       "                                  &#x27;od280/od315_of_diluted_wines&#x27;, &#x27;proline&#x27;])])</pre></div></div></div><div class=\"sk-parallel\"><div class=\"sk-parallel-item\"><div class=\"sk-item\"><div class=\"sk-label-container\"><div class=\"sk-label sk-toggleable\"><input class=\"sk-toggleable__control sk-hidden--visually\" id=\"sk-estimator-id-525\" type=\"checkbox\" ><label for=\"sk-estimator-id-525\" class=\"sk-toggleable__label sk-toggleable__label-arrow\">scale</label><div class=\"sk-toggleable__content\"><pre>[&#x27;alcohol&#x27;, &#x27;malic_acid&#x27;, &#x27;ash&#x27;, &#x27;alcalinity_of_ash&#x27;, &#x27;magnesium&#x27;, &#x27;total_phenols&#x27;, &#x27;flavanoids&#x27;, &#x27;nonflavanoid_phenols&#x27;, &#x27;proanthocyanins&#x27;, &#x27;color_intensity&#x27;, &#x27;hue&#x27;, &#x27;od280/od315_of_diluted_wines&#x27;, &#x27;proline&#x27;]</pre></div></div></div><div class=\"sk-serial\"><div class=\"sk-item\"><div class=\"sk-estimator sk-toggleable\"><input class=\"sk-toggleable__control sk-hidden--visually\" id=\"sk-estimator-id-526\" type=\"checkbox\" ><label for=\"sk-estimator-id-526\" class=\"sk-toggleable__label sk-toggleable__label-arrow\">StandardScaler</label><div class=\"sk-toggleable__content\"><pre>StandardScaler()</pre></div></div></div></div></div></div></div></div><div class=\"sk-item\"><div class=\"sk-estimator sk-toggleable\"><input class=\"sk-toggleable__control sk-hidden--visually\" id=\"sk-estimator-id-527\" type=\"checkbox\" ><label for=\"sk-estimator-id-527\" class=\"sk-toggleable__label sk-toggleable__label-arrow\">LinearSVC</label><div class=\"sk-toggleable__content\"><pre>LinearSVC(dual=True, random_state=42, tol=1e-05)</pre></div></div></div></div></div></div></div>"
      ],
      "text/plain": [
       "Pipeline(steps=[('columntransformer',\n",
       "                 ColumnTransformer(transformers=[('scale', StandardScaler(),\n",
       "                                                  ['alcohol', 'malic_acid',\n",
       "                                                   'ash', 'alcalinity_of_ash',\n",
       "                                                   'magnesium', 'total_phenols',\n",
       "                                                   'flavanoids',\n",
       "                                                   'nonflavanoid_phenols',\n",
       "                                                   'proanthocyanins',\n",
       "                                                   'color_intensity', 'hue',\n",
       "                                                   'od280/od315_of_diluted_wines',\n",
       "                                                   'proline'])])),\n",
       "                ('linearsvc',\n",
       "                 LinearSVC(dual=True, random_state=42, tol=1e-05))])"
      ]
     },
     "execution_count": 731,
     "metadata": {},
     "output_type": "execute_result"
    }
   ],
   "source": [
    "from sklearn.pipeline import make_pipeline\n",
    "\n",
    "# https://scikit-learn.org/stable/modules/generated/sklearn.svm.LinearSVC.html#sklearn.svm.LinearSVC\n",
    "#\n",
    "# > This class supports both dense and sparse input and the multiclass support\n",
    "#   is handled according to a one-vs-the-rest scheme.\n",
    "#\n",
    "# ... fair enough, so we already have the OvR scheme here\n",
    "\n",
    "pipeline_linearsvc = make_pipeline(\n",
    "    preprocessing,\n",
    "    LinearSVC(C=1.0, tol=1e-5, dual=True, random_state=RANDOM_SEED)\n",
    ")\n",
    "\n",
    "pipeline_linearsvc.fit(X_train, y_train)"
   ]
  },
  {
   "cell_type": "markdown",
   "id": "90173d40",
   "metadata": {},
   "source": [
    "Compare?"
   ]
  },
  {
   "cell_type": "code",
   "execution_count": 732,
   "id": "157c9dd0",
   "metadata": {},
   "outputs": [],
   "source": [
    "NUM_TO_COMPARE = 10\n",
    "\n",
    "def compare_train_pred(X_train: pd.DataFrame, y_train: pd.DataFrame, pipeline: Pipeline, num: int = NUM_TO_COMPARE):\n",
    "    print(\"Train\")\n",
    "    expected = y_train[:num].to_numpy()\n",
    "    print(expected)\n",
    "    print(\"Predict\")\n",
    "    res = pipeline.predict(X_train[:num])\n",
    "    print(res)\n",
    "    print(\"[\" + ' '.join(['☑' if match else 'x' for match in (res == expected)]) + \"]\")"
   ]
  },
  {
   "cell_type": "code",
   "execution_count": 733,
   "id": "afcfc68d",
   "metadata": {},
   "outputs": [
    {
     "name": "stdout",
     "output_type": "stream",
     "text": [
      "Train\n",
      "[2 2 1 2 0 1 1 1 2 0]\n",
      "Predict\n",
      "[2 2 1 2 0 1 1 1 2 0]\n",
      "[☑ ☑ ☑ ☑ ☑ ☑ ☑ ☑ ☑ ☑]\n"
     ]
    }
   ],
   "source": [
    "compare_train_pred(X_train, y_train, pipeline_linearsvc, num=NUM_TO_COMPARE)"
   ]
  },
  {
   "cell_type": "markdown",
   "id": "31053e3b",
   "metadata": {},
   "source": [
    "What's the accuracy?"
   ]
  },
  {
   "cell_type": "code",
   "execution_count": 734,
   "id": "3ef28969",
   "metadata": {},
   "outputs": [
    {
     "data": {
      "text/plain": [
       "1.0"
      ]
     },
     "execution_count": 734,
     "metadata": {},
     "output_type": "execute_result"
    }
   ],
   "source": [
    "accuracy_train = pipeline_linearsvc.score(X_train, y_train)\n",
    "accuracy_train"
   ]
  },
  {
   "cell_type": "code",
   "execution_count": 735,
   "id": "c19bf465",
   "metadata": {},
   "outputs": [
    {
     "data": {
      "text/plain": [
       "0.9650246305418719"
      ]
     },
     "execution_count": 735,
     "metadata": {},
     "output_type": "execute_result"
    }
   ],
   "source": [
    "cv_scores = cross_val_score(pipeline_linearsvc, X_train, y_train, cv=5, scoring=\"accuracy\")\n",
    "cv_scores.mean()"
   ]
  },
  {
   "cell_type": "markdown",
   "id": "7486fd3f",
   "metadata": {},
   "source": [
    "What about the test set?"
   ]
  },
  {
   "cell_type": "code",
   "execution_count": 736,
   "id": "50adbd33",
   "metadata": {},
   "outputs": [
    {
     "name": "stdout",
     "output_type": "stream",
     "text": [
      "Train\n",
      "[0 0 2 0 1 0 1 2 1 2]\n",
      "Predict\n",
      "[0 0 2 0 1 0 1 2 1 2]\n",
      "[☑ ☑ ☑ ☑ ☑ ☑ ☑ ☑ ☑ ☑]\n"
     ]
    }
   ],
   "source": [
    "compare_train_pred(X_test, y_test, pipeline_linearsvc, num=NUM_TO_COMPARE)"
   ]
  },
  {
   "cell_type": "code",
   "execution_count": 737,
   "id": "fcedebc8",
   "metadata": {},
   "outputs": [
    {
     "data": {
      "text/plain": [
       "1.0"
      ]
     },
     "execution_count": 737,
     "metadata": {},
     "output_type": "execute_result"
    }
   ],
   "source": [
    "accuracy_test = pipeline_linearsvc.score(X_test, y_test)\n",
    "accuracy_test"
   ]
  },
  {
   "cell_type": "markdown",
   "id": "166f9142",
   "metadata": {},
   "source": [
    "### Kernelised SVM follow-along!"
   ]
  },
  {
   "cell_type": "code",
   "execution_count": 738,
   "id": "c9ff2f59",
   "metadata": {},
   "outputs": [
    {
     "data": {
      "text/html": [
       "<style>#sk-container-id-127 {color: black;}#sk-container-id-127 pre{padding: 0;}#sk-container-id-127 div.sk-toggleable {background-color: white;}#sk-container-id-127 label.sk-toggleable__label {cursor: pointer;display: block;width: 100%;margin-bottom: 0;padding: 0.3em;box-sizing: border-box;text-align: center;}#sk-container-id-127 label.sk-toggleable__label-arrow:before {content: \"▸\";float: left;margin-right: 0.25em;color: #696969;}#sk-container-id-127 label.sk-toggleable__label-arrow:hover:before {color: black;}#sk-container-id-127 div.sk-estimator:hover label.sk-toggleable__label-arrow:before {color: black;}#sk-container-id-127 div.sk-toggleable__content {max-height: 0;max-width: 0;overflow: hidden;text-align: left;background-color: #f0f8ff;}#sk-container-id-127 div.sk-toggleable__content pre {margin: 0.2em;color: black;border-radius: 0.25em;background-color: #f0f8ff;}#sk-container-id-127 input.sk-toggleable__control:checked~div.sk-toggleable__content {max-height: 200px;max-width: 100%;overflow: auto;}#sk-container-id-127 input.sk-toggleable__control:checked~label.sk-toggleable__label-arrow:before {content: \"▾\";}#sk-container-id-127 div.sk-estimator input.sk-toggleable__control:checked~label.sk-toggleable__label {background-color: #d4ebff;}#sk-container-id-127 div.sk-label input.sk-toggleable__control:checked~label.sk-toggleable__label {background-color: #d4ebff;}#sk-container-id-127 input.sk-hidden--visually {border: 0;clip: rect(1px 1px 1px 1px);clip: rect(1px, 1px, 1px, 1px);height: 1px;margin: -1px;overflow: hidden;padding: 0;position: absolute;width: 1px;}#sk-container-id-127 div.sk-estimator {font-family: monospace;background-color: #f0f8ff;border: 1px dotted black;border-radius: 0.25em;box-sizing: border-box;margin-bottom: 0.5em;}#sk-container-id-127 div.sk-estimator:hover {background-color: #d4ebff;}#sk-container-id-127 div.sk-parallel-item::after {content: \"\";width: 100%;border-bottom: 1px solid gray;flex-grow: 1;}#sk-container-id-127 div.sk-label:hover label.sk-toggleable__label {background-color: #d4ebff;}#sk-container-id-127 div.sk-serial::before {content: \"\";position: absolute;border-left: 1px solid gray;box-sizing: border-box;top: 0;bottom: 0;left: 50%;z-index: 0;}#sk-container-id-127 div.sk-serial {display: flex;flex-direction: column;align-items: center;background-color: white;padding-right: 0.2em;padding-left: 0.2em;position: relative;}#sk-container-id-127 div.sk-item {position: relative;z-index: 1;}#sk-container-id-127 div.sk-parallel {display: flex;align-items: stretch;justify-content: center;background-color: white;position: relative;}#sk-container-id-127 div.sk-item::before, #sk-container-id-127 div.sk-parallel-item::before {content: \"\";position: absolute;border-left: 1px solid gray;box-sizing: border-box;top: 0;bottom: 0;left: 50%;z-index: -1;}#sk-container-id-127 div.sk-parallel-item {display: flex;flex-direction: column;z-index: 1;position: relative;background-color: white;}#sk-container-id-127 div.sk-parallel-item:first-child::after {align-self: flex-end;width: 50%;}#sk-container-id-127 div.sk-parallel-item:last-child::after {align-self: flex-start;width: 50%;}#sk-container-id-127 div.sk-parallel-item:only-child::after {width: 0;}#sk-container-id-127 div.sk-dashed-wrapped {border: 1px dashed gray;margin: 0 0.4em 0.5em 0.4em;box-sizing: border-box;padding-bottom: 0.4em;background-color: white;}#sk-container-id-127 div.sk-label label {font-family: monospace;font-weight: bold;display: inline-block;line-height: 1.2em;}#sk-container-id-127 div.sk-label-container {text-align: center;}#sk-container-id-127 div.sk-container {/* jupyter's `normalize.less` sets `[hidden] { display: none; }` but bootstrap.min.css set `[hidden] { display: none !important; }` so we also need the `!important` here to be able to override the default hidden behavior on the sphinx rendered scikit-learn.org. See: https://github.com/scikit-learn/scikit-learn/issues/21755 */display: inline-block !important;position: relative;}#sk-container-id-127 div.sk-text-repr-fallback {display: none;}</style><div id=\"sk-container-id-127\" class=\"sk-top-container\"><div class=\"sk-text-repr-fallback\"><pre>Pipeline(steps=[(&#x27;preprocessing&#x27;,\n",
       "                 ColumnTransformer(transformers=[(&#x27;scale&#x27;, StandardScaler(),\n",
       "                                                  [&#x27;alcohol&#x27;, &#x27;malic_acid&#x27;,\n",
       "                                                   &#x27;ash&#x27;, &#x27;alcalinity_of_ash&#x27;,\n",
       "                                                   &#x27;magnesium&#x27;, &#x27;total_phenols&#x27;,\n",
       "                                                   &#x27;flavanoids&#x27;,\n",
       "                                                   &#x27;nonflavanoid_phenols&#x27;,\n",
       "                                                   &#x27;proanthocyanins&#x27;,\n",
       "                                                   &#x27;color_intensity&#x27;, &#x27;hue&#x27;,\n",
       "                                                   &#x27;od280/od315_of_diluted_wines&#x27;,\n",
       "                                                   &#x27;proline&#x27;])])),\n",
       "                (&#x27;svc&#x27;, SVC(random_state=42))])</pre><b>In a Jupyter environment, please rerun this cell to show the HTML representation or trust the notebook. <br />On GitHub, the HTML representation is unable to render, please try loading this page with nbviewer.org.</b></div><div class=\"sk-container\" hidden><div class=\"sk-item sk-dashed-wrapped\"><div class=\"sk-label-container\"><div class=\"sk-label sk-toggleable\"><input class=\"sk-toggleable__control sk-hidden--visually\" id=\"sk-estimator-id-528\" type=\"checkbox\" ><label for=\"sk-estimator-id-528\" class=\"sk-toggleable__label sk-toggleable__label-arrow\">Pipeline</label><div class=\"sk-toggleable__content\"><pre>Pipeline(steps=[(&#x27;preprocessing&#x27;,\n",
       "                 ColumnTransformer(transformers=[(&#x27;scale&#x27;, StandardScaler(),\n",
       "                                                  [&#x27;alcohol&#x27;, &#x27;malic_acid&#x27;,\n",
       "                                                   &#x27;ash&#x27;, &#x27;alcalinity_of_ash&#x27;,\n",
       "                                                   &#x27;magnesium&#x27;, &#x27;total_phenols&#x27;,\n",
       "                                                   &#x27;flavanoids&#x27;,\n",
       "                                                   &#x27;nonflavanoid_phenols&#x27;,\n",
       "                                                   &#x27;proanthocyanins&#x27;,\n",
       "                                                   &#x27;color_intensity&#x27;, &#x27;hue&#x27;,\n",
       "                                                   &#x27;od280/od315_of_diluted_wines&#x27;,\n",
       "                                                   &#x27;proline&#x27;])])),\n",
       "                (&#x27;svc&#x27;, SVC(random_state=42))])</pre></div></div></div><div class=\"sk-serial\"><div class=\"sk-item sk-dashed-wrapped\"><div class=\"sk-label-container\"><div class=\"sk-label sk-toggleable\"><input class=\"sk-toggleable__control sk-hidden--visually\" id=\"sk-estimator-id-529\" type=\"checkbox\" ><label for=\"sk-estimator-id-529\" class=\"sk-toggleable__label sk-toggleable__label-arrow\">preprocessing: ColumnTransformer</label><div class=\"sk-toggleable__content\"><pre>ColumnTransformer(transformers=[(&#x27;scale&#x27;, StandardScaler(),\n",
       "                                 [&#x27;alcohol&#x27;, &#x27;malic_acid&#x27;, &#x27;ash&#x27;,\n",
       "                                  &#x27;alcalinity_of_ash&#x27;, &#x27;magnesium&#x27;,\n",
       "                                  &#x27;total_phenols&#x27;, &#x27;flavanoids&#x27;,\n",
       "                                  &#x27;nonflavanoid_phenols&#x27;, &#x27;proanthocyanins&#x27;,\n",
       "                                  &#x27;color_intensity&#x27;, &#x27;hue&#x27;,\n",
       "                                  &#x27;od280/od315_of_diluted_wines&#x27;, &#x27;proline&#x27;])])</pre></div></div></div><div class=\"sk-parallel\"><div class=\"sk-parallel-item\"><div class=\"sk-item\"><div class=\"sk-label-container\"><div class=\"sk-label sk-toggleable\"><input class=\"sk-toggleable__control sk-hidden--visually\" id=\"sk-estimator-id-530\" type=\"checkbox\" ><label for=\"sk-estimator-id-530\" class=\"sk-toggleable__label sk-toggleable__label-arrow\">scale</label><div class=\"sk-toggleable__content\"><pre>[&#x27;alcohol&#x27;, &#x27;malic_acid&#x27;, &#x27;ash&#x27;, &#x27;alcalinity_of_ash&#x27;, &#x27;magnesium&#x27;, &#x27;total_phenols&#x27;, &#x27;flavanoids&#x27;, &#x27;nonflavanoid_phenols&#x27;, &#x27;proanthocyanins&#x27;, &#x27;color_intensity&#x27;, &#x27;hue&#x27;, &#x27;od280/od315_of_diluted_wines&#x27;, &#x27;proline&#x27;]</pre></div></div></div><div class=\"sk-serial\"><div class=\"sk-item\"><div class=\"sk-estimator sk-toggleable\"><input class=\"sk-toggleable__control sk-hidden--visually\" id=\"sk-estimator-id-531\" type=\"checkbox\" ><label for=\"sk-estimator-id-531\" class=\"sk-toggleable__label sk-toggleable__label-arrow\">StandardScaler</label><div class=\"sk-toggleable__content\"><pre>StandardScaler()</pre></div></div></div></div></div></div></div></div><div class=\"sk-item\"><div class=\"sk-estimator sk-toggleable\"><input class=\"sk-toggleable__control sk-hidden--visually\" id=\"sk-estimator-id-532\" type=\"checkbox\" ><label for=\"sk-estimator-id-532\" class=\"sk-toggleable__label sk-toggleable__label-arrow\">SVC</label><div class=\"sk-toggleable__content\"><pre>SVC(random_state=42)</pre></div></div></div></div></div></div></div>"
      ],
      "text/plain": [
       "Pipeline(steps=[('preprocessing',\n",
       "                 ColumnTransformer(transformers=[('scale', StandardScaler(),\n",
       "                                                  ['alcohol', 'malic_acid',\n",
       "                                                   'ash', 'alcalinity_of_ash',\n",
       "                                                   'magnesium', 'total_phenols',\n",
       "                                                   'flavanoids',\n",
       "                                                   'nonflavanoid_phenols',\n",
       "                                                   'proanthocyanins',\n",
       "                                                   'color_intensity', 'hue',\n",
       "                                                   'od280/od315_of_diluted_wines',\n",
       "                                                   'proline'])])),\n",
       "                ('svc', SVC(random_state=42))])"
      ]
     },
     "execution_count": 738,
     "metadata": {},
     "output_type": "execute_result"
    }
   ],
   "source": [
    "pipeline_kernelised_svc = Pipeline([\n",
    "    (\"preprocessing\", preprocessing),\n",
    "    (\"svc\", SVC(random_state=RANDOM_SEED))\n",
    "])\n",
    "\n",
    "pipeline_kernelised_svc.fit(X_train, y_train)"
   ]
  },
  {
   "cell_type": "code",
   "execution_count": 739,
   "id": "1abfc294",
   "metadata": {},
   "outputs": [
    {
     "name": "stdout",
     "output_type": "stream",
     "text": [
      "Train\n",
      "[2 2 1 2 0 1 1 1 2 0]\n",
      "Predict\n",
      "[2 2 1 2 0 1 1 1 2 0]\n",
      "[☑ ☑ ☑ ☑ ☑ ☑ ☑ ☑ ☑ ☑]\n"
     ]
    }
   ],
   "source": [
    "compare_train_pred(X_train, y_train, pipeline_kernelised_svc, num=NUM_TO_COMPARE)"
   ]
  },
  {
   "cell_type": "code",
   "execution_count": 740,
   "id": "0aeb28ef",
   "metadata": {},
   "outputs": [
    {
     "data": {
      "text/plain": [
       "1.0"
      ]
     },
     "execution_count": 740,
     "metadata": {},
     "output_type": "execute_result"
    }
   ],
   "source": [
    "accuracy_train = pipeline_kernelised_svc.score(X_train, y_train)\n",
    "accuracy_train"
   ]
  },
  {
   "cell_type": "code",
   "execution_count": 741,
   "id": "cd0d1e11",
   "metadata": {},
   "outputs": [
    {
     "data": {
      "text/plain": [
       "0.97192118226601"
      ]
     },
     "execution_count": 741,
     "metadata": {},
     "output_type": "execute_result"
    }
   ],
   "source": [
    "cv_scores = cross_val_score(pipeline_kernelised_svc, X_train, y_train, cv=5, scoring=\"accuracy\")\n",
    "cv_scores.mean()"
   ]
  },
  {
   "cell_type": "markdown",
   "id": "fe71aba7",
   "metadata": {},
   "source": [
    "Looks like this one is more or less similar to the previous one.\n",
    "\n",
    "Let's see if we can tune the hyperparameters"
   ]
  },
  {
   "cell_type": "code",
   "execution_count": 742,
   "id": "ed6e1351",
   "metadata": {},
   "outputs": [
    {
     "data": {
      "application/vnd.microsoft.datawrangler.viewer.v0+json": {
       "columns": [
        {
         "name": "index",
         "rawType": "int64",
         "type": "integer"
        },
        {
         "name": "0",
         "rawType": "object",
         "type": "string"
        }
       ],
       "ref": "67f2e443-a385-4868-9180-72fa7c29185a",
       "rows": [
        [
         "0",
         "memory"
        ],
        [
         "1",
         "steps"
        ],
        [
         "2",
         "verbose"
        ],
        [
         "3",
         "preprocessing"
        ],
        [
         "4",
         "svc"
        ],
        [
         "5",
         "preprocessing__n_jobs"
        ],
        [
         "6",
         "preprocessing__remainder"
        ],
        [
         "7",
         "preprocessing__sparse_threshold"
        ],
        [
         "8",
         "preprocessing__transformer_weights"
        ],
        [
         "9",
         "preprocessing__transformers"
        ],
        [
         "10",
         "preprocessing__verbose"
        ],
        [
         "11",
         "preprocessing__verbose_feature_names_out"
        ],
        [
         "12",
         "preprocessing__scale"
        ],
        [
         "13",
         "preprocessing__scale__copy"
        ],
        [
         "14",
         "preprocessing__scale__with_mean"
        ],
        [
         "15",
         "preprocessing__scale__with_std"
        ],
        [
         "16",
         "svc__C"
        ],
        [
         "17",
         "svc__break_ties"
        ],
        [
         "18",
         "svc__cache_size"
        ],
        [
         "19",
         "svc__class_weight"
        ],
        [
         "20",
         "svc__coef0"
        ],
        [
         "21",
         "svc__decision_function_shape"
        ],
        [
         "22",
         "svc__degree"
        ],
        [
         "23",
         "svc__gamma"
        ],
        [
         "24",
         "svc__kernel"
        ],
        [
         "25",
         "svc__max_iter"
        ],
        [
         "26",
         "svc__probability"
        ],
        [
         "27",
         "svc__random_state"
        ],
        [
         "28",
         "svc__shrinking"
        ],
        [
         "29",
         "svc__tol"
        ],
        [
         "30",
         "svc__verbose"
        ]
       ],
       "shape": {
        "columns": 1,
        "rows": 31
       }
      },
      "text/html": [
       "<div>\n",
       "<style scoped>\n",
       "    .dataframe tbody tr th:only-of-type {\n",
       "        vertical-align: middle;\n",
       "    }\n",
       "\n",
       "    .dataframe tbody tr th {\n",
       "        vertical-align: top;\n",
       "    }\n",
       "\n",
       "    .dataframe thead th {\n",
       "        text-align: right;\n",
       "    }\n",
       "</style>\n",
       "<table border=\"1\" class=\"dataframe\">\n",
       "  <thead>\n",
       "    <tr style=\"text-align: right;\">\n",
       "      <th></th>\n",
       "      <th>0</th>\n",
       "    </tr>\n",
       "  </thead>\n",
       "  <tbody>\n",
       "    <tr>\n",
       "      <th>0</th>\n",
       "      <td>memory</td>\n",
       "    </tr>\n",
       "    <tr>\n",
       "      <th>1</th>\n",
       "      <td>steps</td>\n",
       "    </tr>\n",
       "    <tr>\n",
       "      <th>2</th>\n",
       "      <td>verbose</td>\n",
       "    </tr>\n",
       "    <tr>\n",
       "      <th>3</th>\n",
       "      <td>preprocessing</td>\n",
       "    </tr>\n",
       "    <tr>\n",
       "      <th>4</th>\n",
       "      <td>svc</td>\n",
       "    </tr>\n",
       "    <tr>\n",
       "      <th>5</th>\n",
       "      <td>preprocessing__n_jobs</td>\n",
       "    </tr>\n",
       "    <tr>\n",
       "      <th>6</th>\n",
       "      <td>preprocessing__remainder</td>\n",
       "    </tr>\n",
       "    <tr>\n",
       "      <th>7</th>\n",
       "      <td>preprocessing__sparse_threshold</td>\n",
       "    </tr>\n",
       "    <tr>\n",
       "      <th>8</th>\n",
       "      <td>preprocessing__transformer_weights</td>\n",
       "    </tr>\n",
       "    <tr>\n",
       "      <th>9</th>\n",
       "      <td>preprocessing__transformers</td>\n",
       "    </tr>\n",
       "    <tr>\n",
       "      <th>10</th>\n",
       "      <td>preprocessing__verbose</td>\n",
       "    </tr>\n",
       "    <tr>\n",
       "      <th>11</th>\n",
       "      <td>preprocessing__verbose_feature_names_out</td>\n",
       "    </tr>\n",
       "    <tr>\n",
       "      <th>12</th>\n",
       "      <td>preprocessing__scale</td>\n",
       "    </tr>\n",
       "    <tr>\n",
       "      <th>13</th>\n",
       "      <td>preprocessing__scale__copy</td>\n",
       "    </tr>\n",
       "    <tr>\n",
       "      <th>14</th>\n",
       "      <td>preprocessing__scale__with_mean</td>\n",
       "    </tr>\n",
       "    <tr>\n",
       "      <th>15</th>\n",
       "      <td>preprocessing__scale__with_std</td>\n",
       "    </tr>\n",
       "    <tr>\n",
       "      <th>16</th>\n",
       "      <td>svc__C</td>\n",
       "    </tr>\n",
       "    <tr>\n",
       "      <th>17</th>\n",
       "      <td>svc__break_ties</td>\n",
       "    </tr>\n",
       "    <tr>\n",
       "      <th>18</th>\n",
       "      <td>svc__cache_size</td>\n",
       "    </tr>\n",
       "    <tr>\n",
       "      <th>19</th>\n",
       "      <td>svc__class_weight</td>\n",
       "    </tr>\n",
       "    <tr>\n",
       "      <th>20</th>\n",
       "      <td>svc__coef0</td>\n",
       "    </tr>\n",
       "    <tr>\n",
       "      <th>21</th>\n",
       "      <td>svc__decision_function_shape</td>\n",
       "    </tr>\n",
       "    <tr>\n",
       "      <th>22</th>\n",
       "      <td>svc__degree</td>\n",
       "    </tr>\n",
       "    <tr>\n",
       "      <th>23</th>\n",
       "      <td>svc__gamma</td>\n",
       "    </tr>\n",
       "    <tr>\n",
       "      <th>24</th>\n",
       "      <td>svc__kernel</td>\n",
       "    </tr>\n",
       "    <tr>\n",
       "      <th>25</th>\n",
       "      <td>svc__max_iter</td>\n",
       "    </tr>\n",
       "    <tr>\n",
       "      <th>26</th>\n",
       "      <td>svc__probability</td>\n",
       "    </tr>\n",
       "    <tr>\n",
       "      <th>27</th>\n",
       "      <td>svc__random_state</td>\n",
       "    </tr>\n",
       "    <tr>\n",
       "      <th>28</th>\n",
       "      <td>svc__shrinking</td>\n",
       "    </tr>\n",
       "    <tr>\n",
       "      <th>29</th>\n",
       "      <td>svc__tol</td>\n",
       "    </tr>\n",
       "    <tr>\n",
       "      <th>30</th>\n",
       "      <td>svc__verbose</td>\n",
       "    </tr>\n",
       "  </tbody>\n",
       "</table>\n",
       "</div>"
      ],
      "text/plain": [
       "                                           0\n",
       "0                                     memory\n",
       "1                                      steps\n",
       "2                                    verbose\n",
       "3                              preprocessing\n",
       "4                                        svc\n",
       "5                      preprocessing__n_jobs\n",
       "6                   preprocessing__remainder\n",
       "7            preprocessing__sparse_threshold\n",
       "8         preprocessing__transformer_weights\n",
       "9                preprocessing__transformers\n",
       "10                    preprocessing__verbose\n",
       "11  preprocessing__verbose_feature_names_out\n",
       "12                      preprocessing__scale\n",
       "13                preprocessing__scale__copy\n",
       "14           preprocessing__scale__with_mean\n",
       "15            preprocessing__scale__with_std\n",
       "16                                    svc__C\n",
       "17                           svc__break_ties\n",
       "18                           svc__cache_size\n",
       "19                         svc__class_weight\n",
       "20                                svc__coef0\n",
       "21              svc__decision_function_shape\n",
       "22                               svc__degree\n",
       "23                                svc__gamma\n",
       "24                               svc__kernel\n",
       "25                             svc__max_iter\n",
       "26                          svc__probability\n",
       "27                         svc__random_state\n",
       "28                            svc__shrinking\n",
       "29                                  svc__tol\n",
       "30                              svc__verbose"
      ]
     },
     "execution_count": 742,
     "metadata": {},
     "output_type": "execute_result"
    }
   ],
   "source": [
    "pd.DataFrame(pipeline_kernelised_svc.get_params().keys())"
   ]
  },
  {
   "cell_type": "code",
   "execution_count": 743,
   "id": "c090df99",
   "metadata": {},
   "outputs": [],
   "source": [
    "from scipy.stats import loguniform, uniform\n",
    "from sklearn.model_selection import RandomizedSearchCV\n",
    "\n",
    "param_distribs = {\n",
    "    \"svc__gamma\": loguniform(0.001, 0.1),\n",
    "    \"svc__C\": uniform(1, 10)\n",
    "}\n",
    "\n",
    "random_search = RandomizedSearchCV(\n",
    "    pipeline_kernelised_svc,\n",
    "    param_distributions=param_distribs,\n",
    "    n_iter=100,\n",
    "    cv=5,\n",
    "    random_state=RANDOM_SEED,\n",
    "    verbose=2\n",
    ")"
   ]
  },
  {
   "cell_type": "code",
   "execution_count": 744,
   "id": "ced00430",
   "metadata": {},
   "outputs": [
    {
     "name": "stdout",
     "output_type": "stream",
     "text": [
      "Fitting 5 folds for each of 100 candidates, totalling 500 fits"
     ]
    },
    {
     "name": "stdout",
     "output_type": "stream",
     "text": [
      "\n",
      "[CV] END svc__C=4.745401188473625, svc__gamma=0.07969454818643935; total time=   0.0s\n",
      "[CV] END svc__C=4.745401188473625, svc__gamma=0.07969454818643935; total time=   0.0s\n",
      "[CV] END svc__C=4.745401188473625, svc__gamma=0.07969454818643935; total time=   0.0s\n",
      "[CV] END svc__C=4.745401188473625, svc__gamma=0.07969454818643935; total time=   0.0s\n",
      "[CV] END svc__C=4.745401188473625, svc__gamma=0.07969454818643935; total time=   0.0s\n",
      "[CV] END svc__C=8.31993941811405, svc__gamma=0.015751320499779727; total time=   0.0s\n",
      "[CV] END svc__C=8.31993941811405, svc__gamma=0.015751320499779727; total time=   0.0s\n",
      "[CV] END svc__C=8.31993941811405, svc__gamma=0.015751320499779727; total time=   0.0s\n",
      "[CV] END svc__C=8.31993941811405, svc__gamma=0.015751320499779727; total time=   0.0s\n",
      "[CV] END svc__C=8.31993941811405, svc__gamma=0.015751320499779727; total time=   0.0s\n",
      "[CV] END svc__C=2.560186404424365, svc__gamma=0.002051110418843397; total time=   0.0s\n",
      "[CV] END svc__C=2.560186404424365, svc__gamma=0.002051110418843397; total time=   0.0s\n",
      "[CV] END svc__C=2.560186404424365, svc__gamma=0.002051110418843397; total time=   0.0s\n",
      "[CV] END svc__C=2.560186404424365, svc__gamma=0.002051110418843397; total time=   0.0s\n",
      "[CV] END svc__C=2.560186404424365, svc__gamma=0.002051110418843397; total time=   0.0s\n",
      "[CV] END svc__C=1.5808361216819946, svc__gamma=0.05399484409787434; total time=   0.0s\n",
      "[CV] END svc__C=1.5808361216819946, svc__gamma=0.05399484409787434; total time=   0.0s\n",
      "[CV] END svc__C=1.5808361216819946, svc__gamma=0.05399484409787434; total time=   0.0s\n",
      "[CV] END svc__C=1.5808361216819946, svc__gamma=0.05399484409787434; total time=   0.0s\n",
      "[CV] END svc__C=1.5808361216819946, svc__gamma=0.05399484409787434; total time=   0.0s\n",
      "[CV] END svc__C=7.011150117432088, svc__gamma=0.02607024758370768; total time=   0.0s\n",
      "[CV] END svc__C=7.011150117432088, svc__gamma=0.02607024758370768; total time=   0.0s\n",
      "[CV] END svc__C=7.011150117432088, svc__gamma=0.02607024758370768; total time=   0.0s\n",
      "[CV] END svc__C=7.011150117432088, svc__gamma=0.02607024758370768; total time=   0.0s\n",
      "[CV] END svc__C=7.011150117432088, svc__gamma=0.02607024758370768; total time=   0.0s\n",
      "[CV] END svc__C=1.2058449429580245, svc__gamma=0.08706020878304858; total time=   0.0s\n",
      "[CV] END svc__C=1.2058449429580245, svc__gamma=0.08706020878304858; total time=   0.0s\n",
      "[CV] END svc__C=1.2058449429580245, svc__gamma=0.08706020878304858; total time=   0.0s\n",
      "[CV] END svc__C=1.2058449429580245, svc__gamma=0.08706020878304858; total time=   0.0s\n",
      "[CV] END svc__C=1.2058449429580245, svc__gamma=0.08706020878304858; total time=   0.0s\n",
      "[CV] END svc__C=9.324426408004218, svc__gamma=0.0026587543983272706; total time=   0.0s\n",
      "[CV] END svc__C=9.324426408004218, svc__gamma=0.0026587543983272706; total time=   0.0s\n",
      "[CV] END svc__C=9.324426408004218, svc__gamma=0.0026587543983272706; total time=   0.0s\n",
      "[CV] END svc__C=9.324426408004218, svc__gamma=0.0026587543983272706; total time=   0.0s\n",
      "[CV] END svc__C=9.324426408004218, svc__gamma=0.0026587543983272706; total time=   0.0s\n",
      "[CV] END svc__C=2.818249672071006, svc__gamma=0.002327067708383781; total time=   0.0s\n",
      "[CV] END svc__C=2.818249672071006, svc__gamma=0.002327067708383781; total time=   0.0s\n",
      "[CV] END svc__C=2.818249672071006, svc__gamma=0.002327067708383781; total time=   0.0s\n",
      "[CV] END svc__C=2.818249672071006, svc__gamma=0.002327067708383781; total time=   0.0s\n",
      "[CV] END svc__C=2.818249672071006, svc__gamma=0.002327067708383781; total time=   0.0s\n",
      "[CV] END svc__C=4.042422429595377, svc__gamma=0.01120760621186057; total time=   0.0s\n",
      "[CV] END svc__C=4.042422429595377, svc__gamma=0.01120760621186057; total time=   0.0s\n",
      "[CV] END svc__C=4.042422429595377, svc__gamma=0.01120760621186057; total time=   0.0s\n",
      "[CV] END svc__C=4.042422429595377, svc__gamma=0.01120760621186057; total time=   0.0s\n",
      "[CV] END svc__C=4.042422429595377, svc__gamma=0.01120760621186057; total time=   0.0s\n",
      "[CV] END svc__C=5.319450186421157, svc__gamma=0.0038234752246751854; total time=   0.0s\n",
      "[CV] END svc__C=5.319450186421157, svc__gamma=0.0038234752246751854; total time=   0.0s\n",
      "[CV] END svc__C=5.319450186421157, svc__gamma=0.0038234752246751854; total time=   0.0s\n",
      "[CV] END svc__C=5.319450186421157, svc__gamma=0.0038234752246751854; total time=   0.0s\n",
      "[CV] END svc__C=5.319450186421157, svc__gamma=0.0038234752246751854; total time=   0.0s\n",
      "[CV] END svc__C=7.118528947223795, svc__gamma=0.0019010245319870357; total time=   0.0s\n",
      "[CV] END svc__C=7.118528947223795, svc__gamma=0.0019010245319870357; total time=   0.0s\n",
      "[CV] END svc__C=7.118528947223795, svc__gamma=0.0019010245319870357; total time=   0.0s\n",
      "[CV] END svc__C=7.118528947223795, svc__gamma=0.0019010245319870357; total time=   0.0s\n",
      "[CV] END svc__C=7.118528947223795, svc__gamma=0.0019010245319870357; total time=   0.0s\n",
      "[CV] END svc__C=3.9214464853521815, svc__gamma=0.005404103854647328; total time=   0.0s\n",
      "[CV] END svc__C=3.9214464853521815, svc__gamma=0.005404103854647328; total time=   0.0s\n",
      "[CV] END svc__C=3.9214464853521815, svc__gamma=0.005404103854647328; total time=   0.0s\n",
      "[CV] END svc__C=3.9214464853521815, svc__gamma=0.005404103854647328; total time=   0.0s\n",
      "[CV] END svc__C=3.9214464853521815, svc__gamma=0.005404103854647328; total time=   0.0s\n",
      "[CV] END svc__C=5.56069984217036, svc__gamma=0.037183641805732096; total time=   0.0s\n",
      "[CV] END svc__C=5.56069984217036, svc__gamma=0.037183641805732096; total time=   0.0s\n",
      "[CV] END svc__C=5.56069984217036, svc__gamma=0.037183641805732096; total time=   0.0s\n",
      "[CV] END svc__C=5.56069984217036, svc__gamma=0.037183641805732096; total time=   0.0s\n",
      "[CV] END svc__C=5.56069984217036, svc__gamma=0.037183641805732096; total time=   0.0s\n",
      "[CV] END svc__C=2.996737821583597, svc__gamma=0.01067748270948136; total time=   0.0s\n",
      "[CV] END svc__C=2.996737821583597, svc__gamma=0.01067748270948136; total time=   0.0s\n",
      "[CV] END svc__C=2.996737821583597, svc__gamma=0.01067748270948136; total time=   0.0s\n",
      "[CV] END svc__C=2.996737821583597, svc__gamma=0.01067748270948136; total time=   0.0s\n",
      "[CV] END svc__C=2.996737821583597, svc__gamma=0.01067748270948136; total time=   0.0s\n",
      "[CV] END svc__C=6.924145688620425, svc__gamma=0.001238513729886093; total time=   0.0s\n",
      "[CV] END svc__C=6.924145688620425, svc__gamma=0.001238513729886093; total time=   0.0s\n",
      "[CV] END svc__C=6.924145688620425, svc__gamma=0.001238513729886093; total time=   0.0s\n",
      "[CV] END svc__C=6.924145688620425, svc__gamma=0.001238513729886093; total time=   0.0s\n",
      "[CV] END svc__C=6.924145688620425, svc__gamma=0.001238513729886093; total time=   0.0s\n",
      "[CV] END svc__C=7.075448519014383, svc__gamma=0.002193048555664369; total time=   0.0s\n",
      "[CV] END svc__C=7.075448519014383, svc__gamma=0.002193048555664369; total time=   0.0s\n",
      "[CV] END svc__C=7.075448519014383, svc__gamma=0.002193048555664369; total time=   0.0s\n",
      "[CV] END svc__C=7.075448519014383, svc__gamma=0.002193048555664369; total time=   0.0s\n",
      "[CV] END svc__C=7.075448519014383, svc__gamma=0.002193048555664369; total time=   0.0s\n",
      "[CV] END svc__C=1.6505159298527952, svc__gamma=0.07902619549708234; total time=   0.0s\n",
      "[CV] END svc__C=1.6505159298527952, svc__gamma=0.07902619549708234; total time=   0.0s\n",
      "[CV] END svc__C=1.6505159298527952, svc__gamma=0.07902619549708234; total time=   0.0s\n",
      "[CV] END svc__C=1.6505159298527952, svc__gamma=0.07902619549708234; total time=   0.0s\n",
      "[CV] END svc__C=1.6505159298527952, svc__gamma=0.07902619549708234; total time=   0.0s\n",
      "[CV] END svc__C=10.656320330745594, svc__gamma=0.041380401125610165; total time=   0.0s\n",
      "[CV] END svc__C=10.656320330745594, svc__gamma=0.041380401125610165; total time=   0.0s\n",
      "[CV] END svc__C=10.656320330745594, svc__gamma=0.041380401125610165; total time=   0.0s\n",
      "[CV] END svc__C=10.656320330745594, svc__gamma=0.041380401125610165; total time=   0.0s\n",
      "[CV] END svc__C=10.656320330745594, svc__gamma=0.041380401125610165; total time=   0.0s\n",
      "[CV] END svc__C=4.046137691733707, svc__gamma=0.0015679933916723015; total time=   0.0s\n",
      "[CV] END svc__C=4.046137691733707, svc__gamma=0.0015679933916723015; total time=   0.0s\n",
      "[CV] END svc__C=4.046137691733707, svc__gamma=0.0015679933916723015; total time=   0.0s\n",
      "[CV] END svc__C=4.046137691733707, svc__gamma=0.0015679933916723015; total time=   0.0s\n",
      "[CV] END svc__C=4.046137691733707, svc__gamma=0.0015679933916723015; total time=   0.0s\n",
      "[CV] END svc__C=7.842330265121569, svc__gamma=0.007591104805282696; total time=   0.0s\n",
      "[CV] END svc__C=7.842330265121569, svc__gamma=0.007591104805282696; total time=   0.0s\n",
      "[CV] END svc__C=7.842330265121569, svc__gamma=0.007591104805282696; total time=   0.0s\n",
      "[CV] END svc__C=7.842330265121569, svc__gamma=0.007591104805282696; total time=   0.0s\n",
      "[CV] END svc__C=7.842330265121569, svc__gamma=0.007591104805282696; total time=   0.0s\n",
      "[CV] END svc__C=2.2203823484477883, svc__gamma=0.009780337016659405; total time=   0.0s\n",
      "[CV] END svc__C=2.2203823484477883, svc__gamma=0.009780337016659405; total time=   0.0s\n",
      "[CV] END svc__C=2.2203823484477883, svc__gamma=0.009780337016659405; total time=   0.0s\n",
      "[CV] END svc__C=2.2203823484477883, svc__gamma=0.009780337016659405; total time=   0.0s\n",
      "[CV] END svc__C=2.2203823484477883, svc__gamma=0.009780337016659405; total time=   0.0s\n",
      "[CV] END svc__C=1.343885211152184, svc__gamma=0.06586289317583113; total time=   0.0s\n",
      "[CV] END svc__C=1.343885211152184, svc__gamma=0.06586289317583113; total time=   0.0s\n",
      "[CV] END svc__C=1.343885211152184, svc__gamma=0.06586289317583113; total time=   0.0s\n",
      "[CV] END svc__C=1.343885211152184, svc__gamma=0.06586289317583113; total time=   0.0s\n",
      "[CV] END svc__C=1.343885211152184, svc__gamma=0.06586289317583113; total time=   0.0s\n",
      "[CV] END svc__C=3.587799816000169, svc__gamma=0.02113705944064573; total time=   0.0s\n",
      "[CV] END svc__C=3.587799816000169, svc__gamma=0.02113705944064573; total time=   0.0s\n",
      "[CV] END svc__C=3.587799816000169, svc__gamma=0.02113705944064573; total time=   0.0s\n",
      "[CV] END svc__C=3.587799816000169, svc__gamma=0.02113705944064573; total time=   0.0s\n",
      "[CV] END svc__C=3.587799816000169, svc__gamma=0.02113705944064573; total time=   0.0s\n",
      "[CV] END svc__C=4.11711076089411, svc__gamma=0.010968217207529524; total time=   0.0s\n",
      "[CV] END svc__C=4.11711076089411, svc__gamma=0.010968217207529524; total time=   0.0s\n",
      "[CV] END svc__C=4.11711076089411, svc__gamma=0.010968217207529524; total time=   0.0s\n",
      "[CV] END svc__C=4.11711076089411, svc__gamma=0.010968217207529524; total time=   0.0s\n",
      "[CV] END svc__C=4.11711076089411, svc__gamma=0.010968217207529524; total time=   0.0s\n",
      "[CV] END svc__C=6.4671027934327965, svc__gamma=0.0023426581058204046; total time=   0.0s\n",
      "[CV] END svc__C=6.4671027934327965, svc__gamma=0.0023426581058204046; total time=   0.0s\n",
      "[CV] END svc__C=6.4671027934327965, svc__gamma=0.0023426581058204046; total time=   0.0s\n",
      "[CV] END svc__C=6.4671027934327965, svc__gamma=0.0023426581058204046; total time=   0.0s\n",
      "[CV] END svc__C=6.4671027934327965, svc__gamma=0.0023426581058204046; total time=   0.0s\n",
      "[CV] END svc__C=10.695846277645586, svc__gamma=0.035503048581283086; total time=   0.0s\n",
      "[CV] END svc__C=10.695846277645586, svc__gamma=0.035503048581283086; total time=   0.0s\n",
      "[CV] END svc__C=10.695846277645586, svc__gamma=0.035503048581283086; total time=   0.0s\n",
      "[CV] END svc__C=10.695846277645586, svc__gamma=0.035503048581283086; total time=   0.0s\n",
      "[CV] END svc__C=10.695846277645586, svc__gamma=0.035503048581283086; total time=   0.0s\n",
      "[CV] END svc__C=10.394989415641891, svc__gamma=0.06161049539380966; total time=   0.0s\n",
      "[CV] END svc__C=10.394989415641891, svc__gamma=0.06161049539380966; total time=   0.0s\n",
      "[CV] END svc__C=10.394989415641891, svc__gamma=0.06161049539380966; total time=   0.0s\n",
      "[CV] END svc__C=10.394989415641891, svc__gamma=0.06161049539380966; total time=   0.0s\n",
      "[CV] END svc__C=10.394989415641891, svc__gamma=0.06161049539380966; total time=   0.0s\n",
      "[CV] END svc__C=6.978999788110851, svc__gamma=0.06978281265126034; total time=   0.0s\n",
      "[CV] END svc__C=6.978999788110851, svc__gamma=0.06978281265126034; total time=   0.0s\n",
      "[CV] END svc__C=6.978999788110851, svc__gamma=0.06978281265126034; total time=   0.0s\n",
      "[CV] END svc__C=6.978999788110851, svc__gamma=0.06978281265126034; total time=   0.0s\n",
      "[CV] END svc__C=6.978999788110851, svc__gamma=0.06978281265126034; total time=   0.0s\n",
      "[CV] END svc__C=1.884925020519195, svc__gamma=0.0024658447214487376; total time=   0.0s\n",
      "[CV] END svc__C=1.884925020519195, svc__gamma=0.0024658447214487376; total time=   0.0s\n",
      "[CV] END svc__C=1.884925020519195, svc__gamma=0.0024658447214487376; total time=   0.0s\n",
      "[CV] END svc__C=1.884925020519195, svc__gamma=0.0024658447214487376; total time=   0.0s\n",
      "[CV] END svc__C=1.884925020519195, svc__gamma=0.0024658447214487376; total time=   0.0s\n",
      "[CV] END svc__C=1.4522728891053807, svc__gamma=0.004473636174621266; total time=   0.0s\n",
      "[CV] END svc__C=1.4522728891053807, svc__gamma=0.004473636174621266; total time=   0.0s\n",
      "[CV] END svc__C=1.4522728891053807, svc__gamma=0.004473636174621266; total time=   0.0s\n",
      "[CV] END svc__C=1.4522728891053807, svc__gamma=0.004473636174621266; total time=   0.0s\n",
      "[CV] END svc__C=1.4522728891053807, svc__gamma=0.004473636174621266; total time=   0.0s\n",
      "[CV] END svc__C=4.88677289689482, svc__gamma=0.003488976654890368; total time=   0.0s\n",
      "[CV] END svc__C=4.88677289689482, svc__gamma=0.003488976654890368; total time=   0.0s\n",
      "[CV] END svc__C=4.88677289689482, svc__gamma=0.003488976654890368; total time=   0.0s\n",
      "[CV] END svc__C=4.88677289689482, svc__gamma=0.003488976654890368; total time=   0.0s\n",
      "[CV] END svc__C=4.88677289689482, svc__gamma=0.003488976654890368; total time=   0.0s\n",
      "[CV] END svc__C=9.287375091519294, svc__gamma=0.005170191786366992; total time=   0.0s\n",
      "[CV] END svc__C=9.287375091519294, svc__gamma=0.005170191786366992; total time=   0.0s\n",
      "[CV] END svc__C=9.287375091519294, svc__gamma=0.005170191786366992; total time=   0.0s\n",
      "[CV] END svc__C=9.287375091519294, svc__gamma=0.005170191786366992; total time=   0.0s\n",
      "[CV] END svc__C=9.287375091519294, svc__gamma=0.005170191786366992; total time=   0.0s\n",
      "[CV] END svc__C=3.8093450968738076, svc__gamma=0.012172847081122434; total time=   0.0s\n",
      "[CV] END svc__C=3.8093450968738076, svc__gamma=0.012172847081122434; total time=   0.0s\n",
      "[CV] END svc__C=3.8093450968738076, svc__gamma=0.012172847081122434; total time=   0.0s\n",
      "[CV] END svc__C=3.8093450968738076, svc__gamma=0.012172847081122434; total time=   0.0s\n",
      "[CV] END svc__C=3.8093450968738076, svc__gamma=0.012172847081122434; total time=   0.0s\n",
      "[CV] END svc__C=2.4092422497476265, svc__gamma=0.040215545266902894; total time=   0.0s\n",
      "[CV] END svc__C=2.4092422497476265, svc__gamma=0.040215545266902894; total time=   0.0s\n",
      "[CV] END svc__C=2.4092422497476265, svc__gamma=0.040215545266902894; total time=   0.0s\n",
      "[CV] END svc__C=2.4092422497476265, svc__gamma=0.040215545266902894; total time=   0.0s\n",
      "[CV] END svc__C=2.4092422497476265, svc__gamma=0.040215545266902894; total time=   0.0s\n",
      "[CV] END svc__C=1.7455064367977082, svc__gamma=0.09413993046829945; total time=   0.0s\n",
      "[CV] END svc__C=1.7455064367977082, svc__gamma=0.09413993046829945; total time=   0.0s\n",
      "[CV] END svc__C=1.7455064367977082, svc__gamma=0.09413993046829945; total time=   0.0s\n",
      "[CV] END svc__C=1.7455064367977082, svc__gamma=0.09413993046829945; total time=   0.0s\n",
      "[CV] END svc__C=1.7455064367977082, svc__gamma=0.09413993046829945; total time=   0.0s\n",
      "[CV] END svc__C=8.722447692966574, svc__gamma=0.002497073714505273; total time=   0.0s\n",
      "[CV] END svc__C=8.722447692966574, svc__gamma=0.002497073714505273; total time=   0.0s\n",
      "[CV] END svc__C=8.722447692966574, svc__gamma=0.002497073714505273; total time=   0.0s\n",
      "[CV] END svc__C=8.722447692966574, svc__gamma=0.002497073714505273; total time=   0.0s\n",
      "[CV] END svc__C=8.722447692966574, svc__gamma=0.002497073714505273; total time=   0.0s\n",
      "[CV] END svc__C=1.055221171236024, svc__gamma=0.04274869455295218; total time=   0.0s\n",
      "[CV] END svc__C=1.055221171236024, svc__gamma=0.04274869455295218; total time=   0.0s\n",
      "[CV] END svc__C=1.055221171236024, svc__gamma=0.04274869455295218; total time=   0.0s\n",
      "[CV] END svc__C=1.055221171236024, svc__gamma=0.04274869455295218; total time=   0.0s\n",
      "[CV] END svc__C=1.055221171236024, svc__gamma=0.04274869455295218; total time=   0.0s\n",
      "[CV] END svc__C=8.068573438476172, svc__gamma=0.028708753481954688; total time=   0.0s\n",
      "[CV] END svc__C=8.068573438476172, svc__gamma=0.028708753481954688; total time=   0.0s\n",
      "[CV] END svc__C=8.068573438476172, svc__gamma=0.028708753481954688; total time=   0.0s\n",
      "[CV] END svc__C=8.068573438476172, svc__gamma=0.028708753481954688; total time=   0.0s\n",
      "[CV] END svc__C=8.068573438476172, svc__gamma=0.028708753481954688; total time=   0.0s\n",
      "[CV] END svc__C=8.712703466859457, svc__gamma=0.001406336677771817; total time=   0.0s\n",
      "[CV] END svc__C=8.712703466859457, svc__gamma=0.001406336677771817; total time=   0.0s\n",
      "[CV] END svc__C=8.712703466859457, svc__gamma=0.001406336677771817; total time=   0.0s\n",
      "[CV] END svc__C=8.712703466859457, svc__gamma=0.001406336677771817; total time=   0.0s\n",
      "[CV] END svc__C=8.712703466859457, svc__gamma=0.001406336677771817; total time=   0.0s\n",
      "[CV] END svc__C=4.584657285442726, svc__gamma=0.0017050539260269294; total time=   0.0s\n",
      "[CV] END svc__C=4.584657285442726, svc__gamma=0.0017050539260269294; total time=   0.0s\n",
      "[CV] END svc__C=4.584657285442726, svc__gamma=0.0017050539260269294; total time=   0.0s\n",
      "[CV] END svc__C=4.584657285442726, svc__gamma=0.0017050539260269294; total time=   0.0s\n",
      "[CV] END svc__C=4.584657285442726, svc__gamma=0.0017050539260269294; total time=   0.0s\n",
      "[CV] END svc__C=9.631034258755935, svc__gamma=0.01764396768338155; total time=   0.0s\n",
      "[CV] END svc__C=9.631034258755935, svc__gamma=0.01764396768338155; total time=   0.0s\n",
      "[CV] END svc__C=9.631034258755935, svc__gamma=0.01764396768338155; total time=   0.0s\n",
      "[CV] END svc__C=9.631034258755935, svc__gamma=0.01764396768338155; total time=   0.0s\n",
      "[CV] END svc__C=9.631034258755935, svc__gamma=0.01764396768338155; total time=   0.0s\n",
      "[CV] END svc__C=4.308980248526492, svc__gamma=0.0013400367243354798; total time=   0.0s\n",
      "[CV] END svc__C=4.308980248526492, svc__gamma=0.0013400367243354798; total time=   0.0s\n",
      "[CV] END svc__C=4.308980248526492, svc__gamma=0.0013400367243354798; total time=   0.0s\n",
      "[CV] END svc__C=4.308980248526492, svc__gamma=0.0013400367243354798; total time=   0.0s\n",
      "[CV] END svc__C=4.308980248526492, svc__gamma=0.0013400367243354798; total time=   0.0s\n",
      "[CV] END svc__C=4.109823217156622, svc__gamma=0.004470608546778492; total time=   0.0s\n",
      "[CV] END svc__C=4.109823217156622, svc__gamma=0.004470608546778492; total time=   0.0s\n",
      "[CV] END svc__C=4.109823217156622, svc__gamma=0.004470608546778492; total time=   0.0s\n",
      "[CV] END svc__C=4.109823217156622, svc__gamma=0.004470608546778492; total time=   0.0s\n",
      "[CV] END svc__C=4.109823217156622, svc__gamma=0.004470608546778492; total time=   0.0s\n",
      "[CV] END svc__C=8.29606178338064, svc__gamma=0.018841476921545086; total time=   0.0s\n",
      "[CV] END svc__C=8.29606178338064, svc__gamma=0.018841476921545086; total time=   0.0s\n",
      "[CV] END svc__C=8.29606178338064, svc__gamma=0.018841476921545086; total time=   0.0s\n",
      "[CV] END svc__C=8.29606178338064, svc__gamma=0.018841476921545086; total time=   0.0s\n",
      "[CV] END svc__C=8.29606178338064, svc__gamma=0.018841476921545086; total time=   0.0s\n",
      "[CV] END svc__C=9.872127425763265, svc__gamma=0.008798929749689027; total time=   0.0s\n",
      "[CV] END svc__C=9.872127425763265, svc__gamma=0.008798929749689027; total time=   0.0s\n",
      "[CV] END svc__C=9.872127425763265, svc__gamma=0.008798929749689027; total time=   0.0s\n",
      "[CV] END svc__C=9.872127425763265, svc__gamma=0.008798929749689027; total time=   0.0s\n",
      "[CV] END svc__C=9.872127425763265, svc__gamma=0.008798929749689027; total time=   0.0s\n",
      "[CV] END svc__C=2.195942459383017, svc__gamma=0.026698666742744605; total time=   0.0s\n",
      "[CV] END svc__C=2.195942459383017, svc__gamma=0.026698666742744605; total time=   0.0s\n",
      "[CV] END svc__C=2.195942459383017, svc__gamma=0.026698666742744605; total time=   0.0s\n",
      "[CV] END svc__C=2.195942459383017, svc__gamma=0.026698666742744605; total time=   0.0s\n",
      "[CV] END svc__C=2.195942459383017, svc__gamma=0.026698666742744605; total time=   0.0s\n",
      "[CV] END svc__C=8.607850486168974, svc__gamma=0.013260331922696548; total time=   0.0s\n",
      "[CV] END svc__C=8.607850486168974, svc__gamma=0.013260331922696548; total time=   0.0s\n",
      "[CV] END svc__C=8.607850486168974, svc__gamma=0.013260331922696548; total time=   0.0s\n",
      "[CV] END svc__C=8.607850486168974, svc__gamma=0.013260331922696548; total time=   0.0s\n",
      "[CV] END svc__C=8.607850486168974, svc__gamma=0.013260331922696548; total time=   0.0s\n",
      "[CV] END svc__C=8.70967179954561, svc__gamma=0.009718319944817401; total time=   0.0s\n",
      "[CV] END svc__C=8.70967179954561, svc__gamma=0.009718319944817401; total time=   0.0s\n",
      "[CV] END svc__C=8.70967179954561, svc__gamma=0.009718319944817401; total time=   0.0s\n",
      "[CV] END svc__C=8.70967179954561, svc__gamma=0.009718319944817401; total time=   0.0s\n",
      "[CV] END svc__C=8.70967179954561, svc__gamma=0.009718319944817401; total time=   0.0s\n",
      "[CV] END svc__C=6.227328293819941, svc__gamma=0.007162786999897343; total time=   0.0s\n",
      "[CV] END svc__C=6.227328293819941, svc__gamma=0.007162786999897343; total time=   0.0s\n",
      "[CV] END svc__C=6.227328293819941, svc__gamma=0.007162786999897343; total time=   0.0s\n",
      "[CV] END svc__C=6.227328293819941, svc__gamma=0.007162786999897343; total time=   0.0s\n",
      "[CV] END svc__C=6.227328293819941, svc__gamma=0.007162786999897343; total time=   0.0s\n",
      "[CV] END svc__C=1.2541912674409519, svc__gamma=0.001643549747511133; total time=   0.0s\n",
      "[CV] END svc__C=1.2541912674409519, svc__gamma=0.001643549747511133; total time=   0.0s\n",
      "[CV] END svc__C=1.2541912674409519, svc__gamma=0.001643549747511133; total time=   0.0s\n",
      "[CV] END svc__C=1.2541912674409519, svc__gamma=0.001643549747511133; total time=   0.0s\n",
      "[CV] END svc__C=1.2541912674409519, svc__gamma=0.001643549747511133; total time=   0.0s\n",
      "[CV] END svc__C=1.3142918568673425, svc__gamma=0.0187422109855557; total time=   0.0s\n",
      "[CV] END svc__C=1.3142918568673425, svc__gamma=0.0187422109855557; total time=   0.0s\n",
      "[CV] END svc__C=1.3142918568673425, svc__gamma=0.0187422109855557; total time=   0.0s\n",
      "[CV] END svc__C=1.3142918568673425, svc__gamma=0.0187422109855557; total time=   0.0s\n",
      "[CV] END svc__C=1.3142918568673425, svc__gamma=0.0187422109855557; total time=   0.0s\n",
      "[CV] END svc__C=4.143559810763267, svc__gamma=0.010402587615883844; total time=   0.0s\n",
      "[CV] END svc__C=4.143559810763267, svc__gamma=0.010402587615883844; total time=   0.0s\n",
      "[CV] END svc__C=4.143559810763267, svc__gamma=0.010402587615883844; total time=   0.0s\n",
      "[CV] END svc__C=4.143559810763267, svc__gamma=0.010402587615883844; total time=   0.0s\n",
      "[CV] END svc__C=4.143559810763267, svc__gamma=0.010402587615883844; total time=   0.0s\n",
      "[CV] END svc__C=10.07566473926093, svc__gamma=0.00315198729519389; total time=   0.0s\n",
      "[CV] END svc__C=10.07566473926093, svc__gamma=0.00315198729519389; total time=   0.0s\n",
      "[CV] END svc__C=10.07566473926093, svc__gamma=0.00315198729519389; total time=   0.0s\n",
      "[CV] END svc__C=10.07566473926093, svc__gamma=0.00315198729519389; total time=   0.0s\n",
      "[CV] END svc__C=10.07566473926093, svc__gamma=0.00315198729519389; total time=   0.0s\n",
      "[CV] END svc__C=5.103829230356297, svc__gamma=0.03244160088734161; total time=   0.0s\n",
      "[CV] END svc__C=5.103829230356297, svc__gamma=0.03244160088734161; total time=   0.0s\n",
      "[CV] END svc__C=5.103829230356297, svc__gamma=0.03244160088734161; total time=   0.0s\n",
      "[CV] END svc__C=5.103829230356297, svc__gamma=0.03244160088734161; total time=   0.0s\n",
      "[CV] END svc__C=5.103829230356297, svc__gamma=0.03244160088734161; total time=   0.0s\n",
      "[CV] END svc__C=3.2879816549162246, svc__gamma=0.0014254757044027432; total time=   0.0s\n",
      "[CV] END svc__C=3.2879816549162246, svc__gamma=0.0014254757044027432; total time=   0.0s\n",
      "[CV] END svc__C=3.2879816549162246, svc__gamma=0.0014254757044027432; total time=   0.0s\n",
      "[CV] END svc__C=3.2879816549162246, svc__gamma=0.0014254757044027432; total time=   0.0s\n",
      "[CV] END svc__C=3.2879816549162246, svc__gamma=0.0014254757044027432; total time=   0.0s\n",
      "[CV] END svc__C=3.8975145291376805, svc__gamma=0.0021010799310103557; total time=   0.0s\n",
      "[CV] END svc__C=3.8975145291376805, svc__gamma=0.0021010799310103557; total time=   0.0s\n",
      "[CV] END svc__C=3.8975145291376805, svc__gamma=0.0021010799310103557; total time=   0.0s\n",
      "[CV] END svc__C=3.8975145291376805, svc__gamma=0.0021010799310103557; total time=   0.0s\n",
      "[CV] END svc__C=3.8975145291376805, svc__gamma=0.0021010799310103557; total time=   0.0s\n",
      "[CV] END svc__C=10.29697652342573, svc__gamma=0.04132765459466366; total time=   0.0s\n",
      "[CV] END svc__C=10.29697652342573, svc__gamma=0.04132765459466366; total time=   0.0s\n",
      "[CV] END svc__C=10.29697652342573, svc__gamma=0.04132765459466366; total time=   0.0s\n",
      "[CV] END svc__C=10.29697652342573, svc__gamma=0.04132765459466366; total time=   0.0s\n",
      "[CV] END svc__C=10.29697652342573, svc__gamma=0.04132765459466366; total time=   0.0s\n",
      "[CV] END svc__C=7.334037565104235, svc__gamma=0.05532496914298508; total time=   0.0s\n",
      "[CV] END svc__C=7.334037565104235, svc__gamma=0.05532496914298508; total time=   0.0s\n",
      "[CV] END svc__C=7.334037565104235, svc__gamma=0.05532496914298508; total time=   0.0s\n",
      "[CV] END svc__C=7.334037565104235, svc__gamma=0.05532496914298508; total time=   0.0s\n",
      "[CV] END svc__C=7.334037565104235, svc__gamma=0.05532496914298508; total time=   0.0s\n",
      "[CV] END svc__C=9.036720768991145, svc__gamma=0.0023612399244412607; total time=   0.0s\n",
      "[CV] END svc__C=9.036720768991145, svc__gamma=0.0023612399244412607; total time=   0.0s\n",
      "[CV] END svc__C=9.036720768991145, svc__gamma=0.0023612399244412607; total time=   0.0s\n",
      "[CV] END svc__C=9.036720768991145, svc__gamma=0.0023612399244412607; total time=   0.0s\n",
      "[CV] END svc__C=9.036720768991145, svc__gamma=0.0023612399244412607; total time=   0.0s\n",
      "[CV] END svc__C=9.925589984899778, svc__gamma=0.011986281799901188; total time=   0.0s\n",
      "[CV] END svc__C=9.925589984899778, svc__gamma=0.011986281799901188; total time=   0.0s\n",
      "[CV] END svc__C=9.925589984899778, svc__gamma=0.011986281799901188; total time=   0.0s\n",
      "[CV] END svc__C=9.925589984899778, svc__gamma=0.011986281799901188; total time=   0.0s\n",
      "[CV] END svc__C=9.925589984899778, svc__gamma=0.011986281799901188; total time=   0.0s\n",
      "[CV] END svc__C=9.074401551640625, svc__gamma=0.06197015748809146; total time=   0.0s\n",
      "[CV] END svc__C=9.074401551640625, svc__gamma=0.06197015748809146; total time=   0.0s\n",
      "[CV] END svc__C=9.074401551640625, svc__gamma=0.06197015748809146; total time=   0.0s\n",
      "[CV] END svc__C=9.074401551640625, svc__gamma=0.06197015748809146; total time=   0.0s\n",
      "[CV] END svc__C=9.074401551640625, svc__gamma=0.06197015748809146; total time=   0.0s\n",
      "[CV] END svc__C=4.180034749718638, svc__gamma=0.0016599837974449212; total time=   0.0s\n",
      "[CV] END svc__C=4.180034749718638, svc__gamma=0.0016599837974449212; total time=   0.0s\n",
      "[CV] END svc__C=4.180034749718638, svc__gamma=0.0016599837974449212; total time=   0.0s\n",
      "[CV] END svc__C=4.180034749718638, svc__gamma=0.0016599837974449212; total time=   0.0s\n",
      "[CV] END svc__C=4.180034749718638, svc__gamma=0.0016599837974449212; total time=   0.0s\n",
      "[CV] END svc__C=3.279351625419417, svc__gamma=0.007148510793512987; total time=   0.0s\n",
      "[CV] END svc__C=3.279351625419417, svc__gamma=0.007148510793512987; total time=   0.0s\n",
      "[CV] END svc__C=3.279351625419417, svc__gamma=0.007148510793512987; total time=   0.0s\n",
      "[CV] END svc__C=3.279351625419417, svc__gamma=0.007148510793512987; total time=   0.0s\n",
      "[CV] END svc__C=3.279351625419417, svc__gamma=0.007148510793512987; total time=   0.0s\n",
      "[CV] END svc__C=9.18014765922493, svc__gamma=0.05265761277157429; total time=   0.0s\n",
      "[CV] END svc__C=9.18014765922493, svc__gamma=0.05265761277157429; total time=   0.0s\n",
      "[CV] END svc__C=9.18014765922493, svc__gamma=0.05265761277157429; total time=   0.0s\n",
      "[CV] END svc__C=9.18014765922493, svc__gamma=0.05265761277157429; total time=   0.0s\n",
      "[CV] END svc__C=9.18014765922493, svc__gamma=0.05265761277157429; total time=   0.0s\n",
      "[CV] END svc__C=1.069521305311907, svc__gamma=0.010507384024181401; total time=   0.0s\n",
      "[CV] END svc__C=1.069521305311907, svc__gamma=0.010507384024181401; total time=   0.0s\n",
      "[CV] END svc__C=1.069521305311907, svc__gamma=0.010507384024181401; total time=   0.0s\n",
      "[CV] END svc__C=1.069521305311907, svc__gamma=0.010507384024181401; total time=   0.0s\n",
      "[CV] END svc__C=1.069521305311907, svc__gamma=0.010507384024181401; total time=   0.0s\n",
      "[CV] END svc__C=5.17411003148779, svc__gamma=0.0027810936979265548; total time=   0.0s\n",
      "[CV] END svc__C=5.17411003148779, svc__gamma=0.0027810936979265548; total time=   0.0s\n",
      "[CV] END svc__C=5.17411003148779, svc__gamma=0.0027810936979265548; total time=   0.0s\n",
      "[CV] END svc__C=5.17411003148779, svc__gamma=0.0027810936979265548; total time=   0.0s\n",
      "[CV] END svc__C=5.17411003148779, svc__gamma=0.0027810936979265548; total time=   0.0s\n",
      "[CV] END svc__C=2.1986536733368283, svc__gamma=0.0047340227734041914; total time=   0.0s\n",
      "[CV] END svc__C=2.1986536733368283, svc__gamma=0.0047340227734041914; total time=   0.0s\n",
      "[CV] END svc__C=2.1986536733368283, svc__gamma=0.0047340227734041914; total time=   0.0s\n",
      "[CV] END svc__C=2.1986536733368283, svc__gamma=0.0047340227734041914; total time=   0.0s\n",
      "[CV] END svc__C=2.1986536733368283, svc__gamma=0.0047340227734041914; total time=   0.0s\n",
      "[CV] END svc__C=10.429097039125192, svc__gamma=0.004430021806767984; total time=   0.0s\n",
      "[CV] END svc__C=10.429097039125192, svc__gamma=0.004430021806767984; total time=   0.0s\n",
      "[CV] END svc__C=10.429097039125192, svc__gamma=0.004430021806767984; total time=   0.0s\n",
      "[CV] END svc__C=10.429097039125192, svc__gamma=0.004430021806767984; total time=   0.0s\n",
      "[CV] END svc__C=10.429097039125192, svc__gamma=0.004430021806767984; total time=   0.0s\n",
      "[CV] END svc__C=6.187906217433661, svc__gamma=0.025470526233391178; total time=   0.0s\n",
      "[CV] END svc__C=6.187906217433661, svc__gamma=0.025470526233391178; total time=   0.0s\n",
      "[CV] END svc__C=6.187906217433661, svc__gamma=0.025470526233391178; total time=   0.0s\n",
      "[CV] END svc__C=6.187906217433661, svc__gamma=0.025470526233391178; total time=   0.0s\n",
      "[CV] END svc__C=6.187906217433661, svc__gamma=0.025470526233391178; total time=   0.0s\n",
      "[CV] END svc__C=4.63629602379294, svc__gamma=0.08781408196485979; total time=   0.0s\n",
      "[CV] END svc__C=4.63629602379294, svc__gamma=0.08781408196485979; total time=   0.0s\n",
      "[CV] END svc__C=4.63629602379294, svc__gamma=0.08781408196485979; total time=   0.0s\n",
      "[CV] END svc__C=4.63629602379294, svc__gamma=0.08781408196485979; total time=   0.0s\n",
      "[CV] END svc__C=4.63629602379294, svc__gamma=0.08781408196485979; total time=   0.0s\n",
      "[CV] END svc__C=10.624472949421111, svc__gamma=0.0031883397351001883; total time=   0.0s\n",
      "[CV] END svc__C=10.624472949421111, svc__gamma=0.0031883397351001883; total time=   0.0s\n",
      "[CV] END svc__C=10.624472949421111, svc__gamma=0.0031883397351001883; total time=   0.0s\n",
      "[CV] END svc__C=10.624472949421111, svc__gamma=0.0031883397351001883; total time=   0.0s\n",
      "[CV] END svc__C=10.624472949421111, svc__gamma=0.0031883397351001883; total time=   0.0s\n",
      "[CV] END svc__C=5.972485058923855, svc__gamma=0.0039972068191218065; total time=   0.0s\n",
      "[CV] END svc__C=5.972485058923855, svc__gamma=0.0039972068191218065; total time=   0.0s\n",
      "[CV] END svc__C=5.972485058923855, svc__gamma=0.0039972068191218065; total time=   0.0s\n",
      "[CV] END svc__C=5.972485058923855, svc__gamma=0.0039972068191218065; total time=   0.0s\n",
      "[CV] END svc__C=5.972485058923855, svc__gamma=0.0039972068191218065; total time=   0.0s\n",
      "[CV] END svc__C=3.848404943774676, svc__gamma=0.0011851515660043109; total time=   0.0s\n",
      "[CV] END svc__C=3.848404943774676, svc__gamma=0.0011851515660043109; total time=   0.0s\n",
      "[CV] END svc__C=3.848404943774676, svc__gamma=0.0011851515660043109; total time=   0.0s\n",
      "[CV] END svc__C=3.848404943774676, svc__gamma=0.0011851515660043109; total time=   0.0s\n",
      "[CV] END svc__C=3.848404943774676, svc__gamma=0.0011851515660043109; total time=   0.0s\n",
      "[CV] END svc__C=7.095643339798968, svc__gamma=0.010124137770478638; total time=   0.0s\n",
      "[CV] END svc__C=7.095643339798968, svc__gamma=0.010124137770478638; total time=   0.0s\n",
      "[CV] END svc__C=7.095643339798968, svc__gamma=0.010124137770478638; total time=   0.0s\n",
      "[CV] END svc__C=7.095643339798968, svc__gamma=0.010124137770478638; total time=   0.0s\n",
      "[CV] END svc__C=7.095643339798968, svc__gamma=0.010124137770478638; total time=   0.0s\n",
      "[CV] END svc__C=1.5147875124998935, svc__gamma=0.0036082193273637873; total time=   0.0s\n",
      "[CV] END svc__C=1.5147875124998935, svc__gamma=0.0036082193273637873; total time=   0.0s\n",
      "[CV] END svc__C=1.5147875124998935, svc__gamma=0.0036082193273637873; total time=   0.0s\n",
      "[CV] END svc__C=1.5147875124998935, svc__gamma=0.0036082193273637873; total time=   0.0s\n",
      "[CV] END svc__C=1.5147875124998935, svc__gamma=0.0036082193273637873; total time=   0.0s\n",
      "[CV] END svc__C=10.082658859666537, svc__gamma=0.003013864904679803; total time=   0.0s\n",
      "[CV] END svc__C=10.082658859666537, svc__gamma=0.003013864904679803; total time=   0.0s\n",
      "[CV] END svc__C=10.082658859666537, svc__gamma=0.003013864904679803; total time=   0.0s\n",
      "[CV] END svc__C=10.082658859666537, svc__gamma=0.003013864904679803; total time=   0.0s\n",
      "[CV] END svc__C=10.082658859666537, svc__gamma=0.003013864904679803; total time=   0.0s\n",
      "[CV] END svc__C=2.448948720912231, svc__gamma=0.009525889086580771; total time=   0.0s\n",
      "[CV] END svc__C=2.448948720912231, svc__gamma=0.009525889086580771; total time=   0.0s\n",
      "[CV] END svc__C=2.448948720912231, svc__gamma=0.009525889086580771; total time=   0.0s\n",
      "[CV] END svc__C=2.448948720912231, svc__gamma=0.009525889086580771; total time=   0.0s\n",
      "[CV] END svc__C=2.448948720912231, svc__gamma=0.009525889086580771; total time=   0.0s\n",
      "[CV] END svc__C=10.856504541106007, svc__gamma=0.0030486708834580683; total time=   0.0s\n",
      "[CV] END svc__C=10.856504541106007, svc__gamma=0.0030486708834580683; total time=   0.0s\n",
      "[CV] END svc__C=10.856504541106007, svc__gamma=0.0030486708834580683; total time=   0.0s\n",
      "[CV] END svc__C=10.856504541106007, svc__gamma=0.0030486708834580683; total time=   0.0s\n",
      "[CV] END svc__C=10.856504541106007, svc__gamma=0.0030486708834580683; total time=   0.0s\n",
      "[CV] END svc__C=7.721355474058786, svc__gamma=0.03336101309469785; total time=   0.0s\n",
      "[CV] END svc__C=7.721355474058786, svc__gamma=0.03336101309469785; total time=   0.0s\n",
      "[CV] END svc__C=7.721355474058786, svc__gamma=0.03336101309469785; total time=   0.0s\n",
      "[CV] END svc__C=7.721355474058786, svc__gamma=0.03336101309469785; total time=   0.0s\n",
      "[CV] END svc__C=7.721355474058786, svc__gamma=0.03336101309469785; total time=   0.0s\n",
      "[CV] END svc__C=3.3763754399239967, svc__gamma=0.02860439042982462; total time=   0.0s\n",
      "[CV] END svc__C=3.3763754399239967, svc__gamma=0.02860439042982462; total time=   0.0s\n",
      "[CV] END svc__C=3.3763754399239967, svc__gamma=0.02860439042982462; total time=   0.0s\n",
      "[CV] END svc__C=3.3763754399239967, svc__gamma=0.02860439042982462; total time=   0.0s\n",
      "[CV] END svc__C=3.3763754399239967, svc__gamma=0.02860439042982462; total time=   0.0s\n",
      "[CV] END svc__C=4.677831327192532, svc__gamma=0.018391267498289014; total time=   0.0s\n",
      "[CV] END svc__C=4.677831327192532, svc__gamma=0.018391267498289014; total time=   0.0s\n",
      "[CV] END svc__C=4.677831327192532, svc__gamma=0.018391267498289014; total time=   0.0s\n",
      "[CV] END svc__C=4.677831327192532, svc__gamma=0.018391267498289014; total time=   0.0s\n",
      "[CV] END svc__C=4.677831327192532, svc__gamma=0.018391267498289014; total time=   0.0s\n",
      "[CV] END svc__C=7.335297107608947, svc__gamma=0.011790965486776316; total time=   0.0s\n",
      "[CV] END svc__C=7.335297107608947, svc__gamma=0.011790965486776316; total time=   0.0s\n",
      "[CV] END svc__C=7.335297107608947, svc__gamma=0.011790965486776316; total time=   0.0s\n",
      "[CV] END svc__C=7.335297107608947, svc__gamma=0.011790965486776316; total time=   0.0s\n",
      "[CV] END svc__C=7.335297107608947, svc__gamma=0.011790965486776316; total time=   0.0s\n",
      "[CV] END svc__C=1.902897700544083, svc__gamma=0.046838717081187295; total time=   0.0s\n",
      "[CV] END svc__C=1.902897700544083, svc__gamma=0.046838717081187295; total time=   0.0s\n",
      "[CV] END svc__C=1.902897700544083, svc__gamma=0.046838717081187295; total time=   0.0s\n",
      "[CV] END svc__C=1.902897700544083, svc__gamma=0.046838717081187295; total time=   0.0s\n",
      "[CV] END svc__C=1.902897700544083, svc__gamma=0.046838717081187295; total time=   0.0s\n",
      "[CV] END svc__C=4.207800649717358, svc__gamma=0.0023606794572813066; total time=   0.0s\n",
      "[CV] END svc__C=4.207800649717358, svc__gamma=0.0023606794572813066; total time=   0.0s\n",
      "[CV] END svc__C=4.207800649717358, svc__gamma=0.0023606794572813066; total time=   0.0s\n",
      "[CV] END svc__C=4.207800649717358, svc__gamma=0.0023606794572813066; total time=   0.0s\n",
      "[CV] END svc__C=4.207800649717358, svc__gamma=0.0023606794572813066; total time=   0.0s\n",
      "[CV] END svc__C=1.4077514155476392, svc__gamma=0.01519798062003422; total time=   0.0s\n",
      "[CV] END svc__C=1.4077514155476392, svc__gamma=0.01519798062003422; total time=   0.0s\n",
      "[CV] END svc__C=1.4077514155476392, svc__gamma=0.01519798062003422; total time=   0.0s\n",
      "[CV] END svc__C=1.4077514155476392, svc__gamma=0.01519798062003422; total time=   0.0s\n",
      "[CV] END svc__C=1.4077514155476392, svc__gamma=0.01519798062003422; total time=   0.0s\n",
      "[CV] END svc__C=7.775643618422825, svc__gamma=0.0010793832090127276; total time=   0.0s\n",
      "[CV] END svc__C=7.775643618422825, svc__gamma=0.0010793832090127276; total time=   0.0s\n",
      "[CV] END svc__C=7.775643618422825, svc__gamma=0.0010793832090127276; total time=   0.0s\n",
      "[CV] END svc__C=7.775643618422825, svc__gamma=0.0010793832090127276; total time=   0.0s\n",
      "[CV] END svc__C=7.775643618422825, svc__gamma=0.0010793832090127276; total time=   0.0s\n",
      "[CV] END svc__C=6.12093058299281, svc__gamma=0.002837863814617626; total time=   0.0s\n",
      "[CV] END svc__C=6.12093058299281, svc__gamma=0.002837863814617626; total time=   0.0s\n",
      "[CV] END svc__C=6.12093058299281, svc__gamma=0.002837863814617626; total time=   0.0s\n",
      "[CV] END svc__C=6.12093058299281, svc__gamma=0.002837863814617626; total time=   0.0s\n",
      "[CV] END svc__C=6.12093058299281, svc__gamma=0.002837863814617626; total time=   0.0s\n",
      "[CV] END svc__C=7.451727904094499, svc__gamma=0.0022321987366901576; total time=   0.0s\n",
      "[CV] END svc__C=7.451727904094499, svc__gamma=0.0022321987366901576; total time=   0.0s\n",
      "[CV] END svc__C=7.451727904094499, svc__gamma=0.0022321987366901576; total time=   0.0s\n",
      "[CV] END svc__C=7.451727904094499, svc__gamma=0.0022321987366901576; total time=   0.0s\n",
      "[CV] END svc__C=7.451727904094499, svc__gamma=0.0022321987366901576; total time=   0.0s\n",
      "[CV] END svc__C=7.90937738102466, svc__gamma=0.005935682912014687; total time=   0.0s\n",
      "[CV] END svc__C=7.90937738102466, svc__gamma=0.005935682912014687; total time=   0.0s\n",
      "[CV] END svc__C=7.90937738102466, svc__gamma=0.005935682912014687; total time=   0.0s\n",
      "[CV] END svc__C=7.90937738102466, svc__gamma=0.005935682912014687; total time=   0.0s\n",
      "[CV] END svc__C=7.90937738102466, svc__gamma=0.005935682912014687; total time=   0.0s\n",
      "[CV] END svc__C=10.367299887367345, svc__gamma=0.0018838307787619744; total time=   0.0s\n",
      "[CV] END svc__C=10.367299887367345, svc__gamma=0.0018838307787619744; total time=   0.0s\n",
      "[CV] END svc__C=10.367299887367345, svc__gamma=0.0018838307787619744; total time=   0.0s\n",
      "[CV] END svc__C=10.367299887367345, svc__gamma=0.0018838307787619744; total time=   0.0s\n",
      "[CV] END svc__C=10.367299887367345, svc__gamma=0.0018838307787619744; total time=   0.0s\n",
      "[CV] END svc__C=4.4106635105025855, svc__gamma=0.0016863473810115068; total time=   0.0s\n",
      "[CV] END svc__C=4.4106635105025855, svc__gamma=0.0016863473810115068; total time=   0.0s\n",
      "[CV] END svc__C=4.4106635105025855, svc__gamma=0.0016863473810115068; total time=   0.0s\n",
      "[CV] END svc__C=4.4106635105025855, svc__gamma=0.0016863473810115068; total time=   0.0s\n",
      "[CV] END svc__C=4.4106635105025855, svc__gamma=0.0016863473810115068; total time=   0.0s\n",
      "[CV] END svc__C=10.246936182785628, svc__gamma=0.056843224622122726; total time=   0.0s\n",
      "[CV] END svc__C=10.246936182785628, svc__gamma=0.056843224622122726; total time=   0.0s\n",
      "[CV] END svc__C=10.246936182785628, svc__gamma=0.056843224622122726; total time=   0.0s\n",
      "[CV] END svc__C=10.246936182785628, svc__gamma=0.056843224622122726; total time=   0.0s\n",
      "[CV] END svc__C=10.246936182785628, svc__gamma=0.056843224622122726; total time=   0.0s\n",
      "[CV] END svc__C=3.579416277151556, svc__gamma=0.020891426343856455; total time=   0.0s\n",
      "[CV] END svc__C=3.579416277151556, svc__gamma=0.020891426343856455; total time=   0.0s\n",
      "[CV] END svc__C=3.579416277151556, svc__gamma=0.020891426343856455; total time=   0.0s\n",
      "[CV] END svc__C=3.579416277151556, svc__gamma=0.020891426343856455; total time=   0.0s\n",
      "[CV] END svc__C=3.579416277151556, svc__gamma=0.020891426343856455; total time=   0.0s\n",
      "[CV] END svc__C=9.172222002012159, svc__gamma=0.012894414393074182; total time=   0.0s\n",
      "[CV] END svc__C=9.172222002012159, svc__gamma=0.012894414393074182; total time=   0.0s\n",
      "[CV] END svc__C=9.172222002012159, svc__gamma=0.012894414393074182; total time=   0.0s\n",
      "[CV] END svc__C=9.172222002012159, svc__gamma=0.012894414393074182; total time=   0.0s\n",
      "[CV] END svc__C=9.172222002012159, svc__gamma=0.012894414393074182; total time=   0.0s\n",
      "[CV] END svc__C=6.296505783560065, svc__gamma=0.0030458224385894067; total time=   0.0s\n",
      "[CV] END svc__C=6.296505783560065, svc__gamma=0.0030458224385894067; total time=   0.0s\n",
      "[CV] END svc__C=6.296505783560065, svc__gamma=0.0030458224385894067; total time=   0.0s\n",
      "[CV] END svc__C=6.296505783560065, svc__gamma=0.0030458224385894067; total time=   0.0s\n",
      "[CV] END svc__C=6.296505783560065, svc__gamma=0.0030458224385894067; total time=   0.0s\n",
      "[CV] END svc__C=1.9310276780589921, svc__gamma=0.06229189113188561; total time=   0.0s\n",
      "[CV] END svc__C=1.9310276780589921, svc__gamma=0.06229189113188561; total time=   0.0s\n",
      "[CV] END svc__C=1.9310276780589921, svc__gamma=0.06229189113188561; total time=   0.0s\n",
      "[CV] END svc__C=1.9310276780589921, svc__gamma=0.06229189113188561; total time=   0.0s\n",
      "[CV] END svc__C=1.9310276780589921, svc__gamma=0.06229189113188561; total time=   0.0s\n",
      "[CV] END svc__C=10.004180571633304, svc__gamma=0.018458776634788645; total time=   0.0s\n",
      "[CV] END svc__C=10.004180571633304, svc__gamma=0.018458776634788645; total time=   0.0s\n",
      "[CV] END svc__C=10.004180571633304, svc__gamma=0.018458776634788645; total time=   0.0s\n",
      "[CV] END svc__C=10.004180571633304, svc__gamma=0.018458776634788645; total time=   0.0s\n",
      "[CV] END svc__C=10.004180571633304, svc__gamma=0.018458776634788645; total time=   0.0s\n",
      "[CV] END svc__C=4.390297910487007, svc__gamma=0.004993662066506421; total time=   0.0s\n",
      "[CV] END svc__C=4.390297910487007, svc__gamma=0.004993662066506421; total time=   0.0s\n",
      "[CV] END svc__C=4.390297910487007, svc__gamma=0.004993662066506421; total time=   0.0s\n",
      "[CV] END svc__C=4.390297910487007, svc__gamma=0.004993662066506421; total time=   0.0s\n",
      "[CV] END svc__C=4.390297910487007, svc__gamma=0.004993662066506421; total time=   0.0s\n",
      "[CV] END svc__C=8.259556788702394, svc__gamma=0.06226163482363463; total time=   0.0s\n",
      "[CV] END svc__C=8.259556788702394, svc__gamma=0.06226163482363463; total time=   0.0s\n",
      "[CV] END svc__C=8.259556788702394, svc__gamma=0.06226163482363463; total time=   0.0s\n",
      "[CV] END svc__C=8.259556788702394, svc__gamma=0.06226163482363463; total time=   0.0s\n",
      "[CV] END svc__C=8.259556788702394, svc__gamma=0.06226163482363463; total time=   0.0s\n",
      "[CV] END svc__C=9.870864242651173, svc__gamma=0.036287002255540685; total time=   0.0s\n",
      "[CV] END svc__C=9.870864242651173, svc__gamma=0.036287002255540685; total time=   0.0s\n",
      "[CV] END svc__C=9.870864242651173, svc__gamma=0.036287002255540685; total time=   0.0s\n",
      "[CV] END svc__C=9.870864242651173, svc__gamma=0.036287002255540685; total time=   0.0s\n",
      "[CV] END svc__C=9.870864242651173, svc__gamma=0.036287002255540685; total time=   0.0s\n"
     ]
    },
    {
     "data": {
      "text/html": [
       "<style>#sk-container-id-128 {color: black;}#sk-container-id-128 pre{padding: 0;}#sk-container-id-128 div.sk-toggleable {background-color: white;}#sk-container-id-128 label.sk-toggleable__label {cursor: pointer;display: block;width: 100%;margin-bottom: 0;padding: 0.3em;box-sizing: border-box;text-align: center;}#sk-container-id-128 label.sk-toggleable__label-arrow:before {content: \"▸\";float: left;margin-right: 0.25em;color: #696969;}#sk-container-id-128 label.sk-toggleable__label-arrow:hover:before {color: black;}#sk-container-id-128 div.sk-estimator:hover label.sk-toggleable__label-arrow:before {color: black;}#sk-container-id-128 div.sk-toggleable__content {max-height: 0;max-width: 0;overflow: hidden;text-align: left;background-color: #f0f8ff;}#sk-container-id-128 div.sk-toggleable__content pre {margin: 0.2em;color: black;border-radius: 0.25em;background-color: #f0f8ff;}#sk-container-id-128 input.sk-toggleable__control:checked~div.sk-toggleable__content {max-height: 200px;max-width: 100%;overflow: auto;}#sk-container-id-128 input.sk-toggleable__control:checked~label.sk-toggleable__label-arrow:before {content: \"▾\";}#sk-container-id-128 div.sk-estimator input.sk-toggleable__control:checked~label.sk-toggleable__label {background-color: #d4ebff;}#sk-container-id-128 div.sk-label input.sk-toggleable__control:checked~label.sk-toggleable__label {background-color: #d4ebff;}#sk-container-id-128 input.sk-hidden--visually {border: 0;clip: rect(1px 1px 1px 1px);clip: rect(1px, 1px, 1px, 1px);height: 1px;margin: -1px;overflow: hidden;padding: 0;position: absolute;width: 1px;}#sk-container-id-128 div.sk-estimator {font-family: monospace;background-color: #f0f8ff;border: 1px dotted black;border-radius: 0.25em;box-sizing: border-box;margin-bottom: 0.5em;}#sk-container-id-128 div.sk-estimator:hover {background-color: #d4ebff;}#sk-container-id-128 div.sk-parallel-item::after {content: \"\";width: 100%;border-bottom: 1px solid gray;flex-grow: 1;}#sk-container-id-128 div.sk-label:hover label.sk-toggleable__label {background-color: #d4ebff;}#sk-container-id-128 div.sk-serial::before {content: \"\";position: absolute;border-left: 1px solid gray;box-sizing: border-box;top: 0;bottom: 0;left: 50%;z-index: 0;}#sk-container-id-128 div.sk-serial {display: flex;flex-direction: column;align-items: center;background-color: white;padding-right: 0.2em;padding-left: 0.2em;position: relative;}#sk-container-id-128 div.sk-item {position: relative;z-index: 1;}#sk-container-id-128 div.sk-parallel {display: flex;align-items: stretch;justify-content: center;background-color: white;position: relative;}#sk-container-id-128 div.sk-item::before, #sk-container-id-128 div.sk-parallel-item::before {content: \"\";position: absolute;border-left: 1px solid gray;box-sizing: border-box;top: 0;bottom: 0;left: 50%;z-index: -1;}#sk-container-id-128 div.sk-parallel-item {display: flex;flex-direction: column;z-index: 1;position: relative;background-color: white;}#sk-container-id-128 div.sk-parallel-item:first-child::after {align-self: flex-end;width: 50%;}#sk-container-id-128 div.sk-parallel-item:last-child::after {align-self: flex-start;width: 50%;}#sk-container-id-128 div.sk-parallel-item:only-child::after {width: 0;}#sk-container-id-128 div.sk-dashed-wrapped {border: 1px dashed gray;margin: 0 0.4em 0.5em 0.4em;box-sizing: border-box;padding-bottom: 0.4em;background-color: white;}#sk-container-id-128 div.sk-label label {font-family: monospace;font-weight: bold;display: inline-block;line-height: 1.2em;}#sk-container-id-128 div.sk-label-container {text-align: center;}#sk-container-id-128 div.sk-container {/* jupyter's `normalize.less` sets `[hidden] { display: none; }` but bootstrap.min.css set `[hidden] { display: none !important; }` so we also need the `!important` here to be able to override the default hidden behavior on the sphinx rendered scikit-learn.org. See: https://github.com/scikit-learn/scikit-learn/issues/21755 */display: inline-block !important;position: relative;}#sk-container-id-128 div.sk-text-repr-fallback {display: none;}</style><div id=\"sk-container-id-128\" class=\"sk-top-container\"><div class=\"sk-text-repr-fallback\"><pre>RandomizedSearchCV(cv=5,\n",
       "                   estimator=Pipeline(steps=[(&#x27;preprocessing&#x27;,\n",
       "                                              ColumnTransformer(transformers=[(&#x27;scale&#x27;,\n",
       "                                                                               StandardScaler(),\n",
       "                                                                               [&#x27;alcohol&#x27;,\n",
       "                                                                                &#x27;malic_acid&#x27;,\n",
       "                                                                                &#x27;ash&#x27;,\n",
       "                                                                                &#x27;alcalinity_of_ash&#x27;,\n",
       "                                                                                &#x27;magnesium&#x27;,\n",
       "                                                                                &#x27;total_phenols&#x27;,\n",
       "                                                                                &#x27;flavanoids&#x27;,\n",
       "                                                                                &#x27;nonflavanoid_phenols&#x27;,\n",
       "                                                                                &#x27;proanthocyanins&#x27;,\n",
       "                                                                                &#x27;color_intensity&#x27;,\n",
       "                                                                                &#x27;hue&#x27;,\n",
       "                                                                                &#x27;od280/od315_of_diluted_wines&#x27;,\n",
       "                                                                                &#x27;proline&#x27;])])),\n",
       "                                             (&#x27;svc&#x27;, SVC(random_state=42))]),\n",
       "                   n_iter=100,\n",
       "                   param_distributions={&#x27;svc__C&#x27;: &lt;scipy.stats._distn_infrastructure.rv_continuous_frozen object at 0x798809ba1ea0&gt;,\n",
       "                                        &#x27;svc__gamma&#x27;: &lt;scipy.stats._distn_infrastructure.rv_continuous_frozen object at 0x798809c9b2b0&gt;},\n",
       "                   random_state=42, verbose=2)</pre><b>In a Jupyter environment, please rerun this cell to show the HTML representation or trust the notebook. <br />On GitHub, the HTML representation is unable to render, please try loading this page with nbviewer.org.</b></div><div class=\"sk-container\" hidden><div class=\"sk-item sk-dashed-wrapped\"><div class=\"sk-label-container\"><div class=\"sk-label sk-toggleable\"><input class=\"sk-toggleable__control sk-hidden--visually\" id=\"sk-estimator-id-533\" type=\"checkbox\" ><label for=\"sk-estimator-id-533\" class=\"sk-toggleable__label sk-toggleable__label-arrow\">RandomizedSearchCV</label><div class=\"sk-toggleable__content\"><pre>RandomizedSearchCV(cv=5,\n",
       "                   estimator=Pipeline(steps=[(&#x27;preprocessing&#x27;,\n",
       "                                              ColumnTransformer(transformers=[(&#x27;scale&#x27;,\n",
       "                                                                               StandardScaler(),\n",
       "                                                                               [&#x27;alcohol&#x27;,\n",
       "                                                                                &#x27;malic_acid&#x27;,\n",
       "                                                                                &#x27;ash&#x27;,\n",
       "                                                                                &#x27;alcalinity_of_ash&#x27;,\n",
       "                                                                                &#x27;magnesium&#x27;,\n",
       "                                                                                &#x27;total_phenols&#x27;,\n",
       "                                                                                &#x27;flavanoids&#x27;,\n",
       "                                                                                &#x27;nonflavanoid_phenols&#x27;,\n",
       "                                                                                &#x27;proanthocyanins&#x27;,\n",
       "                                                                                &#x27;color_intensity&#x27;,\n",
       "                                                                                &#x27;hue&#x27;,\n",
       "                                                                                &#x27;od280/od315_of_diluted_wines&#x27;,\n",
       "                                                                                &#x27;proline&#x27;])])),\n",
       "                                             (&#x27;svc&#x27;, SVC(random_state=42))]),\n",
       "                   n_iter=100,\n",
       "                   param_distributions={&#x27;svc__C&#x27;: &lt;scipy.stats._distn_infrastructure.rv_continuous_frozen object at 0x798809ba1ea0&gt;,\n",
       "                                        &#x27;svc__gamma&#x27;: &lt;scipy.stats._distn_infrastructure.rv_continuous_frozen object at 0x798809c9b2b0&gt;},\n",
       "                   random_state=42, verbose=2)</pre></div></div></div><div class=\"sk-parallel\"><div class=\"sk-parallel-item\"><div class=\"sk-item\"><div class=\"sk-label-container\"><div class=\"sk-label sk-toggleable\"><input class=\"sk-toggleable__control sk-hidden--visually\" id=\"sk-estimator-id-534\" type=\"checkbox\" ><label for=\"sk-estimator-id-534\" class=\"sk-toggleable__label sk-toggleable__label-arrow\">estimator: Pipeline</label><div class=\"sk-toggleable__content\"><pre>Pipeline(steps=[(&#x27;preprocessing&#x27;,\n",
       "                 ColumnTransformer(transformers=[(&#x27;scale&#x27;, StandardScaler(),\n",
       "                                                  [&#x27;alcohol&#x27;, &#x27;malic_acid&#x27;,\n",
       "                                                   &#x27;ash&#x27;, &#x27;alcalinity_of_ash&#x27;,\n",
       "                                                   &#x27;magnesium&#x27;, &#x27;total_phenols&#x27;,\n",
       "                                                   &#x27;flavanoids&#x27;,\n",
       "                                                   &#x27;nonflavanoid_phenols&#x27;,\n",
       "                                                   &#x27;proanthocyanins&#x27;,\n",
       "                                                   &#x27;color_intensity&#x27;, &#x27;hue&#x27;,\n",
       "                                                   &#x27;od280/od315_of_diluted_wines&#x27;,\n",
       "                                                   &#x27;proline&#x27;])])),\n",
       "                (&#x27;svc&#x27;, SVC(random_state=42))])</pre></div></div></div><div class=\"sk-serial\"><div class=\"sk-item\"><div class=\"sk-serial\"><div class=\"sk-item sk-dashed-wrapped\"><div class=\"sk-label-container\"><div class=\"sk-label sk-toggleable\"><input class=\"sk-toggleable__control sk-hidden--visually\" id=\"sk-estimator-id-535\" type=\"checkbox\" ><label for=\"sk-estimator-id-535\" class=\"sk-toggleable__label sk-toggleable__label-arrow\">preprocessing: ColumnTransformer</label><div class=\"sk-toggleable__content\"><pre>ColumnTransformer(transformers=[(&#x27;scale&#x27;, StandardScaler(),\n",
       "                                 [&#x27;alcohol&#x27;, &#x27;malic_acid&#x27;, &#x27;ash&#x27;,\n",
       "                                  &#x27;alcalinity_of_ash&#x27;, &#x27;magnesium&#x27;,\n",
       "                                  &#x27;total_phenols&#x27;, &#x27;flavanoids&#x27;,\n",
       "                                  &#x27;nonflavanoid_phenols&#x27;, &#x27;proanthocyanins&#x27;,\n",
       "                                  &#x27;color_intensity&#x27;, &#x27;hue&#x27;,\n",
       "                                  &#x27;od280/od315_of_diluted_wines&#x27;, &#x27;proline&#x27;])])</pre></div></div></div><div class=\"sk-parallel\"><div class=\"sk-parallel-item\"><div class=\"sk-item\"><div class=\"sk-label-container\"><div class=\"sk-label sk-toggleable\"><input class=\"sk-toggleable__control sk-hidden--visually\" id=\"sk-estimator-id-536\" type=\"checkbox\" ><label for=\"sk-estimator-id-536\" class=\"sk-toggleable__label sk-toggleable__label-arrow\">scale</label><div class=\"sk-toggleable__content\"><pre>[&#x27;alcohol&#x27;, &#x27;malic_acid&#x27;, &#x27;ash&#x27;, &#x27;alcalinity_of_ash&#x27;, &#x27;magnesium&#x27;, &#x27;total_phenols&#x27;, &#x27;flavanoids&#x27;, &#x27;nonflavanoid_phenols&#x27;, &#x27;proanthocyanins&#x27;, &#x27;color_intensity&#x27;, &#x27;hue&#x27;, &#x27;od280/od315_of_diluted_wines&#x27;, &#x27;proline&#x27;]</pre></div></div></div><div class=\"sk-serial\"><div class=\"sk-item\"><div class=\"sk-estimator sk-toggleable\"><input class=\"sk-toggleable__control sk-hidden--visually\" id=\"sk-estimator-id-537\" type=\"checkbox\" ><label for=\"sk-estimator-id-537\" class=\"sk-toggleable__label sk-toggleable__label-arrow\">StandardScaler</label><div class=\"sk-toggleable__content\"><pre>StandardScaler()</pre></div></div></div></div></div></div></div></div><div class=\"sk-item\"><div class=\"sk-estimator sk-toggleable\"><input class=\"sk-toggleable__control sk-hidden--visually\" id=\"sk-estimator-id-538\" type=\"checkbox\" ><label for=\"sk-estimator-id-538\" class=\"sk-toggleable__label sk-toggleable__label-arrow\">SVC</label><div class=\"sk-toggleable__content\"><pre>SVC(random_state=42)</pre></div></div></div></div></div></div></div></div></div></div></div></div>"
      ],
      "text/plain": [
       "RandomizedSearchCV(cv=5,\n",
       "                   estimator=Pipeline(steps=[('preprocessing',\n",
       "                                              ColumnTransformer(transformers=[('scale',\n",
       "                                                                               StandardScaler(),\n",
       "                                                                               ['alcohol',\n",
       "                                                                                'malic_acid',\n",
       "                                                                                'ash',\n",
       "                                                                                'alcalinity_of_ash',\n",
       "                                                                                'magnesium',\n",
       "                                                                                'total_phenols',\n",
       "                                                                                'flavanoids',\n",
       "                                                                                'nonflavanoid_phenols',\n",
       "                                                                                'proanthocyanins',\n",
       "                                                                                'color_intensity',\n",
       "                                                                                'hue',\n",
       "                                                                                'od280/od315_of_diluted_wines',\n",
       "                                                                                'proline'])])),\n",
       "                                             ('svc', SVC(random_state=42))]),\n",
       "                   n_iter=100,\n",
       "                   param_distributions={'svc__C': <scipy.stats._distn_infrastructure.rv_continuous_frozen object at 0x798809ba1ea0>,\n",
       "                                        'svc__gamma': <scipy.stats._distn_infrastructure.rv_continuous_frozen object at 0x798809c9b2b0>},\n",
       "                   random_state=42, verbose=2)"
      ]
     },
     "execution_count": 744,
     "metadata": {},
     "output_type": "execute_result"
    }
   ],
   "source": [
    "random_search.fit(X_train, y_train)"
   ]
  },
  {
   "cell_type": "code",
   "execution_count": 745,
   "id": "115e0d86",
   "metadata": {},
   "outputs": [
    {
     "data": {
      "text/plain": [
       "{'svc__C': 2.560186404424365, 'svc__gamma': 0.002051110418843397}"
      ]
     },
     "execution_count": 745,
     "metadata": {},
     "output_type": "execute_result"
    }
   ],
   "source": [
    "random_search.best_params_"
   ]
  },
  {
   "cell_type": "code",
   "execution_count": 746,
   "id": "9c29249e",
   "metadata": {},
   "outputs": [
    {
     "data": {
      "text/html": [
       "<style>#sk-container-id-129 {color: black;}#sk-container-id-129 pre{padding: 0;}#sk-container-id-129 div.sk-toggleable {background-color: white;}#sk-container-id-129 label.sk-toggleable__label {cursor: pointer;display: block;width: 100%;margin-bottom: 0;padding: 0.3em;box-sizing: border-box;text-align: center;}#sk-container-id-129 label.sk-toggleable__label-arrow:before {content: \"▸\";float: left;margin-right: 0.25em;color: #696969;}#sk-container-id-129 label.sk-toggleable__label-arrow:hover:before {color: black;}#sk-container-id-129 div.sk-estimator:hover label.sk-toggleable__label-arrow:before {color: black;}#sk-container-id-129 div.sk-toggleable__content {max-height: 0;max-width: 0;overflow: hidden;text-align: left;background-color: #f0f8ff;}#sk-container-id-129 div.sk-toggleable__content pre {margin: 0.2em;color: black;border-radius: 0.25em;background-color: #f0f8ff;}#sk-container-id-129 input.sk-toggleable__control:checked~div.sk-toggleable__content {max-height: 200px;max-width: 100%;overflow: auto;}#sk-container-id-129 input.sk-toggleable__control:checked~label.sk-toggleable__label-arrow:before {content: \"▾\";}#sk-container-id-129 div.sk-estimator input.sk-toggleable__control:checked~label.sk-toggleable__label {background-color: #d4ebff;}#sk-container-id-129 div.sk-label input.sk-toggleable__control:checked~label.sk-toggleable__label {background-color: #d4ebff;}#sk-container-id-129 input.sk-hidden--visually {border: 0;clip: rect(1px 1px 1px 1px);clip: rect(1px, 1px, 1px, 1px);height: 1px;margin: -1px;overflow: hidden;padding: 0;position: absolute;width: 1px;}#sk-container-id-129 div.sk-estimator {font-family: monospace;background-color: #f0f8ff;border: 1px dotted black;border-radius: 0.25em;box-sizing: border-box;margin-bottom: 0.5em;}#sk-container-id-129 div.sk-estimator:hover {background-color: #d4ebff;}#sk-container-id-129 div.sk-parallel-item::after {content: \"\";width: 100%;border-bottom: 1px solid gray;flex-grow: 1;}#sk-container-id-129 div.sk-label:hover label.sk-toggleable__label {background-color: #d4ebff;}#sk-container-id-129 div.sk-serial::before {content: \"\";position: absolute;border-left: 1px solid gray;box-sizing: border-box;top: 0;bottom: 0;left: 50%;z-index: 0;}#sk-container-id-129 div.sk-serial {display: flex;flex-direction: column;align-items: center;background-color: white;padding-right: 0.2em;padding-left: 0.2em;position: relative;}#sk-container-id-129 div.sk-item {position: relative;z-index: 1;}#sk-container-id-129 div.sk-parallel {display: flex;align-items: stretch;justify-content: center;background-color: white;position: relative;}#sk-container-id-129 div.sk-item::before, #sk-container-id-129 div.sk-parallel-item::before {content: \"\";position: absolute;border-left: 1px solid gray;box-sizing: border-box;top: 0;bottom: 0;left: 50%;z-index: -1;}#sk-container-id-129 div.sk-parallel-item {display: flex;flex-direction: column;z-index: 1;position: relative;background-color: white;}#sk-container-id-129 div.sk-parallel-item:first-child::after {align-self: flex-end;width: 50%;}#sk-container-id-129 div.sk-parallel-item:last-child::after {align-self: flex-start;width: 50%;}#sk-container-id-129 div.sk-parallel-item:only-child::after {width: 0;}#sk-container-id-129 div.sk-dashed-wrapped {border: 1px dashed gray;margin: 0 0.4em 0.5em 0.4em;box-sizing: border-box;padding-bottom: 0.4em;background-color: white;}#sk-container-id-129 div.sk-label label {font-family: monospace;font-weight: bold;display: inline-block;line-height: 1.2em;}#sk-container-id-129 div.sk-label-container {text-align: center;}#sk-container-id-129 div.sk-container {/* jupyter's `normalize.less` sets `[hidden] { display: none; }` but bootstrap.min.css set `[hidden] { display: none !important; }` so we also need the `!important` here to be able to override the default hidden behavior on the sphinx rendered scikit-learn.org. See: https://github.com/scikit-learn/scikit-learn/issues/21755 */display: inline-block !important;position: relative;}#sk-container-id-129 div.sk-text-repr-fallback {display: none;}</style><div id=\"sk-container-id-129\" class=\"sk-top-container\"><div class=\"sk-text-repr-fallback\"><pre>Pipeline(steps=[(&#x27;preprocessing&#x27;,\n",
       "                 ColumnTransformer(transformers=[(&#x27;scale&#x27;, StandardScaler(),\n",
       "                                                  [&#x27;alcohol&#x27;, &#x27;malic_acid&#x27;,\n",
       "                                                   &#x27;ash&#x27;, &#x27;alcalinity_of_ash&#x27;,\n",
       "                                                   &#x27;magnesium&#x27;, &#x27;total_phenols&#x27;,\n",
       "                                                   &#x27;flavanoids&#x27;,\n",
       "                                                   &#x27;nonflavanoid_phenols&#x27;,\n",
       "                                                   &#x27;proanthocyanins&#x27;,\n",
       "                                                   &#x27;color_intensity&#x27;, &#x27;hue&#x27;,\n",
       "                                                   &#x27;od280/od315_of_diluted_wines&#x27;,\n",
       "                                                   &#x27;proline&#x27;])])),\n",
       "                (&#x27;svc&#x27;,\n",
       "                 SVC(C=2.560186404424365, gamma=0.002051110418843397,\n",
       "                     random_state=42))])</pre><b>In a Jupyter environment, please rerun this cell to show the HTML representation or trust the notebook. <br />On GitHub, the HTML representation is unable to render, please try loading this page with nbviewer.org.</b></div><div class=\"sk-container\" hidden><div class=\"sk-item sk-dashed-wrapped\"><div class=\"sk-label-container\"><div class=\"sk-label sk-toggleable\"><input class=\"sk-toggleable__control sk-hidden--visually\" id=\"sk-estimator-id-539\" type=\"checkbox\" ><label for=\"sk-estimator-id-539\" class=\"sk-toggleable__label sk-toggleable__label-arrow\">Pipeline</label><div class=\"sk-toggleable__content\"><pre>Pipeline(steps=[(&#x27;preprocessing&#x27;,\n",
       "                 ColumnTransformer(transformers=[(&#x27;scale&#x27;, StandardScaler(),\n",
       "                                                  [&#x27;alcohol&#x27;, &#x27;malic_acid&#x27;,\n",
       "                                                   &#x27;ash&#x27;, &#x27;alcalinity_of_ash&#x27;,\n",
       "                                                   &#x27;magnesium&#x27;, &#x27;total_phenols&#x27;,\n",
       "                                                   &#x27;flavanoids&#x27;,\n",
       "                                                   &#x27;nonflavanoid_phenols&#x27;,\n",
       "                                                   &#x27;proanthocyanins&#x27;,\n",
       "                                                   &#x27;color_intensity&#x27;, &#x27;hue&#x27;,\n",
       "                                                   &#x27;od280/od315_of_diluted_wines&#x27;,\n",
       "                                                   &#x27;proline&#x27;])])),\n",
       "                (&#x27;svc&#x27;,\n",
       "                 SVC(C=2.560186404424365, gamma=0.002051110418843397,\n",
       "                     random_state=42))])</pre></div></div></div><div class=\"sk-serial\"><div class=\"sk-item sk-dashed-wrapped\"><div class=\"sk-label-container\"><div class=\"sk-label sk-toggleable\"><input class=\"sk-toggleable__control sk-hidden--visually\" id=\"sk-estimator-id-540\" type=\"checkbox\" ><label for=\"sk-estimator-id-540\" class=\"sk-toggleable__label sk-toggleable__label-arrow\">preprocessing: ColumnTransformer</label><div class=\"sk-toggleable__content\"><pre>ColumnTransformer(transformers=[(&#x27;scale&#x27;, StandardScaler(),\n",
       "                                 [&#x27;alcohol&#x27;, &#x27;malic_acid&#x27;, &#x27;ash&#x27;,\n",
       "                                  &#x27;alcalinity_of_ash&#x27;, &#x27;magnesium&#x27;,\n",
       "                                  &#x27;total_phenols&#x27;, &#x27;flavanoids&#x27;,\n",
       "                                  &#x27;nonflavanoid_phenols&#x27;, &#x27;proanthocyanins&#x27;,\n",
       "                                  &#x27;color_intensity&#x27;, &#x27;hue&#x27;,\n",
       "                                  &#x27;od280/od315_of_diluted_wines&#x27;, &#x27;proline&#x27;])])</pre></div></div></div><div class=\"sk-parallel\"><div class=\"sk-parallel-item\"><div class=\"sk-item\"><div class=\"sk-label-container\"><div class=\"sk-label sk-toggleable\"><input class=\"sk-toggleable__control sk-hidden--visually\" id=\"sk-estimator-id-541\" type=\"checkbox\" ><label for=\"sk-estimator-id-541\" class=\"sk-toggleable__label sk-toggleable__label-arrow\">scale</label><div class=\"sk-toggleable__content\"><pre>[&#x27;alcohol&#x27;, &#x27;malic_acid&#x27;, &#x27;ash&#x27;, &#x27;alcalinity_of_ash&#x27;, &#x27;magnesium&#x27;, &#x27;total_phenols&#x27;, &#x27;flavanoids&#x27;, &#x27;nonflavanoid_phenols&#x27;, &#x27;proanthocyanins&#x27;, &#x27;color_intensity&#x27;, &#x27;hue&#x27;, &#x27;od280/od315_of_diluted_wines&#x27;, &#x27;proline&#x27;]</pre></div></div></div><div class=\"sk-serial\"><div class=\"sk-item\"><div class=\"sk-estimator sk-toggleable\"><input class=\"sk-toggleable__control sk-hidden--visually\" id=\"sk-estimator-id-542\" type=\"checkbox\" ><label for=\"sk-estimator-id-542\" class=\"sk-toggleable__label sk-toggleable__label-arrow\">StandardScaler</label><div class=\"sk-toggleable__content\"><pre>StandardScaler()</pre></div></div></div></div></div></div></div></div><div class=\"sk-item\"><div class=\"sk-estimator sk-toggleable\"><input class=\"sk-toggleable__control sk-hidden--visually\" id=\"sk-estimator-id-543\" type=\"checkbox\" ><label for=\"sk-estimator-id-543\" class=\"sk-toggleable__label sk-toggleable__label-arrow\">SVC</label><div class=\"sk-toggleable__content\"><pre>SVC(C=2.560186404424365, gamma=0.002051110418843397, random_state=42)</pre></div></div></div></div></div></div></div>"
      ],
      "text/plain": [
       "Pipeline(steps=[('preprocessing',\n",
       "                 ColumnTransformer(transformers=[('scale', StandardScaler(),\n",
       "                                                  ['alcohol', 'malic_acid',\n",
       "                                                   'ash', 'alcalinity_of_ash',\n",
       "                                                   'magnesium', 'total_phenols',\n",
       "                                                   'flavanoids',\n",
       "                                                   'nonflavanoid_phenols',\n",
       "                                                   'proanthocyanins',\n",
       "                                                   'color_intensity', 'hue',\n",
       "                                                   'od280/od315_of_diluted_wines',\n",
       "                                                   'proline'])])),\n",
       "                ('svc',\n",
       "                 SVC(C=2.560186404424365, gamma=0.002051110418843397,\n",
       "                     random_state=42))])"
      ]
     },
     "execution_count": 746,
     "metadata": {},
     "output_type": "execute_result"
    }
   ],
   "source": [
    "random_search.best_estimator_"
   ]
  },
  {
   "cell_type": "code",
   "execution_count": 747,
   "id": "8c303151",
   "metadata": {},
   "outputs": [
    {
     "data": {
      "text/plain": [
       "0.9857142857142858"
      ]
     },
     "execution_count": 747,
     "metadata": {},
     "output_type": "execute_result"
    }
   ],
   "source": [
    "random_search.best_score_"
   ]
  },
  {
   "cell_type": "code",
   "execution_count": 748,
   "id": "a8d51633",
   "metadata": {},
   "outputs": [
    {
     "data": {
      "text/plain": [
       "1.0"
      ]
     },
     "execution_count": 748,
     "metadata": {},
     "output_type": "execute_result"
    }
   ],
   "source": [
    "random_search.score(X_test, y_test)"
   ]
  },
  {
   "cell_type": "markdown",
   "id": "e22dc08c",
   "metadata": {},
   "source": [
    "# California Housing Dataset"
   ]
  },
  {
   "cell_type": "code",
   "execution_count": 763,
   "id": "cb4b99ec",
   "metadata": {},
   "outputs": [],
   "source": [
    "from sklearn.datasets import fetch_california_housing\n",
    "\n",
    "housing_features, housing_labels = fetch_california_housing(return_X_y=True, as_frame=True)"
   ]
  },
  {
   "cell_type": "code",
   "execution_count": 764,
   "id": "48439558",
   "metadata": {},
   "outputs": [
    {
     "data": {
      "application/vnd.microsoft.datawrangler.viewer.v0+json": {
       "columns": [
        {
         "name": "index",
         "rawType": "int64",
         "type": "integer"
        },
        {
         "name": "MedInc",
         "rawType": "float64",
         "type": "float"
        },
        {
         "name": "HouseAge",
         "rawType": "float64",
         "type": "float"
        },
        {
         "name": "AveRooms",
         "rawType": "float64",
         "type": "float"
        },
        {
         "name": "AveBedrms",
         "rawType": "float64",
         "type": "float"
        },
        {
         "name": "Population",
         "rawType": "float64",
         "type": "float"
        },
        {
         "name": "AveOccup",
         "rawType": "float64",
         "type": "float"
        },
        {
         "name": "Latitude",
         "rawType": "float64",
         "type": "float"
        },
        {
         "name": "Longitude",
         "rawType": "float64",
         "type": "float"
        }
       ],
       "ref": "6d000a83-15b3-4bbf-a5aa-8f26fbd4bbf2",
       "rows": [
        [
         "0",
         "8.3252",
         "41.0",
         "6.984126984126984",
         "1.0238095238095237",
         "322.0",
         "2.5555555555555554",
         "37.88",
         "-122.23"
        ],
        [
         "1",
         "8.3014",
         "21.0",
         "6.238137082601054",
         "0.9718804920913884",
         "2401.0",
         "2.109841827768014",
         "37.86",
         "-122.22"
        ],
        [
         "2",
         "7.2574",
         "52.0",
         "8.288135593220339",
         "1.073446327683616",
         "496.0",
         "2.8022598870056497",
         "37.85",
         "-122.24"
        ],
        [
         "3",
         "5.6431",
         "52.0",
         "5.8173515981735155",
         "1.0730593607305936",
         "558.0",
         "2.547945205479452",
         "37.85",
         "-122.25"
        ],
        [
         "4",
         "3.8462",
         "52.0",
         "6.281853281853282",
         "1.0810810810810811",
         "565.0",
         "2.1814671814671813",
         "37.85",
         "-122.25"
        ],
        [
         "5",
         "4.0368",
         "52.0",
         "4.761658031088083",
         "1.1036269430051813",
         "413.0",
         "2.139896373056995",
         "37.85",
         "-122.25"
        ],
        [
         "6",
         "3.6591",
         "52.0",
         "4.9319066147859925",
         "0.9513618677042801",
         "1094.0",
         "2.1284046692607004",
         "37.84",
         "-122.25"
        ],
        [
         "7",
         "3.12",
         "52.0",
         "4.797527047913447",
         "1.061823802163833",
         "1157.0",
         "1.7882534775888717",
         "37.84",
         "-122.25"
        ],
        [
         "8",
         "2.0804",
         "42.0",
         "4.294117647058823",
         "1.1176470588235294",
         "1206.0",
         "2.026890756302521",
         "37.84",
         "-122.26"
        ],
        [
         "9",
         "3.6912",
         "52.0",
         "4.970588235294118",
         "0.9901960784313726",
         "1551.0",
         "2.172268907563025",
         "37.84",
         "-122.25"
        ],
        [
         "10",
         "3.2031",
         "52.0",
         "5.477611940298507",
         "1.0796019900497513",
         "910.0",
         "2.263681592039801",
         "37.85",
         "-122.26"
        ],
        [
         "11",
         "3.2705",
         "52.0",
         "4.772479564032698",
         "1.0245231607629428",
         "1504.0",
         "2.0490463215258856",
         "37.85",
         "-122.26"
        ],
        [
         "12",
         "3.075",
         "52.0",
         "5.322649572649572",
         "1.0128205128205128",
         "1098.0",
         "2.3461538461538463",
         "37.85",
         "-122.26"
        ],
        [
         "13",
         "2.6736",
         "52.0",
         "4.0",
         "1.0977011494252873",
         "345.0",
         "1.9827586206896552",
         "37.84",
         "-122.26"
        ],
        [
         "14",
         "1.9167",
         "52.0",
         "4.262903225806451",
         "1.0096774193548388",
         "1212.0",
         "1.9548387096774194",
         "37.85",
         "-122.26"
        ],
        [
         "15",
         "2.125",
         "50.0",
         "4.242424242424242",
         "1.071969696969697",
         "697.0",
         "2.640151515151515",
         "37.85",
         "-122.26"
        ],
        [
         "16",
         "2.775",
         "52.0",
         "5.9395770392749245",
         "1.0483383685800605",
         "793.0",
         "2.395770392749245",
         "37.85",
         "-122.27"
        ],
        [
         "17",
         "2.1202",
         "52.0",
         "4.052805280528053",
         "0.966996699669967",
         "648.0",
         "2.1386138613861387",
         "37.85",
         "-122.27"
        ],
        [
         "18",
         "1.9911",
         "50.0",
         "5.343675417661098",
         "1.0859188544152745",
         "990.0",
         "2.3627684964200477",
         "37.84",
         "-122.26"
        ],
        [
         "19",
         "2.6033",
         "52.0",
         "5.465454545454546",
         "1.0836363636363637",
         "690.0",
         "2.5090909090909093",
         "37.84",
         "-122.27"
        ],
        [
         "20",
         "1.3578",
         "40.0",
         "4.524096385542169",
         "1.108433734939759",
         "409.0",
         "2.463855421686747",
         "37.85",
         "-122.27"
        ],
        [
         "21",
         "1.7135",
         "42.0",
         "4.478142076502732",
         "1.0027322404371584",
         "929.0",
         "2.5382513661202184",
         "37.85",
         "-122.27"
        ],
        [
         "22",
         "1.725",
         "52.0",
         "5.096234309623431",
         "1.1317991631799162",
         "1015.0",
         "2.1234309623430963",
         "37.84",
         "-122.27"
        ],
        [
         "23",
         "2.1806",
         "52.0",
         "5.193846153846154",
         "1.0369230769230768",
         "853.0",
         "2.624615384615385",
         "37.84",
         "-122.27"
        ],
        [
         "24",
         "2.6",
         "52.0",
         "5.270142180094787",
         "1.0355450236966826",
         "1006.0",
         "2.3838862559241707",
         "37.84",
         "-122.27"
        ],
        [
         "25",
         "2.4038",
         "41.0",
         "4.495798319327731",
         "1.0336134453781514",
         "317.0",
         "2.6638655462184873",
         "37.85",
         "-122.28"
        ],
        [
         "26",
         "2.4597",
         "49.0",
         "4.7280334728033475",
         "1.0209205020920502",
         "607.0",
         "2.5397489539748954",
         "37.85",
         "-122.28"
        ],
        [
         "27",
         "1.808",
         "52.0",
         "4.7808564231738035",
         "1.0604534005037782",
         "1102.0",
         "2.7758186397984885",
         "37.85",
         "-122.28"
        ],
        [
         "28",
         "1.6424",
         "50.0",
         "4.40169133192389",
         "1.040169133192389",
         "1131.0",
         "2.3911205073995774",
         "37.84",
         "-122.28"
        ],
        [
         "29",
         "1.6875",
         "52.0",
         "4.703225806451613",
         "1.032258064516129",
         "395.0",
         "2.5483870967741935",
         "37.84",
         "-122.28"
        ],
        [
         "30",
         "1.9274",
         "49.0",
         "5.068783068783069",
         "1.1825396825396826",
         "863.0",
         "2.2830687830687832",
         "37.84",
         "-122.28"
        ],
        [
         "31",
         "1.9615",
         "52.0",
         "4.882086167800454",
         "1.090702947845805",
         "1168.0",
         "2.6485260770975056",
         "37.84",
         "-122.28"
        ],
        [
         "32",
         "1.7969",
         "48.0",
         "5.737313432835821",
         "1.2208955223880598",
         "1026.0",
         "3.062686567164179",
         "37.84",
         "-122.27"
        ],
        [
         "33",
         "1.375",
         "49.0",
         "5.0303951367781155",
         "1.1124620060790273",
         "754.0",
         "2.291793313069909",
         "37.83",
         "-122.27"
        ],
        [
         "34",
         "2.7303",
         "51.0",
         "4.972014925373134",
         "1.0708955223880596",
         "1258.0",
         "2.3470149253731343",
         "37.83",
         "-122.27"
        ],
        [
         "35",
         "1.4861",
         "49.0",
         "4.6022727272727275",
         "1.0681818181818181",
         "570.0",
         "2.159090909090909",
         "37.83",
         "-122.27"
        ],
        [
         "36",
         "1.0972",
         "48.0",
         "4.807486631016043",
         "1.1550802139037433",
         "987.0",
         "2.6390374331550803",
         "37.83",
         "-122.27"
        ],
        [
         "37",
         "1.4103",
         "52.0",
         "3.7493796526054592",
         "0.967741935483871",
         "901.0",
         "2.235732009925558",
         "37.83",
         "-122.28"
        ],
        [
         "38",
         "3.48",
         "52.0",
         "4.757281553398058",
         "1.0679611650485437",
         "689.0",
         "2.2297734627831716",
         "37.83",
         "-122.26"
        ],
        [
         "39",
         "2.5898",
         "52.0",
         "3.4942528735632186",
         "1.0272988505747127",
         "1377.0",
         "1.978448275862069",
         "37.83",
         "-122.26"
        ],
        [
         "40",
         "2.0978",
         "52.0",
         "4.215189873417722",
         "1.0607594936708862",
         "946.0",
         "2.3949367088607594",
         "37.83",
         "-122.26"
        ],
        [
         "41",
         "1.2852",
         "51.0",
         "3.7590361445783134",
         "1.248995983935743",
         "517.0",
         "2.076305220883534",
         "37.83",
         "-122.26"
        ],
        [
         "42",
         "1.025",
         "49.0",
         "3.7724867724867726",
         "1.0687830687830688",
         "462.0",
         "2.4444444444444446",
         "37.84",
         "-122.26"
        ],
        [
         "43",
         "3.9643",
         "52.0",
         "4.797979797979798",
         "1.02020202020202",
         "467.0",
         "2.3585858585858586",
         "37.84",
         "-122.26"
        ],
        [
         "44",
         "3.0125",
         "52.0",
         "4.941780821917808",
         "1.0650684931506849",
         "660.0",
         "2.26027397260274",
         "37.83",
         "-122.26"
        ],
        [
         "45",
         "2.6768",
         "52.0",
         "4.335078534031414",
         "1.0994764397905759",
         "718.0",
         "1.8795811518324608",
         "37.83",
         "-122.26"
        ],
        [
         "46",
         "2.026",
         "50.0",
         "3.700657894736842",
         "1.0592105263157894",
         "616.0",
         "2.026315789473684",
         "37.83",
         "-122.26"
        ],
        [
         "47",
         "1.7348",
         "43.0",
         "3.9802371541501977",
         "1.233201581027668",
         "558.0",
         "2.205533596837945",
         "37.82",
         "-122.27"
        ],
        [
         "48",
         "0.9506",
         "40.0",
         "3.9",
         "1.21875",
         "423.0",
         "2.64375",
         "37.82",
         "-122.26"
        ],
        [
         "49",
         "1.775",
         "40.0",
         "2.6875",
         "1.0653409090909092",
         "700.0",
         "1.9886363636363635",
         "37.82",
         "-122.27"
        ]
       ],
       "shape": {
        "columns": 8,
        "rows": 20640
       }
      },
      "text/html": [
       "<div>\n",
       "<style scoped>\n",
       "    .dataframe tbody tr th:only-of-type {\n",
       "        vertical-align: middle;\n",
       "    }\n",
       "\n",
       "    .dataframe tbody tr th {\n",
       "        vertical-align: top;\n",
       "    }\n",
       "\n",
       "    .dataframe thead th {\n",
       "        text-align: right;\n",
       "    }\n",
       "</style>\n",
       "<table border=\"1\" class=\"dataframe\">\n",
       "  <thead>\n",
       "    <tr style=\"text-align: right;\">\n",
       "      <th></th>\n",
       "      <th>MedInc</th>\n",
       "      <th>HouseAge</th>\n",
       "      <th>AveRooms</th>\n",
       "      <th>AveBedrms</th>\n",
       "      <th>Population</th>\n",
       "      <th>AveOccup</th>\n",
       "      <th>Latitude</th>\n",
       "      <th>Longitude</th>\n",
       "    </tr>\n",
       "  </thead>\n",
       "  <tbody>\n",
       "    <tr>\n",
       "      <th>0</th>\n",
       "      <td>8.3252</td>\n",
       "      <td>41.0</td>\n",
       "      <td>6.984127</td>\n",
       "      <td>1.023810</td>\n",
       "      <td>322.0</td>\n",
       "      <td>2.555556</td>\n",
       "      <td>37.88</td>\n",
       "      <td>-122.23</td>\n",
       "    </tr>\n",
       "    <tr>\n",
       "      <th>1</th>\n",
       "      <td>8.3014</td>\n",
       "      <td>21.0</td>\n",
       "      <td>6.238137</td>\n",
       "      <td>0.971880</td>\n",
       "      <td>2401.0</td>\n",
       "      <td>2.109842</td>\n",
       "      <td>37.86</td>\n",
       "      <td>-122.22</td>\n",
       "    </tr>\n",
       "    <tr>\n",
       "      <th>2</th>\n",
       "      <td>7.2574</td>\n",
       "      <td>52.0</td>\n",
       "      <td>8.288136</td>\n",
       "      <td>1.073446</td>\n",
       "      <td>496.0</td>\n",
       "      <td>2.802260</td>\n",
       "      <td>37.85</td>\n",
       "      <td>-122.24</td>\n",
       "    </tr>\n",
       "    <tr>\n",
       "      <th>3</th>\n",
       "      <td>5.6431</td>\n",
       "      <td>52.0</td>\n",
       "      <td>5.817352</td>\n",
       "      <td>1.073059</td>\n",
       "      <td>558.0</td>\n",
       "      <td>2.547945</td>\n",
       "      <td>37.85</td>\n",
       "      <td>-122.25</td>\n",
       "    </tr>\n",
       "    <tr>\n",
       "      <th>4</th>\n",
       "      <td>3.8462</td>\n",
       "      <td>52.0</td>\n",
       "      <td>6.281853</td>\n",
       "      <td>1.081081</td>\n",
       "      <td>565.0</td>\n",
       "      <td>2.181467</td>\n",
       "      <td>37.85</td>\n",
       "      <td>-122.25</td>\n",
       "    </tr>\n",
       "    <tr>\n",
       "      <th>...</th>\n",
       "      <td>...</td>\n",
       "      <td>...</td>\n",
       "      <td>...</td>\n",
       "      <td>...</td>\n",
       "      <td>...</td>\n",
       "      <td>...</td>\n",
       "      <td>...</td>\n",
       "      <td>...</td>\n",
       "    </tr>\n",
       "    <tr>\n",
       "      <th>20635</th>\n",
       "      <td>1.5603</td>\n",
       "      <td>25.0</td>\n",
       "      <td>5.045455</td>\n",
       "      <td>1.133333</td>\n",
       "      <td>845.0</td>\n",
       "      <td>2.560606</td>\n",
       "      <td>39.48</td>\n",
       "      <td>-121.09</td>\n",
       "    </tr>\n",
       "    <tr>\n",
       "      <th>20636</th>\n",
       "      <td>2.5568</td>\n",
       "      <td>18.0</td>\n",
       "      <td>6.114035</td>\n",
       "      <td>1.315789</td>\n",
       "      <td>356.0</td>\n",
       "      <td>3.122807</td>\n",
       "      <td>39.49</td>\n",
       "      <td>-121.21</td>\n",
       "    </tr>\n",
       "    <tr>\n",
       "      <th>20637</th>\n",
       "      <td>1.7000</td>\n",
       "      <td>17.0</td>\n",
       "      <td>5.205543</td>\n",
       "      <td>1.120092</td>\n",
       "      <td>1007.0</td>\n",
       "      <td>2.325635</td>\n",
       "      <td>39.43</td>\n",
       "      <td>-121.22</td>\n",
       "    </tr>\n",
       "    <tr>\n",
       "      <th>20638</th>\n",
       "      <td>1.8672</td>\n",
       "      <td>18.0</td>\n",
       "      <td>5.329513</td>\n",
       "      <td>1.171920</td>\n",
       "      <td>741.0</td>\n",
       "      <td>2.123209</td>\n",
       "      <td>39.43</td>\n",
       "      <td>-121.32</td>\n",
       "    </tr>\n",
       "    <tr>\n",
       "      <th>20639</th>\n",
       "      <td>2.3886</td>\n",
       "      <td>16.0</td>\n",
       "      <td>5.254717</td>\n",
       "      <td>1.162264</td>\n",
       "      <td>1387.0</td>\n",
       "      <td>2.616981</td>\n",
       "      <td>39.37</td>\n",
       "      <td>-121.24</td>\n",
       "    </tr>\n",
       "  </tbody>\n",
       "</table>\n",
       "<p>20640 rows × 8 columns</p>\n",
       "</div>"
      ],
      "text/plain": [
       "       MedInc  HouseAge  AveRooms  AveBedrms  Population  AveOccup  Latitude  \\\n",
       "0      8.3252      41.0  6.984127   1.023810       322.0  2.555556     37.88   \n",
       "1      8.3014      21.0  6.238137   0.971880      2401.0  2.109842     37.86   \n",
       "2      7.2574      52.0  8.288136   1.073446       496.0  2.802260     37.85   \n",
       "3      5.6431      52.0  5.817352   1.073059       558.0  2.547945     37.85   \n",
       "4      3.8462      52.0  6.281853   1.081081       565.0  2.181467     37.85   \n",
       "...       ...       ...       ...        ...         ...       ...       ...   \n",
       "20635  1.5603      25.0  5.045455   1.133333       845.0  2.560606     39.48   \n",
       "20636  2.5568      18.0  6.114035   1.315789       356.0  3.122807     39.49   \n",
       "20637  1.7000      17.0  5.205543   1.120092      1007.0  2.325635     39.43   \n",
       "20638  1.8672      18.0  5.329513   1.171920       741.0  2.123209     39.43   \n",
       "20639  2.3886      16.0  5.254717   1.162264      1387.0  2.616981     39.37   \n",
       "\n",
       "       Longitude  \n",
       "0        -122.23  \n",
       "1        -122.22  \n",
       "2        -122.24  \n",
       "3        -122.25  \n",
       "4        -122.25  \n",
       "...          ...  \n",
       "20635    -121.09  \n",
       "20636    -121.21  \n",
       "20637    -121.22  \n",
       "20638    -121.32  \n",
       "20639    -121.24  \n",
       "\n",
       "[20640 rows x 8 columns]"
      ]
     },
     "execution_count": 764,
     "metadata": {},
     "output_type": "execute_result"
    }
   ],
   "source": [
    "housing_features"
   ]
  },
  {
   "cell_type": "code",
   "execution_count": 765,
   "id": "d4a6e17d",
   "metadata": {},
   "outputs": [
    {
     "data": {
      "application/vnd.microsoft.datawrangler.viewer.v0+json": {
       "columns": [
        {
         "name": "index",
         "rawType": "int64",
         "type": "integer"
        },
        {
         "name": "MedHouseVal",
         "rawType": "float64",
         "type": "float"
        }
       ],
       "ref": "516e4e37-5702-435c-95fc-d05d7474c740",
       "rows": [
        [
         "0",
         "4.526"
        ],
        [
         "1",
         "3.585"
        ],
        [
         "2",
         "3.521"
        ],
        [
         "3",
         "3.413"
        ],
        [
         "4",
         "3.422"
        ],
        [
         "5",
         "2.697"
        ],
        [
         "6",
         "2.992"
        ],
        [
         "7",
         "2.414"
        ],
        [
         "8",
         "2.267"
        ],
        [
         "9",
         "2.611"
        ],
        [
         "10",
         "2.815"
        ],
        [
         "11",
         "2.418"
        ],
        [
         "12",
         "2.135"
        ],
        [
         "13",
         "1.913"
        ],
        [
         "14",
         "1.592"
        ],
        [
         "15",
         "1.4"
        ],
        [
         "16",
         "1.525"
        ],
        [
         "17",
         "1.555"
        ],
        [
         "18",
         "1.587"
        ],
        [
         "19",
         "1.629"
        ],
        [
         "20",
         "1.475"
        ],
        [
         "21",
         "1.598"
        ],
        [
         "22",
         "1.139"
        ],
        [
         "23",
         "0.997"
        ],
        [
         "24",
         "1.326"
        ],
        [
         "25",
         "1.075"
        ],
        [
         "26",
         "0.938"
        ],
        [
         "27",
         "1.055"
        ],
        [
         "28",
         "1.089"
        ],
        [
         "29",
         "1.32"
        ],
        [
         "30",
         "1.223"
        ],
        [
         "31",
         "1.152"
        ],
        [
         "32",
         "1.104"
        ],
        [
         "33",
         "1.049"
        ],
        [
         "34",
         "1.097"
        ],
        [
         "35",
         "0.972"
        ],
        [
         "36",
         "1.045"
        ],
        [
         "37",
         "1.039"
        ],
        [
         "38",
         "1.914"
        ],
        [
         "39",
         "1.76"
        ],
        [
         "40",
         "1.554"
        ],
        [
         "41",
         "1.5"
        ],
        [
         "42",
         "1.188"
        ],
        [
         "43",
         "1.888"
        ],
        [
         "44",
         "1.844"
        ],
        [
         "45",
         "1.823"
        ],
        [
         "46",
         "1.425"
        ],
        [
         "47",
         "1.375"
        ],
        [
         "48",
         "1.875"
        ],
        [
         "49",
         "1.125"
        ]
       ],
       "shape": {
        "columns": 1,
        "rows": 20640
       }
      },
      "text/plain": [
       "0        4.526\n",
       "1        3.585\n",
       "2        3.521\n",
       "3        3.413\n",
       "4        3.422\n",
       "         ...  \n",
       "20635    0.781\n",
       "20636    0.771\n",
       "20637    0.923\n",
       "20638    0.847\n",
       "20639    0.894\n",
       "Name: MedHouseVal, Length: 20640, dtype: float64"
      ]
     },
     "execution_count": 765,
     "metadata": {},
     "output_type": "execute_result"
    }
   ],
   "source": [
    "housing_labels"
   ]
  },
  {
   "cell_type": "code",
   "execution_count": 766,
   "id": "a4876e52",
   "metadata": {},
   "outputs": [
    {
     "data": {
      "text/plain": [
       "Index(['MedInc', 'HouseAge', 'AveRooms', 'AveBedrms', 'Population', 'AveOccup',\n",
       "       'Latitude', 'Longitude'],\n",
       "      dtype='object')"
      ]
     },
     "execution_count": 766,
     "metadata": {},
     "output_type": "execute_result"
    }
   ],
   "source": [
    "housing_features.columns"
   ]
  },
  {
   "cell_type": "code",
   "execution_count": 768,
   "id": "571cb167",
   "metadata": {},
   "outputs": [],
   "source": [
    "X_train, X_test, y_train, y_test = train_test_split(housing_features, housing_labels, test_size=0.2, random_state=RANDOM_SEED)"
   ]
  },
  {
   "cell_type": "markdown",
   "id": "970de31a",
   "metadata": {},
   "source": [
    "_Exercise: Train and fine-tune an SVM regressor on the California housing dataset. You can use the original dataset rather than the tweaked version we used in Chapter 2. The original dataset can be fetched using `sklearn.datasets.fetch_california_housing()`. The targets represent hundreds of thousands of dollars. Since there are over 20,000 instances, SVMs can be slow, so for hyperparameter tuning you should use much less instances (e.g., 2,000), to test many more hyperparameter combinations. What is your best model's RMSE?_"
   ]
  },
  {
   "cell_type": "code",
   "execution_count": 769,
   "id": "07a8545b",
   "metadata": {},
   "outputs": [],
   "source": [
    "HOUSING_COLS = [\n",
    "    'MedInc',\n",
    "    'HouseAge',\n",
    "    'AveRooms',\n",
    "    'AveBedrms',\n",
    "    'Population',\n",
    "    'AveOccup',\n",
    "    'Latitude',\n",
    "    'Longitude'\n",
    "]\n",
    "\n",
    "preprocessing_2 = ColumnTransformer([\n",
    "        (\"scale\", StandardScaler(), HOUSING_COLS)\n",
    "    ],\n",
    "    remainder=\"drop\"\n",
    ")"
   ]
  },
  {
   "cell_type": "code",
   "execution_count": 770,
   "id": "9746a405",
   "metadata": {},
   "outputs": [
    {
     "data": {
      "application/vnd.microsoft.datawrangler.viewer.v0+json": {
       "columns": [
        {
         "name": "index",
         "rawType": "int64",
         "type": "integer"
        },
        {
         "name": "scale__MedInc",
         "rawType": "float64",
         "type": "float"
        },
        {
         "name": "scale__HouseAge",
         "rawType": "float64",
         "type": "float"
        },
        {
         "name": "scale__AveRooms",
         "rawType": "float64",
         "type": "float"
        },
        {
         "name": "scale__AveBedrms",
         "rawType": "float64",
         "type": "float"
        },
        {
         "name": "scale__Population",
         "rawType": "float64",
         "type": "float"
        },
        {
         "name": "scale__AveOccup",
         "rawType": "float64",
         "type": "float"
        },
        {
         "name": "scale__Latitude",
         "rawType": "float64",
         "type": "float"
        },
        {
         "name": "scale__Longitude",
         "rawType": "float64",
         "type": "float"
        }
       ],
       "ref": "c923fd64-80d0-4522-921e-37bf1adb5542",
       "rows": [
        [
         "14196",
         "-0.32619600376929286",
         "0.3484902466663322",
         "-0.1749164614622689",
         "-0.2083654336540427",
         "0.7682762831665109",
         "0.051376091942177404",
         "-1.3728111990669665",
         "1.2725865624715638"
        ],
        [
         "8267",
         "-0.03584337669866782",
         "1.618118125303759",
         "-0.40283542400979716",
         "-0.12853018113161171",
         "-0.09890134844728132",
         "-0.1173622191556941",
         "-0.8766960138236605",
         "0.709162124420041"
        ],
        [
         "17445",
         "0.14470144729641415",
         "-1.952710283364004",
         "0.0882160119268181",
         "-0.2575377051098973",
         "-0.44981805738633107",
         "-0.03227968617896885",
         "-0.4601464714967377",
         "-0.44760309352645633"
        ],
        [
         "14265",
         "-1.0178643798132792",
         "0.5865454739108498",
         "-0.6000153190656906",
         "-0.1451563362345387",
         "-0.007434336593493907",
         "0.07750686671265292",
         "-1.382171862939483",
         "1.2326981066803062"
        ],
        [
         "2271",
         "-0.17148830990963268",
         "1.142007670814724",
         "0.34900730188989526",
         "0.08662431665989177",
         "-0.4858771678286896",
         "-0.06883175925839584",
         "0.5320838989898743",
         "-0.10855121930075651"
        ],
        [
         "17848",
         "1.4399188815647979",
         "-0.6830824047265771",
         "0.3547569975255413",
         "-0.20301334968605833",
         "1.1156750301111842",
         "0.023110557151489172",
         "0.8316251429103606",
         "-1.1356789559256615"
        ],
        [
         "6252",
         "-0.7150133036121046",
         "-0.04826846540786368",
         "-0.45652955976428466",
         "-0.0506519125237231",
         "-0.06284223800492282",
         "0.034141769860574524",
         "-0.7503270515447072",
         "0.8038972069242786"
        ],
        [
         "9389",
         "2.157529416728497",
         "0.6658972163256889",
         "0.2586696711687911",
         "-0.3283652576512093",
         "-0.37594085550442585",
         "-0.060567793004697834",
         "1.0609614077869802",
         "-1.4697447731774516"
        ],
        [
         "6113",
         "-1.2502410075556405",
         "-1.8733585409491647",
         "-0.7601282961637554",
         "-0.18607412968746168",
         "-0.5342491452513656",
         "-0.04003324639166017",
         "-0.7082040641183873",
         "0.8387996057416263"
        ],
        [
         "6061",
         "1.3369379624681264",
         "-1.8733585409491647",
         "0.5424739495388237",
         "-0.15252991884076564",
         "7.03640506664673",
         "0.025712488767999503",
         "-0.7596877154172206",
         "0.8936462324546063"
        ],
        [
         "16030",
         "0.17642020055209487",
         "1.8561733525482766",
         "0.12878762859948187",
         "0.12779744359011522",
         "-0.6802445680179878",
         "0.06233613108846493",
         "0.9720351009980871",
         "-1.429856317386194"
        ],
        [
         "8364",
         "-0.8667276714194903",
         "-0.2863236926523812",
         "-0.9188177102824131",
         "-0.058587990308128245",
         "0.24937688899598612",
         "-0.010627394127332478",
         "-0.7830893750985106",
         "0.6144270419158034"
        ],
        [
         "9448",
         "-0.5281667405596027",
         "-1.2385446016304513",
         "0.441931713530193",
         "0.27896426792728807",
         "-0.5949339896543592",
         "-0.057166502333929683",
         "0.8503464706553906",
         "-0.06866276350949894"
        ],
        [
         "17529",
         "-0.9366244604647068",
         "0.5865454739108498",
         "-1.014775761235981",
         "-0.014992737738243249",
         "1.8773138018936832",
         "0.2191610152184994",
         "0.7895021554840407",
         "-1.145651069873474"
        ],
        [
         "5865",
         "-0.5609882981503317",
         "1.3800628980592415",
         "-0.2987476862966739",
         "-0.1762361827776589",
         "-0.6265956476037472",
         "-0.05843834993537489",
         "-0.6848024044371007",
         "0.6194130988897062"
        ],
        [
         "7615",
         "-0.3749819669721523",
         "0.5865454739108498",
         "-0.15949394749970955",
         "-0.22318658925769114",
         "0.3918543497682319",
         "0.04707580124748746",
         "-0.8205320305885705",
         "0.6742597256026862"
        ],
        [
         "9707",
         "-0.5190292189263438",
         "1.8561733525482766",
         "-0.03346117329037653",
         "-0.11802053070332845",
         "-0.22642747074342723",
         "-0.03749147365273738",
         "0.48060024769104104",
         "-1.0309717594736114"
        ],
        [
         "16332",
         "0.2759876776593301",
         "-0.6830824047265771",
         "0.19491672633136464",
         "-0.10356387993706676",
         "0.5668729589884597",
         "-0.01696271338610894",
         "1.1171253910220735",
         "-0.8764039932824839"
        ],
        [
         "3449",
         "0.18498006277175663",
         "0.4278419890811714",
         "-0.18467458711621415",
         "-0.29695109066663933",
         "0.4586956276613842",
         "0.048771268672925104",
         "-0.6192777573294941",
         "0.5745385861245388"
        ],
        [
         "5199",
         "-1.285478231785047",
         "-0.6037306623117379",
         "-0.9958826785631049",
         "-0.21485303335419548",
         "-0.1261655539036987",
         "0.1325579198093898",
         "-0.8018107028435405",
         "0.6493294407331511"
        ],
        [
         "13496",
         "-0.8860530045289117",
         "0.18978676183665386",
         "-0.2685898198189668",
         "-0.09226269457083434",
         "-0.3319663305747204",
         "0.0029695042653453767",
         "-0.6941630683096174",
         "1.1180187962804362"
        ],
        [
         "18056",
         "2.4480921017677026",
         "0.5071937314960105",
         "0.8684145690058338",
         "-0.1795404655866527",
         "-0.08922695296274612",
         "-0.027063145593049138",
         "0.747379168057724",
         "-1.1955116396125514"
        ],
        [
         "9529",
         "-0.6110871236568205",
         "-0.5243789198968988",
         "0.25412129405211104",
         "0.27975980418064544",
         "-0.3328458210733145",
         "-0.014646841364352417",
         "1.5430355972215128",
         "-1.7788803055597064"
        ],
        [
         "5128",
         "-1.2108551384467658",
         "1.142007670814724",
         "-0.6065828308155723",
         "-0.21576409734364535",
         "-0.28711231514642077",
         "0.038003225310873245",
         "-0.7784090431622539",
         "0.6493294407331511"
        ],
        [
         "18796",
         "-0.8520236136188436",
         "-0.8417858895562554",
         "0.6750271059740581",
         "0.9417977958309653",
         "-1.0373177104471965",
         "-0.06810530139996168",
         "2.455700324791745",
         "-1.3600515197514915"
        ],
        [
         "413",
         "0.8068041642626718",
         "1.8561733525482766",
         "0.5568924832391585",
         "-0.049679776639488436",
         "-0.6195597236149942",
         "-0.06369485281861866",
         "1.051600743914467",
         "-1.345093348829769"
        ],
        [
         "1175",
         "-1.6046088005512231",
         "-1.0798411168007729",
         "-0.16136832580818716",
         "0.5847516555862012",
         "-1.1270257413037956",
         "0.04560553282993676",
         "1.7957735217794226",
         "-0.9910833036823467"
        ],
        [
         "4387",
         "-0.1979030994586514",
         "1.3800628980592415",
         "-0.7059159717754715",
         "-0.24150718437886778",
         "-0.45421550987930165",
         "0.04440598050196682",
         "-0.7316057237996774",
         "0.6593015546809637"
        ],
        [
         "11628",
         "-0.0008162104378418511",
         "-0.5243789198968988",
         "-0.3015875697176247",
         "0.11329132384920809",
         "-0.5421645597387126",
         "-0.03033222894917746",
         "-0.8626550180148904",
         "0.7540366371852084"
        ],
        [
         "9787",
         "-0.7313453106692513",
         "0.0310832770069755",
         "0.27925903201394425",
         "0.3061269105490443",
         "-0.35835104553254366",
         "0.012805035097612138",
         "0.19509999957932808",
         "-0.6021708597175838"
        ],
        [
         "15557",
         "-0.6087239715102879",
         "0.26913850425149305",
         "-0.02875239233759628",
         "-0.03290674231583842",
         "-0.17805549332075118",
         "-0.03816277106233306",
         "-1.1809175896804067",
         "1.2526423345759385"
        ],
        [
         "9132",
         "0.09990658549658714",
         "-2.111413768193682",
         "0.35444201147209403",
         "0.31364945382795145",
         "-0.051408861523199394",
         "0.00729238940589209",
         "-0.511630122795571",
         "0.7839529790286462"
        ],
        [
         "5514",
         "-0.5544239866321857",
         "0.8246007011553673",
         "-0.37881086032580624",
         "-0.06756445541938139",
         "-0.2756789386646974",
         "0.0025429520674202515",
         "-0.773728711225994",
         "0.5894967570462613"
        ],
        [
         "6504",
         "-0.7188468615387019",
         "0.6658972163256889",
         "-0.6308132467100533",
         "-0.1415766655360861",
         "-0.5069849397949482",
         "0.1032930947841277",
         "-0.7316057237996774",
         "0.7590226941591112"
        ],
        [
         "15028",
         "-0.23035705560436415",
         "0.18978676183665386",
         "-0.2971251496487843",
         "-0.17696090745006612",
         "0.40416721674854944",
         "-0.06361077906346682",
         "-1.3353685435769065",
         "1.2825586764193764"
        ],
        [
         "7816",
         "-0.1530557231666791",
         "0.5071937314960105",
         "0.2227102457535796",
         "0.04838929136210462",
         "-0.49115411082025423",
         "0.008137163056287375",
         "-0.8252123625248272",
         "0.7340924092895761"
        ],
        [
         "18758",
         "-0.9814193222645339",
         "-0.9211376319710947",
         "-0.019458609707651627",
         "-0.035657402833576816",
         "0.08930961825185817",
         "-0.012216601725844604",
         "2.3480526902578185",
         "-1.3849818046210265"
        ],
        [
         "7369",
         "-0.3626935758101833",
         "1.8561733525482766",
         "-0.295016359649416",
         "-0.18178040118113026",
         "2.026827186654682",
         "0.09377589649348314",
         "-0.7830893750985106",
         "0.6842318395505059"
        ],
        [
         "7898",
         "0.6286224924141224",
         "-1.0004893743859338",
         "0.35149339244345407",
         "-0.10686209391942464",
         "1.4234967046191227",
         "0.02702388965769912",
         "-0.8345730263973439",
         "0.7590226941591112"
        ],
        [
         "10823",
         "-1.5284627869407321",
         "-0.04826846540786368",
         "-1.2053721158368675",
         "-0.2340496244824831",
         "-0.5448030312344949",
         "-0.1034804754422994",
         "-0.9328599970587537",
         "0.8288274917938137"
        ],
        [
         "5252",
         "3.842509411698306",
         "0.26913850425149305",
         "0.7686954203330428",
         "-0.15013611504034116",
         "1.1798778365085543",
         "-0.05132393511823126",
         "-0.7222450599271607",
         "0.5545943582289136"
        ],
        [
         "6442",
         "0.03111260078641929",
         "0.18978676183665386",
         "-0.14445190485358206",
         "-0.138841387872889",
         "0.04093764082918212",
         "-0.022824313817948604",
         "-0.7222450599271607",
         "0.7739808650808336"
        ],
        [
         "11934",
         "0.07081355684816514",
         "0.5071937314960105",
         "0.3183833863240478",
         "0.17356879883529164",
         "-0.6661727200404821",
         "0.18392891064897082",
         "-0.8018107028435405",
         "1.0831163974630886"
        ],
        [
         "5549",
         "1.1228888924844285",
         "1.0626559283998849",
         "0.11193343043825323",
         "-0.14529596092041838",
         "-0.5395260882429302",
         "-0.0520880693406215",
         "-0.7830893750985106",
         "0.599468870994081"
        ],
        [
         "11568",
         "-0.1322599842771934",
         "-0.2863236926523812",
         "-0.3629216752895845",
         "-0.10926579777691992",
         "-0.019747203573811444",
         "0.0474843121903676",
         "-0.8813763457599204",
         "0.7789669220547435"
        ],
        [
         "15167",
         "-0.33811679348624557",
         "-0.9211376319710947",
         "-0.4061311074513958",
         "-0.19534880186577322",
         "1.395353008664111",
         "-0.026080515474775363",
         "-1.2604832325967832",
         "1.2626144485237512"
        ],
        [
         "12536",
         "-0.5456540664439431",
         "1.3007111556444024",
         "-0.14933509281200238",
         "-0.09172020818713689",
         "-0.07515510498524036",
         "-0.07347565430094881",
         "1.3605026517074665",
         "-0.9611669618389088"
        ],
        [
         "7779",
         "-0.3597527642500541",
         "0.0310832770069755",
         "-0.4521402580456308",
         "-0.1305137978783083",
         "0.4850803426192075",
         "0.04426588679943018",
         "-0.8111713667160572",
         "0.7540366371852084"
        ],
        [
         "10711",
         "-0.4031297347619614",
         "-0.2863236926523812",
         "-0.2862797808460616",
         "-0.08202574483481158",
         "-0.9062736261566741",
         "-0.14445015723396296",
         "-0.9562616567400404",
         "0.9385207452197737"
        ],
        [
         "6624",
         "0.09013888995758611",
         "1.8561733525482766",
         "-0.060138314698884116",
         "-0.30562926730298623",
         "0.22387166453675694",
         "0.020586298560849384",
         "-0.6894827363733573",
         "0.7191342383678536"
        ]
       ],
       "shape": {
        "columns": 8,
        "rows": 16512
       }
      },
      "text/html": [
       "<div>\n",
       "<style scoped>\n",
       "    .dataframe tbody tr th:only-of-type {\n",
       "        vertical-align: middle;\n",
       "    }\n",
       "\n",
       "    .dataframe tbody tr th {\n",
       "        vertical-align: top;\n",
       "    }\n",
       "\n",
       "    .dataframe thead th {\n",
       "        text-align: right;\n",
       "    }\n",
       "</style>\n",
       "<table border=\"1\" class=\"dataframe\">\n",
       "  <thead>\n",
       "    <tr style=\"text-align: right;\">\n",
       "      <th></th>\n",
       "      <th>scale__MedInc</th>\n",
       "      <th>scale__HouseAge</th>\n",
       "      <th>scale__AveRooms</th>\n",
       "      <th>scale__AveBedrms</th>\n",
       "      <th>scale__Population</th>\n",
       "      <th>scale__AveOccup</th>\n",
       "      <th>scale__Latitude</th>\n",
       "      <th>scale__Longitude</th>\n",
       "    </tr>\n",
       "  </thead>\n",
       "  <tbody>\n",
       "    <tr>\n",
       "      <th>14196</th>\n",
       "      <td>-0.326196</td>\n",
       "      <td>0.348490</td>\n",
       "      <td>-0.174916</td>\n",
       "      <td>-0.208365</td>\n",
       "      <td>0.768276</td>\n",
       "      <td>0.051376</td>\n",
       "      <td>-1.372811</td>\n",
       "      <td>1.272587</td>\n",
       "    </tr>\n",
       "    <tr>\n",
       "      <th>8267</th>\n",
       "      <td>-0.035843</td>\n",
       "      <td>1.618118</td>\n",
       "      <td>-0.402835</td>\n",
       "      <td>-0.128530</td>\n",
       "      <td>-0.098901</td>\n",
       "      <td>-0.117362</td>\n",
       "      <td>-0.876696</td>\n",
       "      <td>0.709162</td>\n",
       "    </tr>\n",
       "    <tr>\n",
       "      <th>17445</th>\n",
       "      <td>0.144701</td>\n",
       "      <td>-1.952710</td>\n",
       "      <td>0.088216</td>\n",
       "      <td>-0.257538</td>\n",
       "      <td>-0.449818</td>\n",
       "      <td>-0.032280</td>\n",
       "      <td>-0.460146</td>\n",
       "      <td>-0.447603</td>\n",
       "    </tr>\n",
       "    <tr>\n",
       "      <th>14265</th>\n",
       "      <td>-1.017864</td>\n",
       "      <td>0.586545</td>\n",
       "      <td>-0.600015</td>\n",
       "      <td>-0.145156</td>\n",
       "      <td>-0.007434</td>\n",
       "      <td>0.077507</td>\n",
       "      <td>-1.382172</td>\n",
       "      <td>1.232698</td>\n",
       "    </tr>\n",
       "    <tr>\n",
       "      <th>2271</th>\n",
       "      <td>-0.171488</td>\n",
       "      <td>1.142008</td>\n",
       "      <td>0.349007</td>\n",
       "      <td>0.086624</td>\n",
       "      <td>-0.485877</td>\n",
       "      <td>-0.068832</td>\n",
       "      <td>0.532084</td>\n",
       "      <td>-0.108551</td>\n",
       "    </tr>\n",
       "    <tr>\n",
       "      <th>...</th>\n",
       "      <td>...</td>\n",
       "      <td>...</td>\n",
       "      <td>...</td>\n",
       "      <td>...</td>\n",
       "      <td>...</td>\n",
       "      <td>...</td>\n",
       "      <td>...</td>\n",
       "      <td>...</td>\n",
       "    </tr>\n",
       "    <tr>\n",
       "      <th>11284</th>\n",
       "      <td>1.307215</td>\n",
       "      <td>0.507194</td>\n",
       "      <td>0.290620</td>\n",
       "      <td>-0.393391</td>\n",
       "      <td>-0.675847</td>\n",
       "      <td>-0.005588</td>\n",
       "      <td>-0.872016</td>\n",
       "      <td>0.808883</td>\n",
       "    </tr>\n",
       "    <tr>\n",
       "      <th>11964</th>\n",
       "      <td>-0.436266</td>\n",
       "      <td>0.348490</td>\n",
       "      <td>0.600411</td>\n",
       "      <td>0.398898</td>\n",
       "      <td>0.287195</td>\n",
       "      <td>0.069722</td>\n",
       "      <td>-0.759688</td>\n",
       "      <td>1.073144</td>\n",
       "    </tr>\n",
       "    <tr>\n",
       "      <th>5390</th>\n",
       "      <td>-0.496973</td>\n",
       "      <td>0.586545</td>\n",
       "      <td>-0.606759</td>\n",
       "      <td>-0.039216</td>\n",
       "      <td>0.289833</td>\n",
       "      <td>0.020306</td>\n",
       "      <td>-0.755007</td>\n",
       "      <td>0.599469</td>\n",
       "    </tr>\n",
       "    <tr>\n",
       "      <th>860</th>\n",
       "      <td>0.965450</td>\n",
       "      <td>-1.079841</td>\n",
       "      <td>0.402175</td>\n",
       "      <td>-0.066265</td>\n",
       "      <td>0.308303</td>\n",
       "      <td>0.007076</td>\n",
       "      <td>0.906510</td>\n",
       "      <td>-1.185540</td>\n",
       "    </tr>\n",
       "    <tr>\n",
       "      <th>15795</th>\n",
       "      <td>-0.685448</td>\n",
       "      <td>1.856173</td>\n",
       "      <td>-0.851446</td>\n",
       "      <td>-0.087508</td>\n",
       "      <td>1.048834</td>\n",
       "      <td>-0.085354</td>\n",
       "      <td>0.995437</td>\n",
       "      <td>-1.414898</td>\n",
       "    </tr>\n",
       "  </tbody>\n",
       "</table>\n",
       "<p>16512 rows × 8 columns</p>\n",
       "</div>"
      ],
      "text/plain": [
       "       scale__MedInc  scale__HouseAge  scale__AveRooms  scale__AveBedrms  \\\n",
       "14196      -0.326196         0.348490        -0.174916         -0.208365   \n",
       "8267       -0.035843         1.618118        -0.402835         -0.128530   \n",
       "17445       0.144701        -1.952710         0.088216         -0.257538   \n",
       "14265      -1.017864         0.586545        -0.600015         -0.145156   \n",
       "2271       -0.171488         1.142008         0.349007          0.086624   \n",
       "...              ...              ...              ...               ...   \n",
       "11284       1.307215         0.507194         0.290620         -0.393391   \n",
       "11964      -0.436266         0.348490         0.600411          0.398898   \n",
       "5390       -0.496973         0.586545        -0.606759         -0.039216   \n",
       "860         0.965450        -1.079841         0.402175         -0.066265   \n",
       "15795      -0.685448         1.856173        -0.851446         -0.087508   \n",
       "\n",
       "       scale__Population  scale__AveOccup  scale__Latitude  scale__Longitude  \n",
       "14196           0.768276         0.051376        -1.372811          1.272587  \n",
       "8267           -0.098901        -0.117362        -0.876696          0.709162  \n",
       "17445          -0.449818        -0.032280        -0.460146         -0.447603  \n",
       "14265          -0.007434         0.077507        -1.382172          1.232698  \n",
       "2271           -0.485877        -0.068832         0.532084         -0.108551  \n",
       "...                  ...              ...              ...               ...  \n",
       "11284          -0.675847        -0.005588        -0.872016          0.808883  \n",
       "11964           0.287195         0.069722        -0.759688          1.073144  \n",
       "5390            0.289833         0.020306        -0.755007          0.599469  \n",
       "860             0.308303         0.007076         0.906510         -1.185540  \n",
       "15795           1.048834        -0.085354         0.995437         -1.414898  \n",
       "\n",
       "[16512 rows x 8 columns]"
      ]
     },
     "execution_count": 770,
     "metadata": {},
     "output_type": "execute_result"
    }
   ],
   "source": [
    "train_preprocessed = preprocessing_2.fit_transform(X_train, y_train)\n",
    "\n",
    "tmp_df = pd.DataFrame(train_preprocessed, columns=preprocessing_2.get_feature_names_out(), index=X_train.index)\n",
    "tmp_df"
   ]
  },
  {
   "cell_type": "code",
   "execution_count": 773,
   "id": "d3f6b91f",
   "metadata": {},
   "outputs": [
    {
     "data": {
      "text/html": [
       "<style>#sk-container-id-134 {color: black;}#sk-container-id-134 pre{padding: 0;}#sk-container-id-134 div.sk-toggleable {background-color: white;}#sk-container-id-134 label.sk-toggleable__label {cursor: pointer;display: block;width: 100%;margin-bottom: 0;padding: 0.3em;box-sizing: border-box;text-align: center;}#sk-container-id-134 label.sk-toggleable__label-arrow:before {content: \"▸\";float: left;margin-right: 0.25em;color: #696969;}#sk-container-id-134 label.sk-toggleable__label-arrow:hover:before {color: black;}#sk-container-id-134 div.sk-estimator:hover label.sk-toggleable__label-arrow:before {color: black;}#sk-container-id-134 div.sk-toggleable__content {max-height: 0;max-width: 0;overflow: hidden;text-align: left;background-color: #f0f8ff;}#sk-container-id-134 div.sk-toggleable__content pre {margin: 0.2em;color: black;border-radius: 0.25em;background-color: #f0f8ff;}#sk-container-id-134 input.sk-toggleable__control:checked~div.sk-toggleable__content {max-height: 200px;max-width: 100%;overflow: auto;}#sk-container-id-134 input.sk-toggleable__control:checked~label.sk-toggleable__label-arrow:before {content: \"▾\";}#sk-container-id-134 div.sk-estimator input.sk-toggleable__control:checked~label.sk-toggleable__label {background-color: #d4ebff;}#sk-container-id-134 div.sk-label input.sk-toggleable__control:checked~label.sk-toggleable__label {background-color: #d4ebff;}#sk-container-id-134 input.sk-hidden--visually {border: 0;clip: rect(1px 1px 1px 1px);clip: rect(1px, 1px, 1px, 1px);height: 1px;margin: -1px;overflow: hidden;padding: 0;position: absolute;width: 1px;}#sk-container-id-134 div.sk-estimator {font-family: monospace;background-color: #f0f8ff;border: 1px dotted black;border-radius: 0.25em;box-sizing: border-box;margin-bottom: 0.5em;}#sk-container-id-134 div.sk-estimator:hover {background-color: #d4ebff;}#sk-container-id-134 div.sk-parallel-item::after {content: \"\";width: 100%;border-bottom: 1px solid gray;flex-grow: 1;}#sk-container-id-134 div.sk-label:hover label.sk-toggleable__label {background-color: #d4ebff;}#sk-container-id-134 div.sk-serial::before {content: \"\";position: absolute;border-left: 1px solid gray;box-sizing: border-box;top: 0;bottom: 0;left: 50%;z-index: 0;}#sk-container-id-134 div.sk-serial {display: flex;flex-direction: column;align-items: center;background-color: white;padding-right: 0.2em;padding-left: 0.2em;position: relative;}#sk-container-id-134 div.sk-item {position: relative;z-index: 1;}#sk-container-id-134 div.sk-parallel {display: flex;align-items: stretch;justify-content: center;background-color: white;position: relative;}#sk-container-id-134 div.sk-item::before, #sk-container-id-134 div.sk-parallel-item::before {content: \"\";position: absolute;border-left: 1px solid gray;box-sizing: border-box;top: 0;bottom: 0;left: 50%;z-index: -1;}#sk-container-id-134 div.sk-parallel-item {display: flex;flex-direction: column;z-index: 1;position: relative;background-color: white;}#sk-container-id-134 div.sk-parallel-item:first-child::after {align-self: flex-end;width: 50%;}#sk-container-id-134 div.sk-parallel-item:last-child::after {align-self: flex-start;width: 50%;}#sk-container-id-134 div.sk-parallel-item:only-child::after {width: 0;}#sk-container-id-134 div.sk-dashed-wrapped {border: 1px dashed gray;margin: 0 0.4em 0.5em 0.4em;box-sizing: border-box;padding-bottom: 0.4em;background-color: white;}#sk-container-id-134 div.sk-label label {font-family: monospace;font-weight: bold;display: inline-block;line-height: 1.2em;}#sk-container-id-134 div.sk-label-container {text-align: center;}#sk-container-id-134 div.sk-container {/* jupyter's `normalize.less` sets `[hidden] { display: none; }` but bootstrap.min.css set `[hidden] { display: none !important; }` so we also need the `!important` here to be able to override the default hidden behavior on the sphinx rendered scikit-learn.org. See: https://github.com/scikit-learn/scikit-learn/issues/21755 */display: inline-block !important;position: relative;}#sk-container-id-134 div.sk-text-repr-fallback {display: none;}</style><div id=\"sk-container-id-134\" class=\"sk-top-container\"><div class=\"sk-text-repr-fallback\"><pre>Pipeline(steps=[(&#x27;preprocessing&#x27;,\n",
       "                 ColumnTransformer(transformers=[(&#x27;scale&#x27;, StandardScaler(),\n",
       "                                                  [&#x27;MedInc&#x27;, &#x27;HouseAge&#x27;,\n",
       "                                                   &#x27;AveRooms&#x27;, &#x27;AveBedrms&#x27;,\n",
       "                                                   &#x27;Population&#x27;, &#x27;AveOccup&#x27;,\n",
       "                                                   &#x27;Latitude&#x27;,\n",
       "                                                   &#x27;Longitude&#x27;])])),\n",
       "                (&#x27;svr&#x27;, LinearSVR(dual=True, max_iter=5000, random_state=42))])</pre><b>In a Jupyter environment, please rerun this cell to show the HTML representation or trust the notebook. <br />On GitHub, the HTML representation is unable to render, please try loading this page with nbviewer.org.</b></div><div class=\"sk-container\" hidden><div class=\"sk-item sk-dashed-wrapped\"><div class=\"sk-label-container\"><div class=\"sk-label sk-toggleable\"><input class=\"sk-toggleable__control sk-hidden--visually\" id=\"sk-estimator-id-564\" type=\"checkbox\" ><label for=\"sk-estimator-id-564\" class=\"sk-toggleable__label sk-toggleable__label-arrow\">Pipeline</label><div class=\"sk-toggleable__content\"><pre>Pipeline(steps=[(&#x27;preprocessing&#x27;,\n",
       "                 ColumnTransformer(transformers=[(&#x27;scale&#x27;, StandardScaler(),\n",
       "                                                  [&#x27;MedInc&#x27;, &#x27;HouseAge&#x27;,\n",
       "                                                   &#x27;AveRooms&#x27;, &#x27;AveBedrms&#x27;,\n",
       "                                                   &#x27;Population&#x27;, &#x27;AveOccup&#x27;,\n",
       "                                                   &#x27;Latitude&#x27;,\n",
       "                                                   &#x27;Longitude&#x27;])])),\n",
       "                (&#x27;svr&#x27;, LinearSVR(dual=True, max_iter=5000, random_state=42))])</pre></div></div></div><div class=\"sk-serial\"><div class=\"sk-item sk-dashed-wrapped\"><div class=\"sk-label-container\"><div class=\"sk-label sk-toggleable\"><input class=\"sk-toggleable__control sk-hidden--visually\" id=\"sk-estimator-id-565\" type=\"checkbox\" ><label for=\"sk-estimator-id-565\" class=\"sk-toggleable__label sk-toggleable__label-arrow\">preprocessing: ColumnTransformer</label><div class=\"sk-toggleable__content\"><pre>ColumnTransformer(transformers=[(&#x27;scale&#x27;, StandardScaler(),\n",
       "                                 [&#x27;MedInc&#x27;, &#x27;HouseAge&#x27;, &#x27;AveRooms&#x27;, &#x27;AveBedrms&#x27;,\n",
       "                                  &#x27;Population&#x27;, &#x27;AveOccup&#x27;, &#x27;Latitude&#x27;,\n",
       "                                  &#x27;Longitude&#x27;])])</pre></div></div></div><div class=\"sk-parallel\"><div class=\"sk-parallel-item\"><div class=\"sk-item\"><div class=\"sk-label-container\"><div class=\"sk-label sk-toggleable\"><input class=\"sk-toggleable__control sk-hidden--visually\" id=\"sk-estimator-id-566\" type=\"checkbox\" ><label for=\"sk-estimator-id-566\" class=\"sk-toggleable__label sk-toggleable__label-arrow\">scale</label><div class=\"sk-toggleable__content\"><pre>[&#x27;MedInc&#x27;, &#x27;HouseAge&#x27;, &#x27;AveRooms&#x27;, &#x27;AveBedrms&#x27;, &#x27;Population&#x27;, &#x27;AveOccup&#x27;, &#x27;Latitude&#x27;, &#x27;Longitude&#x27;]</pre></div></div></div><div class=\"sk-serial\"><div class=\"sk-item\"><div class=\"sk-estimator sk-toggleable\"><input class=\"sk-toggleable__control sk-hidden--visually\" id=\"sk-estimator-id-567\" type=\"checkbox\" ><label for=\"sk-estimator-id-567\" class=\"sk-toggleable__label sk-toggleable__label-arrow\">StandardScaler</label><div class=\"sk-toggleable__content\"><pre>StandardScaler()</pre></div></div></div></div></div></div></div></div><div class=\"sk-item\"><div class=\"sk-estimator sk-toggleable\"><input class=\"sk-toggleable__control sk-hidden--visually\" id=\"sk-estimator-id-568\" type=\"checkbox\" ><label for=\"sk-estimator-id-568\" class=\"sk-toggleable__label sk-toggleable__label-arrow\">LinearSVR</label><div class=\"sk-toggleable__content\"><pre>LinearSVR(dual=True, max_iter=5000, random_state=42)</pre></div></div></div></div></div></div></div>"
      ],
      "text/plain": [
       "Pipeline(steps=[('preprocessing',\n",
       "                 ColumnTransformer(transformers=[('scale', StandardScaler(),\n",
       "                                                  ['MedInc', 'HouseAge',\n",
       "                                                   'AveRooms', 'AveBedrms',\n",
       "                                                   'Population', 'AveOccup',\n",
       "                                                   'Latitude',\n",
       "                                                   'Longitude'])])),\n",
       "                ('svr', LinearSVR(dual=True, max_iter=5000, random_state=42))])"
      ]
     },
     "execution_count": 773,
     "metadata": {},
     "output_type": "execute_result"
    }
   ],
   "source": [
    "from sklearn.svm import LinearSVR\n",
    "\n",
    "svm_reg_pipeline = Pipeline([\n",
    "    (\"preprocessing\", preprocessing_2),\n",
    "    (\"svr\", LinearSVR(random_state=RANDOM_SEED, max_iter=5000, dual=True))\n",
    "])\n",
    "\n",
    "svm_reg_pipeline.fit(X_train, y_train)"
   ]
  },
  {
   "cell_type": "code",
   "execution_count": 774,
   "id": "b1120b0e",
   "metadata": {},
   "outputs": [],
   "source": [
    "try:\n",
    "    from sklearn.metrics import root_mean_squared_error\n",
    "except ImportError:\n",
    "    from sklearn.metrics import mean_squared_error\n",
    "\n",
    "    def root_mean_squared_error(labels, predictions):\n",
    "        return mean_squared_error(labels, predictions, squared=False)"
   ]
  },
  {
   "cell_type": "code",
   "execution_count": 778,
   "id": "aa1f4f87",
   "metadata": {},
   "outputs": [
    {
     "data": {
      "text/plain": [
       "0.9795654478293856"
      ]
     },
     "execution_count": 778,
     "metadata": {},
     "output_type": "execute_result"
    }
   ],
   "source": [
    "y_pred = svm_reg_pipeline.predict(X_train)\n",
    "mse = root_mean_squared_error(y_train, y_pred)\n",
    "mse"
   ]
  },
  {
   "cell_type": "markdown",
   "id": "46461a0b",
   "metadata": {},
   "source": [
    "### Follow-Along for RBF Kernel"
   ]
  },
  {
   "cell_type": "code",
   "execution_count": 779,
   "id": "e41f0035",
   "metadata": {},
   "outputs": [
    {
     "data": {
      "text/html": [
       "<style>#sk-container-id-135 {color: black;}#sk-container-id-135 pre{padding: 0;}#sk-container-id-135 div.sk-toggleable {background-color: white;}#sk-container-id-135 label.sk-toggleable__label {cursor: pointer;display: block;width: 100%;margin-bottom: 0;padding: 0.3em;box-sizing: border-box;text-align: center;}#sk-container-id-135 label.sk-toggleable__label-arrow:before {content: \"▸\";float: left;margin-right: 0.25em;color: #696969;}#sk-container-id-135 label.sk-toggleable__label-arrow:hover:before {color: black;}#sk-container-id-135 div.sk-estimator:hover label.sk-toggleable__label-arrow:before {color: black;}#sk-container-id-135 div.sk-toggleable__content {max-height: 0;max-width: 0;overflow: hidden;text-align: left;background-color: #f0f8ff;}#sk-container-id-135 div.sk-toggleable__content pre {margin: 0.2em;color: black;border-radius: 0.25em;background-color: #f0f8ff;}#sk-container-id-135 input.sk-toggleable__control:checked~div.sk-toggleable__content {max-height: 200px;max-width: 100%;overflow: auto;}#sk-container-id-135 input.sk-toggleable__control:checked~label.sk-toggleable__label-arrow:before {content: \"▾\";}#sk-container-id-135 div.sk-estimator input.sk-toggleable__control:checked~label.sk-toggleable__label {background-color: #d4ebff;}#sk-container-id-135 div.sk-label input.sk-toggleable__control:checked~label.sk-toggleable__label {background-color: #d4ebff;}#sk-container-id-135 input.sk-hidden--visually {border: 0;clip: rect(1px 1px 1px 1px);clip: rect(1px, 1px, 1px, 1px);height: 1px;margin: -1px;overflow: hidden;padding: 0;position: absolute;width: 1px;}#sk-container-id-135 div.sk-estimator {font-family: monospace;background-color: #f0f8ff;border: 1px dotted black;border-radius: 0.25em;box-sizing: border-box;margin-bottom: 0.5em;}#sk-container-id-135 div.sk-estimator:hover {background-color: #d4ebff;}#sk-container-id-135 div.sk-parallel-item::after {content: \"\";width: 100%;border-bottom: 1px solid gray;flex-grow: 1;}#sk-container-id-135 div.sk-label:hover label.sk-toggleable__label {background-color: #d4ebff;}#sk-container-id-135 div.sk-serial::before {content: \"\";position: absolute;border-left: 1px solid gray;box-sizing: border-box;top: 0;bottom: 0;left: 50%;z-index: 0;}#sk-container-id-135 div.sk-serial {display: flex;flex-direction: column;align-items: center;background-color: white;padding-right: 0.2em;padding-left: 0.2em;position: relative;}#sk-container-id-135 div.sk-item {position: relative;z-index: 1;}#sk-container-id-135 div.sk-parallel {display: flex;align-items: stretch;justify-content: center;background-color: white;position: relative;}#sk-container-id-135 div.sk-item::before, #sk-container-id-135 div.sk-parallel-item::before {content: \"\";position: absolute;border-left: 1px solid gray;box-sizing: border-box;top: 0;bottom: 0;left: 50%;z-index: -1;}#sk-container-id-135 div.sk-parallel-item {display: flex;flex-direction: column;z-index: 1;position: relative;background-color: white;}#sk-container-id-135 div.sk-parallel-item:first-child::after {align-self: flex-end;width: 50%;}#sk-container-id-135 div.sk-parallel-item:last-child::after {align-self: flex-start;width: 50%;}#sk-container-id-135 div.sk-parallel-item:only-child::after {width: 0;}#sk-container-id-135 div.sk-dashed-wrapped {border: 1px dashed gray;margin: 0 0.4em 0.5em 0.4em;box-sizing: border-box;padding-bottom: 0.4em;background-color: white;}#sk-container-id-135 div.sk-label label {font-family: monospace;font-weight: bold;display: inline-block;line-height: 1.2em;}#sk-container-id-135 div.sk-label-container {text-align: center;}#sk-container-id-135 div.sk-container {/* jupyter's `normalize.less` sets `[hidden] { display: none; }` but bootstrap.min.css set `[hidden] { display: none !important; }` so we also need the `!important` here to be able to override the default hidden behavior on the sphinx rendered scikit-learn.org. See: https://github.com/scikit-learn/scikit-learn/issues/21755 */display: inline-block !important;position: relative;}#sk-container-id-135 div.sk-text-repr-fallback {display: none;}</style><div id=\"sk-container-id-135\" class=\"sk-top-container\"><div class=\"sk-text-repr-fallback\"><pre>Pipeline(steps=[(&#x27;preprocessing&#x27;,\n",
       "                 ColumnTransformer(transformers=[(&#x27;scale&#x27;, StandardScaler(),\n",
       "                                                  [&#x27;MedInc&#x27;, &#x27;HouseAge&#x27;,\n",
       "                                                   &#x27;AveRooms&#x27;, &#x27;AveBedrms&#x27;,\n",
       "                                                   &#x27;Population&#x27;, &#x27;AveOccup&#x27;,\n",
       "                                                   &#x27;Latitude&#x27;,\n",
       "                                                   &#x27;Longitude&#x27;])])),\n",
       "                (&#x27;svr&#x27;, SVR(gamma=0.1))])</pre><b>In a Jupyter environment, please rerun this cell to show the HTML representation or trust the notebook. <br />On GitHub, the HTML representation is unable to render, please try loading this page with nbviewer.org.</b></div><div class=\"sk-container\" hidden><div class=\"sk-item sk-dashed-wrapped\"><div class=\"sk-label-container\"><div class=\"sk-label sk-toggleable\"><input class=\"sk-toggleable__control sk-hidden--visually\" id=\"sk-estimator-id-569\" type=\"checkbox\" ><label for=\"sk-estimator-id-569\" class=\"sk-toggleable__label sk-toggleable__label-arrow\">Pipeline</label><div class=\"sk-toggleable__content\"><pre>Pipeline(steps=[(&#x27;preprocessing&#x27;,\n",
       "                 ColumnTransformer(transformers=[(&#x27;scale&#x27;, StandardScaler(),\n",
       "                                                  [&#x27;MedInc&#x27;, &#x27;HouseAge&#x27;,\n",
       "                                                   &#x27;AveRooms&#x27;, &#x27;AveBedrms&#x27;,\n",
       "                                                   &#x27;Population&#x27;, &#x27;AveOccup&#x27;,\n",
       "                                                   &#x27;Latitude&#x27;,\n",
       "                                                   &#x27;Longitude&#x27;])])),\n",
       "                (&#x27;svr&#x27;, SVR(gamma=0.1))])</pre></div></div></div><div class=\"sk-serial\"><div class=\"sk-item sk-dashed-wrapped\"><div class=\"sk-label-container\"><div class=\"sk-label sk-toggleable\"><input class=\"sk-toggleable__control sk-hidden--visually\" id=\"sk-estimator-id-570\" type=\"checkbox\" ><label for=\"sk-estimator-id-570\" class=\"sk-toggleable__label sk-toggleable__label-arrow\">preprocessing: ColumnTransformer</label><div class=\"sk-toggleable__content\"><pre>ColumnTransformer(transformers=[(&#x27;scale&#x27;, StandardScaler(),\n",
       "                                 [&#x27;MedInc&#x27;, &#x27;HouseAge&#x27;, &#x27;AveRooms&#x27;, &#x27;AveBedrms&#x27;,\n",
       "                                  &#x27;Population&#x27;, &#x27;AveOccup&#x27;, &#x27;Latitude&#x27;,\n",
       "                                  &#x27;Longitude&#x27;])])</pre></div></div></div><div class=\"sk-parallel\"><div class=\"sk-parallel-item\"><div class=\"sk-item\"><div class=\"sk-label-container\"><div class=\"sk-label sk-toggleable\"><input class=\"sk-toggleable__control sk-hidden--visually\" id=\"sk-estimator-id-571\" type=\"checkbox\" ><label for=\"sk-estimator-id-571\" class=\"sk-toggleable__label sk-toggleable__label-arrow\">scale</label><div class=\"sk-toggleable__content\"><pre>[&#x27;MedInc&#x27;, &#x27;HouseAge&#x27;, &#x27;AveRooms&#x27;, &#x27;AveBedrms&#x27;, &#x27;Population&#x27;, &#x27;AveOccup&#x27;, &#x27;Latitude&#x27;, &#x27;Longitude&#x27;]</pre></div></div></div><div class=\"sk-serial\"><div class=\"sk-item\"><div class=\"sk-estimator sk-toggleable\"><input class=\"sk-toggleable__control sk-hidden--visually\" id=\"sk-estimator-id-572\" type=\"checkbox\" ><label for=\"sk-estimator-id-572\" class=\"sk-toggleable__label sk-toggleable__label-arrow\">StandardScaler</label><div class=\"sk-toggleable__content\"><pre>StandardScaler()</pre></div></div></div></div></div></div></div></div><div class=\"sk-item\"><div class=\"sk-estimator sk-toggleable\"><input class=\"sk-toggleable__control sk-hidden--visually\" id=\"sk-estimator-id-573\" type=\"checkbox\" ><label for=\"sk-estimator-id-573\" class=\"sk-toggleable__label sk-toggleable__label-arrow\">SVR</label><div class=\"sk-toggleable__content\"><pre>SVR(gamma=0.1)</pre></div></div></div></div></div></div></div>"
      ],
      "text/plain": [
       "Pipeline(steps=[('preprocessing',\n",
       "                 ColumnTransformer(transformers=[('scale', StandardScaler(),\n",
       "                                                  ['MedInc', 'HouseAge',\n",
       "                                                   'AveRooms', 'AveBedrms',\n",
       "                                                   'Population', 'AveOccup',\n",
       "                                                   'Latitude',\n",
       "                                                   'Longitude'])])),\n",
       "                ('svr', SVR(gamma=0.1))])"
      ]
     },
     "execution_count": 779,
     "metadata": {},
     "output_type": "execute_result"
    }
   ],
   "source": [
    "from sklearn.svm import SVR\n",
    "\n",
    "\n",
    "pipeline2 = Pipeline([\n",
    "    (\"preprocessing\", preprocessing_2),\n",
    "    (\"svr\", SVR(kernel=\"rbf\", gamma=0.1, C=1.0))\n",
    "])\n",
    "\n",
    "pipeline2.fit(X_train, y_train)"
   ]
  },
  {
   "cell_type": "code",
   "execution_count": 780,
   "id": "a6b6ae40",
   "metadata": {},
   "outputs": [
    {
     "data": {
      "text/plain": [
       "0.5888464522259135"
      ]
     },
     "execution_count": 780,
     "metadata": {},
     "output_type": "execute_result"
    }
   ],
   "source": [
    "y_pred = pipeline2.predict(X_train)\n",
    "mse = root_mean_squared_error(y_train, y_pred)\n",
    "mse"
   ]
  },
  {
   "cell_type": "markdown",
   "id": "56c086b9",
   "metadata": {},
   "source": [
    "Better! But still off by $58,000.\n",
    "\n",
    "Let's try to tweak the params?"
   ]
  },
  {
   "cell_type": "code",
   "execution_count": 786,
   "id": "90588148",
   "metadata": {},
   "outputs": [
    {
     "name": "stdout",
     "output_type": "stream",
     "text": [
      "Fitting 3 folds for each of 100 candidates, totalling 300 fits\n",
      "[CV] END svr__C=4.745401188473625, svr__gamma=0.07969454818643935; total time=   0.1s\n",
      "[CV] END svr__C=4.745401188473625, svr__gamma=0.07969454818643935; total time=   0.1s\n",
      "[CV] END svr__C=4.745401188473625, svr__gamma=0.07969454818643935; total time=   0.1s\n",
      "[CV] END svr__C=8.31993941811405, svr__gamma=0.015751320499779727; total time=   0.0s\n",
      "[CV] END svr__C=8.31993941811405, svr__gamma=0.015751320499779727; total time=   0.1s\n",
      "[CV] END svr__C=8.31993941811405, svr__gamma=0.015751320499779727; total time=   0.1s\n",
      "[CV] END svr__C=2.560186404424365, svr__gamma=0.002051110418843397; total time=   0.0s\n",
      "[CV] END svr__C=2.560186404424365, svr__gamma=0.002051110418843397; total time=   0.0s\n",
      "[CV] END svr__C=2.560186404424365, svr__gamma=0.002051110418843397; total time=   0.0s\n",
      "[CV] END svr__C=1.5808361216819946, svr__gamma=0.05399484409787434; total time=   0.0s\n",
      "[CV] END svr__C=1.5808361216819946, svr__gamma=0.05399484409787434; total time=   0.0s\n",
      "[CV] END svr__C=1.5808361216819946, svr__gamma=0.05399484409787434; total time=   0.0s\n",
      "[CV] END svr__C=7.011150117432088, svr__gamma=0.02607024758370768; total time=   0.0s\n",
      "[CV] END svr__C=7.011150117432088, svr__gamma=0.02607024758370768; total time=   0.0s\n",
      "[CV] END svr__C=7.011150117432088, svr__gamma=0.02607024758370768; total time=   0.1s\n",
      "[CV] END svr__C=1.2058449429580245, svr__gamma=0.08706020878304858; total time=   0.0s\n",
      "[CV] END svr__C=1.2058449429580245, svr__gamma=0.08706020878304858; total time=   0.0s\n",
      "[CV] END svr__C=1.2058449429580245, svr__gamma=0.08706020878304858; total time=   0.0s\n",
      "[CV] END svr__C=9.324426408004218, svr__gamma=0.0026587543983272706; total time=   0.0s\n",
      "[CV] END svr__C=9.324426408004218, svr__gamma=0.0026587543983272706; total time=   0.1s\n",
      "[CV] END svr__C=9.324426408004218, svr__gamma=0.0026587543983272706; total time=   0.1s\n",
      "[CV] END svr__C=2.818249672071006, svr__gamma=0.002327067708383781; total time=   0.0s\n",
      "[CV] END svr__C=2.818249672071006, svr__gamma=0.002327067708383781; total time=   0.0s\n",
      "[CV] END svr__C=2.818249672071006, svr__gamma=0.002327067708383781; total time=   0.0s\n",
      "[CV] END svr__C=4.042422429595377, svr__gamma=0.01120760621186057; total time=   0.0s\n",
      "[CV] END svr__C=4.042422429595377, svr__gamma=0.01120760621186057; total time=   0.0s\n",
      "[CV] END svr__C=4.042422429595377, svr__gamma=0.01120760621186057; total time=   0.0s\n",
      "[CV] END svr__C=5.319450186421157, svr__gamma=0.0038234752246751854; total time=   0.0s\n",
      "[CV] END svr__C=5.319450186421157, svr__gamma=0.0038234752246751854; total time=   0.0s\n",
      "[CV] END svr__C=5.319450186421157, svr__gamma=0.0038234752246751854; total time=   0.0s\n",
      "[CV] END svr__C=7.118528947223795, svr__gamma=0.0019010245319870357; total time=   0.0s\n",
      "[CV] END svr__C=7.118528947223795, svr__gamma=0.0019010245319870357; total time=   0.0s\n",
      "[CV] END svr__C=7.118528947223795, svr__gamma=0.0019010245319870357; total time=   0.0s\n",
      "[CV] END svr__C=3.9214464853521815, svr__gamma=0.005404103854647328; total time=   0.0s\n",
      "[CV] END svr__C=3.9214464853521815, svr__gamma=0.005404103854647328; total time=   0.0s\n",
      "[CV] END svr__C=3.9214464853521815, svr__gamma=0.005404103854647328; total time=   0.0s\n",
      "[CV] END svr__C=5.56069984217036, svr__gamma=0.037183641805732096; total time=   0.0s\n",
      "[CV] END svr__C=5.56069984217036, svr__gamma=0.037183641805732096; total time=   0.0s\n",
      "[CV] END svr__C=5.56069984217036, svr__gamma=0.037183641805732096; total time=   0.1s\n",
      "[CV] END svr__C=2.996737821583597, svr__gamma=0.01067748270948136; total time=   0.0s\n",
      "[CV] END svr__C=2.996737821583597, svr__gamma=0.01067748270948136; total time=   0.0s\n",
      "[CV] END svr__C=2.996737821583597, svr__gamma=0.01067748270948136; total time=   0.0s\n",
      "[CV] END svr__C=6.924145688620425, svr__gamma=0.001238513729886093; total time=   0.0s\n",
      "[CV] END svr__C=6.924145688620425, svr__gamma=0.001238513729886093; total time=   0.0s\n",
      "[CV] END svr__C=6.924145688620425, svr__gamma=0.001238513729886093; total time=   0.0s\n",
      "[CV] END svr__C=7.075448519014383, svr__gamma=0.002193048555664369; total time=   0.0s\n",
      "[CV] END svr__C=7.075448519014383, svr__gamma=0.002193048555664369; total time=   0.0s\n",
      "[CV] END svr__C=7.075448519014383, svr__gamma=0.002193048555664369; total time=   0.0s\n",
      "[CV] END svr__C=1.6505159298527952, svr__gamma=0.07902619549708234; total time=   0.0s\n",
      "[CV] END svr__C=1.6505159298527952, svr__gamma=0.07902619549708234; total time=   0.0s\n",
      "[CV] END svr__C=1.6505159298527952, svr__gamma=0.07902619549708234; total time=   0.0s\n",
      "[CV] END svr__C=10.656320330745594, svr__gamma=0.041380401125610165; total time=   0.1s\n",
      "[CV] END svr__C=10.656320330745594, svr__gamma=0.041380401125610165; total time=   0.1s\n",
      "[CV] END svr__C=10.656320330745594, svr__gamma=0.041380401125610165; total time=   0.1s\n",
      "[CV] END svr__C=4.046137691733707, svr__gamma=0.0015679933916723015; total time=   0.0s\n",
      "[CV] END svr__C=4.046137691733707, svr__gamma=0.0015679933916723015; total time=   0.0s\n",
      "[CV] END svr__C=4.046137691733707, svr__gamma=0.0015679933916723015; total time=   0.0s\n",
      "[CV] END svr__C=7.842330265121569, svr__gamma=0.007591104805282696; total time=   0.0s\n",
      "[CV] END svr__C=7.842330265121569, svr__gamma=0.007591104805282696; total time=   0.0s\n",
      "[CV] END svr__C=7.842330265121569, svr__gamma=0.007591104805282696; total time=   0.0s\n",
      "[CV] END svr__C=2.2203823484477883, svr__gamma=0.009780337016659405; total time=   0.0s\n",
      "[CV] END svr__C=2.2203823484477883, svr__gamma=0.009780337016659405; total time=   0.0s\n",
      "[CV] END svr__C=2.2203823484477883, svr__gamma=0.009780337016659405; total time=   0.0s\n",
      "[CV] END svr__C=1.343885211152184, svr__gamma=0.06586289317583113; total time=   0.0s\n",
      "[CV] END svr__C=1.343885211152184, svr__gamma=0.06586289317583113; total time=   0.0s\n",
      "[CV] END svr__C=1.343885211152184, svr__gamma=0.06586289317583113; total time=   0.0s\n",
      "[CV] END svr__C=3.587799816000169, svr__gamma=0.02113705944064573; total time=   0.0s\n",
      "[CV] END svr__C=3.587799816000169, svr__gamma=0.02113705944064573; total time=   0.0s\n",
      "[CV] END svr__C=3.587799816000169, svr__gamma=0.02113705944064573; total time=   0.0s\n",
      "[CV] END svr__C=4.11711076089411, svr__gamma=0.010968217207529524; total time=   0.0s\n",
      "[CV] END svr__C=4.11711076089411, svr__gamma=0.010968217207529524; total time=   0.0s\n",
      "[CV] END svr__C=4.11711076089411, svr__gamma=0.010968217207529524; total time=   0.0s\n",
      "[CV] END svr__C=6.4671027934327965, svr__gamma=0.0023426581058204046; total time=   0.0s\n",
      "[CV] END svr__C=6.4671027934327965, svr__gamma=0.0023426581058204046; total time=   0.0s\n",
      "[CV] END svr__C=6.4671027934327965, svr__gamma=0.0023426581058204046; total time=   0.0s\n",
      "[CV] END svr__C=10.695846277645586, svr__gamma=0.035503048581283086; total time=   0.1s\n",
      "[CV] END svr__C=10.695846277645586, svr__gamma=0.035503048581283086; total time=   0.1s\n",
      "[CV] END svr__C=10.695846277645586, svr__gamma=0.035503048581283086; total time=   0.1s\n",
      "[CV] END svr__C=10.394989415641891, svr__gamma=0.06161049539380966; total time=   0.1s\n",
      "[CV] END svr__C=10.394989415641891, svr__gamma=0.06161049539380966; total time=   0.1s\n",
      "[CV] END svr__C=10.394989415641891, svr__gamma=0.06161049539380966; total time=   0.1s\n",
      "[CV] END svr__C=6.978999788110851, svr__gamma=0.06978281265126034; total time=   0.1s\n",
      "[CV] END svr__C=6.978999788110851, svr__gamma=0.06978281265126034; total time=   0.1s\n",
      "[CV] END svr__C=6.978999788110851, svr__gamma=0.06978281265126034; total time=   0.1s\n",
      "[CV] END svr__C=1.884925020519195, svr__gamma=0.0024658447214487376; total time=   0.0s\n",
      "[CV] END svr__C=1.884925020519195, svr__gamma=0.0024658447214487376; total time=   0.0s\n",
      "[CV] END svr__C=1.884925020519195, svr__gamma=0.0024658447214487376; total time=   0.0s\n",
      "[CV] END svr__C=1.4522728891053807, svr__gamma=0.004473636174621266; total time=   0.0s\n",
      "[CV] END svr__C=1.4522728891053807, svr__gamma=0.004473636174621266; total time=   0.0s\n",
      "[CV] END svr__C=1.4522728891053807, svr__gamma=0.004473636174621266; total time=   0.0s\n",
      "[CV] END svr__C=4.88677289689482, svr__gamma=0.003488976654890368; total time=   0.0s\n",
      "[CV] END svr__C=4.88677289689482, svr__gamma=0.003488976654890368; total time=   0.0s\n",
      "[CV] END svr__C=4.88677289689482, svr__gamma=0.003488976654890368; total time=   0.0s\n",
      "[CV] END svr__C=9.287375091519294, svr__gamma=0.005170191786366992; total time=   0.0s\n",
      "[CV] END svr__C=9.287375091519294, svr__gamma=0.005170191786366992; total time=   0.0s\n",
      "[CV] END svr__C=9.287375091519294, svr__gamma=0.005170191786366992; total time=   0.0s\n",
      "[CV] END svr__C=3.8093450968738076, svr__gamma=0.012172847081122434; total time=   0.0s\n",
      "[CV] END svr__C=3.8093450968738076, svr__gamma=0.012172847081122434; total time=   0.1s\n",
      "[CV] END svr__C=3.8093450968738076, svr__gamma=0.012172847081122434; total time=   0.0s\n",
      "[CV] END svr__C=2.4092422497476265, svr__gamma=0.040215545266902894; total time=   0.0s\n",
      "[CV] END svr__C=2.4092422497476265, svr__gamma=0.040215545266902894; total time=   0.0s\n",
      "[CV] END svr__C=2.4092422497476265, svr__gamma=0.040215545266902894; total time=   0.0s\n",
      "[CV] END svr__C=1.7455064367977082, svr__gamma=0.09413993046829945; total time=   0.0s\n",
      "[CV] END svr__C=1.7455064367977082, svr__gamma=0.09413993046829945; total time=   0.0s\n",
      "[CV] END svr__C=1.7455064367977082, svr__gamma=0.09413993046829945; total time=   0.0s\n",
      "[CV] END svr__C=8.722447692966574, svr__gamma=0.002497073714505273; total time=   0.0s\n",
      "[CV] END svr__C=8.722447692966574, svr__gamma=0.002497073714505273; total time=   0.0s\n",
      "[CV] END svr__C=8.722447692966574, svr__gamma=0.002497073714505273; total time=   0.0s\n",
      "[CV] END svr__C=1.055221171236024, svr__gamma=0.04274869455295218; total time=   0.0s\n",
      "[CV] END svr__C=1.055221171236024, svr__gamma=0.04274869455295218; total time=   0.0s\n",
      "[CV] END svr__C=1.055221171236024, svr__gamma=0.04274869455295218; total time=   0.0s\n",
      "[CV] END svr__C=8.068573438476172, svr__gamma=0.028708753481954688; total time=   0.1s\n",
      "[CV] END svr__C=8.068573438476172, svr__gamma=0.028708753481954688; total time=   0.0s\n",
      "[CV] END svr__C=8.068573438476172, svr__gamma=0.028708753481954688; total time=   0.1s\n",
      "[CV] END svr__C=8.712703466859457, svr__gamma=0.001406336677771817; total time=   0.1s\n",
      "[CV] END svr__C=8.712703466859457, svr__gamma=0.001406336677771817; total time=   0.0s\n",
      "[CV] END svr__C=8.712703466859457, svr__gamma=0.001406336677771817; total time=   0.0s\n",
      "[CV] END svr__C=4.584657285442726, svr__gamma=0.0017050539260269294; total time=   0.0s\n",
      "[CV] END svr__C=4.584657285442726, svr__gamma=0.0017050539260269294; total time=   0.0s\n",
      "[CV] END svr__C=4.584657285442726, svr__gamma=0.0017050539260269294; total time=   0.0s\n",
      "[CV] END svr__C=9.631034258755935, svr__gamma=0.01764396768338155; total time=   0.0s\n",
      "[CV] END svr__C=9.631034258755935, svr__gamma=0.01764396768338155; total time=   0.0s\n",
      "[CV] END svr__C=9.631034258755935, svr__gamma=0.01764396768338155; total time=   0.1s\n",
      "[CV] END svr__C=4.308980248526492, svr__gamma=0.0013400367243354798; total time=   0.0s\n",
      "[CV] END svr__C=4.308980248526492, svr__gamma=0.0013400367243354798; total time=   0.0s\n",
      "[CV] END svr__C=4.308980248526492, svr__gamma=0.0013400367243354798; total time=   0.0s\n",
      "[CV] END svr__C=4.109823217156622, svr__gamma=0.004470608546778492; total time=   0.0s\n",
      "[CV] END svr__C=4.109823217156622, svr__gamma=0.004470608546778492; total time=   0.0s\n",
      "[CV] END svr__C=4.109823217156622, svr__gamma=0.004470608546778492; total time=   0.0s\n",
      "[CV] END svr__C=8.29606178338064, svr__gamma=0.018841476921545086; total time=   0.0s\n",
      "[CV] END svr__C=8.29606178338064, svr__gamma=0.018841476921545086; total time=   0.1s\n",
      "[CV] END svr__C=8.29606178338064, svr__gamma=0.018841476921545086; total time=   0.1s\n",
      "[CV] END svr__C=9.872127425763265, svr__gamma=0.008798929749689027; total time=   0.0s\n",
      "[CV] END svr__C=9.872127425763265, svr__gamma=0.008798929749689027; total time=   0.0s\n",
      "[CV] END svr__C=9.872127425763265, svr__gamma=0.008798929749689027; total time=   0.0s\n",
      "[CV] END svr__C=2.195942459383017, svr__gamma=0.026698666742744605; total time=   0.0s\n",
      "[CV] END svr__C=2.195942459383017, svr__gamma=0.026698666742744605; total time=   0.0s\n",
      "[CV] END svr__C=2.195942459383017, svr__gamma=0.026698666742744605; total time=   0.0s\n",
      "[CV] END svr__C=8.607850486168974, svr__gamma=0.013260331922696548; total time=   0.1s\n",
      "[CV] END svr__C=8.607850486168974, svr__gamma=0.013260331922696548; total time=   0.1s\n",
      "[CV] END svr__C=8.607850486168974, svr__gamma=0.013260331922696548; total time=   0.0s\n",
      "[CV] END svr__C=8.70967179954561, svr__gamma=0.009718319944817401; total time=   0.0s\n",
      "[CV] END svr__C=8.70967179954561, svr__gamma=0.009718319944817401; total time=   0.0s\n",
      "[CV] END svr__C=8.70967179954561, svr__gamma=0.009718319944817401; total time=   0.0s\n",
      "[CV] END svr__C=6.227328293819941, svr__gamma=0.007162786999897343; total time=   0.0s\n",
      "[CV] END svr__C=6.227328293819941, svr__gamma=0.007162786999897343; total time=   0.0s\n",
      "[CV] END svr__C=6.227328293819941, svr__gamma=0.007162786999897343; total time=   0.0s\n",
      "[CV] END svr__C=1.2541912674409519, svr__gamma=0.001643549747511133; total time=   0.0s\n",
      "[CV] END svr__C=1.2541912674409519, svr__gamma=0.001643549747511133; total time=   0.0s\n",
      "[CV] END svr__C=1.2541912674409519, svr__gamma=0.001643549747511133; total time=   0.1s\n",
      "[CV] END svr__C=1.3142918568673425, svr__gamma=0.0187422109855557; total time=   0.0s\n",
      "[CV] END svr__C=1.3142918568673425, svr__gamma=0.0187422109855557; total time=   0.0s\n",
      "[CV] END svr__C=1.3142918568673425, svr__gamma=0.0187422109855557; total time=   0.0s\n",
      "[CV] END svr__C=4.143559810763267, svr__gamma=0.010402587615883844; total time=   0.0s\n",
      "[CV] END svr__C=4.143559810763267, svr__gamma=0.010402587615883844; total time=   0.0s\n",
      "[CV] END svr__C=4.143559810763267, svr__gamma=0.010402587615883844; total time=   0.0s\n",
      "[CV] END svr__C=10.07566473926093, svr__gamma=0.00315198729519389; total time=   0.1s\n",
      "[CV] END svr__C=10.07566473926093, svr__gamma=0.00315198729519389; total time=   0.0s\n",
      "[CV] END svr__C=10.07566473926093, svr__gamma=0.00315198729519389; total time=   0.0s\n",
      "[CV] END svr__C=5.103829230356297, svr__gamma=0.03244160088734161; total time=   0.1s\n",
      "[CV] END svr__C=5.103829230356297, svr__gamma=0.03244160088734161; total time=   0.0s\n",
      "[CV] END svr__C=5.103829230356297, svr__gamma=0.03244160088734161; total time=   0.1s\n",
      "[CV] END svr__C=3.2879816549162246, svr__gamma=0.0014254757044027432; total time=   0.0s\n",
      "[CV] END svr__C=3.2879816549162246, svr__gamma=0.0014254757044027432; total time=   0.0s\n",
      "[CV] END svr__C=3.2879816549162246, svr__gamma=0.0014254757044027432; total time=   0.0s\n",
      "[CV] END svr__C=3.8975145291376805, svr__gamma=0.0021010799310103557; total time=   0.0s\n",
      "[CV] END svr__C=3.8975145291376805, svr__gamma=0.0021010799310103557; total time=   0.0s\n",
      "[CV] END svr__C=3.8975145291376805, svr__gamma=0.0021010799310103557; total time=   0.0s\n",
      "[CV] END svr__C=10.29697652342573, svr__gamma=0.04132765459466366; total time=   0.1s\n",
      "[CV] END svr__C=10.29697652342573, svr__gamma=0.04132765459466366; total time=   0.1s\n",
      "[CV] END svr__C=10.29697652342573, svr__gamma=0.04132765459466366; total time=   0.1s\n",
      "[CV] END svr__C=7.334037565104235, svr__gamma=0.05532496914298508; total time=   0.1s\n",
      "[CV] END svr__C=7.334037565104235, svr__gamma=0.05532496914298508; total time=   0.1s\n",
      "[CV] END svr__C=7.334037565104235, svr__gamma=0.05532496914298508; total time=   0.1s\n",
      "[CV] END svr__C=9.036720768991145, svr__gamma=0.0023612399244412607; total time=   0.0s\n",
      "[CV] END svr__C=9.036720768991145, svr__gamma=0.0023612399244412607; total time=   0.0s\n",
      "[CV] END svr__C=9.036720768991145, svr__gamma=0.0023612399244412607; total time=   0.0s\n",
      "[CV] END svr__C=9.925589984899778, svr__gamma=0.011986281799901188; total time=   0.0s\n",
      "[CV] END svr__C=9.925589984899778, svr__gamma=0.011986281799901188; total time=   0.1s\n",
      "[CV] END svr__C=9.925589984899778, svr__gamma=0.011986281799901188; total time=   0.0s\n",
      "[CV] END svr__C=9.074401551640625, svr__gamma=0.06197015748809146; total time=   0.1s\n",
      "[CV] END svr__C=9.074401551640625, svr__gamma=0.06197015748809146; total time=   0.1s\n",
      "[CV] END svr__C=9.074401551640625, svr__gamma=0.06197015748809146; total time=   0.1s\n",
      "[CV] END svr__C=4.180034749718638, svr__gamma=0.0016599837974449212; total time=   0.0s\n",
      "[CV] END svr__C=4.180034749718638, svr__gamma=0.0016599837974449212; total time=   0.0s\n",
      "[CV] END svr__C=4.180034749718638, svr__gamma=0.0016599837974449212; total time=   0.0s\n",
      "[CV] END svr__C=3.279351625419417, svr__gamma=0.007148510793512987; total time=   0.0s\n",
      "[CV] END svr__C=3.279351625419417, svr__gamma=0.007148510793512987; total time=   0.0s\n",
      "[CV] END svr__C=3.279351625419417, svr__gamma=0.007148510793512987; total time=   0.0s\n",
      "[CV] END svr__C=9.18014765922493, svr__gamma=0.05265761277157429; total time=   0.1s\n",
      "[CV] END svr__C=9.18014765922493, svr__gamma=0.05265761277157429; total time=   0.1s\n",
      "[CV] END svr__C=9.18014765922493, svr__gamma=0.05265761277157429; total time=   0.1s\n",
      "[CV] END svr__C=1.069521305311907, svr__gamma=0.010507384024181401; total time=   0.0s\n",
      "[CV] END svr__C=1.069521305311907, svr__gamma=0.010507384024181401; total time=   0.0s\n",
      "[CV] END svr__C=1.069521305311907, svr__gamma=0.010507384024181401; total time=   0.0s\n",
      "[CV] END svr__C=5.17411003148779, svr__gamma=0.0027810936979265548; total time=   0.0s\n",
      "[CV] END svr__C=5.17411003148779, svr__gamma=0.0027810936979265548; total time=   0.0s\n",
      "[CV] END svr__C=5.17411003148779, svr__gamma=0.0027810936979265548; total time=   0.0s\n",
      "[CV] END svr__C=2.1986536733368283, svr__gamma=0.0047340227734041914; total time=   0.0s\n",
      "[CV] END svr__C=2.1986536733368283, svr__gamma=0.0047340227734041914; total time=   0.0s\n",
      "[CV] END svr__C=2.1986536733368283, svr__gamma=0.0047340227734041914; total time=   0.0s\n",
      "[CV] END svr__C=10.429097039125192, svr__gamma=0.004430021806767984; total time=   0.0s\n",
      "[CV] END svr__C=10.429097039125192, svr__gamma=0.004430021806767984; total time=   0.0s\n",
      "[CV] END svr__C=10.429097039125192, svr__gamma=0.004430021806767984; total time=   0.0s\n",
      "[CV] END svr__C=6.187906217433661, svr__gamma=0.025470526233391178; total time=   0.0s\n",
      "[CV] END svr__C=6.187906217433661, svr__gamma=0.025470526233391178; total time=   0.0s\n",
      "[CV] END svr__C=6.187906217433661, svr__gamma=0.025470526233391178; total time=   0.0s\n",
      "[CV] END svr__C=4.63629602379294, svr__gamma=0.08781408196485979; total time=   0.1s\n",
      "[CV] END svr__C=4.63629602379294, svr__gamma=0.08781408196485979; total time=   0.1s\n",
      "[CV] END svr__C=4.63629602379294, svr__gamma=0.08781408196485979; total time=   0.1s\n",
      "[CV] END svr__C=10.624472949421111, svr__gamma=0.0031883397351001883; total time=   0.0s\n",
      "[CV] END svr__C=10.624472949421111, svr__gamma=0.0031883397351001883; total time=   0.0s\n",
      "[CV] END svr__C=10.624472949421111, svr__gamma=0.0031883397351001883; total time=   0.0s\n",
      "[CV] END svr__C=5.972485058923855, svr__gamma=0.0039972068191218065; total time=   0.0s\n",
      "[CV] END svr__C=5.972485058923855, svr__gamma=0.0039972068191218065; total time=   0.0s\n",
      "[CV] END svr__C=5.972485058923855, svr__gamma=0.0039972068191218065; total time=   0.0s\n",
      "[CV] END svr__C=3.848404943774676, svr__gamma=0.0011851515660043109; total time=   0.0s\n",
      "[CV] END svr__C=3.848404943774676, svr__gamma=0.0011851515660043109; total time=   0.0s\n",
      "[CV] END svr__C=3.848404943774676, svr__gamma=0.0011851515660043109; total time=   0.0s\n",
      "[CV] END svr__C=7.095643339798968, svr__gamma=0.010124137770478638; total time=   0.0s\n",
      "[CV] END svr__C=7.095643339798968, svr__gamma=0.010124137770478638; total time=   0.0s\n",
      "[CV] END svr__C=7.095643339798968, svr__gamma=0.010124137770478638; total time=   0.0s\n",
      "[CV] END svr__C=1.5147875124998935, svr__gamma=0.0036082193273637873; total time=   0.0s\n",
      "[CV] END svr__C=1.5147875124998935, svr__gamma=0.0036082193273637873; total time=   0.0s\n",
      "[CV] END svr__C=1.5147875124998935, svr__gamma=0.0036082193273637873; total time=   0.0s\n",
      "[CV] END svr__C=10.082658859666537, svr__gamma=0.003013864904679803; total time=   0.0s\n",
      "[CV] END svr__C=10.082658859666537, svr__gamma=0.003013864904679803; total time=   0.0s\n",
      "[CV] END svr__C=10.082658859666537, svr__gamma=0.003013864904679803; total time=   0.0s\n",
      "[CV] END svr__C=2.448948720912231, svr__gamma=0.009525889086580771; total time=   0.0s\n",
      "[CV] END svr__C=2.448948720912231, svr__gamma=0.009525889086580771; total time=   0.0s\n",
      "[CV] END svr__C=2.448948720912231, svr__gamma=0.009525889086580771; total time=   0.0s\n",
      "[CV] END svr__C=10.856504541106007, svr__gamma=0.0030486708834580683; total time=   0.0s\n",
      "[CV] END svr__C=10.856504541106007, svr__gamma=0.0030486708834580683; total time=   0.0s\n",
      "[CV] END svr__C=10.856504541106007, svr__gamma=0.0030486708834580683; total time=   0.0s\n",
      "[CV] END svr__C=7.721355474058786, svr__gamma=0.03336101309469785; total time=   0.0s\n",
      "[CV] END svr__C=7.721355474058786, svr__gamma=0.03336101309469785; total time=   0.1s\n",
      "[CV] END svr__C=7.721355474058786, svr__gamma=0.03336101309469785; total time=   0.1s\n",
      "[CV] END svr__C=3.3763754399239967, svr__gamma=0.02860439042982462; total time=   0.0s\n",
      "[CV] END svr__C=3.3763754399239967, svr__gamma=0.02860439042982462; total time=   0.0s\n",
      "[CV] END svr__C=3.3763754399239967, svr__gamma=0.02860439042982462; total time=   0.0s\n",
      "[CV] END svr__C=4.677831327192532, svr__gamma=0.018391267498289014; total time=   0.0s\n",
      "[CV] END svr__C=4.677831327192532, svr__gamma=0.018391267498289014; total time=   0.0s\n",
      "[CV] END svr__C=4.677831327192532, svr__gamma=0.018391267498289014; total time=   0.0s\n",
      "[CV] END svr__C=7.335297107608947, svr__gamma=0.011790965486776316; total time=   0.0s\n",
      "[CV] END svr__C=7.335297107608947, svr__gamma=0.011790965486776316; total time=   0.0s\n",
      "[CV] END svr__C=7.335297107608947, svr__gamma=0.011790965486776316; total time=   0.0s\n",
      "[CV] END svr__C=1.902897700544083, svr__gamma=0.046838717081187295; total time=   0.0s\n",
      "[CV] END svr__C=1.902897700544083, svr__gamma=0.046838717081187295; total time=   0.0s\n",
      "[CV] END svr__C=1.902897700544083, svr__gamma=0.046838717081187295; total time=   0.0s\n",
      "[CV] END svr__C=4.207800649717358, svr__gamma=0.0023606794572813066; total time=   0.0s\n",
      "[CV] END svr__C=4.207800649717358, svr__gamma=0.0023606794572813066; total time=   0.0s\n",
      "[CV] END svr__C=4.207800649717358, svr__gamma=0.0023606794572813066; total time=   0.0s\n",
      "[CV] END svr__C=1.4077514155476392, svr__gamma=0.01519798062003422; total time=   0.0s\n",
      "[CV] END svr__C=1.4077514155476392, svr__gamma=0.01519798062003422; total time=   0.0s\n",
      "[CV] END svr__C=1.4077514155476392, svr__gamma=0.01519798062003422; total time=   0.0s\n",
      "[CV] END svr__C=7.775643618422825, svr__gamma=0.0010793832090127276; total time=   0.0s\n",
      "[CV] END svr__C=7.775643618422825, svr__gamma=0.0010793832090127276; total time=   0.0s\n",
      "[CV] END svr__C=7.775643618422825, svr__gamma=0.0010793832090127276; total time=   0.0s\n",
      "[CV] END svr__C=6.12093058299281, svr__gamma=0.002837863814617626; total time=   0.0s\n",
      "[CV] END svr__C=6.12093058299281, svr__gamma=0.002837863814617626; total time=   0.0s\n",
      "[CV] END svr__C=6.12093058299281, svr__gamma=0.002837863814617626; total time=   0.0s\n",
      "[CV] END svr__C=7.451727904094499, svr__gamma=0.0022321987366901576; total time=   0.0s\n",
      "[CV] END svr__C=7.451727904094499, svr__gamma=0.0022321987366901576; total time=   0.0s\n",
      "[CV] END svr__C=7.451727904094499, svr__gamma=0.0022321987366901576; total time=   0.0s\n",
      "[CV] END svr__C=7.90937738102466, svr__gamma=0.005935682912014687; total time=   0.0s\n",
      "[CV] END svr__C=7.90937738102466, svr__gamma=0.005935682912014687; total time=   0.0s\n",
      "[CV] END svr__C=7.90937738102466, svr__gamma=0.005935682912014687; total time=   0.0s\n",
      "[CV] END svr__C=10.367299887367345, svr__gamma=0.0018838307787619744; total time=   0.0s\n",
      "[CV] END svr__C=10.367299887367345, svr__gamma=0.0018838307787619744; total time=   0.0s\n",
      "[CV] END svr__C=10.367299887367345, svr__gamma=0.0018838307787619744; total time=   0.0s\n",
      "[CV] END svr__C=4.4106635105025855, svr__gamma=0.0016863473810115068; total time=   0.0s\n",
      "[CV] END svr__C=4.4106635105025855, svr__gamma=0.0016863473810115068; total time=   0.0s\n",
      "[CV] END svr__C=4.4106635105025855, svr__gamma=0.0016863473810115068; total time=   0.0s\n",
      "[CV] END svr__C=10.246936182785628, svr__gamma=0.056843224622122726; total time=   0.1s\n",
      "[CV] END svr__C=10.246936182785628, svr__gamma=0.056843224622122726; total time=   0.1s\n",
      "[CV] END svr__C=10.246936182785628, svr__gamma=0.056843224622122726; total time=   0.1s\n",
      "[CV] END svr__C=3.579416277151556, svr__gamma=0.020891426343856455; total time=   0.0s\n",
      "[CV] END svr__C=3.579416277151556, svr__gamma=0.020891426343856455; total time=   0.0s\n",
      "[CV] END svr__C=3.579416277151556, svr__gamma=0.020891426343856455; total time=   0.0s\n",
      "[CV] END svr__C=9.172222002012159, svr__gamma=0.012894414393074182; total time=   0.0s\n",
      "[CV] END svr__C=9.172222002012159, svr__gamma=0.012894414393074182; total time=   0.0s\n",
      "[CV] END svr__C=9.172222002012159, svr__gamma=0.012894414393074182; total time=   0.0s\n",
      "[CV] END svr__C=6.296505783560065, svr__gamma=0.0030458224385894067; total time=   0.0s\n",
      "[CV] END svr__C=6.296505783560065, svr__gamma=0.0030458224385894067; total time=   0.0s\n",
      "[CV] END svr__C=6.296505783560065, svr__gamma=0.0030458224385894067; total time=   0.0s\n",
      "[CV] END svr__C=1.9310276780589921, svr__gamma=0.06229189113188561; total time=   0.0s\n",
      "[CV] END svr__C=1.9310276780589921, svr__gamma=0.06229189113188561; total time=   0.0s\n",
      "[CV] END svr__C=1.9310276780589921, svr__gamma=0.06229189113188561; total time=   0.0s\n",
      "[CV] END svr__C=10.004180571633304, svr__gamma=0.018458776634788645; total time=   0.0s\n",
      "[CV] END svr__C=10.004180571633304, svr__gamma=0.018458776634788645; total time=   0.0s\n",
      "[CV] END svr__C=10.004180571633304, svr__gamma=0.018458776634788645; total time=   0.1s\n",
      "[CV] END svr__C=4.390297910487007, svr__gamma=0.004993662066506421; total time=   0.0s\n",
      "[CV] END svr__C=4.390297910487007, svr__gamma=0.004993662066506421; total time=   0.0s\n",
      "[CV] END svr__C=4.390297910487007, svr__gamma=0.004993662066506421; total time=   0.0s\n",
      "[CV] END svr__C=8.259556788702394, svr__gamma=0.06226163482363463; total time=   0.1s\n",
      "[CV] END svr__C=8.259556788702394, svr__gamma=0.06226163482363463; total time=   0.1s\n",
      "[CV] END svr__C=8.259556788702394, svr__gamma=0.06226163482363463; total time=   0.1s\n",
      "[CV] END svr__C=9.870864242651173, svr__gamma=0.036287002255540685; total time=   0.1s\n",
      "[CV] END svr__C=9.870864242651173, svr__gamma=0.036287002255540685; total time=   0.1s\n",
      "[CV] END svr__C=9.870864242651173, svr__gamma=0.036287002255540685; total time=   0.1s\n"
     ]
    },
    {
     "data": {
      "text/html": [
       "<style>#sk-container-id-139 {color: black;}#sk-container-id-139 pre{padding: 0;}#sk-container-id-139 div.sk-toggleable {background-color: white;}#sk-container-id-139 label.sk-toggleable__label {cursor: pointer;display: block;width: 100%;margin-bottom: 0;padding: 0.3em;box-sizing: border-box;text-align: center;}#sk-container-id-139 label.sk-toggleable__label-arrow:before {content: \"▸\";float: left;margin-right: 0.25em;color: #696969;}#sk-container-id-139 label.sk-toggleable__label-arrow:hover:before {color: black;}#sk-container-id-139 div.sk-estimator:hover label.sk-toggleable__label-arrow:before {color: black;}#sk-container-id-139 div.sk-toggleable__content {max-height: 0;max-width: 0;overflow: hidden;text-align: left;background-color: #f0f8ff;}#sk-container-id-139 div.sk-toggleable__content pre {margin: 0.2em;color: black;border-radius: 0.25em;background-color: #f0f8ff;}#sk-container-id-139 input.sk-toggleable__control:checked~div.sk-toggleable__content {max-height: 200px;max-width: 100%;overflow: auto;}#sk-container-id-139 input.sk-toggleable__control:checked~label.sk-toggleable__label-arrow:before {content: \"▾\";}#sk-container-id-139 div.sk-estimator input.sk-toggleable__control:checked~label.sk-toggleable__label {background-color: #d4ebff;}#sk-container-id-139 div.sk-label input.sk-toggleable__control:checked~label.sk-toggleable__label {background-color: #d4ebff;}#sk-container-id-139 input.sk-hidden--visually {border: 0;clip: rect(1px 1px 1px 1px);clip: rect(1px, 1px, 1px, 1px);height: 1px;margin: -1px;overflow: hidden;padding: 0;position: absolute;width: 1px;}#sk-container-id-139 div.sk-estimator {font-family: monospace;background-color: #f0f8ff;border: 1px dotted black;border-radius: 0.25em;box-sizing: border-box;margin-bottom: 0.5em;}#sk-container-id-139 div.sk-estimator:hover {background-color: #d4ebff;}#sk-container-id-139 div.sk-parallel-item::after {content: \"\";width: 100%;border-bottom: 1px solid gray;flex-grow: 1;}#sk-container-id-139 div.sk-label:hover label.sk-toggleable__label {background-color: #d4ebff;}#sk-container-id-139 div.sk-serial::before {content: \"\";position: absolute;border-left: 1px solid gray;box-sizing: border-box;top: 0;bottom: 0;left: 50%;z-index: 0;}#sk-container-id-139 div.sk-serial {display: flex;flex-direction: column;align-items: center;background-color: white;padding-right: 0.2em;padding-left: 0.2em;position: relative;}#sk-container-id-139 div.sk-item {position: relative;z-index: 1;}#sk-container-id-139 div.sk-parallel {display: flex;align-items: stretch;justify-content: center;background-color: white;position: relative;}#sk-container-id-139 div.sk-item::before, #sk-container-id-139 div.sk-parallel-item::before {content: \"\";position: absolute;border-left: 1px solid gray;box-sizing: border-box;top: 0;bottom: 0;left: 50%;z-index: -1;}#sk-container-id-139 div.sk-parallel-item {display: flex;flex-direction: column;z-index: 1;position: relative;background-color: white;}#sk-container-id-139 div.sk-parallel-item:first-child::after {align-self: flex-end;width: 50%;}#sk-container-id-139 div.sk-parallel-item:last-child::after {align-self: flex-start;width: 50%;}#sk-container-id-139 div.sk-parallel-item:only-child::after {width: 0;}#sk-container-id-139 div.sk-dashed-wrapped {border: 1px dashed gray;margin: 0 0.4em 0.5em 0.4em;box-sizing: border-box;padding-bottom: 0.4em;background-color: white;}#sk-container-id-139 div.sk-label label {font-family: monospace;font-weight: bold;display: inline-block;line-height: 1.2em;}#sk-container-id-139 div.sk-label-container {text-align: center;}#sk-container-id-139 div.sk-container {/* jupyter's `normalize.less` sets `[hidden] { display: none; }` but bootstrap.min.css set `[hidden] { display: none !important; }` so we also need the `!important` here to be able to override the default hidden behavior on the sphinx rendered scikit-learn.org. See: https://github.com/scikit-learn/scikit-learn/issues/21755 */display: inline-block !important;position: relative;}#sk-container-id-139 div.sk-text-repr-fallback {display: none;}</style><div id=\"sk-container-id-139\" class=\"sk-top-container\"><div class=\"sk-text-repr-fallback\"><pre>RandomizedSearchCV(cv=3,\n",
       "                   estimator=Pipeline(steps=[(&#x27;preprocessing&#x27;,\n",
       "                                              ColumnTransformer(transformers=[(&#x27;scale&#x27;,\n",
       "                                                                               StandardScaler(),\n",
       "                                                                               [&#x27;MedInc&#x27;,\n",
       "                                                                                &#x27;HouseAge&#x27;,\n",
       "                                                                                &#x27;AveRooms&#x27;,\n",
       "                                                                                &#x27;AveBedrms&#x27;,\n",
       "                                                                                &#x27;Population&#x27;,\n",
       "                                                                                &#x27;AveOccup&#x27;,\n",
       "                                                                                &#x27;Latitude&#x27;,\n",
       "                                                                                &#x27;Longitude&#x27;])])),\n",
       "                                             (&#x27;svr&#x27;, SVR(gamma=0.1))]),\n",
       "                   n_iter=100,\n",
       "                   param_distributions={&#x27;svr__C&#x27;: &lt;scipy.stats._distn_infrastructure.rv_continuous_frozen object at 0x798809e38160&gt;,\n",
       "                                        &#x27;svr__gamma&#x27;: &lt;scipy.stats._distn_infrastructure.rv_continuous_frozen object at 0x79880cd5fa00&gt;},\n",
       "                   random_state=42, verbose=2)</pre><b>In a Jupyter environment, please rerun this cell to show the HTML representation or trust the notebook. <br />On GitHub, the HTML representation is unable to render, please try loading this page with nbviewer.org.</b></div><div class=\"sk-container\" hidden><div class=\"sk-item sk-dashed-wrapped\"><div class=\"sk-label-container\"><div class=\"sk-label sk-toggleable\"><input class=\"sk-toggleable__control sk-hidden--visually\" id=\"sk-estimator-id-591\" type=\"checkbox\" ><label for=\"sk-estimator-id-591\" class=\"sk-toggleable__label sk-toggleable__label-arrow\">RandomizedSearchCV</label><div class=\"sk-toggleable__content\"><pre>RandomizedSearchCV(cv=3,\n",
       "                   estimator=Pipeline(steps=[(&#x27;preprocessing&#x27;,\n",
       "                                              ColumnTransformer(transformers=[(&#x27;scale&#x27;,\n",
       "                                                                               StandardScaler(),\n",
       "                                                                               [&#x27;MedInc&#x27;,\n",
       "                                                                                &#x27;HouseAge&#x27;,\n",
       "                                                                                &#x27;AveRooms&#x27;,\n",
       "                                                                                &#x27;AveBedrms&#x27;,\n",
       "                                                                                &#x27;Population&#x27;,\n",
       "                                                                                &#x27;AveOccup&#x27;,\n",
       "                                                                                &#x27;Latitude&#x27;,\n",
       "                                                                                &#x27;Longitude&#x27;])])),\n",
       "                                             (&#x27;svr&#x27;, SVR(gamma=0.1))]),\n",
       "                   n_iter=100,\n",
       "                   param_distributions={&#x27;svr__C&#x27;: &lt;scipy.stats._distn_infrastructure.rv_continuous_frozen object at 0x798809e38160&gt;,\n",
       "                                        &#x27;svr__gamma&#x27;: &lt;scipy.stats._distn_infrastructure.rv_continuous_frozen object at 0x79880cd5fa00&gt;},\n",
       "                   random_state=42, verbose=2)</pre></div></div></div><div class=\"sk-parallel\"><div class=\"sk-parallel-item\"><div class=\"sk-item\"><div class=\"sk-label-container\"><div class=\"sk-label sk-toggleable\"><input class=\"sk-toggleable__control sk-hidden--visually\" id=\"sk-estimator-id-592\" type=\"checkbox\" ><label for=\"sk-estimator-id-592\" class=\"sk-toggleable__label sk-toggleable__label-arrow\">estimator: Pipeline</label><div class=\"sk-toggleable__content\"><pre>Pipeline(steps=[(&#x27;preprocessing&#x27;,\n",
       "                 ColumnTransformer(transformers=[(&#x27;scale&#x27;, StandardScaler(),\n",
       "                                                  [&#x27;MedInc&#x27;, &#x27;HouseAge&#x27;,\n",
       "                                                   &#x27;AveRooms&#x27;, &#x27;AveBedrms&#x27;,\n",
       "                                                   &#x27;Population&#x27;, &#x27;AveOccup&#x27;,\n",
       "                                                   &#x27;Latitude&#x27;,\n",
       "                                                   &#x27;Longitude&#x27;])])),\n",
       "                (&#x27;svr&#x27;, SVR(gamma=0.1))])</pre></div></div></div><div class=\"sk-serial\"><div class=\"sk-item\"><div class=\"sk-serial\"><div class=\"sk-item sk-dashed-wrapped\"><div class=\"sk-label-container\"><div class=\"sk-label sk-toggleable\"><input class=\"sk-toggleable__control sk-hidden--visually\" id=\"sk-estimator-id-593\" type=\"checkbox\" ><label for=\"sk-estimator-id-593\" class=\"sk-toggleable__label sk-toggleable__label-arrow\">preprocessing: ColumnTransformer</label><div class=\"sk-toggleable__content\"><pre>ColumnTransformer(transformers=[(&#x27;scale&#x27;, StandardScaler(),\n",
       "                                 [&#x27;MedInc&#x27;, &#x27;HouseAge&#x27;, &#x27;AveRooms&#x27;, &#x27;AveBedrms&#x27;,\n",
       "                                  &#x27;Population&#x27;, &#x27;AveOccup&#x27;, &#x27;Latitude&#x27;,\n",
       "                                  &#x27;Longitude&#x27;])])</pre></div></div></div><div class=\"sk-parallel\"><div class=\"sk-parallel-item\"><div class=\"sk-item\"><div class=\"sk-label-container\"><div class=\"sk-label sk-toggleable\"><input class=\"sk-toggleable__control sk-hidden--visually\" id=\"sk-estimator-id-594\" type=\"checkbox\" ><label for=\"sk-estimator-id-594\" class=\"sk-toggleable__label sk-toggleable__label-arrow\">scale</label><div class=\"sk-toggleable__content\"><pre>[&#x27;MedInc&#x27;, &#x27;HouseAge&#x27;, &#x27;AveRooms&#x27;, &#x27;AveBedrms&#x27;, &#x27;Population&#x27;, &#x27;AveOccup&#x27;, &#x27;Latitude&#x27;, &#x27;Longitude&#x27;]</pre></div></div></div><div class=\"sk-serial\"><div class=\"sk-item\"><div class=\"sk-estimator sk-toggleable\"><input class=\"sk-toggleable__control sk-hidden--visually\" id=\"sk-estimator-id-595\" type=\"checkbox\" ><label for=\"sk-estimator-id-595\" class=\"sk-toggleable__label sk-toggleable__label-arrow\">StandardScaler</label><div class=\"sk-toggleable__content\"><pre>StandardScaler()</pre></div></div></div></div></div></div></div></div><div class=\"sk-item\"><div class=\"sk-estimator sk-toggleable\"><input class=\"sk-toggleable__control sk-hidden--visually\" id=\"sk-estimator-id-596\" type=\"checkbox\" ><label for=\"sk-estimator-id-596\" class=\"sk-toggleable__label sk-toggleable__label-arrow\">SVR</label><div class=\"sk-toggleable__content\"><pre>SVR(gamma=0.1)</pre></div></div></div></div></div></div></div></div></div></div></div></div>"
      ],
      "text/plain": [
       "RandomizedSearchCV(cv=3,\n",
       "                   estimator=Pipeline(steps=[('preprocessing',\n",
       "                                              ColumnTransformer(transformers=[('scale',\n",
       "                                                                               StandardScaler(),\n",
       "                                                                               ['MedInc',\n",
       "                                                                                'HouseAge',\n",
       "                                                                                'AveRooms',\n",
       "                                                                                'AveBedrms',\n",
       "                                                                                'Population',\n",
       "                                                                                'AveOccup',\n",
       "                                                                                'Latitude',\n",
       "                                                                                'Longitude'])])),\n",
       "                                             ('svr', SVR(gamma=0.1))]),\n",
       "                   n_iter=100,\n",
       "                   param_distributions={'svr__C': <scipy.stats._distn_infrastructure.rv_continuous_frozen object at 0x798809e38160>,\n",
       "                                        'svr__gamma': <scipy.stats._distn_infrastructure.rv_continuous_frozen object at 0x79880cd5fa00>},\n",
       "                   random_state=42, verbose=2)"
      ]
     },
     "execution_count": 786,
     "metadata": {},
     "output_type": "execute_result"
    }
   ],
   "source": [
    "param_distribs = {\n",
    "    \"svr__gamma\": loguniform(0.001, 0.1),\n",
    "    \"svr__C\": uniform(1, 10)\n",
    "}\n",
    "\n",
    "random_search = RandomizedSearchCV(\n",
    "    pipeline2,\n",
    "    param_distributions=param_distribs,\n",
    "    n_iter=100,\n",
    "    cv=3,\n",
    "    random_state=RANDOM_SEED,\n",
    "    verbose=2\n",
    ")\n",
    "\n",
    "random_search.fit(X_train[:2000], y_train[:2000])"
   ]
  },
  {
   "cell_type": "code",
   "execution_count": 787,
   "id": "e84ffc14",
   "metadata": {},
   "outputs": [
    {
     "data": {
      "text/plain": [
       "0.7572774474774381"
      ]
     },
     "execution_count": 787,
     "metadata": {},
     "output_type": "execute_result"
    }
   ],
   "source": [
    "random_search.best_score_"
   ]
  },
  {
   "cell_type": "code",
   "execution_count": 788,
   "id": "890c81c1",
   "metadata": {},
   "outputs": [
    {
     "data": {
      "text/plain": [
       "{'svr__C': 4.63629602379294, 'svr__gamma': 0.08781408196485979}"
      ]
     },
     "execution_count": 788,
     "metadata": {},
     "output_type": "execute_result"
    }
   ],
   "source": [
    "random_search.best_params_"
   ]
  },
  {
   "cell_type": "code",
   "execution_count": 789,
   "id": "d58e9c18",
   "metadata": {},
   "outputs": [
    {
     "data": {
      "text/html": [
       "<style>#sk-container-id-140 {color: black;}#sk-container-id-140 pre{padding: 0;}#sk-container-id-140 div.sk-toggleable {background-color: white;}#sk-container-id-140 label.sk-toggleable__label {cursor: pointer;display: block;width: 100%;margin-bottom: 0;padding: 0.3em;box-sizing: border-box;text-align: center;}#sk-container-id-140 label.sk-toggleable__label-arrow:before {content: \"▸\";float: left;margin-right: 0.25em;color: #696969;}#sk-container-id-140 label.sk-toggleable__label-arrow:hover:before {color: black;}#sk-container-id-140 div.sk-estimator:hover label.sk-toggleable__label-arrow:before {color: black;}#sk-container-id-140 div.sk-toggleable__content {max-height: 0;max-width: 0;overflow: hidden;text-align: left;background-color: #f0f8ff;}#sk-container-id-140 div.sk-toggleable__content pre {margin: 0.2em;color: black;border-radius: 0.25em;background-color: #f0f8ff;}#sk-container-id-140 input.sk-toggleable__control:checked~div.sk-toggleable__content {max-height: 200px;max-width: 100%;overflow: auto;}#sk-container-id-140 input.sk-toggleable__control:checked~label.sk-toggleable__label-arrow:before {content: \"▾\";}#sk-container-id-140 div.sk-estimator input.sk-toggleable__control:checked~label.sk-toggleable__label {background-color: #d4ebff;}#sk-container-id-140 div.sk-label input.sk-toggleable__control:checked~label.sk-toggleable__label {background-color: #d4ebff;}#sk-container-id-140 input.sk-hidden--visually {border: 0;clip: rect(1px 1px 1px 1px);clip: rect(1px, 1px, 1px, 1px);height: 1px;margin: -1px;overflow: hidden;padding: 0;position: absolute;width: 1px;}#sk-container-id-140 div.sk-estimator {font-family: monospace;background-color: #f0f8ff;border: 1px dotted black;border-radius: 0.25em;box-sizing: border-box;margin-bottom: 0.5em;}#sk-container-id-140 div.sk-estimator:hover {background-color: #d4ebff;}#sk-container-id-140 div.sk-parallel-item::after {content: \"\";width: 100%;border-bottom: 1px solid gray;flex-grow: 1;}#sk-container-id-140 div.sk-label:hover label.sk-toggleable__label {background-color: #d4ebff;}#sk-container-id-140 div.sk-serial::before {content: \"\";position: absolute;border-left: 1px solid gray;box-sizing: border-box;top: 0;bottom: 0;left: 50%;z-index: 0;}#sk-container-id-140 div.sk-serial {display: flex;flex-direction: column;align-items: center;background-color: white;padding-right: 0.2em;padding-left: 0.2em;position: relative;}#sk-container-id-140 div.sk-item {position: relative;z-index: 1;}#sk-container-id-140 div.sk-parallel {display: flex;align-items: stretch;justify-content: center;background-color: white;position: relative;}#sk-container-id-140 div.sk-item::before, #sk-container-id-140 div.sk-parallel-item::before {content: \"\";position: absolute;border-left: 1px solid gray;box-sizing: border-box;top: 0;bottom: 0;left: 50%;z-index: -1;}#sk-container-id-140 div.sk-parallel-item {display: flex;flex-direction: column;z-index: 1;position: relative;background-color: white;}#sk-container-id-140 div.sk-parallel-item:first-child::after {align-self: flex-end;width: 50%;}#sk-container-id-140 div.sk-parallel-item:last-child::after {align-self: flex-start;width: 50%;}#sk-container-id-140 div.sk-parallel-item:only-child::after {width: 0;}#sk-container-id-140 div.sk-dashed-wrapped {border: 1px dashed gray;margin: 0 0.4em 0.5em 0.4em;box-sizing: border-box;padding-bottom: 0.4em;background-color: white;}#sk-container-id-140 div.sk-label label {font-family: monospace;font-weight: bold;display: inline-block;line-height: 1.2em;}#sk-container-id-140 div.sk-label-container {text-align: center;}#sk-container-id-140 div.sk-container {/* jupyter's `normalize.less` sets `[hidden] { display: none; }` but bootstrap.min.css set `[hidden] { display: none !important; }` so we also need the `!important` here to be able to override the default hidden behavior on the sphinx rendered scikit-learn.org. See: https://github.com/scikit-learn/scikit-learn/issues/21755 */display: inline-block !important;position: relative;}#sk-container-id-140 div.sk-text-repr-fallback {display: none;}</style><div id=\"sk-container-id-140\" class=\"sk-top-container\"><div class=\"sk-text-repr-fallback\"><pre>Pipeline(steps=[(&#x27;preprocessing&#x27;,\n",
       "                 ColumnTransformer(transformers=[(&#x27;scale&#x27;, StandardScaler(),\n",
       "                                                  [&#x27;MedInc&#x27;, &#x27;HouseAge&#x27;,\n",
       "                                                   &#x27;AveRooms&#x27;, &#x27;AveBedrms&#x27;,\n",
       "                                                   &#x27;Population&#x27;, &#x27;AveOccup&#x27;,\n",
       "                                                   &#x27;Latitude&#x27;,\n",
       "                                                   &#x27;Longitude&#x27;])])),\n",
       "                (&#x27;svr&#x27;, SVR(C=4.63629602379294, gamma=0.08781408196485979))])</pre><b>In a Jupyter environment, please rerun this cell to show the HTML representation or trust the notebook. <br />On GitHub, the HTML representation is unable to render, please try loading this page with nbviewer.org.</b></div><div class=\"sk-container\" hidden><div class=\"sk-item sk-dashed-wrapped\"><div class=\"sk-label-container\"><div class=\"sk-label sk-toggleable\"><input class=\"sk-toggleable__control sk-hidden--visually\" id=\"sk-estimator-id-597\" type=\"checkbox\" ><label for=\"sk-estimator-id-597\" class=\"sk-toggleable__label sk-toggleable__label-arrow\">Pipeline</label><div class=\"sk-toggleable__content\"><pre>Pipeline(steps=[(&#x27;preprocessing&#x27;,\n",
       "                 ColumnTransformer(transformers=[(&#x27;scale&#x27;, StandardScaler(),\n",
       "                                                  [&#x27;MedInc&#x27;, &#x27;HouseAge&#x27;,\n",
       "                                                   &#x27;AveRooms&#x27;, &#x27;AveBedrms&#x27;,\n",
       "                                                   &#x27;Population&#x27;, &#x27;AveOccup&#x27;,\n",
       "                                                   &#x27;Latitude&#x27;,\n",
       "                                                   &#x27;Longitude&#x27;])])),\n",
       "                (&#x27;svr&#x27;, SVR(C=4.63629602379294, gamma=0.08781408196485979))])</pre></div></div></div><div class=\"sk-serial\"><div class=\"sk-item sk-dashed-wrapped\"><div class=\"sk-label-container\"><div class=\"sk-label sk-toggleable\"><input class=\"sk-toggleable__control sk-hidden--visually\" id=\"sk-estimator-id-598\" type=\"checkbox\" ><label for=\"sk-estimator-id-598\" class=\"sk-toggleable__label sk-toggleable__label-arrow\">preprocessing: ColumnTransformer</label><div class=\"sk-toggleable__content\"><pre>ColumnTransformer(transformers=[(&#x27;scale&#x27;, StandardScaler(),\n",
       "                                 [&#x27;MedInc&#x27;, &#x27;HouseAge&#x27;, &#x27;AveRooms&#x27;, &#x27;AveBedrms&#x27;,\n",
       "                                  &#x27;Population&#x27;, &#x27;AveOccup&#x27;, &#x27;Latitude&#x27;,\n",
       "                                  &#x27;Longitude&#x27;])])</pre></div></div></div><div class=\"sk-parallel\"><div class=\"sk-parallel-item\"><div class=\"sk-item\"><div class=\"sk-label-container\"><div class=\"sk-label sk-toggleable\"><input class=\"sk-toggleable__control sk-hidden--visually\" id=\"sk-estimator-id-599\" type=\"checkbox\" ><label for=\"sk-estimator-id-599\" class=\"sk-toggleable__label sk-toggleable__label-arrow\">scale</label><div class=\"sk-toggleable__content\"><pre>[&#x27;MedInc&#x27;, &#x27;HouseAge&#x27;, &#x27;AveRooms&#x27;, &#x27;AveBedrms&#x27;, &#x27;Population&#x27;, &#x27;AveOccup&#x27;, &#x27;Latitude&#x27;, &#x27;Longitude&#x27;]</pre></div></div></div><div class=\"sk-serial\"><div class=\"sk-item\"><div class=\"sk-estimator sk-toggleable\"><input class=\"sk-toggleable__control sk-hidden--visually\" id=\"sk-estimator-id-600\" type=\"checkbox\" ><label for=\"sk-estimator-id-600\" class=\"sk-toggleable__label sk-toggleable__label-arrow\">StandardScaler</label><div class=\"sk-toggleable__content\"><pre>StandardScaler()</pre></div></div></div></div></div></div></div></div><div class=\"sk-item\"><div class=\"sk-estimator sk-toggleable\"><input class=\"sk-toggleable__control sk-hidden--visually\" id=\"sk-estimator-id-601\" type=\"checkbox\" ><label for=\"sk-estimator-id-601\" class=\"sk-toggleable__label sk-toggleable__label-arrow\">SVR</label><div class=\"sk-toggleable__content\"><pre>SVR(C=4.63629602379294, gamma=0.08781408196485979)</pre></div></div></div></div></div></div></div>"
      ],
      "text/plain": [
       "Pipeline(steps=[('preprocessing',\n",
       "                 ColumnTransformer(transformers=[('scale', StandardScaler(),\n",
       "                                                  ['MedInc', 'HouseAge',\n",
       "                                                   'AveRooms', 'AveBedrms',\n",
       "                                                   'Population', 'AveOccup',\n",
       "                                                   'Latitude',\n",
       "                                                   'Longitude'])])),\n",
       "                ('svr', SVR(C=4.63629602379294, gamma=0.08781408196485979))])"
      ]
     },
     "execution_count": 789,
     "metadata": {},
     "output_type": "execute_result"
    }
   ],
   "source": [
    "random_search.best_estimator_"
   ]
  },
  {
   "cell_type": "code",
   "execution_count": 790,
   "id": "7623e47c",
   "metadata": {},
   "outputs": [
    {
     "data": {
      "text/plain": [
       "0.5763424747257567"
      ]
     },
     "execution_count": 790,
     "metadata": {},
     "output_type": "execute_result"
    }
   ],
   "source": [
    "y_pred = random_search.best_estimator_.predict(X_train)\n",
    "mse = root_mean_squared_error(y_train, y_pred)\n",
    "mse"
   ]
  },
  {
   "cell_type": "code",
   "execution_count": 791,
   "id": "36979f0f",
   "metadata": {},
   "outputs": [
    {
     "data": {
      "text/plain": [
       "array([0.58834964, 0.57468024, 0.58084857, 0.57109511, 0.59853088])"
      ]
     },
     "execution_count": 791,
     "metadata": {},
     "output_type": "execute_result"
    }
   ],
   "source": [
    "-cross_val_score(\n",
    "    random_search.best_estimator_,\n",
    "    X_train,\n",
    "    y_train,\n",
    "    scoring=\"neg_root_mean_squared_error\"\n",
    ")"
   ]
  },
  {
   "cell_type": "markdown",
   "id": "8bc697f6",
   "metadata": {},
   "source": [
    "Okay so it is better than `LinearSVR`, yes"
   ]
  },
  {
   "cell_type": "code",
   "execution_count": 792,
   "id": "2e8dc1e0",
   "metadata": {},
   "outputs": [
    {
     "data": {
      "text/plain": [
       "0.5854732265172242"
      ]
     },
     "execution_count": 792,
     "metadata": {},
     "output_type": "execute_result"
    }
   ],
   "source": [
    "y_pred = random_search.best_estimator_.predict(X_test)\n",
    "rmse = root_mean_squared_error(y_test, y_pred)\n",
    "rmse"
   ]
  }
 ],
 "metadata": {
  "kernelspec": {
   "display_name": "homl3",
   "language": "python",
   "name": "python3"
  },
  "language_info": {
   "codemirror_mode": {
    "name": "ipython",
    "version": 3
   },
   "file_extension": ".py",
   "mimetype": "text/x-python",
   "name": "python",
   "nbconvert_exporter": "python",
   "pygments_lexer": "ipython3",
   "version": "3.10.18"
  }
 },
 "nbformat": 4,
 "nbformat_minor": 5
}
