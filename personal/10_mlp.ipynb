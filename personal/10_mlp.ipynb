{
 "cells": [
  {
   "cell_type": "markdown",
   "id": "76c48d12",
   "metadata": {},
   "source": [
    "# Setup"
   ]
  },
  {
   "cell_type": "code",
   "execution_count": 2,
   "id": "71da578b",
   "metadata": {},
   "outputs": [
    {
     "name": "stderr",
     "output_type": "stream",
     "text": [
      "2025-08-17 15:53:14.936904: E tensorflow/compiler/xla/stream_executor/cuda/cuda_dnn.cc:9342] Unable to register cuDNN factory: Attempting to register factory for plugin cuDNN when one has already been registered\n",
      "2025-08-17 15:53:14.936969: E tensorflow/compiler/xla/stream_executor/cuda/cuda_fft.cc:609] Unable to register cuFFT factory: Attempting to register factory for plugin cuFFT when one has already been registered\n",
      "2025-08-17 15:53:14.938005: E tensorflow/compiler/xla/stream_executor/cuda/cuda_blas.cc:1518] Unable to register cuBLAS factory: Attempting to register factory for plugin cuBLAS when one has already been registered\n",
      "2025-08-17 15:53:15.019975: I tensorflow/core/platform/cpu_feature_guard.cc:182] This TensorFlow binary is optimized to use available CPU instructions in performance-critical operations.\n",
      "To enable the following instructions: AVX2 AVX_VNNI FMA, in other operations, rebuild TensorFlow with the appropriate compiler flags.\n"
     ]
    }
   ],
   "source": [
    "import sys\n",
    "import os\n",
    "import numpy as np\n",
    "import pandas as pd\n",
    "import random\n",
    "from matplotlib import pyplot as plt\n",
    "import tensorflow as tf\n",
    "from numpy.typing import NDArray\n",
    "\n",
    "RANDOM_SEED = 42\n",
    "\n",
    "sys.path.append(os.path.abspath(\".\"))\n",
    "np.random.seed(RANDOM_SEED)\n",
    "tf.random.set_seed(RANDOM_SEED)\n",
    "random.seed(RANDOM_SEED)"
   ]
  },
  {
   "cell_type": "code",
   "execution_count": 3,
   "id": "a8d49af1",
   "metadata": {},
   "outputs": [
    {
     "name": "stderr",
     "output_type": "stream",
     "text": [
      "2025-08-17 15:53:18.300294: I tensorflow/compiler/xla/stream_executor/cuda/cuda_gpu_executor.cc:880] could not open file to read NUMA node: /sys/bus/pci/devices/0000:01:00.0/numa_node\n",
      "Your kernel may have been built without NUMA support.\n",
      "2025-08-17 15:53:18.318258: I tensorflow/compiler/xla/stream_executor/cuda/cuda_gpu_executor.cc:880] could not open file to read NUMA node: /sys/bus/pci/devices/0000:01:00.0/numa_node\n",
      "Your kernel may have been built without NUMA support.\n",
      "2025-08-17 15:53:18.318289: I tensorflow/compiler/xla/stream_executor/cuda/cuda_gpu_executor.cc:880] could not open file to read NUMA node: /sys/bus/pci/devices/0000:01:00.0/numa_node\n",
      "Your kernel may have been built without NUMA support.\n"
     ]
    },
    {
     "data": {
      "text/plain": [
       "[PhysicalDevice(name='/physical_device:GPU:0', device_type='GPU')]"
      ]
     },
     "execution_count": 3,
     "metadata": {},
     "output_type": "execute_result"
    }
   ],
   "source": [
    "gpus = tf.config.list_physical_devices('GPU')\n",
    "assert len(gpus) >= 1 # should have a GPU!\n",
    "gpus"
   ]
  },
  {
   "cell_type": "markdown",
   "id": "7226d059",
   "metadata": {},
   "source": [
    "# Load Data"
   ]
  },
  {
   "cell_type": "code",
   "execution_count": 4,
   "id": "f80aefa3",
   "metadata": {},
   "outputs": [],
   "source": [
    "NUM_VALID = 5000\n",
    "\n",
    "# Type declarations to make working with it easier/get type hints\n",
    "X_test: NDArray[np.uint8]\n",
    "y_test: NDArray[np.uint8]\n",
    "\n",
    "(X_train_full, y_train_full), (X_test, y_test) = tf.keras.datasets.mnist.load_data()\n",
    "\n",
    "X_train_full = X_train_full / 255.\n",
    "\n",
    "X_test = X_test / 255.\n",
    "\n",
    "# all items besides the last 5000 ones part of the core train set\n",
    "X_train: NDArray[np.uint8] = X_train_full[:-NUM_VALID]\n",
    "y_train: NDArray[np.uint8] = y_train_full[:-NUM_VALID]\n",
    "\n",
    "# the last 5000 items are for validation\n",
    "X_valid: NDArray[np.uint8] = X_train_full[-NUM_VALID:]\n",
    "y_valid: NDArray[np.uint8] = y_train_full[-NUM_VALID:]"
   ]
  },
  {
   "cell_type": "code",
   "execution_count": 5,
   "id": "ade360da",
   "metadata": {},
   "outputs": [
    {
     "data": {
      "text/plain": [
       "(55000, 28, 28)"
      ]
     },
     "execution_count": 5,
     "metadata": {},
     "output_type": "execute_result"
    }
   ],
   "source": [
    "X_train.shape # the actual pixel values for the digits. 28x28 images"
   ]
  },
  {
   "cell_type": "code",
   "execution_count": 6,
   "id": "c6d3a735",
   "metadata": {},
   "outputs": [
    {
     "data": {
      "text/plain": [
       "array([[[0., 0., 0., ..., 0., 0., 0.],\n",
       "        [0., 0., 0., ..., 0., 0., 0.],\n",
       "        [0., 0., 0., ..., 0., 0., 0.],\n",
       "        ...,\n",
       "        [0., 0., 0., ..., 0., 0., 0.],\n",
       "        [0., 0., 0., ..., 0., 0., 0.],\n",
       "        [0., 0., 0., ..., 0., 0., 0.]],\n",
       "\n",
       "       [[0., 0., 0., ..., 0., 0., 0.],\n",
       "        [0., 0., 0., ..., 0., 0., 0.],\n",
       "        [0., 0., 0., ..., 0., 0., 0.],\n",
       "        ...,\n",
       "        [0., 0., 0., ..., 0., 0., 0.],\n",
       "        [0., 0., 0., ..., 0., 0., 0.],\n",
       "        [0., 0., 0., ..., 0., 0., 0.]],\n",
       "\n",
       "       [[0., 0., 0., ..., 0., 0., 0.],\n",
       "        [0., 0., 0., ..., 0., 0., 0.],\n",
       "        [0., 0., 0., ..., 0., 0., 0.],\n",
       "        ...,\n",
       "        [0., 0., 0., ..., 0., 0., 0.],\n",
       "        [0., 0., 0., ..., 0., 0., 0.],\n",
       "        [0., 0., 0., ..., 0., 0., 0.]],\n",
       "\n",
       "       ...,\n",
       "\n",
       "       [[0., 0., 0., ..., 0., 0., 0.],\n",
       "        [0., 0., 0., ..., 0., 0., 0.],\n",
       "        [0., 0., 0., ..., 0., 0., 0.],\n",
       "        ...,\n",
       "        [0., 0., 0., ..., 0., 0., 0.],\n",
       "        [0., 0., 0., ..., 0., 0., 0.],\n",
       "        [0., 0., 0., ..., 0., 0., 0.]],\n",
       "\n",
       "       [[0., 0., 0., ..., 0., 0., 0.],\n",
       "        [0., 0., 0., ..., 0., 0., 0.],\n",
       "        [0., 0., 0., ..., 0., 0., 0.],\n",
       "        ...,\n",
       "        [0., 0., 0., ..., 0., 0., 0.],\n",
       "        [0., 0., 0., ..., 0., 0., 0.],\n",
       "        [0., 0., 0., ..., 0., 0., 0.]],\n",
       "\n",
       "       [[0., 0., 0., ..., 0., 0., 0.],\n",
       "        [0., 0., 0., ..., 0., 0., 0.],\n",
       "        [0., 0., 0., ..., 0., 0., 0.],\n",
       "        ...,\n",
       "        [0., 0., 0., ..., 0., 0., 0.],\n",
       "        [0., 0., 0., ..., 0., 0., 0.],\n",
       "        [0., 0., 0., ..., 0., 0., 0.]]])"
      ]
     },
     "execution_count": 6,
     "metadata": {},
     "output_type": "execute_result"
    }
   ],
   "source": [
    "X_train"
   ]
  },
  {
   "cell_type": "code",
   "execution_count": 7,
   "id": "0b09281f",
   "metadata": {},
   "outputs": [],
   "source": [
    "def draw_img(X: NDArray[np.uint8], y: NDArray[np.uint8], index: int):\n",
    "    plt.imshow(X[index], cmap=\"binary\")\n",
    "    plt.text(\n",
    "        0.05, 0.05, f\"Label: {y[index]}\",\n",
    "        fontsize=12,\n",
    "        color=\"white\",\n",
    "        bbox=dict(facecolor=\"black\", alpha=0.7, boxstyle=\"round,pad=0.3\")\n",
    "    )\n",
    "    plt.axis('off')\n",
    "    plt.show()"
   ]
  },
  {
   "cell_type": "code",
   "execution_count": 8,
   "id": "e481b75e",
   "metadata": {},
   "outputs": [
    {
     "data": {
      "image/png": "[encoded data removed]",
      "text/plain": [
       "<Figure size 640x480 with 1 Axes>"
      ]
     },
     "metadata": {},
     "output_type": "display_data"
    }
   ],
   "source": [
    "draw_img(X_train, y_train, 0)"
   ]
  },
  {
   "cell_type": "code",
   "execution_count": 80,
   "id": "df5da320",
   "metadata": {},
   "outputs": [],
   "source": [
    "from IPython.display import HTML, display\n",
    "import base64\n",
    "from io import BytesIO\n",
    "import matplotlib.pyplot as plt\n",
    "\n",
    "def image_to_base64(img):\n",
    "    buf = BytesIO()\n",
    "    plt.imsave(buf, img, cmap=\"binary\")\n",
    "    buf.seek(0)\n",
    "    return base64.b64encode(buf.read()).decode('utf-8')\n",
    "\n",
    "def render_image_grid(X, y, per_row: int = 10, size: int = 64):\n",
    "    html = ['<table><tr>']\n",
    "    for i, img in enumerate(X):\n",
    "        if i % per_row == 0 and i != 0:\n",
    "            html.append('</tr><tr>')\n",
    "        b64 = image_to_base64(img)\n",
    "        label = y[i]\n",
    "        html.append(f\"\"\"\n",
    "                    <td style='text-align:center; padding:5px'>\n",
    "                        <img src='data:image/png;base64,{b64}' width='64' height='64'>\n",
    "                        <br>\n",
    "                        <p>label: <b>{label}</b></p>\n",
    "                    </td>\"\"\")\n",
    "\n",
    "    html.append(f'</tr></table><p>Total: {len(X)}</p>')\n",
    "    html_final = ''.join(html)\n",
    "    display(HTML(html_final))"
   ]
  },
  {
   "cell_type": "code",
   "execution_count": 25,
   "id": "f98c6a4b",
   "metadata": {},
   "outputs": [
    {
     "data": {
      "text/html": [
       "<table><tr>\n",
       "                    <td style='text-align:center; padding:5px'>\n",
       "                        <img src='data:image/png;base64,iVBORw0KGgoAAAANSUhEUgAAABwAAAAcCAYAAAByDd+UAAAAOXRFWHRTb2Z0d2FyZQBNYXRwbG90bGliIHZlcnNpb24zLjguNCwgaHR0cHM6Ly9tYXRwbG90bGliLm9yZy8fJSN1AAAACXBIWXMAAA9hAAAPYQGoP6dpAAACU0lEQVR4nO2WMUhyURTH/1e/xBCfOiYoBEHoEi3hIImhg0ND0uQiBA4hbg466uTS5CoOgpt4aXSQlojAQdDFoSnCWswEcSh8/6ZPqJf66sto+H5whwfn3N99vHPPeYIk8YMYflL2X/g7hNPpFI+Pj7OVz+eRyWRwdHSEfr+PWCwGIQTW19eRy+U0+X+WCW5vb/H8/IyrqytcXl7i6ekJtVpNE+dyuZBKpSClhNVqxc7ODgKBgCZOLLoW7XYbBwcHGI1GCw9lNBpRLpdhsVgAAE6nEw6HA9vb29pgLmAwGHBra4tCCM3y+XyMRCI0m81UFGXRNm9YKCRJKSVPTk5YLBZnst3dXY7HY5Jkt9tlIpH4PiFJjkYjqqrKRCJBIQSr1apuwXt0VamiKBBCwGazAQBKpRJUVdWT+rlv+J7xeMxgMEghBBuNxpfe8FNCkry5uaGiKHS73YzH4ywWi1RVdXVCkqzX67TZbLMiKhQK7Pf7qxOSZKfTYTgcnklPT095d3e3OiFJDodDVioVGgwGCiEYCoVWK/yLyWSiEIImk4kXFxcLY5f20nl0Oh3UajW0Wi28vLwAALxeL/b397/vWpBkr9djMpnkxsbGm1a3trbGSCSyNF+38P7+nmdnZ9zc3NT01b29PZ6fn+vaZ6nw4eGBzWaTHo/nwwZer9c5nU71nnu+cDAY8Pj4+MNp4ff7KaXkZDLRLZorvL6+ZjQapcvl0ogsFguz2exsUnwFTZVKKSGlnD17vV4cHh7CaDQinU7Dbrd/tbABLJn4q+D3/7X9K6+sq6Ni/DequAAAAABJRU5ErkJggg==' width='64' height='64'>\n",
       "                        <br>\n",
       "                        <p>label: <b>5</b></p>\n",
       "                    </td>\n",
       "                    <td style='text-align:center; padding:5px'>\n",
       "                        <img src='data:image/png;base64,iVBORw0KGgoAAAANSUhEUgAAABwAAAAcCAYAAAByDd+UAAAAOXRFWHRTb2Z0d2FyZQBNYXRwbG90bGliIHZlcnNpb24zLjguNCwgaHR0cHM6Ly9tYXRwbG90bGliLm9yZy8fJSN1AAAACXBIWXMAAA9hAAAPYQGoP6dpAAACPklEQVR4nO3WMUvrUBQH8HPO0EloXIIFiR3dqkMh0EJw6NYKbs3QoVMnLd0clE461Q9iO5ohY6HQ4hAjdGrHBjqIWxTi9Hd5Dfhe401FhAceuEvuveeXe+4JhAGAfjDkJ7FfUBme51Gz2SQRoWazSQ8PD+pN+GL4vg9N0yAi8dje3lbu+xJ4f3+P3d1dMDNEBJqmQdd1iAjG4zHe3t6+B3x9fcVoNMLe3h5EJAaLxSIGg0H87OrqKjHHRnfYarXIsiwKguCfu3x5eSHLsoiIaDqdJuZIDXqeR47j0J+qkGVZ1Ov1CADlcjk6PDykdrsdzydGmlL+3SDVahVhGOLu7g7X19d4enqK1zIztra24Hne2lxKcDabwbZtMDN0XUehUMBgMEhcv7pX27Y3B6MoQq1Wg4ggm83CdV08Pz8jCAIlWC6XNwfH43FcxuFw+NnS7wFN0wQz4+joKBUGAEQEZkapVFo7n9iljuPQ4+MjMTMdHx+nbWZiZmJmOjg42KxL+/0+RAQ7OztYLpfKk0VRhPPzczAzKpUKwjBcXwEVmM/nU2EXFxcQERiGAdd1E9cqwbOzs08x3/dh2zZEBCcnJ8qXSwRvb2/BzDAMI3Hzzc0NNE0DM6PRaCixT8HVCTOZDE5PT+H7PhaLBfr9Pmq1GgzDADMjn8+jXq9jMpl8D7gauVwO+/v7H56VSiVcXl6mgpRgEAQwTTNOvvqgRQS6rivvdmMQAJbLJbrd7gew0+lgPp9/CQMABn7/S/9z8B0k8xLyQkUA2wAAAABJRU5ErkJggg==' width='64' height='64'>\n",
       "                        <br>\n",
       "                        <p>label: <b>0</b></p>\n",
       "                    </td>\n",
       "                    <td style='text-align:center; padding:5px'>\n",
       "                        <img src='data:image/png;base64,iVBORw0KGgoAAAANSUhEUgAAABwAAAAcCAYAAAByDd+UAAAAOXRFWHRTb2Z0d2FyZQBNYXRwbG90bGliIHZlcnNpb24zLjguNCwgaHR0cHM6Ly9tYXRwbG90bGliLm9yZy8fJSN1AAAACXBIWXMAAA9hAAAPYQGoP6dpAAABuUlEQVR4nO3VsctxUQDH8e/z9kqPUnejyC0lYUTuaDGYmExsJrNM/g7JzMomKSUDg4lNBtIdXAOyKOqeZ3rr9Xh5rpuUen/bPffX/XRO95zzIYQQvDC/Xon9B98D7PV6OJ1OZrOZMXAwGNBqtUyD4/GYSCRy8/0V2O/3aTabpjBd11ksFqxWK27uNvEtXq9XZLPZ78OGoqqqAEQul7vZuZqhruumZgeQz+cB8Pl8NzsX4HQ6RdM00+B+vwcgkUgYA9vtNsfj0RSmaRrL5RIAl8tlDPzzK4dCoYfBYrHIer3G7/djt9tv9n7/azAajRpCDocDnU6Her1Ot9sFoFwuI0nSY+B2u714nkwm6LpOr9dDVVVOpxONRgNd1/n8/CQWi2G1Wjmfz3f3IMDH39dToVCgWq0iSRKyLF+AQggsFgs2m41AIICiKITDYeLxOA6HA7fbzW6343Q63QUvZlipVJBlmeFweFHyeDykUimCwSCKolx9pFarsdls8Hq9dzHgeuObSSaTEYAolUo/dp96eKfT6R877309zefz14JGzuGngqPR6LWgkTwFTCaThrsXJ80r8p5L+ki+ADpGYu/QLhHYAAAAAElFTkSuQmCC' width='64' height='64'>\n",
       "                        <br>\n",
       "                        <p>label: <b>4</b></p>\n",
       "                    </td>\n",
       "                    <td style='text-align:center; padding:5px'>\n",
       "                        <img src='data:image/png;base64,iVBORw0KGgoAAAANSUhEUgAAABwAAAAcCAYAAAByDd+UAAAAOXRFWHRTb2Z0d2FyZQBNYXRwbG90bGliIHZlcnNpb24zLjguNCwgaHR0cHM6Ly9tYXRwbG90bGliLm9yZy8fJSN1AAAACXBIWXMAAA9hAAAPYQGoP6dpAAABZElEQVR4nO3Wr8rCYBQG8PeMJwgGQTQtzWSwWBUGJrtXoLBg9g4G3oNRVqy7ABEZu4BV27QJFsEgBnlMvuEDv/1zYvDJ5/DjsJ3DKySpPhjjk9gP/G5wPp8rwzCUiKggCF4X8g1ZLpesVqsEQBFhEAQva98y4eFwULfbLV1x0enW6zXr9ToBsNPpcL/f83q9vqwvBIZhSNM0CYAA6HleYk8h0HEcighFhIPBIFVPbvB0OlFECICNRoObzaY8MI5jdrtdDbqum7o3F7hYLPQKDIdDns/n8kDf91mr1QiAtm3zeDxm6s8ExnGsfxIR4Xg8zoRlBqfTqV4BANztduWBURTRsiyNjUajzFgmsNlsaqzf7/NyuZQLPlcAAFerVS6MJJHm3k4mE0VS3e93pZRSvV4v96FPnDCKIpqmSRFhpVLhbDb79zgnJRHcbrd6yVutVm7ome97YrTb7WLf7E+E/D2E35sH0LwK1LVH6BgAAAAASUVORK5CYII=' width='64' height='64'>\n",
       "                        <br>\n",
       "                        <p>label: <b>1</b></p>\n",
       "                    </td>\n",
       "                    <td style='text-align:center; padding:5px'>\n",
       "                        <img src='data:image/png;base64,iVBORw0KGgoAAAANSUhEUgAAABwAAAAcCAYAAAByDd+UAAAAOXRFWHRTb2Z0d2FyZQBNYXRwbG90bGliIHZlcnNpb24zLjguNCwgaHR0cHM6Ly9tYXRwbG90bGliLm9yZy8fJSN1AAAACXBIWXMAAA9hAAAPYQGoP6dpAAAB9UlEQVR4nO3WPc8pURAH8JmJgoKIRCjQINGsUqJQbIVK5eVDrEopkegkCokvoNDQLZ1GopHQikoUOqsRISQU/9vcuzdPcT1r3aieKXcy53fm7DlnlwGAPhjySewH/AE/Ay4WC9I0jZLJJIkIiQh1Oh0aDoekaRotFovnA+CFGAwGCAQCEBEwM1RVhaIoEBHzWblcfjqGJfDxeGA+n8PtdkNEoKoqptMp7vc7zucz8vm8Cbbb7ffBXq9ndpHL5XA6ncxcv983c5FIBIfD4T2wXq+DmSEiqFarXzAASCQSJqjr+reTfwo2m00wM5xOJwqFAq7Xq5m73W4YjUZwuVxgZjQajW+xp+DxeDQ3SKFQ+JLbbDZIpVJmZ6VSCZfL5T3QMAxzwN1uB8Mw0Gq1kE6n4fF4zGV2OBwYj8eWsKfg8XhEMBg0d98fXEQQDocRCoUgIggGg5YxAPjnwfd6vaTrOvl8PiIiisViVKvVaLVa0XK5pGg0SkRElUrltZvjpen9jtlsBiICM6Pb7f6fDp/F7XYjZiZmfrlDBuz9YogIMTPt93vy+/3W6+xgk8nETpl9cLvd2gYddooymQzZfBP2OlQUheLxODHz693aORbA3y+IqqpYr9eW62yDp9MJ2WwWIoJisfj+XWoV1TQNImK5S9vn0G78ApV+qajHl2V5AAAAAElFTkSuQmCC' width='64' height='64'>\n",
       "                        <br>\n",
       "                        <p>label: <b>9</b></p>\n",
       "                    </td>\n",
       "                    <td style='text-align:center; padding:5px'>\n",
       "                        <img src='data:image/png;base64,iVBORw0KGgoAAAANSUhEUgAAABwAAAAcCAYAAAByDd+UAAAAOXRFWHRTb2Z0d2FyZQBNYXRwbG90bGliIHZlcnNpb24zLjguNCwgaHR0cHM6Ly9tYXRwbG90bGliLm9yZy8fJSN1AAAACXBIWXMAAA9hAAAPYQGoP6dpAAACfElEQVR4nO2WPyxzURjG3/NG/AltWKpJiQ6iiwSJRMTOcBkMNVlYajEZmCTY2CQMIrEhJgYMwmLS4U6SSomITZP6k2qi1eT3bScp8t2qj0G+J7nJybn3fX855zz3yTEA8oPSn4T9B36LKr5SnMlk5Pn5Wfb39yWVSsnU1JRUVVX9vYgydH19zcTEBB0dHaiqfSYnJz1rPwVMJBLEYjFqa2tRVYwxtLS00N7ejqrS2NhIIpH4OvDx8ZFYLEZ9fX3RiiKRCDc3NySTSTt3enr6deDGxkYRSFVpa2vj9vYW4FPAkly6s7Njx+FwWEZGRuTo6Eiam5tFROTi4qJko5Xk0vX1dVlbW5P+/n5pbW2VQCBQ9P7u7q5kYFkufauxsbGSt7Ss/3B5eVmy2awAYoyR8/NzERHp6+uT3t7ef7PCbDZLPB5ncHAQYwzGGETEjkOhEFdXV559PIH5fJ6zszOamppQVerq6giFQkSjUXw+n93KYDDI4uIiuVyufGAul2Nvb882nZ+ft2eUTqffJY2qsr29zcvLy+eB+XyemZkZ28hxHB4eHgBIpVJ0d3djjKG6uprZ2VmGh4fttwMDAxwfH+O6Lq7regMLhQLT09OoKn6/n5WVFe7v7wGIx+P09PTYpDk5OQHg6emJw8NDRkdH8fv9Fh4Oh72Bq6urqCo+n4+trS3S6TQHBwdEo1Gbo3NzczZp3mpzcxPHcXAch2Qy6Q0MBoOoKjU1NXR1dRGJRIrOaWFhgUKh8CHMSx8COzs735lhaGiIpaUlLi8veX19LQsGYOD9rS2Tycju7q64riuBQEDGx8eloaFBKisry8mJIn0I/E79/kvU7wf+AW42v8GRqcclAAAAAElFTkSuQmCC' width='64' height='64'>\n",
       "                        <br>\n",
       "                        <p>label: <b>2</b></p>\n",
       "                    </td>\n",
       "                    <td style='text-align:center; padding:5px'>\n",
       "                        <img src='data:image/png;base64,iVBORw0KGgoAAAANSUhEUgAAABwAAAAcCAYAAAByDd+UAAAAOXRFWHRTb2Z0d2FyZQBNYXRwbG90bGliIHZlcnNpb24zLjguNCwgaHR0cHM6Ly9tYXRwbG90bGliLm9yZy8fJSN1AAAACXBIWXMAAA9hAAAPYQGoP6dpAAABA0lEQVR4nO2WIY6EQBBFf3XGoRBoFIImnIHbEBwnwHAFHCdBY1EIHAnhBijsH7EJGZIVU72B3U3mJy1a/LxU9a9KC0niRpk7YR/gtyrLEiKCNE2xrqueSIWWZaHv+xQRGmPYdZ3GTpJUVRgEAbIs01f1IhXQ8zyEYXgfcNs2jON4H3Df91NQhmHQB0f76HVdH6ExxrBpmutCAwBVVWktJz1cTPzB+nUCighExAn491fbrwBJHqfve7VZrdexMMZwmqbrxgIAiqI43du2fdvrBIzj2MX2JZeWkmQURRQRiggBcJ7n61oKAEmSHPOomUlnYJ7nTj5noLUW1lq1T8jPv/SfA59jCsRSnuey8gAAAABJRU5ErkJggg==' width='64' height='64'>\n",
       "                        <br>\n",
       "                        <p>label: <b>1</b></p>\n",
       "                    </td>\n",
       "                    <td style='text-align:center; padding:5px'>\n",
       "                        <img src='data:image/png;base64,iVBORw0KGgoAAAANSUhEUgAAABwAAAAcCAYAAAByDd+UAAAAOXRFWHRTb2Z0d2FyZQBNYXRwbG90bGliIHZlcnNpb24zLjguNCwgaHR0cHM6Ly9tYXRwbG90bGliLm9yZy8fJSN1AAAACXBIWXMAAA9hAAAPYQGoP6dpAAACOklEQVR4nO1WvariUBCeHAS9oGIhYhO0shFRfAIthCBooU8QFAvBzpewtTGNNqfwAfyBoIg/YKeFsbKSNFaiNiYoOFtcbkBMTHTv3t1iP5jiZHLmy3wzJ3MYRET4QZCfJPtP+PcJN5sNrNdraDQawDAMEEIeLJfLweVyMQ6CFiBJElarVQwEAsiyLBJCkGEYJIToGs/zeDqddGNZIsxkMg9BnxESQnA2m+nGslmRMpVKQa/XAwAAn88HhUIBbrcbEPJZkfl8DpPJxFpdrGR4vV5RlmWUZRl3u92D/3Q6aVITQjCXy6Gqqu9naLPZgGVZQ78oinA4HLQ1y7Jgt9vfz/AZ2u02JpPJu/oZNQyixabRA6UUw+EwOhyOO7J4PI7n89lwnyVJt9stUEphOBxqz2azGTAMo63dbjfUajVIp9Pw8fFhHMwsk9VqhcFg0PRYZLNZS8pY/tPgp/yG1ul0oN/vm8YxlTQSicB4PAZKKXAcBw6H487fbDahXq9b/e7f79Lj8ajJ2uv1vk9SI4ii+NL7hoTX6xW63S4oimK4udVqQbFYfIlQV9LpdIocxyEhBGVZfvDv93uklKLH49HkdDqdOBqNTCVlEB8vUbFYDCRJAgCAcrkMLpfrzj8YDGCxWGjnMJFIQLlchnw+/16G0Wj06ej5Ood+vx9LpRIqimKa2Rd0CZfLJfI8r0sUCoUwFothpVLB1WplmegpISKiqqooCAJ6vV5t5AiCoDueXoFuDf8k/u1b23fgF7ioUEzN8+6aAAAAAElFTkSuQmCC' width='64' height='64'>\n",
       "                        <br>\n",
       "                        <p>label: <b>3</b></p>\n",
       "                    </td>\n",
       "                    <td style='text-align:center; padding:5px'>\n",
       "                        <img src='data:image/png;base64,iVBORw0KGgoAAAANSUhEUgAAABwAAAAcCAYAAAByDd+UAAAAOXRFWHRTb2Z0d2FyZQBNYXRwbG90bGliIHZlcnNpb24zLjguNCwgaHR0cHM6Ly9tYXRwbG90bGliLm9yZy8fJSN1AAAACXBIWXMAAA9hAAAPYQGoP6dpAAAA70lEQVR4nO3WMaqEMBSF4ZMhiDaSMpWluAZBxOVYuTVxBy7A2srCyoBYWAW1uNO84rU3jmGKOf3PB1cRBRERPO7lE/uB3wFe14W+75HnuZtIzK3rSgBIa03LsnBzcj6pMQbGGHb3/c/w/6y1fsFhGJ4HpZRQSgEApml6HlRKoSgKNuQM3t0tcNs2v2DXdX7AqqpcMncwSRIAwHmemOf5eVBKCQAgIhzHwYvZX9+/ZVlGAKiua1bnDDZNQ3Eck7WW1d16S4UQCIKA1dwC931H27a8yPWkWmsKw5DGcfRz0rIskaYpoihidYLo9yP82b0BhQ7aaKE3s2IAAAAASUVORK5CYII=' width='64' height='64'>\n",
       "                        <br>\n",
       "                        <p>label: <b>1</b></p>\n",
       "                    </td>\n",
       "                    <td style='text-align:center; padding:5px'>\n",
       "                        <img src='data:image/png;base64,iVBORw0KGgoAAAANSUhEUgAAABwAAAAcCAYAAAByDd+UAAAAOXRFWHRTb2Z0d2FyZQBNYXRwbG90bGliIHZlcnNpb24zLjguNCwgaHR0cHM6Ly9tYXRwbG90bGliLm9yZy8fJSN1AAAACXBIWXMAAA9hAAAPYQGoP6dpAAACGElEQVR4nO2WMWsqURCF5w7XsBZpbNxiLQR3U5g6S7CQXSSlgpWNqE2aNKZKI3amyR9IIxaCrE1+QlBSpMwi2FmIQgpRSGGxaHHSPIRFk7eavMCDnO7OYeabCzOXKwCAflD8k7Bf4Jdk2zbZtv0zwOvra3p+fiZd17dNfLNubm6gKAqOj4/R7Xa3/G8HptNpMDMymcxOf29gv9/HxcUFFovFltfpdBCJRGAYBlzX/R7gyckJhBB4enra8pLJJIgIDw8PH+bvPTThcJiEEOR5ni/uui5NJpOd3sFDU6vVIKVEMpnEbDbbxJfLJQqFApgZ5+fnWK1WH9YIDJxMJohGo1AUBb1ez+ddXl6CmRGLxf5aJxBwMBggkUiAmVGtVn3e3d0djo6OwMy4v7//GnC9XqPVakEIASKCEAKmaaLRaMDzPLy+vuLs7AyhUAiVSiVI758D2+02mBnMDCEEDMPYnE3ThKZpYGaoqhoI9inQcRxIKaEoClRVxePjI15eXmBZlq8JZoaUEpqmYTQaHQ60LAvxeBzNZtMXHw6HSKVSPiAzo1gsBrqh/Ghdcrkc5fN5isVivvh8PqfhcEhERI7j0OnpKRERaZoWbJEDtfVHb29vuLq6ghACuq7vk7rRXsDb29vNkEyn038LHI/HiMfjkFKiXq8fBNsLqOs6mBmlUulgGLDH410ul4mIKJvNBk3ZKQH8/kv/c+A7qhrVxDIGogQAAAAASUVORK5CYII=' width='64' height='64'>\n",
       "                        <br>\n",
       "                        <p>label: <b>4</b></p>\n",
       "                    </td></tr><tr>\n",
       "                    <td style='text-align:center; padding:5px'>\n",
       "                        <img src='data:image/png;base64,iVBORw0KGgoAAAANSUhEUgAAABwAAAAcCAYAAAByDd+UAAAAOXRFWHRTb2Z0d2FyZQBNYXRwbG90bGliIHZlcnNpb24zLjguNCwgaHR0cHM6Ly9tYXRwbG90bGliLm9yZy8fJSN1AAAACXBIWXMAAA9hAAAPYQGoP6dpAAAB9klEQVR4nO2Wz4tpcRjGn7lJpjBYWGmalJwFYSMbf4CFjZ31bDVhLTX/ANmIvR8LWwuKsrJSijoWkillNpSkUCfPXdxGuXOa+brM1O3ep06dznve99P763vODUniG/XjO2H/BlBzzsuyLKNer6NYLMLv98Pn8wEA4vE4tFqtWBAKqlAoUK/XE8C7q91ui4ahMHC5XNJqtaoCTSYTm82mUBzhHlosFjw/P+P29hYAcH9/f7StVis0Go3rlvRNHo+HAOhyuU6ynEwmQv5nA2u1Gr1e77uyyrL8NUCSfH19pdvtPgFGIhEh37PWAgBKpRIGgwGGw+HJ82AweN0ejkYjSpJEjUajOqmiPRSe0tFohOl0CkVRVO3ZbPa6GZJkLpejTqdTzfBLevj09ASHw4HVagUAUBQFsVgM6/VaPMg5Gf6uw+HAdDpNALTb7Xx5efnU5yLgbrc7llSSJM5ms099Lvo8pVKp4/3j4yNsNtufl3SxWDAcDrNcLqva5/M5jUbj9Y62aDRKAHQ6nex0OhyPxyTJXq/HSqVycrwlk0lut9vLgN1ul4FA4Bj04eGBoVCIBoPhZB0kSeJmsxGCfQgkyUQiwXw+r7p3AGg2m4VBb/pwDzOZDPb7PTabDQCg3++jWq0CAO7u7tBqtc4YsV+6If//l/7lwJ/OmAj5wAFgeAAAAABJRU5ErkJggg==' width='64' height='64'>\n",
       "                        <br>\n",
       "                        <p>label: <b>3</b></p>\n",
       "                    </td>\n",
       "                    <td style='text-align:center; padding:5px'>\n",
       "                        <img src='data:image/png;base64,iVBORw0KGgoAAAANSUhEUgAAABwAAAAcCAYAAAByDd+UAAAAOXRFWHRTb2Z0d2FyZQBNYXRwbG90bGliIHZlcnNpb24zLjguNCwgaHR0cHM6Ly9tYXRwbG90bGliLm9yZy8fJSN1AAAACXBIWXMAAA9hAAAPYQGoP6dpAAABbUlEQVR4nO3WIYsqURTA8Xu2TRlE9GIRJolVkPkIFr+ARgXDFM0iOM1iNJusBqdqFixWuXWKRQ0iIoLwf+nNIssuz3mzy4Y5cMrhHH5wOfdyBUD9YLz9JJaCKfg7wDAMlTFG+b6vtNZKa61ardZ7AwnFarXC8zwymQxKKUQkynK5HPX9N9hut3FdF6VUlLZt43ke0+mU2+321B8bPB6PdDodlFJks1mq1Srz+RxjDGEYfjoXG+z1eogI3W6Xy+Xyz3MvgdfrleFwiOM4BEHAYrH4cGSJgv1+HxGh0Wi8DMUC/y5FEASxsJdB13UREYrFIsvl8nvAzWbD/X4H4HQ64fs+IoJt2+x2u+TA/X5PpVIhl8sxm82i+uFwiC70er1ODiwUCliWxWQyeaoPBgNEhFqtxvl8Tg4cjUZYlvX0gpRKJZRSOI7Ddrt9GfsSBBiPxzSbTbTWaK3J5/PU63WMMTwej1igQPqJSsEUfI4/KZwdYciaWAgAAAAASUVORK5CYII=' width='64' height='64'>\n",
       "                        <br>\n",
       "                        <p>label: <b>5</b></p>\n",
       "                    </td>\n",
       "                    <td style='text-align:center; padding:5px'>\n",
       "                        <img src='data:image/png;base64,iVBORw0KGgoAAAANSUhEUgAAABwAAAAcCAYAAAByDd+UAAAAOXRFWHRTb2Z0d2FyZQBNYXRwbG90bGliIHZlcnNpb24zLjguNCwgaHR0cHM6Ly9tYXRwbG90bGliLm9yZy8fJSN1AAAACXBIWXMAAA9hAAAPYQGoP6dpAAACYklEQVR4nO2WsWvqUBTGT6xaF50UCqV0KKhLhIjF0calCELH0lGodRfiLIKD/4G4Wge7FBQ7VXERRFCpk0MIdNF2k7ZEgsrX4fGCaTWm79kOj/dBhnty7ve75yaXcxkAoB+U6Sdh/4HfIvPy4O3tjcrlMu3u7lKv16PX11e6vr4mnudpf39fM3Fvb4/Ozs4oEAh8jYglCYIAIjL8mEwmsCyLbDYLSZJgRMzysTg6OiJJktTFOJ1OYllWs0Cv10vD4ZAmkwn1+301Xq1WKRqNfq1CURRRq9UgiiJEUcRoNFq70peXFxweHqrVXl1dGaqQNqesVqlUUmE2mw2dTud7gIqiIJFIwGazqcBer2d4/peA9XodsVhMBVmtVuTzeUynU8Me5vVfV6tOp0Onp6c0n8/VGMMwdHBwQDs7O0ZtyHCFyWRy7fE4Pj5GJpPBYDDY6GMY2Gq1EIlE4HK5dM9lMpnE8/Pz3wN/6/HxEd1uF3d3d7i8vATDMJ/AJycnWCwW2wF+VLFYRDAY/ATN5XLfAwSA2WyGUCikAcbj8ZW5W+kWZrOZ/H6/JuZ2u1fmbgSOx2PKZDJ0c3OzNmexWNDDw4M6tlgsFAwGVyfrbdV4PIbP5wMRYTKZrMx5enpCKpXSbKfP51vrqQs8Pz9XTfr9PmRZVt/Jsox0Og2Hw6GB2e12NJvNPwMWCgWNGcdx4HkePM+D47hPf6bdbsf9/b2epT5QkiRcXFxsbMQWiwWCIKDdbuvCgA8NeJUURaHb21tqNBrkdrupUqkQ0a9GTEQUDofJ4/EQx3F6Nqo2Aretf/+a+A4mxzi7Tp7jYQAAAABJRU5ErkJggg==' width='64' height='64'>\n",
       "                        <br>\n",
       "                        <p>label: <b>3</b></p>\n",
       "                    </td>\n",
       "                    <td style='text-align:center; padding:5px'>\n",
       "                        <img src='data:image/png;base64,iVBORw0KGgoAAAANSUhEUgAAABwAAAAcCAYAAAByDd+UAAAAOXRFWHRTb2Z0d2FyZQBNYXRwbG90bGliIHZlcnNpb24zLjguNCwgaHR0cHM6Ly9tYXRwbG90bGliLm9yZy8fJSN1AAAACXBIWXMAAA9hAAAPYQGoP6dpAAACK0lEQVR4nO2Wvc8hURTGz7m2oJCJgkSIr2o6LR09EY1EVGoqlYJCJxKExn+gJkIpIkIkQkJFJaJQKESle7YQk51iZ4zdfbPF+yRT3DNzzi/3nvucDAMAfaHEV8L+CvBwOJDf7yev1/teAv5A+XwedrsdQggkEom3cj4CXi4XhMNhMDOEEAgGg7her/8GuN/vEY/HIYQAM6NWq2E8Hr+dbxg4n88hhFCA3W7XUL4h4H6/h8/nAzODmdHr9QzBDANLpRKEEIjFYjifz4ZhhoChUAhmsxmBQACHw+EjGAD8eMc6/X6flsslMTOlUimyWCwf+1YXeLvdaDqdKmubzUZut1v1TavVotPpRERE9Xpdu6DeEdzvd0QiERARmBmLxUJ5V6/X0Wg0VBeJiDT7qwscDAaKBXw+n9K/zWaDZDKpWMRqtUKWZTAzQqEQjsejceD9fke73YYQAi6XC+VyGcDTHul0GswMh8OBTCaD9XqNyWQCZoYsy58BR6ORsoNKpQLgOdZek0aSJORyOTweD+x2O8iyrMR+J01gtVpVgC+Fw2ElNplMAKinT6FQ0CqpDSwWi2BmJJNJAM++OZ1OMDOazSYA9fR5xbSkawtmVq1NJhMxM223W/J4PPR4PMjv99NsNiNJkvTKadvi16Oaz+fodDqQJEk1vB0OB4bDoe7OXtIErlYrWK1WpfgL9Hr0LohhIPD0YTQaVQGz2SyazaZyaYyIge+/tm/gfw78CXeJA2t/imIWAAAAAElFTkSuQmCC' width='64' height='64'>\n",
       "                        <br>\n",
       "                        <p>label: <b>6</b></p>\n",
       "                    </td>\n",
       "                    <td style='text-align:center; padding:5px'>\n",
       "                        <img src='data:image/png;base64,iVBORw0KGgoAAAANSUhEUgAAABwAAAAcCAYAAAByDd+UAAAAOXRFWHRTb2Z0d2FyZQBNYXRwbG90bGliIHZlcnNpb24zLjguNCwgaHR0cHM6Ly9tYXRwbG90bGliLm9yZy8fJSN1AAAACXBIWXMAAA9hAAAPYQGoP6dpAAAA1ElEQVR4nO3WMaqEMBhF4TNTKFrYugDBRhBLl+IeXJD7sBDB1kXYCSIWtgoSm3/WkMxL3hSe/vI1CclLRASHvV1iD/j/oIhQVRVRFLGuq33wui7GceQ4Dvq+tw+GYUiapgDs+24fBKjrGoBpmoxARLNlWQQQ3/dl2zbduRifUqUUbdtq7766Fvd9uwVNesDfAvM8dwsmSeIWNOkrUCnlFuy6zj4YxzFZlmlDxqDneQRBAMAwDPZBgKIoADjPU3+s/b6IyDzPUpalNE2jvX2JPB/hv+0D1osJiYupHBwAAAAASUVORK5CYII=' width='64' height='64'>\n",
       "                        <br>\n",
       "                        <p>label: <b>1</b></p>\n",
       "                    </td>\n",
       "                    <td style='text-align:center; padding:5px'>\n",
       "                        <img src='data:image/png;base64,iVBORw0KGgoAAAANSUhEUgAAABwAAAAcCAYAAAByDd+UAAAAOXRFWHRTb2Z0d2FyZQBNYXRwbG90bGliIHZlcnNpb24zLjguNCwgaHR0cHM6Ly9tYXRwbG90bGliLm9yZy8fJSN1AAAACXBIWXMAAA9hAAAPYQGoP6dpAAAB/0lEQVR4nO2WPa8pURSG195u4ijwC8ZniEqiUMpEhGjUIlFKRKlR+AE6BaLQ00mITogEnUZBzJQqCkJCNBLe202uHB8z5J7qvMlU+13r2WvvtVeGAQD9oPhPwn6Bv8C39OeT4GKxSOfzmSRJonq9TkREHo+HFovFwxim9R0Oh0OazWY0Go2o1WrR9Xq9WdfpdOR0OkmSpPsJ8EKr1QqiKEIQBAiCAJPJBM45GGPw+/3gnH/7LBbLw3xPgb1eDzab7W5SWZax3W4hyzIGgwGsVquyFo1G3wOGw+EbiMFgQKVSwWQyufFlMhnF43A4sNlstAO73S6MRqOSyGazYTwe3/XGYjHFl81mn9XwGBiJRJQkgUAA/X7/m2e326HRaMBsNj/1qQI2m034fD4Eg0Gs1+u7nkKhoGzK6/U+9KkCvlKn08HX1xc459Dr9ahWq6ri3gYyxpTqarWa6ri3Jk0+nyf8My9EUVQdq3mWns9nmk6nxBgjxhiVy2VyuVzqE2g5xtPphFqtpkyaZDKJ/X6v6SpUAw+HA+LxuHJvpVIJl8tFE0wTcLFYKDC3260ZpAkoSRJSqRQ45/B4PFgul/8XmEgklOrUvrdHetml8/mcjscjERGl02kKhUJaG1tbl+ZyOXDOYbfbIcvyR9UBKo603++Dc452u/0xDAA0/2J8qr+eyd0kaz3T6AAAAABJRU5ErkJggg==' width='64' height='64'>\n",
       "                        <br>\n",
       "                        <p>label: <b>7</b></p>\n",
       "                    </td>\n",
       "                    <td style='text-align:center; padding:5px'>\n",
       "                        <img src='data:image/png;base64,iVBORw0KGgoAAAANSUhEUgAAABwAAAAcCAYAAAByDd+UAAAAOXRFWHRTb2Z0d2FyZQBNYXRwbG90bGliIHZlcnNpb24zLjguNCwgaHR0cHM6Ly9tYXRwbG90bGliLm9yZy8fJSN1AAAACXBIWXMAAA9hAAAPYQGoP6dpAAACSklEQVR4nO2WsWvqUBjFT4IJwVpFOzjYQQWppRTEyaljl4hdMjh00EFwcRWHOhT/CEcF/4hCkTpIKQ5pp6JIp9rJ0IIWjSXDectreOXVmvcsfW/ogbuc7+b+OPfLTa5AkvhCiV8J+wb+e2Cr1cLx8TH29/chyzJkWcbBwQEmk4nzRehAhmHw6OiIgiDQ7/dTVVWqqkqPx0MAjMfjTpYhSToCJpNJBgIBVioVPj4+2n6/3+fm5iZFUeTp6ennAM/PzykIArPZ7Lv1arVKAAyHw46AK3toWRZisRiy2ey7dU3TAACLxQLT6XT9HpqmydlstrQ+GAwIgABYr9fXT6goCtxu99J6NBrF3t4eAGA4HK4MuPY5lCQJkiQ5nr828OXlBYvFAgDg9XpXP+Do1fpAv/bw6urK9g3DYLvdZq1W42AwsH3XOskeHh5weXlpe8ViEclkEjc3N3h6esL9/T28Xi/u7u7QbDYBAAL58f/QNE2Mx2Pouo5er4eLiwvbv729fTPX5XJhe3sbAJDL5aCqKra2thCJRFZv6Xw+Z7lcZjwet7fsdfh8PoZCIUqSZHuFQoG6rq9swVLg4eEhAVBRFKbTaZZKJbbbbXa7XY5GI5Lkzs4OATAajfL5+dlJy5cD8fNzdX19/VvNsiyWy2VubGwwGAw6SuYImEgkaFnWG980TabTaTt9p9NxDPsQ+Lpd+XyemUyG1WqVjUaDu7u7FEWRqVTq3fR/DSTJk5MTKopCWZbtoWkaz87O/hj0qpXH4rP1f99pvoFO9ANqFGUHl/+t4wAAAABJRU5ErkJggg==' width='64' height='64'>\n",
       "                        <br>\n",
       "                        <p>label: <b>2</b></p>\n",
       "                    </td>\n",
       "                    <td style='text-align:center; padding:5px'>\n",
       "                        <img src='data:image/png;base64,iVBORw0KGgoAAAANSUhEUgAAABwAAAAcCAYAAAByDd+UAAAAOXRFWHRTb2Z0d2FyZQBNYXRwbG90bGliIHZlcnNpb24zLjguNCwgaHR0cHM6Ly9tYXRwbG90bGliLm9yZy8fJSN1AAAACXBIWXMAAA9hAAAPYQGoP6dpAAACX0lEQVR4nO2WP0jrUBjFz1ffoOhgq3ZIKGRwEFwVR12cbDcFp0BKs3QQCqU4WUQQXBQVd9G5VLBTl4CTg+DgILRDtZAMLUhbqhX/cN5kePJ8bYIib/DAhctHOL/cfOfeXCFJfKMC3wn7Af7/wPv7e0xPT0NRFNzc3Hz4zK/PABzHQb1eBwAEg0FYloWLiwtMTExgZGTk88Crqyvs7+/j9vYWAFAqldz56uoqrq+vAQCKouDp6eljE/rQ7u4uRcQd/f391HWdqqq6NQA8Pj7+p4dnYDab5cDAAEWEhmEwk8mwVquRJC8vLxkOhykiDIfD7HQ6nwem02kCoKZpdBzHrZfLZS4tLREABwcHeXBw0NXHM/D8/JyTk5MUEeq6zna7Tdu2GYvFKCIMhULc3t7u6eMZ+Pj4yEQiQRGhqqrM5/PUNM3t3d7enicfX6FJpVLvQgOAIkLTNFmtVj15+Nr4mqb9VVtYWEA6nUYkEvFm4nV1Ly8vXFxcJAB3RKNRPx+IJOl54y8vLyOXy0FE3Nqfc8/q9Ua2bXNjY8Pt19TUFOPxOEWEMzMzvlfYE3h0dOQGZHNzk61Wy60ZhvG1QMuyODw8TBHh6ekpO50OK5UKx8fHKSJcX1/3Deya0mKxiEajgdnZWUSjUfT19aFQKKDZbIIkRkdHfbewKzAQCEBEICJ4fn7GyckJVlZW8Pr6CtM0kUwmfQO7pvTtXzc2Nob5+XmcnZ0BAA4PDxGLxXzDAHRP6c7OzrtTJRQKcW1tjQ8PD75796auwLu7O25tbXFoaIhzc3OeDudeEvLnIvy1+g1R0ccr4hakVgAAAABJRU5ErkJggg==' width='64' height='64'>\n",
       "                        <br>\n",
       "                        <p>label: <b>8</b></p>\n",
       "                    </td>\n",
       "                    <td style='text-align:center; padding:5px'>\n",
       "                        <img src='data:image/png;base64,iVBORw0KGgoAAAANSUhEUgAAABwAAAAcCAYAAAByDd+UAAAAOXRFWHRTb2Z0d2FyZQBNYXRwbG90bGliIHZlcnNpb24zLjguNCwgaHR0cHM6Ly9tYXRwbG90bGliLm9yZy8fJSN1AAAACXBIWXMAAA9hAAAPYQGoP6dpAAAB50lEQVR4nO2WMaviQBSF7ywqIxrFTsFCG8FC/4G25h9Y2dhoYZHC1sa/EIillkIKCwtFBFEQK22CIhY2io0iGBASRc6rdsFddpP45MGDvWXunPMxObkzYQBAX1g/vhL2PYHb7Zby+Tx5PB5ar9fWAnyiptMpBEFAPB6HJEk4n8+WmpeB3W4XnHNIkoTr9Wpb9xJws9nA6/Uil8vh8Xg40jLA2VgYhkGiKJJhGDQYDCgQCDgL3enuqtUqOOfY7XZOpQAcvlLDMBAOhyGK4kswx8B6vQ6/34/5fP4y0FGGmUyGfD4f9ft9Z7m9kuFkMoHL5cJqtXp6PhqNoGma7R3aBpZKJaRSKRiGAQBoNpsIhUIgInDOIcvye4FutxuqqgIATNNELBaDqqrQdR3tdhucc/R6vfcANU0DEaHT6QAAZrMZyuXy05pKpYJsNvse4HA4BBH9yk/XdZxOp6c1y+USjDFLL5eTDywajRIRkSAIf+1Zla3rCTYmZzwe2zrmbAEZY//s3+93ajQaVCgUrM3sZHg4HBCJRKAoyh+92+2GYrGIZDKJ4/Fo6WV7LGRZBucciqLgcrlgsVig1WohkUggnU5jv9/b8nF0lv6EMsbAGEMwGEStVoNpmrY9HN+Hn63v99f2H/h7fQAV8M6PmcBZ8wAAAABJRU5ErkJggg==' width='64' height='64'>\n",
       "                        <br>\n",
       "                        <p>label: <b>6</b></p>\n",
       "                    </td>\n",
       "                    <td style='text-align:center; padding:5px'>\n",
       "                        <img src='data:image/png;base64,iVBORw0KGgoAAAANSUhEUgAAABwAAAAcCAYAAAByDd+UAAAAOXRFWHRTb2Z0d2FyZQBNYXRwbG90bGliIHZlcnNpb24zLjguNCwgaHR0cHM6Ly9tYXRwbG90bGliLm9yZy8fJSN1AAAACXBIWXMAAA9hAAAPYQGoP6dpAAABwUlEQVR4nO3WrYsyURQG8HMPL8LFMYwMXGHQLGL2A4tVEGwiGDRp8H8wmqxitlgGwWSxKyKCiAiKYDAKIgYZ07PlXWHhZXeu+65pH5gywzk/7pk7HwIA6IXhV2K/4C/4OvB8PlO326VwOEzMTMxMrVbLWzE0M5lMkEqlIIQAM384qtXql/Va4Ol0QjweBzNDKYV6vY7RaIRSqQRmRjQaxf1+/39gOp0GMyOXy304v9vtYFkWDMPAcrn8tIfWPZRSEhFRoVD45/VAIECWZX3a448O+HciZJomua5L+/2eer0eLRYLCoVC1O/3ybbtL5t4jlIKzIxkMolEIvHYLI7jeO6htcJgMEjX65Xm8zkBICEE+f1+isViWmPSynQ6heM4j8eiUqlo1WuDALBarR7gdrvVqtUa6XvW6zXhye/2U682KSUJISibzZLP59Mr1h3nZrNBPp+HUkprd75HC7xcLohEImBmtNttbUwbrNVqYGaUy+WnMC1wPB5DSgnDMDAcDn8WPBwOME0TUkoMBoOnMU/g7XZDo9EAM6NYLH4L8wR2Oh0IIZDJZOC67s+Cs9kMtm2j2WzieDx+GwMAAbz2V/8N0TjBKoHNkAcAAAAASUVORK5CYII=' width='64' height='64'>\n",
       "                        <br>\n",
       "                        <p>label: <b>9</b></p>\n",
       "                    </td></tr><tr>\n",
       "                    <td style='text-align:center; padding:5px'>\n",
       "                        <img src='data:image/png;base64,iVBORw0KGgoAAAANSUhEUgAAABwAAAAcCAYAAAByDd+UAAAAOXRFWHRTb2Z0d2FyZQBNYXRwbG90bGliIHZlcnNpb24zLjguNCwgaHR0cHM6Ly9tYXRwbG90bGliLm9yZy8fJSN1AAAACXBIWXMAAA9hAAAPYQGoP6dpAAACBUlEQVR4nO2WvYvqQBTFT4bXq4hIGsEiiF2wtBEs/RdsFCzsrUQRorX2YhoLLbSysVYLFRGLlKYUUUH8SrCQwN0urK6JkX1v4cEeGMhMztzf3DthJhwREX5Q7Cdhv0DHWi6XiMfj2Gw27wE1TcNms8H1en0L2O/3MRwOIcsyDMOwN9MnFQoFYoxRrVajdzQajYgxRowxUlXV1vu0pJIkodfrOc5wt9s59j4FapqGVCqF+Xz+MoCu66hWq2a/0+k4BwaDQfP5crmgVCrheDzaBlBVFbPZ7OXCTH2ur2EYVC6Xzf1gjFGj0bDdk/V6TYIgON5DPA6cTicKhUJmAFEUab/fWwZYLBZ3C3wF/POYscvlQjQahaqqAABFUbBareD1ek3P7XZDvV4HAHS7XeflBPAFCADRaBTNZtPsTyYTiKKI8XiM8XgMXddRqVS+zAuHw/B4PPZEq9STySRxHPe0AbB8J8uybUktj7ZcLgeO495u0+n0/ZK+kiAI4DgOiUQCbrcbkiQ5n+z06/P5fBSJRKjdbtv6MpmMbUktgefzmdLpNMViMcpms6QoiqOFBQIBOhwO7wOd6hHIGKPtdmvp//Z96Ha7wfP83Vg+n7e+pr6bIRHRdDolnufvstR1/an3rwCJiGazGfn9fhM4GAz+LZCIqNVqkSiKVCwWLTPkiH7/S/9z4AfMpg71RvGfzwAAAABJRU5ErkJggg==' width='64' height='64'>\n",
       "                        <br>\n",
       "                        <p>label: <b>4</b></p>\n",
       "                    </td>\n",
       "                    <td style='text-align:center; padding:5px'>\n",
       "                        <img src='data:image/png;base64,iVBORw0KGgoAAAANSUhEUgAAABwAAAAcCAYAAAByDd+UAAAAOXRFWHRTb2Z0d2FyZQBNYXRwbG90bGliIHZlcnNpb24zLjguNCwgaHR0cHM6Ly9tYXRwbG90bGliLm9yZy8fJSN1AAAACXBIWXMAAA9hAAAPYQGoP6dpAAACVklEQVR4nO1WMWvqUBT+rrlDBkXQYnGrEIigi26FDjZbJ6lD3YT+gm4ODo4OmcQ/EAOOhf6CgqVjlwwKgSwODoWWVpIsoaTnTYaIMcbXvvIevA8Cybnn5Lvnu+ccLiMiwg8i9ZNk/wkTYzqdIpVKgTGGh4eHeGf6IjRNo1qtRpxzYoxRrVaj4XBIHx8fkf5fItQ0jc7Pz4lzHhCu3xeLRWQMP1S+1WoFwzBwfX2Nl5cXeJ4HACiXy/B9H5ZlfZ+kd3d3dHFxsZUN55x0XSdN074vw8lkgk6nE94ofN/f+AawYYtCIsLJZIKbmxsIggBRFFEoFOC6Lt7e3gAAoigik8nAtm0IghD/syQyhuVTFCUomLVtNBpt2XZJGkuoaRpls1lijFE6nSZFUWg+nwdr9XqdRqNR0AKO49Dp6envE5ZKpaBABoPBxpplWfT8/LwVs26Tg4vGMAy4rgvf9/H5+bm1LknSriOKLZzI0TabzdBqtfD+/r6/CEJwXRee58XHRKUdnh6c8zjVN5CkaPYOb1VVE2Vnmia63S4A4OTkBKIoRvrtJczn84nIms0mXl9fcXR0hNvbWxwfH0c7R6XdaDSIMRY8u+A4Dl1eXgZ+kiSRaZqxsjOi7TvN/f09rq6uYNs2AODs7AyMMTSbTciyDFVVQUTwPA9PT08QRRG9Xg+tVguyLMfLsWsn0+mUcrlc5KAO2xRFIV3XY7MKI7bxl8sl9fv9SMJisUjtdptWq1Visr2Ea4zHY6pUKsQ5p2q1Srqu0+Pj40FEa0Se4Z/Ev3lr+6sJfwFR+2bVet16OAAAAABJRU5ErkJggg==' width='64' height='64'>\n",
       "                        <br>\n",
       "                        <p>label: <b>0</b></p>\n",
       "                    </td>\n",
       "                    <td style='text-align:center; padding:5px'>\n",
       "                        <img src='data:image/png;base64,iVBORw0KGgoAAAANSUhEUgAAABwAAAAcCAYAAAByDd+UAAAAOXRFWHRTb2Z0d2FyZQBNYXRwbG90bGliIHZlcnNpb24zLjguNCwgaHR0cHM6Ly9tYXRwbG90bGliLm9yZy8fJSN1AAAACXBIWXMAAA9hAAAPYQGoP6dpAAACBElEQVR4nO2WMWsqQRSFz30sukXUSjGFRARBsQnpBAnY5ReI2FuEgFjYWFiIoL2F2CSQQqztLAJJrbGx2VZBUJBlXVhYouB51RNsXnaNWOV0c4cz38zcO8MVksQF9eeSsF/gLxDz+RzlchkejwcigkKh8L2JJ+r5+Zl+v593d3d8eXlhvV6niFDTtP/6XAO/vr7YbDapqiqr1SoNwyBJTiYTiggXi8V5gd1ulyLCdrt9FG+1WgyHw9/6XQF1XWcwGGQul+NutzvEZ7MZY7HYeYG73Y6JRIKpVIq6rh/NZTIZAmClUjkfsN/vU0T48fFxFO/1elQUhT6fj6vV6nzAh4cHJhIJbrfbQ2y5XDIUClFEWK1WHa3jGAiAjUbjMDZNk+l0miLCx8dHmqZ5PuDb2xsBcDqdkiSHwyFvbm4IgPF4nJvNxum+qTj5UUKhEFRVRS6Xg2VZWK/X8Hq9AICnpycEAgHn35PTnb2+vvL+/p75fJ6DwYCRSITZbJa2bTs+HXnCw9/v9yyVSvR4PByNRm7t7oHv7+8UEdZqNdcwkhTSXU9zfX0NRVGgaRqurq7cWAEAjormnz4/P6HrOtrt9kkwAM6LxrZt3t7eMhqN0rKsk66TdJHDTqdDETm8xVPlOIfJZBKqqmI8HkNRXGXiSI5bDMMwUCwWfwQDANdV+lNdvGv7C6GUwOHya/u2AAAAAElFTkSuQmCC' width='64' height='64'>\n",
       "                        <br>\n",
       "                        <p>label: <b>9</b></p>\n",
       "                    </td>\n",
       "                    <td style='text-align:center; padding:5px'>\n",
       "                        <img src='data:image/png;base64,iVBORw0KGgoAAAANSUhEUgAAABwAAAAcCAYAAAByDd+UAAAAOXRFWHRTb2Z0d2FyZQBNYXRwbG90bGliIHZlcnNpb24zLjguNCwgaHR0cHM6Ly9tYXRwbG90bGliLm9yZy8fJSN1AAAACXBIWXMAAA9hAAAPYQGoP6dpAAABeUlEQVR4nO3WoavCUBQG8O88lFXDYK5oVWZYXbMs+nfIomVoNBltWvwPzBajbcViUQyCYNAiKMwifq/d9vRuc/KCFwa7cA4/zrdxNyFJfHD9fBL7gv8bHAwGEBF0u93nhXzDulwuLJfLFBEahsHJZPJnbeYJ7/c7xuMxjscjAMCyLHiel9+Ei8WCIqKu2Wz2tD4TuNvt6LquwnzfZxzH+YGNRkNhpVKJ8/n8ZU8mEIACe72eXk9arNPpKND3fd5ut/zAIAho2zYB0HVdnk4n7d7EYBRFtG2bIkIAHI1GifoTg+12mwAIgPV6nYfDIT9wOByyUCioFyUplgjc7/d0HIciwmKxyCAIEmPa4Ha7Za1WU5OFYZgKIzXP0vV6jc1mo/atVivt0av3eTqfz+q+2WzCcZzUoFak1WpVxTmdTlPHSWo8w9VqRdM0KSLs9/t8PB6ZwJeRRlGE6/UKADAMAyKSPk7dSCuVCk3T5HK5zDQdSQr5/RF+7/oFttQWtMyTAkIAAAAASUVORK5CYII=' width='64' height='64'>\n",
       "                        <br>\n",
       "                        <p>label: <b>1</b></p>\n",
       "                    </td>\n",
       "                    <td style='text-align:center; padding:5px'>\n",
       "                        <img src='data:image/png;base64,iVBORw0KGgoAAAANSUhEUgAAABwAAAAcCAYAAAByDd+UAAAAOXRFWHRTb2Z0d2FyZQBNYXRwbG90bGliIHZlcnNpb24zLjguNCwgaHR0cHM6Ly9tYXRwbG90bGliLm9yZy8fJSN1AAAACXBIWXMAAA9hAAAPYQGoP6dpAAAB10lEQVR4nO2WMaviQBSFT5ZVsTGIKLGRCEEQFLGztRK0SZtCrOwECfo7LGwVLSWW/gFrU4lCiqQIWggSixQqaoq7neyDl90kvhUW3ukmM2c+zsy9TBgiIrxRP94J+/+AkiQhm81itVp5N9ELqlQqBIAEQaDH4+HJExi43+8pFAoRAAJA1+vVky/wkdq2DcdxAACiKCISify7I3UchyRJeqabz+eevYESyrKM2WwWxOq/SkejEcbjcSCYb+B0OkWn08HtdkO5XA4E/Ok2cT6fsV6voes6VFWFoiiwbRsAMBwOUa/XIQiCf6Lb5WqaRrlc7lkYLMtSu90mXdfJcRwyTTNQ0bgmzOfz2Gw2MAwDABCLxZDJZD5de7lcXk/4N51OJ+I4jgCQKIqefYEbP5FIgOd5AEC1WvXs+5LXIp1OvxeYSqW+HmgYBlRVhaqq2G63OBwO6PV64HkelmXBsizsdjs0m00sFgv3jf50wff7nTRNI1mWKRqNPtsgHA5TPB5/jgFQMpkklmUJAPX7fdc9XdvieDyi2+1CUZQP3zmOA8MwKBQKKJVKn3pbrZb/hIPB4EOCRqNBy+XS80PrJlegaZpULBapVqvRZDJ5CfK7GKLv38RvoD/9AuQubMzfbF0BAAAAAElFTkSuQmCC' width='64' height='64'>\n",
       "                        <br>\n",
       "                        <p>label: <b>1</b></p>\n",
       "                    </td>\n",
       "                    <td style='text-align:center; padding:5px'>\n",
       "                        <img src='data:image/png;base64,iVBORw0KGgoAAAANSUhEUgAAABwAAAAcCAYAAAByDd+UAAAAOXRFWHRTb2Z0d2FyZQBNYXRwbG90bGliIHZlcnNpb24zLjguNCwgaHR0cHM6Ly9tYXRwbG90bGliLm9yZy8fJSN1AAAACXBIWXMAAA9hAAAPYQGoP6dpAAACWElEQVR4nO2Wv2vqUBTHT6RC7+DSoTg1IYi7U8EhxYCTCC2U4j9QMgtuUrCVQgc3ScfikKnQKbtbM4bYUgXBNkVQXKQ/pIgYvm96gi8xiVLKe/AOfJdw7veTc3Ny7uUAgH4wIj8J+w/0jLu7O9I0jYrFInEcR7Isk6ZpZJpmOAOEiK+vL5imiVwuh+3tbXAc55Ioijg9PcV4PMZ8Pl/p5QtstVqo1+vI5/OekFU6Pz/Hw8PD+sB6ve4yEwQBoiguiTHmylNV1dMz8BseHh4SEVE8HqezszN6fHykXq+3pKurq/BN4FfheDzG+/s7Op0OXl5eVuYZhrFUXSwWw+3t7fpbGhSz2QylUgk8zy8Br6+vV67ZGNhsNj2bKZFIYDgcfi/w5uYG0WjUBatUKrAsy3ftWsBWq4WLiwsXjDGG4+NjPD8/B3qEAs5mM7TbbSSTyQUkGo2CMQbGGGq1WuiXDgWsVqtLFR0cHPg2xsbAyWQCy7IgiuICJssyBoPBRrBA4J+TJpPJ4OPjY2OYL7DdbmNvb28By2azGI1Gnrm2bePp6QlHR0dIpVILSZKE+/v7pdwtr+ljWRadnJxQv99fPEskEtTtdml3d5eIiCqVCjmOQ0REmqbR6+ury6fRaFA6nQ4ebZ+fn1AUxfWf7ezsQBAECIKASCQSeGpcXl6G39LpdIpCobDWsfRb1WoVqqpiOp2GBwKAruuQZdnXnOd5GIaBt7e3hRzHWenJAf7XxMlkQrquk23bVC6XiYhIURSSJImIiERRpP39/bCHEwUCvzv+/lvbPwf8BYycuLrF8RaTAAAAAElFTkSuQmCC' width='64' height='64'>\n",
       "                        <br>\n",
       "                        <p>label: <b>2</b></p>\n",
       "                    </td>\n",
       "                    <td style='text-align:center; padding:5px'>\n",
       "                        <img src='data:image/png;base64,iVBORw0KGgoAAAANSUhEUgAAABwAAAAcCAYAAAByDd+UAAAAOXRFWHRTb2Z0d2FyZQBNYXRwbG90bGliIHZlcnNpb24zLjguNCwgaHR0cHM6Ly9tYXRwbG90bGliLm9yZy8fJSN1AAAACXBIWXMAAA9hAAAPYQGoP6dpAAABt0lEQVR4nO2WPYrCUBSFzxvEHyRoI0ha0Q1oJSlsBRsV0mntBoKdS3ARdkKwEGxcQMBCVLAS/CFFsDIiiAaRO80gjL4hL1FSzSnf4dwv9/J+woiIEKC+goT9A/+BD5mmCVmWsVwuPwdcrVYwTZPrtVotRCIRSJLkXogENBgMSJIk6na7L55hGBQOh6nT6YiUIiFgrVajRqPB9drtNjHGaLFYCAGFRmoYBtLpNNezLAvk4bJyBVqWhev1CsYY19d1HfF4HNFo9DNAWZaRTCZxPp/hOM6Lf7lckM1mkclkuP6LROauaRoxxkhVVVqv1788AJRIJKhUKtF4PHatJQQ8HA5UrVYJAAEgVVWp2WySoiiPNd4O5on9fKWr7vc7+v0+dF3HdrsFAByPR+x2OwyHQ5TLZYRCoc+M9C/1ej0CQPv9Xjjz1tW22Ww8Z4RH+izHcVAsFnG73TCZTBCLxYRyvju0bRuz2QyVSkUY9hZwNBoBAOr1uqecb+B0OgUA5PN5b0E/u3M+nxMAUhTFc9ZXh7ZtgzGGQqHgPeynQ03TKJVK0el0CqZDAMjlcmIv/JN8n0O/Cvyv7Ru+dyzl/BQduwAAAABJRU5ErkJggg==' width='64' height='64'>\n",
       "                        <br>\n",
       "                        <p>label: <b>4</b></p>\n",
       "                    </td>\n",
       "                    <td style='text-align:center; padding:5px'>\n",
       "                        <img src='data:image/png;base64,iVBORw0KGgoAAAANSUhEUgAAABwAAAAcCAYAAAByDd+UAAAAOXRFWHRTb2Z0d2FyZQBNYXRwbG90bGliIHZlcnNpb24zLjguNCwgaHR0cHM6Ly9tYXRwbG90bGliLm9yZy8fJSN1AAAACXBIWXMAAA9hAAAPYQGoP6dpAAACQElEQVR4nO2Wu4oiQRSGTy/rBRRvdGCioRqYKCgGvoYoJl4SBRGfwVDE2NBAVBAdWyMjFYw1ElS8YIOJiBjYqKhwNtidBseubmdnZ3aD/aGCU9X1f3WqDtVFISLCF+rbV8L+A/8u8HQ6AcMw4HA4gKKou1YoFIBhGGAYBkajkagPRarS6XQKmUyGj4/HI1SrVcmF2e12qNVqYLFYhD9AgkwmE1IU9VtNo9FgMpkU9CVuqd/vv4u1Wi3kcjmwWq2SWR4OB+j1esLbS8pwMpngYrHgG8uyiIi4Wq0wkUjgYrFAp9OJNE0LZmkwGLDb7T74EoHFYpE0xGs+n6PH43mAqVQqfHl5EZxDBAqJ4zhcLpfocrnQ5XKh1WoVPL9yuUz0eBrIcRwGAgHRYtHpdFiv10V9ngau12vJ6iwUCpI+TwN3ux263W5RoNFoxOFwKOrzXbLGf8lgMECpVILBYMD3hUIhuFwufLzZbKBSqYDD4SAbPZuhkM7nM8ZisbssZTIZ9vt94pwPXd4KhQKCwSBotVq+73a7ic758N/CbDaDXC7n43g8Dm63+3OAs9kMfD4fbLdbvk+tVt8t4K0eiqbT6UAqleLjfD4PRqMRAH7ep9frFY7HI+RyOWi328Cy7PtW+fZQG40Gsey9Xi/abDbieCQSwVarJVpo7wKSml6vR5qmcTweS1b2A3A4HGI0GkWlUikJCofDGI1Gcb/fS4KIwFdls1lBSDqdxmazic1mE2+329OgVxGfGJ+lf/fV9qf0AwL+OGqQf1V9AAAAAElFTkSuQmCC' width='64' height='64'>\n",
       "                        <br>\n",
       "                        <p>label: <b>3</b></p>\n",
       "                    </td>\n",
       "                    <td style='text-align:center; padding:5px'>\n",
       "                        <img src='data:image/png;base64,iVBORw0KGgoAAAANSUhEUgAAABwAAAAcCAYAAAByDd+UAAAAOXRFWHRTb2Z0d2FyZQBNYXRwbG90bGliIHZlcnNpb24zLjguNCwgaHR0cHM6Ly9tYXRwbG90bGliLm9yZy8fJSN1AAAACXBIWXMAAA9hAAAPYQGoP6dpAAACQUlEQVR4nO2WPWsqQRSG37kRFWTFIiwWihALsRBSxdkubGepgoKd+ge0sYsQSFL4BwJqIVil2gWxtLCwERH8ARZWfhR+EWKheG63XLNeXU0it7gvnGI+zjx7zsyZWUZEhAvq1yVh/4GXA6qqClmWwRjTWSQSQalUwmAwQLfbxfv7+2lE+iRFUUgQBGKMHTSfz0dut5tub28pGAxSMBikVqv1eTmddMBisXgU9jdzuVzUbrdPA5pMprOBjDEym80UCoVoOp3uBbLPhf/y8oJqtQoAkCQJyWQSANDpdFAsFgEA/X4fm83m4Fb1ej0EAgFdvw5oRK+vr/j4+AAAPD8/Yz6f6+Y8PDzg8fFR73x0l49ouVzScDikeDxOdrtdSy3nfO/8L9ehIAgQRRGyLGO73Wr9mUxmv8NXIyQims1mOwdHkiQaj8c/E+FkMkEikdDaV1dXSCaTEEXxeyPcbDZULpeJc65FZrVaKZ/PH/Q7G1gul3U1eH9/f9TvZGChUCCPx0M2m00DORwOGgwGNBqNvg/YarUoFouR3+/XHRBVVQ1/sGHg29vbDkgQBMrlcjSbzQzDTgL6fL4dYDabpWazSavV6iSgoattvV5DFEUsFgvdWDgchs1m09qpVAqcczDGYLFYzisLRVHIarWe9GpwzqnRaOjWMpzSSqVCnHNyuVwHQTc3N+R0Ounu7o6ur6/PS+mf6nQ66PV6AIB6vQ5VVbWxp6cnRKNRTKdTeL1e1Go1pNPpHf+znqev6N/4a/tJ/QZH1cbJ+6mo5gAAAABJRU5ErkJggg==' width='64' height='64'>\n",
       "                        <br>\n",
       "                        <p>label: <b>2</b></p>\n",
       "                    </td>\n",
       "                    <td style='text-align:center; padding:5px'>\n",
       "                        <img src='data:image/png;base64,iVBORw0KGgoAAAANSUhEUgAAABwAAAAcCAYAAAByDd+UAAAAOXRFWHRTb2Z0d2FyZQBNYXRwbG90bGliIHZlcnNpb24zLjguNCwgaHR0cHM6Ly9tYXRwbG90bGliLm9yZy8fJSN1AAAACXBIWXMAAA9hAAAPYQGoP6dpAAABr0lEQVR4nO3Wu6riUBQG4N/BSzZeSGdlvGChjYWVWFhYCHb6FD6IXd7BJ9AmiShYRcHGFxAiBEkhqJVVqvifLjDMHLOPzggznB9SZJO1vr3YRXaMJPHG/Hgn9g1+g/8GGH+1QRAEcF03fNc0DalU6vMCkjQMg7K53W6cTqfs9/vsdrvsdDoEED7j8fhhfYwkfd+HEOLTTV0uF6xWKziOg/V6jc1mAwBoNpsYDAaYz+fY7XYAAEVR4Pv+4wmjUqvVfpoCAIfDIc/nM0lyMpmE66PR6GEvKbBer1MIwVarRcuyeDweGQQBSVLXdQohCIDlcpmn0+l1cLlc8nA4/LJuGAYVRSEAlkoluq4b2UsK/F10XWcmkyEAappGx3Gk6p4CTdNkMpkkAFYqFS4WC+naL4OWZTGbzRIAi8Wi9GRPgZZlMR6PEwCr1arUmT0NmqYZTgaA+/3+y5g06HkeG40GATCfz3M2m/F+v/8d8Hq9slAohGdm2/ZTkDRo2zYBMJFIcLvdvoSRZOTfQlVVpNNp9Ho9tNvtqM8jEyOjr4me50FVVeRyufeAfzL//xXj7eAHXDPWl6JZDG8AAAAASUVORK5CYII=' width='64' height='64'>\n",
       "                        <br>\n",
       "                        <p>label: <b>7</b></p>\n",
       "                    </td></tr><tr>\n",
       "                    <td style='text-align:center; padding:5px'>\n",
       "                        <img src='data:image/png;base64,iVBORw0KGgoAAAANSUhEUgAAABwAAAAcCAYAAAByDd+UAAAAOXRFWHRTb2Z0d2FyZQBNYXRwbG90bGliIHZlcnNpb24zLjguNCwgaHR0cHM6Ly9tYXRwbG90bGliLm9yZy8fJSN1AAAACXBIWXMAAA9hAAAPYQGoP6dpAAAB7klEQVR4nO2Wv6t5YRzH388XneWMSko5ljNYlJSBjtHMcBYL08lCFhZ/AslmM8hiU3YhTEr5MaqTiTCIQupzt5Pzxe1cV3e43Xc9w3k/fZ7X83x+1GFERPhB/ftJ2B/wD/iSzI/M4/GI0+mEVquF8Xj86QGpVAoul8s4kW5Ur9cpmUySx+MhxpihJYoirVYrMip2O/iMMTDGYDKZ4HA4AACSJMFqtcLtdusuOp1OUS6XAQDFYhGZTMbQA3UpFUURHMchn89DluWnQcvlEt1uV/t2Op2GYAD0KTWixWJBPp9PS2kkEqH9fm843jDweDxSs9kkm82mq+FkMvnShXU1/EzZbBaFQuHOlyQJPM8DAHw+H+LxOARB+H5KI5GIoa6VZZmu1+v3Xzifz7HdbnXeer1GrVZDIpGAqqrI5XI4n88IBAJot9swmx+M+ZcKcKNer0ehUIhUVdW80WikNdRsNnsY9xJwOBxSMBikwWBwt1cqlYgxRna7/X3AaDRKXq+Xdrvd3V6/3yeO44gx9j5gKBQixhiFw2HqdDqa32g0KBaLaQ30NmA6ndYO5XmeBEEgQRDIYrFofrVafR/wdDqRoihPR0NRlKejYXgs/tflcsHhcEClUsFms9F8v98PWZbBGHsY9zLwVf3+X4zfD/wAi/D7mTKg4ZgAAAAASUVORK5CYII=' width='64' height='64'>\n",
       "                        <br>\n",
       "                        <p>label: <b>3</b></p>\n",
       "                    </td>\n",
       "                    <td style='text-align:center; padding:5px'>\n",
       "                        <img src='data:image/png;base64,iVBORw0KGgoAAAANSUhEUgAAABwAAAAcCAYAAAByDd+UAAAAOXRFWHRTb2Z0d2FyZQBNYXRwbG90bGliIHZlcnNpb24zLjguNCwgaHR0cHM6Ly9tYXRwbG90bGliLm9yZy8fJSN1AAAACXBIWXMAAA9hAAAPYQGoP6dpAAACCklEQVR4nO2WOasiQRSFbw0NBgYuIBi0W2SmCCJiIoaioAYK+gPMDY2NzIzESAXxF4iJomJu4ALSGJiIKy60oR2cF02DaL9xmxcMc6CSKg5f31O3qpoBAP2gfv0k7D/wr4h7xTSdTqlQKNBqtaJms0mRSIR8Ph8REaXTadJqtcpmvKBMJgPG2N2h1+tRKpUUveyVY2EymWi5XBIRkcvlIp7n5bVut0tut5t6vd7nKuR5Howx2O12bLdbeX6z2YDneWi1WlQqFex2uxvvW0CXyyXPHY9H5HK5q3jj8fhngQaDAf1+H4fDAR6P5wrGcRzq9fpngUrDZrMpNs5HgU6nE+v1GpfLRdH7NFAQBOj1+pv4yuUyTqfTH/0PAyVJQqvVgsVikUEajQaJRAKj0ejhD34IOJ/Pkc1mbyIsFosPgx4GDgYDmM3mu3vWbrefBn57eQ+HQ4pGo7RYLIiIiOM4ikajz15MV/oWmEql5CssFApRu90mv9//FlAx0lqtBo7j4PF4cD6f5VZPJpNvRXoXKAgCrFYrGGPwer1XayqVCowxGI3Gp7rzt+6+h6Io0n6/l6MkIprNZlStVkmSJCIiisVi5HA4PhNpPp+XY9PpdAiHw3LFjDEEAgGIovh0dYBCpJPJBEaj8e5RUKvVaDQaL8EUgQAwHo9voMFgEJ1O52UY8OKL/47+/d/EL1LaprVAdxmrAAAAAElFTkSuQmCC' width='64' height='64'>\n",
       "                        <br>\n",
       "                        <p>label: <b>8</b></p>\n",
       "                    </td>\n",
       "                    <td style='text-align:center; padding:5px'>\n",
       "                        <img src='data:image/png;base64,iVBORw0KGgoAAAANSUhEUgAAABwAAAAcCAYAAAByDd+UAAAAOXRFWHRTb2Z0d2FyZQBNYXRwbG90bGliIHZlcnNpb24zLjguNCwgaHR0cHM6Ly9tYXRwbG90bGliLm9yZy8fJSN1AAAACXBIWXMAAA9hAAAPYQGoP6dpAAACEUlEQVR4nO2WL2hqYRjGn3MVFTQYlCnsaNNiMggGl7eiyeCSQbFYDYKgRRdUsGmyLB8wOVgaiGFxGBQxiSCCHlAU/IfPTdd7F3Z3zpE7btjbvj/v8/ue9/0++ASSxBfGj6+EXQzM5XIQBAFutxvr9VpZEjXE8XhkPp+nyWTi7e0t8/k8397eFOVqAj4+PhIAs9ms6lzVwNfXV9psNvr9fm63W9VA1T1sNBqQZRnRaBRGo1Fturoevry8UK/XMxaLqXamyWGv18PxeMT19bV6Z1oc3t3d0el0st/va3aoGCjLMq+urjTdzD9DcUnL5TJmsxlEUdReTjUl9Xq9BMDJZPLvHcqyjM1mg1AoBIfD8eG+8Xj8qZYi4GAwwGQyQSQSgU6ne7c2nU6RyWSQTCbh8/lgt9tRKBQuA/4Kr9f7bixJEoLBIGq1GgDg/v4e8/kckiR9LKKk7t1ulwBYr9fPc5Ik0WAw0OPxsNPpkCSHwyEB8OHh4UMtVcCnpyeS5GKxoMlkYjwe53K5JElut1sGAgEC4PPz82XA0WhEq9XKdDrN0+nE/X7PRCJxPsDhcODNzQ0FQWCxWORut7sMSP5+Fs1m8zy3Wq3YbrfpcrkIgKVS6VMdxcBWq0Wz2Uyj0UhRFCmKIh0OBwHQYrGwUqn81ZlqIElWq1WGw2ECIADabDamUin2ej3FGgL5/Wv7Bv7nwJ9PI12HpndangAAAABJRU5ErkJggg==' width='64' height='64'>\n",
       "                        <br>\n",
       "                        <p>label: <b>6</b></p>\n",
       "                    </td>\n",
       "                    <td style='text-align:center; padding:5px'>\n",
       "                        <img src='data:image/png;base64,iVBORw0KGgoAAAANSUhEUgAAABwAAAAcCAYAAAByDd+UAAAAOXRFWHRTb2Z0d2FyZQBNYXRwbG90bGliIHZlcnNpb24zLjguNCwgaHR0cHM6Ly9tYXRwbG90bGliLm9yZy8fJSN1AAAACXBIWXMAAA9hAAAPYQGoP6dpAAAB8klEQVR4nO3Wz4s5cRgH8OeZRpKwhw0lF7Xt0R6Us9rERbk4KZRcpJy4uygXpRzmIppycFb+AydTSnEmcdlEbBlNvff0Vdvu+hqL077rc3w/r/r8aIYBgO4Y4Z7YH/gH3hccjUYkSRIx83GFQiHq9Xqni9CZTqeDWCwGk8kEZv6ynE4nGo3Gj31doCzLsNvtYGYkEgm02200m004HI5PaKlUug74+voKZkalUsF+vwcAqKqKYrEIi8UCZoYoiqhWqz/OEPWc23a7JSIiURTJYDBQt9slIqJ+v0+73Y6IiOLxOOXz+eucYSQSATPj4eEBLpcLz8/Pn7YyGo3i/f395Axd4Hw+h9/v//ayMDMkSfrvDN23VFVVbDYbrNdrSJJ0xJLJJA6Hw/XBfxmPx8ctDQQCeHt7O6t3ETidTpHJZMDMMBqNGAwGZ3cvAlutFpgZgiCgXC5jtVrdDhwOhzAYDBAEAdlsVm9dH7hYLBAOh8HM8Pl8ujHd4MvLC5gZHo8HiqLcDtQ0DbIsQxAEmM1m1Ov1i7CzQUVR4Ha7YbVaUavVLsbOAieTCR4fH8HMKBQKWC6XtwPX6zW8Xu/xcc9ms19hJ8HpdIqnpyfYbDbkcjmoqvprDAAY+PrnrWkapdNpUlWVUqkUBYNBPV+xk/kWvGU+AHezviq91k8dAAAAAElFTkSuQmCC' width='64' height='64'>\n",
       "                        <br>\n",
       "                        <p>label: <b>9</b></p>\n",
       "                    </td>\n",
       "                    <td style='text-align:center; padding:5px'>\n",
       "                        <img src='data:image/png;base64,iVBORw0KGgoAAAANSUhEUgAAABwAAAAcCAYAAAByDd+UAAAAOXRFWHRTb2Z0d2FyZQBNYXRwbG90bGliIHZlcnNpb24zLjguNCwgaHR0cHM6Ly9tYXRwbG90bGliLm9yZy8fJSN1AAAACXBIWXMAAA9hAAAPYQGoP6dpAAAB10lEQVR4nO1WsarqQBA9Y1JZiK0W6Yw/4E+EoGDtB0gaOztFULGx0jSiWNpZCqZNbWdlIVpYqk3ARglzi8dbbrzqrnmPyy3ugYXdHWYOM2dmE2Jmxjci8Z1kv4Q/i3C1WoGIkEgkxOp2u3JHjgnbtpmIWNf1yKrVauz7/lO/twn3+z2bpsmpVOohIRGx67pP/fV3S3m73bDb7eKoACCGhq1W68vdZDJBtVpV8lfOcLlcwrbtyF2j0UC73QYABEGAMAzBkofrrZJqmhY5/yUDACKCpmkIw/BlDOWS3pcym82K/fV6xel0UoqjTFgoFCLn8Xgs9q7rotfrqQVSHYfPI1Aul/l4PAqbaZrKY6FEaFkWA2Ai4nw+/8Wey+WYiJiI2LKsl7GkTeP7PjabjWgKIorY5/M5zuezaCjHcV7Gk2q4Xq9xOBwe2i6XCxaLBYIgAPBnHovF4r8R3qNUKol9vV7HbDYT50wmIw8g0284HIpm0HWdt9stMzM3m82XjfQMUsLBYMBEJJpmOp2y4ziRu0qlIiVSJrzP8P7L8DlrFUg1TKfTSCaTD22maaLf78MwDLl2qhoyM49Go4cZxoHyS9PpdFjXdTYMgz3PY8/zYhES8++P8P/FB/Feipkqs4DxAAAAAElFTkSuQmCC' width='64' height='64'>\n",
       "                        <br>\n",
       "                        <p>label: <b>0</b></p>\n",
       "                    </td>\n",
       "                    <td style='text-align:center; padding:5px'>\n",
       "                        <img src='data:image/png;base64,iVBORw0KGgoAAAANSUhEUgAAABwAAAAcCAYAAAByDd+UAAAAOXRFWHRTb2Z0d2FyZQBNYXRwbG90bGliIHZlcnNpb24zLjguNCwgaHR0cHM6Ly9tYXRwbG90bGliLm9yZy8fJSN1AAAACXBIWXMAAA9hAAAPYQGoP6dpAAABEUlEQVR4nO2WwY3EIAxFf1bbBn1AIRRi+rBSh1MIUAcpxHMZoo3E7I6Z0WgP+VJOxDxs/C0WVVV8UF+fhF3ACzjUvu9IKSGEgGVZEEI4rX+/A7JtG2qtKKWg1npac86df9ZJtdaUiNQ5pwBOn/deRWQYNw2MMR6AGKOKyEPIy8CeWYxRc86mWDNQRI6ytdas4Wru0nVdAQAhBJRSUEqxbWA5Xb83770y81FWS6ZPAXPO6r1XAMrMB4CIFIAJ+JQPu7+YGSklWwlnSzrKonvw7SUdiZkVgBKRKW4I/MvAvWGcc2ZrDIF4MJ56k+A+XWZ8OAT2u+lt/3Nezhr+V6CIHDbo2RCReYyNtKher7YL+M+BN/GK0M/30Z5uAAAAAElFTkSuQmCC' width='64' height='64'>\n",
       "                        <br>\n",
       "                        <p>label: <b>5</b></p>\n",
       "                    </td>\n",
       "                    <td style='text-align:center; padding:5px'>\n",
       "                        <img src='data:image/png;base64,iVBORw0KGgoAAAANSUhEUgAAABwAAAAcCAYAAAByDd+UAAAAOXRFWHRTb2Z0d2FyZQBNYXRwbG90bGliIHZlcnNpb24zLjguNCwgaHR0cHM6Ly9tYXRwbG90bGliLm9yZy8fJSN1AAAACXBIWXMAAA9hAAAPYQGoP6dpAAAB1ElEQVR4nO2Wu6riUBSG1x4HbYwXBMEHsDVWErGJYGmjvZ12xiq9nW9goeIr2FkYbMQmWglWimCVEC/YJJ3Ff7pgZkYn28w5cGB+SLET1vr4sy5sBgD0hfrxlbDvBZzNZlQul6nX65Gmaf4D8aba7TYYYyAiyLIMx3F8xb0FnE6nEATBBTLGYBjG5wAPhwMSiQQYYy6w0Wjgfr9/DlBRFBfGGEOlUsF+v/cdzwVUVRXpdNoD5NVPns7cbDZ0uVyIiCgUCpGiKDzhfF263W6RyWRcZ81mk9sdAPiew9FoRJZluWdRFPndEcfg67r+FuBX+arhbrcj0zQJD3t+Pp+TbdsEgFRVpXA47I/o579PJhNPZz4+RARBECDLMm6327+r4Ss5jkOLxYKGwyFdr9fgDnVdRzKZ9DjL5/Oo1WruantcBOfz+Wku32NRKBQ8iTudDo7HI9brNURR9HwbDAbBgMvlEvF4/Lf6ZbNZrFYr5HI5z3tJkoIBDcNAqVR62jSP52g0ivF4HAwIAKZpolgs/hVYr9df5uFa3pZlodvtIhaL/REoSRJOp9PLHAzgv7XZtk39fp80TaNIJEK2bVO1WqVWq0WpVOpl7FvAIPo+t7b/wGf6AKLh3u5qbVpwAAAAAElFTkSuQmCC' width='64' height='64'>\n",
       "                        <br>\n",
       "                        <p>label: <b>6</b></p>\n",
       "                    </td>\n",
       "                    <td style='text-align:center; padding:5px'>\n",
       "                        <img src='data:image/png;base64,iVBORw0KGgoAAAANSUhEUgAAABwAAAAcCAYAAAByDd+UAAAAOXRFWHRTb2Z0d2FyZQBNYXRwbG90bGliIHZlcnNpb24zLjguNCwgaHR0cHM6Ly9tYXRwbG90bGliLm9yZy8fJSN1AAAACXBIWXMAAA9hAAAPYQGoP6dpAAACHUlEQVR4nO2WMa8pURDH/4dtFBLFFkg0ClGIhlCrRaEg8QmEQvAFfAAdkehIqEUiQXRWo5CgIqKg0FgJChphXmXzjsty3ftu8pI7ySnOnJn57fx39mQZERF+0DQ/CfsFPrVWqwWNRgOLxYJWqwVZlp8n0Res2WySIAjKCgaDT3OEdzrb7XaIx+OQJInzu93uf9Nht9slq9VKjDGuQ0EQqF6vq+a+9Q632y2Ox+Pds2g0ikaj8T0dJhIJYowpCwC3v/ry+fz3dMgYg1arVRZjDOFwGLlcDqFQSPHVajVsNpu7NV4amtVqBUmSUKlUAAAGgwGiKMLlcqFQKECn03GfRK/Xw36/hyiKn5d0NBqRw+HgBiSVSnExs9lMObvGzefz9ySVJAnT6VQ1xmw2IxqNcr5MJnM3VlXSw+GAyWSC8/kMIoLdbken04HJZPoQe7lcuLhsNnu/qJqc6XSak+rR9P0tqcPhoPF4/LCmqqTD4ZDbbzYbnE4ntRSUy2U4nc6H56pAv9/P7a/Td7XFYoF8Po9qtQoACAQCGAwGqg+kKqnNZlOk8ng8tFwuufPby7vdbquVIyIiVWAkEuFukFgsRs1mk2Kx2IebJplMPoU9Bd4Oze1FffUZjUaSJOnrQJ/PpwrU6/Vkt9up3++/BHsKXK/XCvQWGAwGqVgsvgx6CUhEtFgsyOv1KsBSqUTtdptkWf40jIiIEf3+l/7nwD9ciEaauJ8sJAAAAABJRU5ErkJggg==' width='64' height='64'>\n",
       "                        <br>\n",
       "                        <p>label: <b>0</b></p>\n",
       "                    </td>\n",
       "                    <td style='text-align:center; padding:5px'>\n",
       "                        <img src='data:image/png;base64,iVBORw0KGgoAAAANSUhEUgAAABwAAAAcCAYAAAByDd+UAAAAOXRFWHRTb2Z0d2FyZQBNYXRwbG90bGliIHZlcnNpb24zLjguNCwgaHR0cHM6Ly9tYXRwbG90bGliLm9yZy8fJSN1AAAACXBIWXMAAA9hAAAPYQGoP6dpAAABuklEQVR4nO2VTatpURjHf67rGGEiAwOKzJmZMFVS2gxM+BYGPoOv4QNQmJlIBnwBYkZS3ks720ueM1Mnm7uu21Wnzq927dZ+nvV//muvZy2LiAhv5Nc7xX4EfwRf4rfZoGEYLJdLALrdLiLCeDy+i7PZbOTzebxeL1arVU1RTMjlcgIoP+l0WlarldlUd1jMGl/TNCaTCXa7/Wmx1+uVXq8HQL1eJ5VKveZQ13U5nU5/rPZ8Pks8HhdAisWikkNTQVV2u91tWfv9vlLO92qLWq321zmmbaHKdrsFwO/3EwqFAGg0GhyPxy9x2Wz2dcHBYIBhGGw2G8rlMgDT6RS/3w/Afr9HRHA4HEQiETKZzJf8p4K6rtNutxmNRrRaLWazGcPhEMMw7mItFgter5dEIkEymSQQCBAMBu8nfbSblsuleDyeh83u8/lu79VqVXlnP3T48fGBy+VisVhQKpVwu90UCoXbEabrOtFolPl8TiwWe7ZQag5FRJrNplQqFTkcDqbfw+GwAMrH2lOHAMlkUr1yRf6pD51O53sFNU17r+BLKP9tE9brtXQ6HblcLso5pvfh/+R73Rav8AlqKa4l3Kh/dQAAAABJRU5ErkJggg==' width='64' height='64'>\n",
       "                        <br>\n",
       "                        <p>label: <b>7</b></p>\n",
       "                    </td>\n",
       "                    <td style='text-align:center; padding:5px'>\n",
       "                        <img src='data:image/png;base64,iVBORw0KGgoAAAANSUhEUgAAABwAAAAcCAYAAAByDd+UAAAAOXRFWHRTb2Z0d2FyZQBNYXRwbG90bGliIHZlcnNpb24zLjguNCwgaHR0cHM6Ly9tYXRwbG90bGliLm9yZy8fJSN1AAAACXBIWXMAAA9hAAAPYQGoP6dpAAACD0lEQVR4nO2WratqQRTF97Zo8FY/QBD0KBabQVAEzaeYTDZBjCaDQcGgIGjSP0EQo81gMCiCXTQox6AH/Aab4rrpHq68d5+Ovnfhwtsw4cxm9m/WzOLMZgCgbwzdd8L+A7+M6/VK+XyemJlKpZLYYgjGbDZDPB4HM4OZIcuy0HphYDQa1WB6vR71ev3fASeTCRwOhwasVCpCMCGgqqo3MGZGr9cTBj5smuPxSPP5XPsOBALkdrvFDCNimmKxqCkLBoNQVVVYnZDC8XhMREROp5NarRaZzWYtdzgcKJlMUj6fJ0VRXleoqipsNhuYGeVy+SY3HA7h8/k09Xa7Hbvd7staDwELhQKYGUaj8cYou90OsizfGImZsVqtXgMmEgkwM7xe78385x9AIBBAKpW6C7x7h5vNhtrtNhERSZJ0k1ssFkREZLFYqNFokN/vv2+Ge+qWy6WmotlsavOj0Qhvb2+wWq3o9/sAgFAo9PqRfgaGw2EAwHq9RiQSATMjk8kAAMrlMgwGAyRJwn6/fx643+/hdrvBzDAYDOh0OhgMBtomcrkcstmsBptOp3+sJ2QaZobJZILFYvnFmcyMarV6t9ZDQEVR4PF4fgv5GIVCAefz+e8AP6DpdBoul0uDxGIx1Go1bLdbXC6Xh+o89QBLkvT0a8GAeJsoyzKdTifqdruk04l1KU8BX4mf0bX9KOA7aX27M/zZhq4AAAAASUVORK5CYII=' width='64' height='64'>\n",
       "                        <br>\n",
       "                        <p>label: <b>6</b></p>\n",
       "                    </td></tr></table>"
      ],
      "text/plain": [
       "<IPython.core.display.HTML object>"
      ]
     },
     "metadata": {},
     "output_type": "display_data"
    }
   ],
   "source": [
    "HOW_MANY_TO_RENDER = 40\n",
    "PER_ROW = 10\n",
    "render_image_grid(X_train[:HOW_MANY_TO_RENDER], y_train[:HOW_MANY_TO_RENDER], per_row=PER_ROW)"
   ]
  },
  {
   "cell_type": "code",
   "execution_count": 26,
   "id": "8c950225",
   "metadata": {},
   "outputs": [
    {
     "data": {
      "text/plain": [
       "(55000,)"
      ]
     },
     "execution_count": 26,
     "metadata": {},
     "output_type": "execute_result"
    }
   ],
   "source": [
    "y_train.shape # the classification (which digit is it)"
   ]
  },
  {
   "cell_type": "code",
   "execution_count": 27,
   "id": "9df61c2a",
   "metadata": {},
   "outputs": [
    {
     "data": {
      "text/plain": [
       "array([5, 0, 4, ..., 0, 4, 0], dtype=uint8)"
      ]
     },
     "execution_count": 27,
     "metadata": {},
     "output_type": "execute_result"
    }
   ],
   "source": [
    "y_train"
   ]
  },
  {
   "cell_type": "markdown",
   "id": "aa46c755",
   "metadata": {},
   "source": [
    "# Create Model + Hyperparam Search Setup"
   ]
  },
  {
   "cell_type": "code",
   "execution_count": 28,
   "id": "cd3a64f3",
   "metadata": {},
   "outputs": [
    {
     "name": "stderr",
     "output_type": "stream",
     "text": [
      "2025-08-17 16:08:41.448435: I tensorflow/compiler/xla/stream_executor/cuda/cuda_gpu_executor.cc:880] could not open file to read NUMA node: /sys/bus/pci/devices/0000:01:00.0/numa_node\n",
      "Your kernel may have been built without NUMA support.\n",
      "2025-08-17 16:08:41.448518: I tensorflow/compiler/xla/stream_executor/cuda/cuda_gpu_executor.cc:880] could not open file to read NUMA node: /sys/bus/pci/devices/0000:01:00.0/numa_node\n",
      "Your kernel may have been built without NUMA support.\n",
      "2025-08-17 16:08:41.448542: I tensorflow/compiler/xla/stream_executor/cuda/cuda_gpu_executor.cc:880] could not open file to read NUMA node: /sys/bus/pci/devices/0000:01:00.0/numa_node\n",
      "Your kernel may have been built without NUMA support.\n",
      "2025-08-17 16:08:43.117219: I tensorflow/compiler/xla/stream_executor/cuda/cuda_gpu_executor.cc:880] could not open file to read NUMA node: /sys/bus/pci/devices/0000:01:00.0/numa_node\n",
      "Your kernel may have been built without NUMA support.\n",
      "2025-08-17 16:08:43.117268: I tensorflow/compiler/xla/stream_executor/cuda/cuda_gpu_executor.cc:880] could not open file to read NUMA node: /sys/bus/pci/devices/0000:01:00.0/numa_node\n",
      "Your kernel may have been built without NUMA support.\n",
      "2025-08-17 16:08:43.117274: I tensorflow/core/common_runtime/gpu/gpu_device.cc:1977] Could not identify NUMA node of platform GPU id 0, defaulting to 0.  Your kernel may not have been built with NUMA support.\n",
      "2025-08-17 16:08:43.117296: I tensorflow/compiler/xla/stream_executor/cuda/cuda_gpu_executor.cc:880] could not open file to read NUMA node: /sys/bus/pci/devices/0000:01:00.0/numa_node\n",
      "Your kernel may have been built without NUMA support.\n",
      "2025-08-17 16:08:43.117542: I tensorflow/core/common_runtime/gpu/gpu_device.cc:1886] Created device /job:localhost/replica:0/task:0/device:GPU:0 with 9511 MB memory:  -> device: 0, name: NVIDIA GeForce RTX 4080 Laptop GPU, pci bus id: 0000:01:00.0, compute capability: 8.9\n"
     ]
    }
   ],
   "source": [
    "tf.keras.backend.clear_session()\n",
    "\n",
    "model = tf.keras.Sequential([\n",
    "    tf.keras.layers.Flatten(input_shape=[28, 28]),\n",
    "    tf.keras.layers.Dense(100, activation=\"relu\"), # decent default\n",
    "    tf.keras.layers.Dense(100, activation=\"relu\"), # decent default\n",
    "    tf.keras.layers.Dense(10, activation=\"softmax\") # softmax output because we have a classification task\n",
    "])"
   ]
  },
  {
   "cell_type": "code",
   "execution_count": 29,
   "id": "a1faa300",
   "metadata": {},
   "outputs": [
    {
     "name": "stdout",
     "output_type": "stream",
     "text": [
      "Model: \"sequential\"\n",
      "_________________________________________________________________\n",
      " Layer (type)                Output Shape              Param #   \n",
      "=================================================================\n",
      " flatten (Flatten)           (None, 784)               0         \n",
      "                                                                 \n",
      " dense (Dense)               (None, 100)               78500     \n",
      "                                                                 \n",
      " dense_1 (Dense)             (None, 100)               10100     \n",
      "                                                                 \n",
      " dense_2 (Dense)             (None, 10)                1010      \n",
      "                                                                 \n",
      "=================================================================\n",
      "Total params: 89610 (350.04 KB)\n",
      "Trainable params: 89610 (350.04 KB)\n",
      "Non-trainable params: 0 (0.00 Byte)\n",
      "_________________________________________________________________\n"
     ]
    }
   ],
   "source": [
    "model.summary()"
   ]
  },
  {
   "cell_type": "code",
   "execution_count": 30,
   "id": "9dca3e9b",
   "metadata": {},
   "outputs": [
    {
     "data": {
      "image/png": "[encoded data removed]",
      "text/plain": [
       "<IPython.core.display.Image object>"
      ]
     },
     "execution_count": 30,
     "metadata": {},
     "output_type": "execute_result"
    }
   ],
   "source": [
    "tf.keras.utils.plot_model(model, \"10_mlp_model.png\", show_shapes=True)"
   ]
  },
  {
   "cell_type": "markdown",
   "id": "b6382718",
   "metadata": {},
   "source": [
    "!!!!\n",
    "Following along with the official solution for this exponential learning rate part as I didn't know how to do it and didn't want to mess around in some unclear direction."
   ]
  },
  {
   "cell_type": "code",
   "execution_count": 89,
   "id": "ba438b94",
   "metadata": {},
   "outputs": [],
   "source": [
    "class ExponentialLearningRate(tf.keras.callbacks.Callback):\n",
    "    def __init__(self, factor: float):\n",
    "        self.factor = factor\n",
    "        self.rates: list[np.float32] = []\n",
    "        self.losses: list[np.float32] = []\n",
    "\n",
    "    def on_batch_end(self, batch, logs=None):\n",
    "        lr = self.model.optimizer.learning_rate.numpy() * self.factor\n",
    "        self.model.optimizer.learning_rate = lr\n",
    "\n",
    "        self.rates.append(lr)\n",
    "        self.losses.append(logs[\"loss\"])"
   ]
  },
  {
   "cell_type": "code",
   "execution_count": 93,
   "id": "f806c2b1",
   "metadata": {},
   "outputs": [],
   "source": [
    "tf.keras.backend.clear_session()\n",
    "np.random.seed(42)\n",
    "tf.random.set_seed(42)"
   ]
  },
  {
   "cell_type": "code",
   "execution_count": 94,
   "id": "7a2da539",
   "metadata": {},
   "outputs": [],
   "source": [
    "model = tf.keras.Sequential([\n",
    "    tf.keras.layers.Flatten(input_shape=[28, 28]),\n",
    "    tf.keras.layers.Dense(300, activation=\"relu\"),\n",
    "    tf.keras.layers.Dense(100, activation=\"relu\"),\n",
    "    tf.keras.layers.Dense(10, activation=\"softmax\")\n",
    "])"
   ]
  },
  {
   "cell_type": "code",
   "execution_count": 95,
   "id": "5df15eac",
   "metadata": {},
   "outputs": [],
   "source": [
    "# so this starts us off with a small learning rate of 10**(-3) and makes it grow by 0.5% at each iteration\n",
    "\n",
    "optimizer = tf.keras.optimizers.SGD(learning_rate=1e-3)\n",
    "model.compile(\n",
    "    loss=\"sparse_categorical_crossentropy\",  # same as in my setup\n",
    "    optimizer=optimizer,\n",
    "    metrics=[\"accuracy\"]\n",
    ")\n",
    "expon_lr = ExponentialLearningRate(factor=1.005) # <- this is the 0.5% increase"
   ]
  },
  {
   "cell_type": "markdown",
   "id": "f47ec4ab",
   "metadata": {},
   "source": [
    "Training it for one epoch"
   ]
  },
  {
   "cell_type": "code",
   "execution_count": 96,
   "id": "8d0eb9bc",
   "metadata": {},
   "outputs": [
    {
     "name": "stdout",
     "output_type": "stream",
     "text": [
      "1719/1719 [==============================] - 6s 3ms/step - loss: nan - accuracy: 0.5717 - val_loss: nan - val_accuracy: 0.0978\n"
     ]
    }
   ],
   "source": [
    "history = model.fit(\n",
    "    X_train,\n",
    "    y_train,\n",
    "    epochs=1,\n",
    "    validation_data=(X_valid, y_valid),\n",
    "    callbacks=[expon_lr]\n",
    ")"
   ]
  },
  {
   "cell_type": "markdown",
   "id": "844bc118",
   "metadata": {},
   "source": [
    "Plotting the loss as a function of the learning rate:"
   ]
  },
  {
   "cell_type": "code",
   "execution_count": 97,
   "id": "8c1d9655",
   "metadata": {},
   "outputs": [
    {
     "data": {
      "text/plain": [
       "Text(0, 0.5, 'Loss')"
      ]
     },
     "execution_count": 97,
     "metadata": {},
     "output_type": "execute_result"
    },
    {
     "data": {
      "image/png": "[encoded data removed]",
      "text/plain": [
       "<Figure size 640x480 with 1 Axes>"
      ]
     },
     "metadata": {},
     "output_type": "display_data"
    }
   ],
   "source": [
    "plt.plot(expon_lr.rates, expon_lr.losses)\n",
    "plt.gca().set_xscale('log')\n",
    "plt.hlines(min(expon_lr.losses), min(expon_lr.rates), max(expon_lr.rates))\n",
    "plt.axis([min(expon_lr.rates), max(expon_lr.rates), 0, expon_lr.losses[0]])\n",
    "plt.grid()\n",
    "plt.xlabel(\"Learning rate\")\n",
    "plt.ylabel(\"Loss\")"
   ]
  },
  {
   "cell_type": "markdown",
   "id": "3c0d0a3c",
   "metadata": {},
   "source": [
    "So the loss starts going up when the learning rate goes over `6e-1` (I did not get the same exact result as Geron but it's about the same ish result for me). As suggested let's go with half of that @ `3e-1`.\n",
    "(Follows the suggestion on p.351 in the book as well)"
   ]
  },
  {
   "cell_type": "code",
   "execution_count": 106,
   "id": "c9356887",
   "metadata": {},
   "outputs": [],
   "source": [
    "tf.keras.backend.clear_session()\n",
    "np.random.seed(42)\n",
    "tf.random.set_seed(42)"
   ]
  },
  {
   "cell_type": "markdown",
   "id": "874824da",
   "metadata": {},
   "source": [
    "Copying all of this as is to compare the setup to what I ended up doing below..."
   ]
  },
  {
   "cell_type": "code",
   "execution_count": 107,
   "id": "93c2d824",
   "metadata": {},
   "outputs": [],
   "source": [
    "model = tf.keras.Sequential([\n",
    "    tf.keras.layers.Flatten(input_shape=[28, 28]),\n",
    "    tf.keras.layers.Dense(300, activation=\"relu\"),\n",
    "    tf.keras.layers.Dense(100, activation=\"relu\"),\n",
    "    tf.keras.layers.Dense(10, activation=\"softmax\")\n",
    "])"
   ]
  },
  {
   "cell_type": "code",
   "execution_count": 108,
   "id": "f127bcaa",
   "metadata": {},
   "outputs": [],
   "source": [
    "optimizer = tf.keras.optimizers.SGD(learning_rate=3e-1) # <- here's that suggested learning rate that we found above.\n",
    "model.compile(\n",
    "    loss=\"sparse_categorical_crossentropy\",\n",
    "    optimizer=optimizer,\n",
    "    metrics=[\"accuracy\"]\n",
    ")"
   ]
  },
  {
   "cell_type": "code",
   "execution_count": 109,
   "id": "bd352ba5",
   "metadata": {},
   "outputs": [
    {
     "data": {
      "text/plain": [
       "PosixPath('my_mnist_logs/run_002')"
      ]
     },
     "execution_count": 109,
     "metadata": {},
     "output_type": "execute_result"
    }
   ],
   "source": [
    "from pathlib import Path\n",
    "\n",
    "run_index = 2 # increment this at every run\n",
    "run_logdir = Path() / \"my_mnist_logs\" / \"run_{:03d}\".format(run_index)\n",
    "run_logdir"
   ]
  },
  {
   "cell_type": "code",
   "execution_count": 111,
   "id": "5f410502",
   "metadata": {},
   "outputs": [
    {
     "name": "stdout",
     "output_type": "stream",
     "text": [
      "Epoch 1/100\n",
      "1719/1719 [==============================] - 5s 3ms/step - loss: 0.0930 - accuracy: 0.9713 - val_loss: 0.0858 - val_accuracy: 0.9740\n",
      "Epoch 2/100\n",
      "1719/1719 [==============================] - 5s 3ms/step - loss: 0.0702 - accuracy: 0.9777 - val_loss: 0.0925 - val_accuracy: 0.9736\n",
      "Epoch 3/100\n",
      "1719/1719 [==============================] - 6s 3ms/step - loss: 0.0514 - accuracy: 0.9832 - val_loss: 0.0734 - val_accuracy: 0.9822\n",
      "Epoch 4/100\n",
      "1719/1719 [==============================] - 5s 3ms/step - loss: 0.0389 - accuracy: 0.9871 - val_loss: 0.0797 - val_accuracy: 0.9788\n",
      "Epoch 5/100\n",
      "1719/1719 [==============================] - 7s 4ms/step - loss: 0.0296 - accuracy: 0.9906 - val_loss: 0.0788 - val_accuracy: 0.9818\n",
      "Epoch 6/100\n",
      "1719/1719 [==============================] - 6s 3ms/step - loss: 0.0238 - accuracy: 0.9916 - val_loss: 0.1057 - val_accuracy: 0.9762\n",
      "Epoch 7/100\n",
      "1719/1719 [==============================] - 5s 3ms/step - loss: 0.0196 - accuracy: 0.9938 - val_loss: 0.0783 - val_accuracy: 0.9824\n",
      "Epoch 8/100\n",
      "1719/1719 [==============================] - 5s 3ms/step - loss: 0.0160 - accuracy: 0.9948 - val_loss: 0.0826 - val_accuracy: 0.9816\n",
      "Epoch 9/100\n",
      "1719/1719 [==============================] - 5s 3ms/step - loss: 0.0132 - accuracy: 0.9959 - val_loss: 0.0886 - val_accuracy: 0.9800\n",
      "Epoch 10/100\n",
      "1719/1719 [==============================] - 5s 3ms/step - loss: 0.0121 - accuracy: 0.9959 - val_loss: 0.0925 - val_accuracy: 0.9792\n",
      "Epoch 11/100\n",
      "1719/1719 [==============================] - 6s 4ms/step - loss: 0.0127 - accuracy: 0.9957 - val_loss: 0.0830 - val_accuracy: 0.9834\n",
      "Epoch 12/100\n",
      "1719/1719 [==============================] - 6s 3ms/step - loss: 0.0070 - accuracy: 0.9977 - val_loss: 0.1163 - val_accuracy: 0.9778\n",
      "Epoch 13/100\n",
      "1719/1719 [==============================] - 6s 3ms/step - loss: 0.0122 - accuracy: 0.9960 - val_loss: 0.0914 - val_accuracy: 0.9808\n",
      "Epoch 14/100\n",
      "1719/1719 [==============================] - 6s 3ms/step - loss: 0.0114 - accuracy: 0.9963 - val_loss: 0.1061 - val_accuracy: 0.9810\n",
      "Epoch 15/100\n",
      "1719/1719 [==============================] - 6s 3ms/step - loss: 0.0077 - accuracy: 0.9976 - val_loss: 0.0852 - val_accuracy: 0.9840\n",
      "Epoch 16/100\n",
      "1719/1719 [==============================] - 5s 3ms/step - loss: 0.0018 - accuracy: 0.9996 - val_loss: 0.0932 - val_accuracy: 0.9822\n",
      "Epoch 17/100\n",
      "1719/1719 [==============================] - 6s 4ms/step - loss: 0.0022 - accuracy: 0.9994 - val_loss: 0.0866 - val_accuracy: 0.9848\n",
      "Epoch 18/100\n",
      "1719/1719 [==============================] - 5s 3ms/step - loss: 0.0044 - accuracy: 0.9985 - val_loss: 0.1071 - val_accuracy: 0.9836\n",
      "Epoch 19/100\n",
      "1719/1719 [==============================] - 5s 3ms/step - loss: 0.0040 - accuracy: 0.9988 - val_loss: 0.0996 - val_accuracy: 0.9838\n",
      "Epoch 20/100\n",
      "1719/1719 [==============================] - 5s 3ms/step - loss: 0.0025 - accuracy: 0.9993 - val_loss: 0.1033 - val_accuracy: 0.9850\n",
      "Epoch 21/100\n",
      "1719/1719 [==============================] - 6s 3ms/step - loss: 6.1973e-04 - accuracy: 0.9998 - val_loss: 0.0880 - val_accuracy: 0.9874\n",
      "Epoch 22/100\n",
      "1719/1719 [==============================] - 7s 4ms/step - loss: 1.1497e-04 - accuracy: 1.0000 - val_loss: 0.0917 - val_accuracy: 0.9864\n",
      "Epoch 23/100\n",
      "1719/1719 [==============================] - 6s 3ms/step - loss: 5.9574e-05 - accuracy: 1.0000 - val_loss: 0.0906 - val_accuracy: 0.9868\n"
     ]
    }
   ],
   "source": [
    "early_stopping_cb = tf.keras.callbacks.EarlyStopping(patience=20)\n",
    "tensorboard_cb = tf.keras.callbacks.TensorBoard(run_logdir)\n",
    "\n",
    "# checkpoints! which I forgot to add in my solution, but of course I see where they would make sense even in my setup.\n",
    "checkpoint_cb = tf.keras.callbacks.ModelCheckpoint(\n",
    "    \"my_mnist_model.keras\", # (<- model will be saved to our current dir. Apparently it's some sort of protobuf format. We can actually store and load these anywhere else due to this including TensorFlow.js which uses WebGL shaders to run inference)\n",
    "    monitor='val_accuracy',\n",
    "    mode='max',\n",
    "    # save_best_only=True (doesn't work for some reason, possibly this one https://github.com/keras-team/tf-keras/issues/151)\n",
    ")\n",
    "\n",
    "history = model.fit(\n",
    "    X_train,\n",
    "    y_train,\n",
    "    epochs=100,\n",
    "    validation_data=(X_valid, y_valid),\n",
    "    callbacks=[checkpoint_cb, early_stopping_cb, tensorboard_cb] # <- similar setup except now we're also saving checkpoints!\n",
    ")"
   ]
  },
  {
   "cell_type": "code",
   "execution_count": 112,
   "id": "a6cc2ae5",
   "metadata": {},
   "outputs": [
    {
     "name": "stdout",
     "output_type": "stream",
     "text": [
      "313/313 [==============================] - 1s 2ms/step - loss: 0.0900 - accuracy: 0.9853\n"
     ]
    },
    {
     "data": {
      "text/plain": [
       "[0.08999065309762955, 0.9853000044822693]"
      ]
     },
     "execution_count": 112,
     "metadata": {},
     "output_type": "execute_result"
    }
   ],
   "source": [
    "model = tf.keras.models.load_model(\"my_mnist_model.keras\") # <- read the (best) model we found above back\n",
    "\n",
    "model.evaluate(X_test, y_test) # accuracy etc"
   ]
  },
  {
   "cell_type": "markdown",
   "id": "ff272574",
   "metadata": {},
   "source": [
    "## My Solo Attempt\n",
    "\n",
    "Which surprisingly got a pretty good accuracy score!"
   ]
  },
  {
   "cell_type": "markdown",
   "id": "18f8cdc0",
   "metadata": {},
   "source": [
    "Let's use the hyperparameter tuning approach!"
   ]
  },
  {
   "cell_type": "markdown",
   "id": "7cb0a11f",
   "metadata": {},
   "source": [
    "Make a smaller train dataset for the hyperparameter search step, to make it faster. The data is already known to be randomly sorted."
   ]
  },
  {
   "cell_type": "code",
   "execution_count": 31,
   "id": "0d00c09b",
   "metadata": {},
   "outputs": [],
   "source": [
    "SEARCH_SIZE = 5000\n",
    "\n",
    "X_train_small = X_train[:SEARCH_SIZE]\n",
    "y_train_small = y_train[:SEARCH_SIZE]"
   ]
  },
  {
   "cell_type": "code",
   "execution_count": 32,
   "id": "0227e75f",
   "metadata": {},
   "outputs": [
    {
     "data": {
      "text/plain": [
       "PosixPath('my_logs_2/run_2025_08_17_16_09_08')"
      ]
     },
     "execution_count": 32,
     "metadata": {},
     "output_type": "execute_result"
    }
   ],
   "source": [
    "from time import strftime\n",
    "from pathlib import Path\n",
    "\n",
    "# reuse this from the examples since I'm happy with it\n",
    "def get_run_logdir(root_logdir=\"my_logs\") -> Path:\n",
    "    return Path(root_logdir) / strftime(\"run_%Y_%m_%d_%H_%M_%S\")\n",
    "\n",
    "run_logdir = get_run_logdir(\"my_logs_2\")\n",
    "run_logdir"
   ]
  },
  {
   "cell_type": "code",
   "execution_count": 33,
   "id": "37f21620",
   "metadata": {},
   "outputs": [],
   "source": [
    "import keras_tuner as kt\n",
    "tf.keras.backend.clear_session()"
   ]
  },
  {
   "cell_type": "code",
   "execution_count": 34,
   "id": "631ae308",
   "metadata": {},
   "outputs": [],
   "source": [
    "\n",
    "from keras_tuner import HyperParameters\n",
    "\n",
    "def build_model(hp: HyperParameters):\n",
    "    n_hidden = hp.Int(\"n_hidden\", min_value=0, max_value=8, default=2)\n",
    "    n_neurons = hp.Int(\"n_neurons\", min_value=16, max_value=256)\n",
    "    learning_rate = hp.Float(\"learning_rate\", min_value=5e-5, max_value=3e-3, sampling=\"log\")\n",
    "    hidden_activation = hp.Choice(\"hidden_activation\", values=[\"relu\", \"tanh\"])\n",
    "\n",
    "    optimizer = hp.Choice(\"optimizer\", values=[\"sgd\", \"adam\"])\n",
    "    if optimizer == \"sgd\":\n",
    "        optimizer = tf.keras.optimizers.SGD(learning_rate=learning_rate)\n",
    "    else:\n",
    "        optimizer = tf.keras.optimizers.Adam(learning_rate=learning_rate)\n",
    "\n",
    "\n",
    "    model = tf.keras.Sequential()\n",
    "    # input layer\n",
    "    model.add(tf.keras.layers.Flatten(input_shape=[28, 28]))\n",
    "\n",
    "    # hidden layers\n",
    "    for _ in range(n_hidden):\n",
    "        model.add(tf.keras.layers.Dense(n_neurons, activation=hidden_activation))\n",
    "\n",
    "    # output layer\n",
    "    model.add(tf.keras.layers.Dense(10, activation=\"softmax\"))  # softmax because we are multiclass predicting with 10 classes\n",
    "\n",
    "    model.compile(\n",
    "        loss=\"sparse_categorical_crossentropy\", # because sparse, categorical values\n",
    "        optimizer=optimizer,\n",
    "        metrics=[\"accuracy\"] # optional additional metrics\n",
    "    )\n",
    "\n",
    "    return model"
   ]
  },
  {
   "cell_type": "code",
   "execution_count": 35,
   "id": "fba87c29",
   "metadata": {},
   "outputs": [],
   "source": [
    "# provides updates that we can track in the TensorBoard ui\n",
    "\n",
    "tensorboard_callback = tf.keras.callbacks.TensorBoard(\n",
    "    run_logdir\n",
    "    #profile_batch=(100, 200)  # <- when the profiler updates occur\n",
    ")"
   ]
  },
  {
   "cell_type": "code",
   "execution_count": 36,
   "id": "3e07b0f0",
   "metadata": {},
   "outputs": [],
   "source": [
    "# will stop after not seeing an improvement in the accuracy metric after x backpropagation epochs/steps (gradient descent steps)\n",
    "early_stopping_callback = tf.keras.callbacks.EarlyStopping(\n",
    "    patience=2,\n",
    "    restore_best_weights=True # reverts the model to the best weights before it is returned\n",
    ")"
   ]
  },
  {
   "cell_type": "code",
   "execution_count": 37,
   "id": "c6760704",
   "metadata": {},
   "outputs": [
    {
     "name": "stdout",
     "output_type": "stream",
     "text": [
      "Trial 25 Complete [00h 00m 16s]\n",
      "val_accuracy: 0.3255999982357025\n",
      "\n",
      "Best val_accuracy So Far: 0.9531999826431274\n",
      "Total elapsed time: 00h 07m 10s\n"
     ]
    }
   ],
   "source": [
    "random_search_tuner = kt.RandomSearch(\n",
    "    build_model,\n",
    "    objective=\"val_accuracy\",  # <- we are optimising for accuracy\n",
    "    max_trials=25,  # <- run 20 trials\n",
    "    directory=\"10_mlp_model\",\n",
    "    project_name=\"rnd_search_1\",\n",
    "    overwrite=True,  # will overwrite 10_mlp_model/rnd_search_1` dir if it already exists\n",
    "    seed=RANDOM_SEED\n",
    ")\n",
    "\n",
    "random_search_tuner.search(\n",
    "    X_train_small,\n",
    "    y_train_small,\n",
    "    epochs=20,  # <- train every hyperparameter seeded model for 100 epochs (= 100 backpropagation gradient descent steps). We have early stopping so it will not necessarily go all the way\n",
    "    validation_data=(X_valid, y_valid),\n",
    "    callbacks=[early_stopping_callback, tensorboard_callback]\n",
    ")"
   ]
  },
  {
   "cell_type": "code",
   "execution_count": 38,
   "id": "58025061",
   "metadata": {},
   "outputs": [
    {
     "name": "stdout",
     "output_type": "stream",
     "text": [
      "Trial 23 summary\n",
      "Hyperparameters:\n",
      "n_hidden: 5\n",
      "n_neurons: 180\n",
      "learning_rate: 0.0002514699093611439\n",
      "hidden_activation: relu\n",
      "optimizer: adam\n",
      "Score: 0.9531999826431274\n"
     ]
    }
   ],
   "source": [
    "best_trial = random_search_tuner.oracle.get_best_trials(num_trials=1)[0]\n",
    "best_trial.summary()"
   ]
  },
  {
   "cell_type": "code",
   "execution_count": 39,
   "id": "ddac3a6d",
   "metadata": {},
   "outputs": [
    {
     "data": {
      "text/plain": [
       "0.9531999826431274"
      ]
     },
     "execution_count": 39,
     "metadata": {},
     "output_type": "execute_result"
    }
   ],
   "source": [
    "best_trial.metrics.get_last_value(\"val_accuracy\")"
   ]
  },
  {
   "cell_type": "code",
   "execution_count": 40,
   "id": "f68b694a",
   "metadata": {},
   "outputs": [],
   "source": [
    "best_model = random_search_tuner.get_best_models(num_models=1)[0]"
   ]
  },
  {
   "cell_type": "code",
   "execution_count": 42,
   "id": "fa71b8e5",
   "metadata": {},
   "outputs": [
    {
     "data": {
      "text/plain": [
       "{'n_hidden': 5,\n",
       " 'n_neurons': 180,\n",
       " 'learning_rate': 0.0002514699093611439,\n",
       " 'hidden_activation': 'relu',\n",
       " 'optimizer': 'adam'}"
      ]
     },
     "execution_count": 42,
     "metadata": {},
     "output_type": "execute_result"
    }
   ],
   "source": [
    "best_hyperparams = random_search_tuner.get_best_hyperparameters(num_trials=1)[0]\n",
    "best_hyperparams.values"
   ]
  },
  {
   "cell_type": "markdown",
   "id": "d3ac472f",
   "metadata": {},
   "source": [
    "This is the best model we got so far, which we now train on the full dataset."
   ]
  },
  {
   "cell_type": "code",
   "execution_count": 46,
   "id": "c710393c",
   "metadata": {},
   "outputs": [
    {
     "name": "stdout",
     "output_type": "stream",
     "text": [
      "Epoch 1/100\n",
      "1875/1875 [==============================] - 6s 3ms/step - loss: 0.0049 - accuracy: 0.9985 - val_loss: 0.0044 - val_accuracy: 0.9984\n",
      "Epoch 2/100\n",
      "1875/1875 [==============================] - 6s 3ms/step - loss: 0.0056 - accuracy: 0.9982 - val_loss: 0.0033 - val_accuracy: 0.9982\n",
      "Epoch 3/100\n",
      "1875/1875 [==============================] - 6s 3ms/step - loss: 0.0038 - accuracy: 0.9992 - val_loss: 0.0029 - val_accuracy: 0.9990\n",
      "Epoch 4/100\n",
      "1875/1875 [==============================] - 5s 3ms/step - loss: 0.0026 - accuracy: 0.9992 - val_loss: 0.0027 - val_accuracy: 0.9996\n",
      "Epoch 5/100\n",
      "1875/1875 [==============================] - 5s 3ms/step - loss: 0.0062 - accuracy: 0.9982 - val_loss: 0.0028 - val_accuracy: 0.9988\n",
      "Epoch 6/100\n",
      "1875/1875 [==============================] - 5s 3ms/step - loss: 0.0049 - accuracy: 0.9987 - val_loss: 0.0020 - val_accuracy: 0.9994\n",
      "Epoch 7/100\n",
      "1875/1875 [==============================] - 5s 3ms/step - loss: 0.0033 - accuracy: 0.9990 - val_loss: 8.8350e-04 - val_accuracy: 0.9996\n",
      "Epoch 8/100\n",
      "1875/1875 [==============================] - 6s 3ms/step - loss: 0.0048 - accuracy: 0.9987 - val_loss: 2.7402e-04 - val_accuracy: 1.0000\n",
      "Epoch 9/100\n",
      "1875/1875 [==============================] - 6s 3ms/step - loss: 0.0038 - accuracy: 0.9990 - val_loss: 0.0035 - val_accuracy: 0.9988\n",
      "Epoch 10/100\n",
      "1875/1875 [==============================] - 6s 3ms/step - loss: 0.0047 - accuracy: 0.9985 - val_loss: 0.0054 - val_accuracy: 0.9990\n",
      "Epoch 11/100\n",
      "1875/1875 [==============================] - 5s 3ms/step - loss: 0.0040 - accuracy: 0.9986 - val_loss: 0.0038 - val_accuracy: 0.9994\n",
      "Epoch 12/100\n",
      "1875/1875 [==============================] - 6s 3ms/step - loss: 0.0038 - accuracy: 0.9988 - val_loss: 0.0014 - val_accuracy: 0.9994\n",
      "Epoch 13/100\n",
      "1875/1875 [==============================] - 6s 3ms/step - loss: 0.0038 - accuracy: 0.9991 - val_loss: 0.0025 - val_accuracy: 0.9994\n",
      "Epoch 14/100\n",
      "1875/1875 [==============================] - 6s 3ms/step - loss: 0.0041 - accuracy: 0.9989 - val_loss: 0.0092 - val_accuracy: 0.9978\n",
      "Epoch 15/100\n",
      "1875/1875 [==============================] - 7s 4ms/step - loss: 0.0034 - accuracy: 0.9991 - val_loss: 0.0056 - val_accuracy: 0.9990\n",
      "Epoch 16/100\n",
      "1875/1875 [==============================] - 6s 3ms/step - loss: 0.0038 - accuracy: 0.9989 - val_loss: 0.0046 - val_accuracy: 0.9990\n",
      "Epoch 17/100\n",
      "1875/1875 [==============================] - 6s 3ms/step - loss: 0.0029 - accuracy: 0.9991 - val_loss: 0.0033 - val_accuracy: 0.9992\n",
      "Epoch 18/100\n",
      "1875/1875 [==============================] - 6s 3ms/step - loss: 0.0041 - accuracy: 0.9989 - val_loss: 0.0020 - val_accuracy: 0.9992\n",
      "Epoch 19/100\n",
      "1875/1875 [==============================] - 6s 3ms/step - loss: 0.0040 - accuracy: 0.9988 - val_loss: 0.0017 - val_accuracy: 0.9994\n",
      "Epoch 20/100\n",
      "1875/1875 [==============================] - 6s 3ms/step - loss: 0.0038 - accuracy: 0.9990 - val_loss: 0.0014 - val_accuracy: 0.9994\n",
      "Epoch 21/100\n",
      "1875/1875 [==============================] - 6s 3ms/step - loss: 0.0024 - accuracy: 0.9993 - val_loss: 0.0055 - val_accuracy: 0.9988\n",
      "Epoch 22/100\n",
      "1875/1875 [==============================] - 5s 3ms/step - loss: 0.0042 - accuracy: 0.9989 - val_loss: 0.0033 - val_accuracy: 0.9994\n",
      "Epoch 23/100\n",
      "1875/1875 [==============================] - 5s 3ms/step - loss: 0.0040 - accuracy: 0.9991 - val_loss: 3.3152e-04 - val_accuracy: 1.0000\n",
      "Epoch 24/100\n",
      "1875/1875 [==============================] - 6s 3ms/step - loss: 0.0023 - accuracy: 0.9993 - val_loss: 3.4975e-04 - val_accuracy: 0.9998\n",
      "Epoch 25/100\n",
      "1875/1875 [==============================] - 6s 3ms/step - loss: 0.0036 - accuracy: 0.9991 - val_loss: 7.3171e-04 - val_accuracy: 0.9998\n",
      "Epoch 26/100\n",
      "1875/1875 [==============================] - 6s 3ms/step - loss: 0.0043 - accuracy: 0.9990 - val_loss: 0.0017 - val_accuracy: 0.9994\n",
      "Epoch 27/100\n",
      "1875/1875 [==============================] - 5s 3ms/step - loss: 0.0027 - accuracy: 0.9993 - val_loss: 9.0181e-04 - val_accuracy: 0.9998\n",
      "Epoch 28/100\n",
      "1875/1875 [==============================] - 5s 3ms/step - loss: 0.0037 - accuracy: 0.9991 - val_loss: 0.0026 - val_accuracy: 0.9994\n"
     ]
    },
    {
     "data": {
      "text/plain": [
       "<keras.src.callbacks.History at 0x7754e01a9360>"
      ]
     },
     "execution_count": 46,
     "metadata": {},
     "output_type": "execute_result"
    }
   ],
   "source": [
    "# continue/complete training the best model we found above\n",
    "best_model.fit(\n",
    "    X_train_full,\n",
    "    y_train_full,\n",
    "    epochs=100,\n",
    "    validation_data=(X_valid, y_valid),\n",
    "    callbacks=[tf.keras.callbacks.EarlyStopping(patience=20)] # early stop to not keep looping endlessly\n",
    ")"
   ]
  },
  {
   "cell_type": "markdown",
   "id": "01a0a704",
   "metadata": {},
   "source": [
    "Evaluate the model"
   ]
  },
  {
   "cell_type": "code",
   "execution_count": 47,
   "id": "de61dade",
   "metadata": {},
   "outputs": [
    {
     "name": "stdout",
     "output_type": "stream",
     "text": [
      "313/313 [==============================] - 1s 3ms/step - loss: 0.1328 - accuracy: 0.9818\n"
     ]
    }
   ],
   "source": [
    "test_loss, test_accuracy = best_model.evaluate(X_test, y_test)"
   ]
  },
  {
   "cell_type": "code",
   "execution_count": 48,
   "id": "ab06552a",
   "metadata": {},
   "outputs": [
    {
     "data": {
      "text/plain": [
       "0.13281020522117615"
      ]
     },
     "execution_count": 48,
     "metadata": {},
     "output_type": "execute_result"
    }
   ],
   "source": [
    "test_loss"
   ]
  },
  {
   "cell_type": "code",
   "execution_count": 49,
   "id": "1bd74834",
   "metadata": {},
   "outputs": [
    {
     "data": {
      "text/plain": [
       "0.9818000197410583"
      ]
     },
     "execution_count": 49,
     "metadata": {},
     "output_type": "execute_result"
    }
   ],
   "source": [
    "test_accuracy"
   ]
  },
  {
   "cell_type": "markdown",
   "id": "bb43015b",
   "metadata": {},
   "source": [
    "Precision and recall"
   ]
  },
  {
   "cell_type": "code",
   "execution_count": null,
   "id": "124a2a7f",
   "metadata": {},
   "outputs": [
    {
     "name": "stdout",
     "output_type": "stream",
     "text": [
      "313/313 [==============================] - 1s 2ms/step\n"
     ]
    },
    {
     "data": {
      "text/plain": [
       "array([[1.9207990e-21, 6.4563804e-18, 1.8135795e-15, ..., 1.0000000e+00,\n",
       "        2.6278196e-18, 1.3002632e-13],\n",
       "       [4.6234075e-22, 4.9152288e-23, 1.0000000e+00, ..., 5.0526896e-19,\n",
       "        1.6511465e-20, 1.4032392e-30],\n",
       "       [1.2561957e-16, 1.0000000e+00, 8.2470714e-10, ..., 2.2537265e-09,\n",
       "        2.3640429e-10, 1.3019525e-14],\n",
       "       ...,\n",
       "       [4.5243970e-28, 2.3875828e-22, 8.3904715e-25, ..., 4.7979365e-26,\n",
       "        3.9729107e-27, 4.2998852e-21],\n",
       "       [5.0204618e-22, 6.7659025e-30, 7.2722001e-29, ..., 1.5340098e-26,\n",
       "        2.4670886e-21, 1.1356674e-22],\n",
       "       [1.9782917e-19, 1.7087722e-21, 5.8517464e-20, ..., 1.7125246e-28,\n",
       "        4.9634770e-18, 1.3124264e-22]], dtype=float32)"
      ]
     },
     "execution_count": 50,
     "metadata": {},
     "output_type": "execute_result"
    }
   ],
   "source": [
    "y_test_pred = best_model.predict(X_test)"
   ]
  },
  {
   "cell_type": "code",
   "execution_count": null,
   "id": "2a4e72ad",
   "metadata": {},
   "outputs": [
    {
     "data": {
      "text/plain": [
       "array([7, 2, 1, ..., 4, 5, 6])"
      ]
     },
     "execution_count": 60,
     "metadata": {},
     "output_type": "execute_result"
    }
   ],
   "source": [
    "y_test_pred_max = y_test_pred.argmax(axis=1)\n",
    "y_test_pred_max"
   ]
  },
  {
   "cell_type": "code",
   "execution_count": 61,
   "id": "50348867",
   "metadata": {},
   "outputs": [
    {
     "data": {
      "text/plain": [
       "array([7, 2, 1, ..., 4, 5, 6], dtype=uint8)"
      ]
     },
     "execution_count": 61,
     "metadata": {},
     "output_type": "execute_result"
    }
   ],
   "source": [
    "y_test"
   ]
  },
  {
   "cell_type": "code",
   "execution_count": 78,
   "id": "3cf88719",
   "metadata": {},
   "outputs": [
    {
     "data": {
      "text/plain": [
       "0.9817357461841507"
      ]
     },
     "execution_count": 78,
     "metadata": {},
     "output_type": "execute_result"
    }
   ],
   "source": [
    "from sklearn.metrics import f1_score\n",
    "\n",
    "f1_score(y_test, y_test_pred_max, average=\"macro\")"
   ]
  },
  {
   "cell_type": "code",
   "execution_count": 79,
   "id": "2ebe0055",
   "metadata": {},
   "outputs": [
    {
     "data": {
      "text/plain": [
       "0.9817990641755833"
      ]
     },
     "execution_count": 79,
     "metadata": {},
     "output_type": "execute_result"
    }
   ],
   "source": [
    "from sklearn.metrics import f1_score\n",
    "\n",
    "f1_score(y_test, y_test_pred_max, average=\"weighted\")"
   ]
  },
  {
   "cell_type": "code",
   "execution_count": 64,
   "id": "400febca",
   "metadata": {},
   "outputs": [
    {
     "data": {
      "image/png": "[encoded data removed]",
      "text/plain": [
       "<Figure size 640x480 with 2 Axes>"
      ]
     },
     "metadata": {},
     "output_type": "display_data"
    }
   ],
   "source": [
    "from sklearn.metrics import ConfusionMatrixDisplay\n",
    "\n",
    "plt.rc('font', size=9)\n",
    "ConfusionMatrixDisplay.from_predictions(y_test, y_test_pred_max)\n",
    "plt.show()"
   ]
  },
  {
   "cell_type": "code",
   "execution_count": 66,
   "id": "e10b7cd5",
   "metadata": {},
   "outputs": [
    {
     "data": {
      "text/plain": [
       "<sklearn.metrics._plot.confusion_matrix.ConfusionMatrixDisplay at 0x775536233d30>"
      ]
     },
     "execution_count": 66,
     "metadata": {},
     "output_type": "execute_result"
    },
    {
     "data": {
      "image/png": "[encoded data removed]",
      "text/plain": [
       "<Figure size 640x480 with 2 Axes>"
      ]
     },
     "metadata": {},
     "output_type": "display_data"
    }
   ],
   "source": [
    "ConfusionMatrixDisplay.from_predictions(\n",
    "    y_test,\n",
    "    y_test_pred_max,\n",
    "    normalize=\"true\",\n",
    "    values_format=\".0%\"\n",
    ")"
   ]
  },
  {
   "cell_type": "code",
   "execution_count": 68,
   "id": "d6742618",
   "metadata": {},
   "outputs": [
    {
     "data": {
      "image/png": "[encoded data removed]",
      "text/plain": [
       "<Figure size 640x480 with 2 Axes>"
      ]
     },
     "metadata": {},
     "output_type": "display_data"
    }
   ],
   "source": [
    "sample_weight = (y_test_pred_max != y_test)\n",
    "plt.rc('font', size=10)  # extra code\n",
    "ConfusionMatrixDisplay.from_predictions(\n",
    "    y_test,\n",
    "    y_test_pred_max,\n",
    "    sample_weight=sample_weight,\n",
    "    normalize=\"true\",\n",
    "    values_format=\".0%\"\n",
    ")\n",
    "plt.show()"
   ]
  },
  {
   "cell_type": "markdown",
   "id": "272be718",
   "metadata": {},
   "source": [
    "Curious which 7s were misidentified?"
   ]
  },
  {
   "cell_type": "code",
   "execution_count": 81,
   "id": "a85077a3",
   "metadata": {},
   "outputs": [
    {
     "data": {
      "text/html": [
       "<table><tr>\n",
       "                    <td style='text-align:center; padding:5px'>\n",
       "                        <img src='data:image/png;base64,iVBORw0KGgoAAAANSUhEUgAAABwAAAAcCAYAAAByDd+UAAAAOXRFWHRTb2Z0d2FyZQBNYXRwbG90bGliIHZlcnNpb24zLjguNCwgaHR0cHM6Ly9tYXRwbG90bGliLm9yZy8fJSN1AAAACXBIWXMAAA9hAAAPYQGoP6dpAAABwElEQVR4nO1WXY6yQBCsXriFGE8hUTyGAc8xZo4hZLyFAc8hzDFArzHpfVidIMjf+sWHL1svk+AwNVXd1UjMzPggvj5J9kf4fxC67x6QpimUUlitVnAcB77vY71ew/O88YRJkkBrDSICM/euaZrCcRwURQHHcWCMQZZlnYTgBgAwEb21Simbx1q0FBKRvamU0io5HA72ef133/dBRCiKAkopGGNARN016FI4n885z/POmzYhhLAKsyzr3NcilFKy67q82+1Gk8VxzETErusyEfH5fO7c24rFcrmEMQZlWeJ2u3VbU4PWGswMYwzCMMR2ux1v6fV65c1mM3jTBy6XCy8WC6twqAwtwodFcRwPkjE/d3Vf7R54mcP9fj/KyiRJnrq6tzvveGu01Wt3d2vwHeIxu+5oTiCtNaqqsgqDIMBsNgMR4XQ6vT6kz+8oit6aOK9q2mspEdka/WZVSrXO7P1a+L6PsiyhtUYYhiiKAlVV2ZoZY+B5HoIgADNDCPE03I/H4zRLmX9y+chjnud2Eo3NXRODhE2MnZldmBwLpZSt0ZjcTba0jnrXRlE0Wd1khfWuFUJMV4eJwf8X+Pi/tm8YM8v17rq9igAAAABJRU5ErkJggg==' width='64' height='64'>\n",
       "                        <br>\n",
       "                        <p>label: <b>2</b></p>\n",
       "                    </td>\n",
       "                    <td style='text-align:center; padding:5px'>\n",
       "                        <img src='data:image/png;base64,iVBORw0KGgoAAAANSUhEUgAAABwAAAAcCAYAAAByDd+UAAAAOXRFWHRTb2Z0d2FyZQBNYXRwbG90bGliIHZlcnNpb24zLjguNCwgaHR0cHM6Ly9tYXRwbG90bGliLm9yZy8fJSN1AAAACXBIWXMAAA9hAAAPYQGoP6dpAAACP0lEQVR4nO2WsWvqUBTGvwQz2ATRKUKXFAoVqYQuLcTJxblIhg4ZOlindsjoUnETSsG/wElaWnCwaycpLlZKwclZp3bIYAuSQL4Ojyctfcboe8+pH2S453DOL+eeew9XIEmsUeI6YT/AH+BKisxzjEYjZLNZnJ2dYW9vD/f39zPf5uYmLMsCAMTjcQiCAMdxcHd3B9d1USqV5hM5R8/Pz4xGowQQ+FmWxePj49k6l8vNS0mSnFuhrus4PDzE9fU1VFVFvV6HJEkAgPF4jKurK7y+vqLZbM5iZFlGKpUK3tOgv3l8fGQsFuPp6ekf/ZVKhQAYiUR4eXnJXq8XWB1JBgJJUtd15vN5ep73zZdKpQiAT09PC0FLAQHw7e3ti71Wq1GSJJ6cnND3/dDAhdfCMAwAwMXFxczm+z7a7TY8z0M+n4cgCIvShOshSbZaLYqiyEQiMbM9PDwQAPf39/n+/h66OjLglP5WoVDAzc0Ntre3v/nS6TQ2NjbCV4eAi/9ZpmkulTRIfzXaDg4Olo4JVSEAuK4LXdcBANPpFABQLpfh+z5isdhs1C1U2GZ7nkfbtmnbNre2tr6MN0EQqKoqM5kMb29vA/OEBn5Wp9MhABaLRXa7XZ6fn1NRFEqStHCWrtRDUfwVtru7C8MwUK1WMZlM0Gg0oKrqv9nSz3p5eeHOzg41TeNwOFwqdiUgSdbrdQKgbdvrATqOQ03TmEwmORgM/j+QJI+OjgiApmmuB9jv9ynLMhVFCR0jkOt96n8AoOLo3ttGvG4AAAAASUVORK5CYII=' width='64' height='64'>\n",
       "                        <br>\n",
       "                        <p>label: <b>8</b></p>\n",
       "                    </td>\n",
       "                    <td style='text-align:center; padding:5px'>\n",
       "                        <img src='data:image/png;base64,iVBORw0KGgoAAAANSUhEUgAAABwAAAAcCAYAAAByDd+UAAAAOXRFWHRTb2Z0d2FyZQBNYXRwbG90bGliIHZlcnNpb24zLjguNCwgaHR0cHM6Ly9tYXRwbG90bGliLm9yZy8fJSN1AAAACXBIWXMAAA9hAAAPYQGoP6dpAAABwklEQVR4nO3WvYriYBgF4BN/BrXQQqzEgBaChWJQtLIwdbCNd2CpWHgDFnoL2qSyVfACYiNpFKzF9On8a4yonC2WWRZ2MzMJq7AwB74ikPM+EPKGCCSJF8b3SuwbxHK5RKlUgiAI6Ha7mM/nGAwGuN/v3kU6ZDabMZFIUBRFiqLIUCjESqVCANQ0jaZpOlU/jCNoWRZXq9Wv6/V6ze12y1QqRQDsdDr/FnTKaDRiMBikoijs9XrPB0my3W4zFosxl8txsVg8HyRJRVEIgI1Gw1XP81rU63UAwNvbm6ueZ9Dv9wMAHo/Ha8D3mKb5GrBarQIALMuCruvPB3e7HYCfjzSdTj8f3O/3AIDD4YDNZvPlXsAr+HuGwyGy2SwAIJPJIBKJON/sdv9s2+Z4PGaxWCSAP04+n+ftdnPsfxmcTCZUVZXJZPKv0Pvx+XzUdd07eD6f2Ww2KQiCIyLLMgFQVVVOp9MP530KHo9HtlothsNhSpLEfr9PSZIIgLVajYZh8HQ60TAMXq/Xz8Z5+5ZqmsZoNMpisUjbtl11Pb2loiiiXC4jFoshEHA3wtMeyrKMeDyOQqGAy+XiqiuQ3/+l/zn4A+hI8yHxnZraAAAAAElFTkSuQmCC' width='64' height='64'>\n",
       "                        <br>\n",
       "                        <p>label: <b>2</b></p>\n",
       "                    </td>\n",
       "                    <td style='text-align:center; padding:5px'>\n",
       "                        <img src='data:image/png;base64,iVBORw0KGgoAAAANSUhEUgAAABwAAAAcCAYAAAByDd+UAAAAOXRFWHRTb2Z0d2FyZQBNYXRwbG90bGliIHZlcnNpb24zLjguNCwgaHR0cHM6Ly9tYXRwbG90bGliLm9yZy8fJSN1AAAACXBIWXMAAA9hAAAPYQGoP6dpAAAB+klEQVR4nO1Vz6tpYRRd54RuUgxEkl8j/wDmhgamxhhSBmYmBv4JI1FKKaXIiIGBUoqBYqSUIacYHBQ6646u7nveO85x37uju0Zfe+291rc7e59PIEl8I8TvNPsx/DF8CQY1st/vo16vY7fbwe/3PxVLpVKIRCKqOYLaHmYyGZTLZbjdbng8HgSDwb8KDQYDXC4XbLdb9VtRBdfrlfF4nKIocjabqaWyUqkQANvttmqeqiFJzudzulwuJhIJ1bxYLEYAbLVaXzMkyVKpxLe3N47H4z/y1+uV0WiUDoeDy+Xy64a9Xo8AaLfbudlsHvj1ek0ALBaLT7U0rUU0GkUgEIAkSZBl+YGvVqsAAKPR+FxMS4ckWavVCICDweCBs1qtDIVCPJ1OT3U0G+73ewJgLpf7Jd7tdimKIhuNhiYd3X+a3W53P5/PZzQaDSiKApvNpk1Ab4cmk+keWywWBECXy8XD4fB/OvyM0WgEAGg2m7Barf+2Q1mW6fP5WCgU7jGv10sAmrsjdQwNSR6PR95uN5LkZDKhIAhMpVJUFEWzhupr8TvMZvP93Ol0YLFYkM/nIQiCZg3V10IN4XAYiqJgOp3qqntpaIbDIVarFZLJpP5iPd/wA+l0mgAoSZLu2pfXwul0al+FT9A1NB/IZrNwOp0wGPSXvzw0r+IduutI9cBtpT4AAAAASUVORK5CYII=' width='64' height='64'>\n",
       "                        <br>\n",
       "                        <p>label: <b>8</b></p>\n",
       "                    </td>\n",
       "                    <td style='text-align:center; padding:5px'>\n",
       "                        <img src='data:image/png;base64,iVBORw0KGgoAAAANSUhEUgAAABwAAAAcCAYAAAByDd+UAAAAOXRFWHRTb2Z0d2FyZQBNYXRwbG90bGliIHZlcnNpb24zLjguNCwgaHR0cHM6Ly9tYXRwbG90bGliLm9yZy8fJSN1AAAACXBIWXMAAA9hAAAPYQGoP6dpAAAB5UlEQVR4nO2WT6tpURjG31eXbSD/jmQmA5GRoYHMFCOZUTsjvoEpX0Ey4gMgBqSYKHOmogy3iVKYEDZ57uB2T538uXs7rtF5ag3W+6zn/a3Bu2oxANAbpXkn7Af4A3xKv5QcqtfrlEwmP/eJRIIsFgsREWUyGdJo/tzbaDSSy+V63AwKlMvlwMwQBAGRSATMfHNZrVZUKpWHvRQBJUkCM8NsNuN8PmO3231Z1Wr181L5fP77wMPhAFEUYTAYMJ/Pb55ZLpdwOBwQRfH7QADo9XpgZtRqtZv+fD6HIAiw2+0P+6ie0ul0erPe7XZJlmWKRqMP86qBPp/vZl2SJCIiisVirwXe02KxIJvNRqFQ6P8DZ7MZNRoNCgaD9PHx8Rrgcrm86xUKBQJA2Wz2342UTOh2u4Xf74der8dwOPzirddreDweRKNRRdOuCDgej8HM6HQ6V14qlQIzo1wuvwYoSRK8Xi8CgQD2+/2Vr9PpEA6HcTqdXgNsNpswmUyYTCZXXqlUAjOj3+8rgikCLhYLDAaDq/pms4Hb7YbT6cRqtXod8J5GoxGYGcViUVXuaWCr1QIzQ5ZlVbmnHj4AarfbpNVqiZlVh1XreDyCmZFOp1VnnwJeLhfE43FYrVbFz+GvGHjvV/83GZVX2imBuOYAAAAASUVORK5CYII=' width='64' height='64'>\n",
       "                        <br>\n",
       "                        <p>label: <b>9</b></p>\n",
       "                    </td>\n",
       "                    <td style='text-align:center; padding:5px'>\n",
       "                        <img src='data:image/png;base64,iVBORw0KGgoAAAANSUhEUgAAABwAAAAcCAYAAAByDd+UAAAAOXRFWHRTb2Z0d2FyZQBNYXRwbG90bGliIHZlcnNpb24zLjguNCwgaHR0cHM6Ly9tYXRwbG90bGliLm9yZy8fJSN1AAAACXBIWXMAAA9hAAAPYQGoP6dpAAACRElEQVR4nO1Wv2vqYBQ9fbRSbSiaRSUOzWIRkfhrcLODEVRcXFzFrfQP6F8gbuKkf0ChoIuTdMgkDuKqDpFCVIiFgiJIKO2g31seHy2mrzEPS4d3IHAT7rmHc+9NvhwRQgi+Eb++U+y/4EFwvC9hNBpB0zS0Wi0sFgsAwPX1NaLRqLEC5Au8vr6S5+dnUq1WSTAYJFarlQAgJycnBAABQPL5/FdlKHQdbjYbdDodNBoNtNttzOdzCIIAlmVRKpXg8/mgKApubm4AAKvVynCHdgRTqRRkWcZ0OoXL5UKhUEAkEkE6nYbNZqN5lUrFsMhfBePxOK6urnB5eQlRFHF2dqZLvLu7o7EoisYVDTf/HebzOXG5XHSGzWbTMNfUa8EwzIf2Pjw8GOaaElQUBZPJhN57PJ7DCsqyDPLumx8IBA4r2Ol0aHx6eopwOGycbGZpnE4nXZhYLLYX15TD5XJJ44uLC3S7Xby9vdFng8EAT09PutwjQj4/gLfbLdbrNe7v7/Hy8oJ+v4/hcIjxeLyTy/M8LBYLAGA2m+H8/BzlchnFYvFjop7tbrdLbm9vSTabpa0zc3Ect1N7x+FoNEI8HoemaWBZFslkErlcDqFQCADw+PiIRCJB8+v1OgRBgN1ux2KxgCRJyGQycLvdYBgGLMt+7VBRFNLr9XSHLkkSdeBwOIiqqnstje5pwfM8eJ7XnauqqjT2+/3gOE437zP8/F8Mh8MBAPB6vajVavsr7jWAP+j3+0TTNDPU3S09NH7+DP8VvwFwgMgXJqD14AAAAABJRU5ErkJggg==' width='64' height='64'>\n",
       "                        <br>\n",
       "                        <p>label: <b>2</b></p>\n",
       "                    </td>\n",
       "                    <td style='text-align:center; padding:5px'>\n",
       "                        <img src='data:image/png;base64,iVBORw0KGgoAAAANSUhEUgAAABwAAAAcCAYAAAByDd+UAAAAOXRFWHRTb2Z0d2FyZQBNYXRwbG90bGliIHZlcnNpb24zLjguNCwgaHR0cHM6Ly9tYXRwbG90bGliLm9yZy8fJSN1AAAACXBIWXMAAA9hAAAPYQGoP6dpAAACaElEQVR4nO2Uv0tyURzGH1+ucMGGChGbyqklrg4NTncPJydrimhwdHWuzZboDuaag4IQIohCCQo1pA7Z4B8glFjKLe8lxaCnqcg3vdfKmnrG833O+Zwf3+dYSBK/qH+/CfsD/gG/JGHaC15fX0PXdXS7XRwdHQEAFEV5q1u+mkNVVXF2doZer4dqtYparQYAqNVqaLVaQ973iIlP+PT0hNPTU9TrdVSrVRSLRXQ6HVgsFgDA+vo6XC4XYrEYACCTySAUCmF/f394IRro7u6OBwcHDAaDtNlsFEWRKysr3Nra4uHhIVut1sh5pVKJkiRRlmXe398P1cYCb25u6PF4CICyLHN3d5eVSsVofyTJVCrF5eVlOp1OttvtD/WxwGQyyXA4zEgkwn6/bwoiyePjY4qiSI/Hw1wuN9JjeKWTStM0xuNxCoJAWZZ5fn4+1vttYK/Xo9/vJwC63W5eXFwY+r8FLJfLXFtbIwB6vV4+PDyYzjHMYbPZRKPReIvFa8u/Kp/Po91uAwB8Ph/m5uYQCoWwuro6Nl4jc9jtdrG9vY1yufwGNJLD4cD8/DwkSTL1jrzSmZkZAqDdbmcgEODOzg6z2SxVVaWiKARAq9VKRVGoqio1TZv4GUYCRVHk3t4edV0fGtc0jZIk0Waz8eTkZGKIKbBer38YGwwG9Pv9dLlcpp34aeD/enx85NLSEmdnZxmNRr8MI0nTz1vXdWxubkIQBFxeXmJxcdG8MT7bNO+VSCQIgFdXV9862asMgYVCgQsLC0yn03x+fv5ZYKVS4cbGBovF4lRApsBsNsvb29upwkiTr+0n9ALEeAN7trBlFgAAAABJRU5ErkJggg==' width='64' height='64'>\n",
       "                        <br>\n",
       "                        <p>label: <b>2</b></p>\n",
       "                    </td>\n",
       "                    <td style='text-align:center; padding:5px'>\n",
       "                        <img src='data:image/png;base64,iVBORw0KGgoAAAANSUhEUgAAABwAAAAcCAYAAAByDd+UAAAAOXRFWHRTb2Z0d2FyZQBNYXRwbG90bGliIHZlcnNpb24zLjguNCwgaHR0cHM6Ly9tYXRwbG90bGliLm9yZy8fJSN1AAAACXBIWXMAAA9hAAAPYQGoP6dpAAABc0lEQVR4nO2WvYrCQBSFv4RljEL8eQEhoIVYiy9gpYXYWVna+gi24lvYWVr4DtpYCIoiYiWIVaZTiHC32oVFhVmTTbF4YIqcmTMfF+ZyY4mIEKPsOGFv4Bv4kj5MDq1WK7TWuK777W02G3a7Hf1+n0ajwXQ6NSOKgbrdrliW9XQ5jiOz2czkKjGq8Hw+4zgO8/mcxWLBZDIBoFQqMRwOabVaVCqV6CpsNpuSzWbv/PV6LZZlyWAwMKpORCTUoxmNRr/OhAJer1cA8vl89MBisch+v3+4V6/Xowdut1vS6bTxxaGBQRBwPB5/eOPx+O+AALfb7ce31ppqtUoymYweqJSiUCjc+Z7noZQyBhr14eFwkF6vd+crpcS2bdFaG/ehJfL6L0YikSAIAnzfJ5PJGGX+/3gKBex0OgBcLpd4gKlUCoDT6RQPsN1uA+D7vnnI+D0/0Nd4cl1XlsulUcZoAD9TLpejVqtRLpfxPM8oE6oPX9En907hMO6n2ZsAAAAASUVORK5CYII=' width='64' height='64'>\n",
       "                        <br>\n",
       "                        <p>label: <b>9</b></p>\n",
       "                    </td>\n",
       "                    <td style='text-align:center; padding:5px'>\n",
       "                        <img src='data:image/png;base64,iVBORw0KGgoAAAANSUhEUgAAABwAAAAcCAYAAAByDd+UAAAAOXRFWHRTb2Z0d2FyZQBNYXRwbG90bGliIHZlcnNpb24zLjguNCwgaHR0cHM6Ly9tYXRwbG90bGliLm9yZy8fJSN1AAAACXBIWXMAAA9hAAAPYQGoP6dpAAABnUlEQVR4nO2WL4sCQRjGn1kOXRVBLCuaDGLcpMlgEJPBIH4Ai9/AL6DY1SIImgRBEC2CwSAWg9WwxbRl04JJQXwu3B8uzozchbt724Tf/Gaed2YYQZL4wTJ+UvYv/KPCdruNer2OarUKy7IghIAQAoPB4HuElmXhfr+j2Wxiu92i3+8DAGzblpuAinU4HPgV22w2BMDdbifFK+8wk8kgFot9jo/HI0qlEgqFghSvLIzH4zBNEwBwvV4xm82QTCZhGHJTvagKgbc+AoDjOHBdF+PxWB5W7SFJzudzPh4PNhoNDodDJVbrHtZqNXieB9/3kUqllFjti79cLuG6LsrlshqoEylJBoNBtlotZU5LuFqtaJomz+ezMqsV6Xq9Ri6XQzqdVodVV9jtdhmJRHg6nZR3RypG2uv1aBgGR6ORlkxJ6Ps+s9ks8/k8b7ebtlD6pfE8D47jYLFYIBAIqPfuvaQPzWQygW3bKBaL2jIAcodmv98zFApxOp1qR/lRUsJKpcJEIsHL5fK0UCrScDiMTqeDaDT6XJwABPnLf96vcksCONkvV5AAAAAASUVORK5CYII=' width='64' height='64'>\n",
       "                        <br>\n",
       "                        <p>label: <b>9</b></p>\n",
       "                    </td>\n",
       "                    <td style='text-align:center; padding:5px'>\n",
       "                        <img src='data:image/png;base64,iVBORw0KGgoAAAANSUhEUgAAABwAAAAcCAYAAAByDd+UAAAAOXRFWHRTb2Z0d2FyZQBNYXRwbG90bGliIHZlcnNpb24zLjguNCwgaHR0cHM6Ly9tYXRwbG90bGliLm9yZy8fJSN1AAAACXBIWXMAAA9hAAAPYQGoP6dpAAACSElEQVR4nO3WsWvyQBgG8PeVQ6dqIljj0CmdRLAULLoULF2kULCjOGi3DC5u2Uq3DuLk6NypheIi1i1/gYRChQ6pYjuKrRSKxOfbwlfUqm1w+PheuOXuyf3uQnIcAwBtsDybxP6D/wYoVgn1ej1qt9tkGIbTB4Bubm5IURR6enqig4MDikajznin06Ht7W1qNptf5uJlv8Xr6ysVCgW6v793+gKBAIXDYWLmmfxgMKDxeExERDs7O/T8/LzeDm3bJlVVSVVVyuVyJISgUChEqqrOZEejER0eHpJpmhQIBKjVas1OCJfKMAzIsgxmxvHxMUzTnJtzBTQMA5IkgZlxdHSE8Xi8MPtr8OLiArIsw+v1QtM0jEajb/O/Ai8vLxEMBsHMyGazKz3zY7BcLsPj8UAIgVqthslk4g44HA7R6/Xw8fEBAJhMJtB1HUQEn8+HUqm01kKXgrFYDMyMvb091Ot1ZDIZMDOICCcnJ2thK4FXV1cgornt/Pwcj4+P7oKfn5+wLAupVArM7DQiAjPD7/dD13VYluUOaNs26vU6mBlCCOTzeWiaBk3TkEwmnQVsbW0hnU6j2+1iOp3+HGw0Gs6ktVrty9jb2xuur69xenqK3d1dJ3d2dobb29v1wYeHhy8nyHeffr/fR6lUQrVaRSKRQLFYxMvLy+rg+/s70uk0mBmKoiw9QVathaCu62BmyLIMwzBcwRaClUoFQgjE43HXdrYQvLu7gyRJSCaTGAwGrmJzwUgkgv39fVdf49+19Irhdm381vYHO6/LuI2cvaEAAAAASUVORK5CYII=' width='64' height='64'>\n",
       "                        <br>\n",
       "                        <p>label: <b>2</b></p>\n",
       "                    </td></tr><tr>\n",
       "                    <td style='text-align:center; padding:5px'>\n",
       "                        <img src='data:image/png;base64,iVBORw0KGgoAAAANSUhEUgAAABwAAAAcCAYAAAByDd+UAAAAOXRFWHRTb2Z0d2FyZQBNYXRwbG90bGliIHZlcnNpb24zLjguNCwgaHR0cHM6Ly9tYXRwbG90bGliLm9yZy8fJSN1AAAACXBIWXMAAA9hAAAPYQGoP6dpAAAB+klEQVR4nO3WL4gqURQG8O+OzsKA4pYFDYIIVosgYrAIC9P9g0lExY0Gs4gGt2wy2tTdYhdZ0KLNbrBoMFi06ITFgW/T8yFP3+7MquHxPpgwl3vmxwn3nhEkiRtGuiX2H/w3QKvRAk3TMB6PEQ6HUa/X8fj4iEAgAAB4eXlBu91GMpk87K9UKri7u/v9ARrM09MTfT4fJUkiAAohDo/dbj96F0Jwt9sd1Quz57DT6WC/30MIcVgbDAZ4fX0FADgcDtRqNRQKBciybL7DU1ksFiyXy3Q6nby/v2ej0eBkMjm590egruvs9Xp0u90UQlBV1bPQRcBSqUQhBG02GzOZDDebzZc1psFSqUQAfHh44HQ6/XadKTAUClGSJIZCIc7nc0O1hsDZbMZcLker1cpgMMjtdmsIMwS2Wi16PB4KIVgsFv84XxcDdV1nv98nAMqyzHa7bQr6Nvj8/Hy4NZrN5o+wL8GPjw+qqkpFUVitVrler68LjkYjCiEYiUR+DH0Jrtdrut1u2u12vr29XR/81V08Hr8YRpJnB3C32wUAJBIJM8PkbE4OYE3T0Gq1jtaWyyXe398BAKlUCoqimAJPdqgoCmKxGAAgn8/D5XLB7/djOByC5PEEN5izA3iz2SAajWK1WiGbzcLr9SKdTsNisZjG/gpeKzf/a/sEtKXcyNyagukAAAAASUVORK5CYII=' width='64' height='64'>\n",
       "                        <br>\n",
       "                        <p>label: <b>2</b></p>\n",
       "                    </td>\n",
       "                    <td style='text-align:center; padding:5px'>\n",
       "                        <img src='data:image/png;base64,iVBORw0KGgoAAAANSUhEUgAAABwAAAAcCAYAAAByDd+UAAAAOXRFWHRTb2Z0d2FyZQBNYXRwbG90bGliIHZlcnNpb24zLjguNCwgaHR0cHM6Ly9tYXRwbG90bGliLm9yZy8fJSN1AAAACXBIWXMAAA9hAAAPYQGoP6dpAAABMUlEQVR4nO3VscqCUBjG8eeI4ijR4JbbIQnkDHkTTk1tXoHQFXgT4t5s0JAX0ZA34BKEIA7h5hQkb1PLB5/giSMffP33h9/ycg4jIsKEaVNiX/AfgM/nE0mSIMsyPB4PAEDXdfB9H5xzOZEGut1uJIQgwzBICEG73Y7W6zUxxohzPjT9tUHw3fF4pCiKiHNOq9WKttstWZZFRVGoAX/WNA0xxihN09Hbj45mv9+P3vytK/2Cbduiqir1oG3bCMMQdV2jLEv1oKZpiOMYJPGVSoF93yPPcywWC7iuqx683+/I8xzz+RyO46gHAeB8PkvtpMDD4SCFSYOMMQDA9XrF5XJRD3qeBwDQdR2maaoHT6cTAGCz2UAIoR58FwTB6I00OJvNsFwuR+8YyTwXHzT5b/ECsdhtd6PcUtMAAAAASUVORK5CYII=' width='64' height='64'>\n",
       "                        <br>\n",
       "                        <p>label: <b>1</b></p>\n",
       "                    </td>\n",
       "                    <td style='text-align:center; padding:5px'>\n",
       "                        <img src='data:image/png;base64,iVBORw0KGgoAAAANSUhEUgAAABwAAAAcCAYAAAByDd+UAAAAOXRFWHRTb2Z0d2FyZQBNYXRwbG90bGliIHZlcnNpb24zLjguNCwgaHR0cHM6Ly9tYXRwbG90bGliLm9yZy8fJSN1AAAACXBIWXMAAA9hAAAPYQGoP6dpAAABKklEQVR4nO2WMWqEQBSG3wtrIXgA7cXCKyiIle1W7gkUwVN4CztLD2NhYTmFYKOw1rJo8adKik0I4y5OEti/nTfvY2Y+HsMAQArzphL2Ar6AaoDLslBVVcTMxMyUJAlt2ybfADtyu91wuVyg6zqyLMP5fAYzY55n6R5SwHmekaYpyrIEM6MoCgBAXdfHANd1heM40HUdeZ5jXVcAwPV6PQY4TRMsy0IQBJ+wR4EnmXeuqorGcaSyLEnTtHsHdkknZakQggzDINu2v6wx8y6g1AnjOKYoish13V3NHwZGUfQ06CN/f9Lc5xBpfspeaf7XlTZNoxbYdZ1aoO/7aqVxHOd3pBmGQb5Yesx/k2VZ4HkewjBE3/dSe54CAkDbtjBNE0IIqXoG1H713wG7mZjtS9NaUwAAAABJRU5ErkJggg==' width='64' height='64'>\n",
       "                        <br>\n",
       "                        <p>label: <b>9</b></p>\n",
       "                    </td>\n",
       "                    <td style='text-align:center; padding:5px'>\n",
       "                        <img src='data:image/png;base64,iVBORw0KGgoAAAANSUhEUgAAABwAAAAcCAYAAAByDd+UAAAAOXRFWHRTb2Z0d2FyZQBNYXRwbG90bGliIHZlcnNpb24zLjguNCwgaHR0cHM6Ly9tYXRwbG90bGliLm9yZy8fJSN1AAAACXBIWXMAAA9hAAAPYQGoP6dpAAAB1UlEQVR4nO3Vu4rCQBQG4JmwhoAXEhE0reAjpAgE1Na3UGwEG8XCF7ARbASx18JCBBs1CGJho41PIGgU7GxELRLw32Y3kF3dzWV3qz2QYoaZ83FOMhMKAOQPg/lL7B/8B13Fy6PJ4XBIms0mmc/nthMlEglSr9fNMcuyJJPJfF6IB0EIAaXU08NxHLLZLNbrtSU3fXTwk8kkYRjn3d7tdkTTNMtcIBAg5/P56wrdxmKxgCiKlkrz+by1ez+FXa9XVKtVcBwHSil8Ph9KpRIul8vPg+PxGIVCwaxKlmXUarWHaz2Bp9MJsiwjGo2CUgqe5yFJEg6Hw9M9rkDDMNBqtSBJkllVLBaDqqrf7nUE3u933G43VCoVE/L7/SiXy1gul7ZyOAJ7vZ7lC1QUBbquO0lhHxwMBohEIhZM0zRHmG2w2+2CZVkTG41GjiuzDfb7ffA8D0opBEFAu93Gfr93hX0LdjodBINBs7LpdOoasgUKgmBi6XQax+PRM2j7hlYUhYii6PhC/xhPQVVVia7r5ni1WpFGo0Fms5k38VnpxWIRDMNYzl08Hsdms/HUUlvvMBwOI5fLYbvdesKAJz/g95hMJsQwDBIKhUgqlfLWyrf4EvyNeAWB9Ne9Qs0kFgAAAABJRU5ErkJggg==' width='64' height='64'>\n",
       "                        <br>\n",
       "                        <p>label: <b>2</b></p>\n",
       "                    </td>\n",
       "                    <td style='text-align:center; padding:5px'>\n",
       "                        <img src='data:image/png;base64,iVBORw0KGgoAAAANSUhEUgAAABwAAAAcCAYAAAByDd+UAAAAOXRFWHRTb2Z0d2FyZQBNYXRwbG90bGliIHZlcnNpb24zLjguNCwgaHR0cHM6Ly9tYXRwbG90bGliLm9yZy8fJSN1AAAACXBIWXMAAA9hAAAPYQGoP6dpAAACD0lEQVR4nO2Wr6siURzFz8iIouLY1GZUBJkiCBoMghoczHbDdAWTRoNiMYjJqv4FBrGIweAPME2QmSAGg21E0OH7yj5hd313Zp+PF3b3wC3zPfd85n7n3stwRET4Rtm+E/Yf+A8ADcNAo9GAJEngOA4cx8Hv90MQBORyOdRqNWia9mdEYmg+nxMA5vD5fJTNZulwOLCiHmICu90uASCbzUZut5skSSJZlimVSpHD4fgJHIvFaLVavQZMJBIEgERR/K2mqiqNx2MSRfEBfeb7FLBcLn/o0XWdZFkmAGS322kwGDCBlnZpJBL5sOZyuVCv1xEKhXC73bDb7ZhZTGAmkwEAzGYzZsj5fLa+W1nLv91udLlc6Hq9MtvU6/Ue37HZbDK9POtleJ4HzzMtAABd1wEADocDkiR9foVWxdrNv+pLr7ZUKmXqMe/XDxmGgf1+j9PphMlk8ni+Xq+x2WwAAIqiYLlcIhqNwuPxPA8ya8H9fqd2u03xeNz0mnsf4XCYWq3W0zxTYLVatQwSBIEKhQIVCgVSFOVpnmlL38+X3W5HNBoFABSLRXi9XiSTSYxGI3Q6HeRyOQyHQwiCwA40W6GmabTdbmm32z2tVyoVAkD9ft8siogstNRM6XSanE4nHY9HS/4vORaBQADBYNCS9yXgdDrFYrFAPp+3POcloKqqSCQSKJVKludwRH/5n/cb7eTjqJPgt0MAAAAASUVORK5CYII=' width='64' height='64'>\n",
       "                        <br>\n",
       "                        <p>label: <b>2</b></p>\n",
       "                    </td>\n",
       "                    <td style='text-align:center; padding:5px'>\n",
       "                        <img src='data:image/png;base64,iVBORw0KGgoAAAANSUhEUgAAABwAAAAcCAYAAAByDd+UAAAAOXRFWHRTb2Z0d2FyZQBNYXRwbG90bGliIHZlcnNpb24zLjguNCwgaHR0cHM6Ly9tYXRwbG90bGliLm9yZy8fJSN1AAAACXBIWXMAAA9hAAAPYQGoP6dpAAABsklEQVR4nO2WsYrqYBCFT8JN1kJFBcE2opVgkRew8w1SRO0sxLcQwV4srOys7MTeB4ggRMFaiYVNCAgWMUbPVrvF3Xuv/rlsqj3wNwMzH3NmGH6JJBGj5DhhP8Af4PcAgyBAu92GJEmQJAm6rmO73UYn8ok8z2Mmk2Gv12On06Esy9R1nZ7nPUv9o54Cf1ez2SQAjkajeID7/Z6KorBSqcQDJEnDMJhMJnk4HD5jQRBwt9txPB7T9/2/5v4SnbnruiiVSrhcLpjNZsjn83AcB/P5HLZtI5FIoNFo4O3tLdrSfCgMQy4WC6ZSKQL48rLZLLvdLtfr9T/rvAxcrVZUFIXFYpG5XI4AqGkal8slLcvi6XR6qc7LwPP5zOl0SpIcDAYEwH6//2r6p16+NOl0Gq1W60tMVP912ur1uniSsCcka7Uay+Uyr9fr91n6IcdxYFkWVFWFqqrCDQoDwzCE7/uoVqvCsEhA27YBAIZhRAIKz9A0TRYKBbquKzw/UvCWHo9HKopC0zQjwUjBpXk8HrjdbtHtFLV0OBxS0zTe7/d4OtxsNphMJpDl6PdCIuP96r8Dc3Gm1cVjV8sAAAAASUVORK5CYII=' width='64' height='64'>\n",
       "                        <br>\n",
       "                        <p>label: <b>1</b></p>\n",
       "                    </td>\n",
       "                    <td style='text-align:center; padding:5px'>\n",
       "                        <img src='data:image/png;base64,iVBORw0KGgoAAAANSUhEUgAAABwAAAAcCAYAAAByDd+UAAAAOXRFWHRTb2Z0d2FyZQBNYXRwbG90bGliIHZlcnNpb24zLjguNCwgaHR0cHM6Ly9tYXRwbG90bGliLm9yZy8fJSN1AAAACXBIWXMAAA9hAAAPYQGoP6dpAAABnElEQVR4nO2WLasCQRSG37nIWjZMsNgsfiSTmvwDgtloEG3+GJPFtsUmRjEYtIhNLQ6KGETQou4giOKe27bJzuzulXvhnjQznGde3jnzxYiI8MH4+qTYvyAAQEqJeDyOZrOJ7Xb7Ns+yrHAEl8slOOcQQuB6vbrj+/0ez+fT7VerVSVBkEJcLheybZvG47E7JqWk1+vl9tvtNm02G8+5WBjH4nw+43Q6IZ1Oe+aGsml6vR6y2Swmk4lnbiSI0O12Q71ex+PxQLfbRS6X+1lBx3FwOBwAAOVyGYZheEMqm+ZdHI9HAkCJRILu97sSE6iGs9kMAFAqlRCNRtWgIA4LhQKZpklCCGXGt8PVagXGGCqVClKplDoYxCHnnPr9vhbjS9C2bep0OlSr1bRZX4LT6ZQA0Hq91ma1azifz912LBbTxfUP/m63g5QSyWQSkYj+veHrpmk0GhgMBjBNUx/WWX8hBBWLRcrn8+Q4jnb9iIiUHbZaLXDOsVgskMlkwBjTd6fjcDQaEQAyDIOGw6Evd0QhPcA68ft+bX9e8Bsiua3EwDsHFgAAAABJRU5ErkJggg==' width='64' height='64'>\n",
       "                        <br>\n",
       "                        <p>label: <b>1</b></p>\n",
       "                    </td>\n",
       "                    <td style='text-align:center; padding:5px'>\n",
       "                        <img src='data:image/png;base64,iVBORw0KGgoAAAANSUhEUgAAABwAAAAcCAYAAAByDd+UAAAAOXRFWHRTb2Z0d2FyZQBNYXRwbG90bGliIHZlcnNpb24zLjguNCwgaHR0cHM6Ly9tYXRwbG90bGliLm9yZy8fJSN1AAAACXBIWXMAAA9hAAAPYQGoP6dpAAACDklEQVR4nO2Wwas5URTHz/yii8RaNmxQGgup2ajxB8hOSdkp2Sh7K1N2ZmNLb2cvZUNZDAsLJZayEUPKgkJD03m7yeQ3DJ63+PX71lnc2z3n0zlnzr1DISLCL+rPb8L+Az8iwzOHy+UycBwHu90OnE4ntNttEEURhsOhciaVSoHD4dAOgjokSRImEgmkKEplNpsNzWazai8YDOJ8PteMpQt4OBzQ6/XeALWs2WxqxtLVQ4vFAvl8HhiGAUII2O12YBgGGIaBUqkE9XodCCH6+qInw2u1Wi0UBEFZn89n9Pv9SnYsy+JqtdL0fxp4LVmW8evrS1XOwWBw1+ctYLVaVcFomsbFYvEZ4GazwVAopMAymQxeLpeHfi8BRVHEcDiswAKBAK7Xa12+LwErlYoCI4Tc/UjeBk4mE/T5fAqsWCw+5U8h/v09PJ1OsN1uVXu9Xg/S6TQcj0dlPmOxmObIJZNJiEajj+dQEASMxWK6b5ZrMxgMaDKZ0GQyIc/zj0va7/fRarW+BMvlclir1e6W9AZICLkb1OPxIM/zuN/vb0yW5Yc9vAHSNI0ulwvj8Th2Oh3sdrsq4Hg8fhj0KaAoijibzRARcbfbYSqVQoqi0O12Y6FQQEmSfhZ4rUajoWTGcdxbIF1AlmXRaDRiNpvF0Wj0I0DNOQQAiEQisFwuYTqd6nvrdOgu8BP6938TvwE8SfyHE4U7NwAAAABJRU5ErkJggg==' width='64' height='64'>\n",
       "                        <br>\n",
       "                        <p>label: <b>2</b></p>\n",
       "                    </td>\n",
       "                    <td style='text-align:center; padding:5px'>\n",
       "                        <img src='data:image/png;base64,iVBORw0KGgoAAAANSUhEUgAAABwAAAAcCAYAAAByDd+UAAAAOXRFWHRTb2Z0d2FyZQBNYXRwbG90bGliIHZlcnNpb24zLjguNCwgaHR0cHM6Ly9tYXRwbG90bGliLm9yZy8fJSN1AAAACXBIWXMAAA9hAAAPYQGoP6dpAAACIklEQVR4nO2WMWsiYRCGn1wOAovENRAlCDYibkAhJJDWyipCGltTBWxsLET8BSnyG0RIa6EkjZAiafIDwkIKxSKNEhPiCotKkJ0Ux31wHOtqPCzCvbDFzDLz7De8H7MbIiKsUT/WCfsP/B7An6s2mM1mTCYTADRNY3NzczWg4zgMh0MAms0msViMnZ0dqtUqAM/PzzQaDQAuLi4olUrzoeKhq6srARZ+2u323H6eJ+x2u3/ltra22NvbA2AymfDy8uLVRskTWKlUiEajf+QCgQCZTIbxeEyhUKBWqwFwcnJCKBSa39BrpPNUr9fVKI+Pj8WyLM+aLwPv7u4kGAwKIIZhSLPZXKjuS8BOp6Nguq6LaZoL1y4NtG1bzs7O1CjPz8+Xqt8QWW49XV9fc3p6CsDBwQH39/f4/X71vtfrYVkWr6+vfHx8qHw6nQY8XDqbzWi1Wip+f3+nWCyqOJPJ8PT0xOXlJf1+H4DBYIBt21iWpYCxWIx2uw2A6wlN0ySXy/H4+Oj6QT6fDwDbtlUuEolwdHSk4nK5TCQSUffWFbi7u8vb25srLJVKqSYA8XicbDZLIBAgHA671rmaJplMyuHhoeTzeXl4eFAm0XVdbm5uxLbtZf0mInNcOhwOZTQaiYhIr9dTwEQi8SXQb7nuQ13X2d7eBn6tnf39ffcxLaGFFrDf7+f29hbDMFYGLnUPp9MpjuOgadp6gP9C3/8nau3AT4LnOap2WXrrAAAAAElFTkSuQmCC' width='64' height='64'>\n",
       "                        <br>\n",
       "                        <p>label: <b>2</b></p>\n",
       "                    </td>\n",
       "                    <td style='text-align:center; padding:5px'>\n",
       "                        <img src='data:image/png;base64,iVBORw0KGgoAAAANSUhEUgAAABwAAAAcCAYAAAByDd+UAAAAOXRFWHRTb2Z0d2FyZQBNYXRwbG90bGliIHZlcnNpb24zLjguNCwgaHR0cHM6Ly9tYXRwbG90bGliLm9yZy8fJSN1AAAACXBIWXMAAA9hAAAPYQGoP6dpAAACWUlEQVR4nO2Wv2oqURDGZ4eLEhQ3jZgiKioEg8FGSwMBcUknWKmliPgECRaS2PgCNuID2KikExIMSacIKRNsFCRREBvFP5Aifre5WfC6amJuLML9YGH3nJn5nZ2dM2cFAKAtircJ+w/8GcBfHzXs9Xo0mUzIarXKYw8PD1StVomI6OnpifL5PEUiEXK73RQOh5UDYY2urq5wcXEBg8EAvV6PSCQCo9EIo9EIURTBzAuXWq1GsVhUjLcS2G63YTKZFIMyM+x2OwKBAAKBwBx8d3cX9/f3nwf2+31YLJY5yM7ODiRJgiRJeH5+BgB0u13EYjHZxu/3L40pAKs7Ta1Wo+l0Kj+rVCryeDxzNul0mpLJJBERHR4e0t3dHen1+s2+4boMBINBaDQaMDMkSVqaynd9CZhIJObSXa/X1/psBJzNZigUChAEAcwMURSRSqXQ6/W+BzgcDsHMMrDT6XzY99OdZjQa0enpKf1ZLLlcLtJqtYq2Nzc3cmN418oqbTQaVKlUKJvN0svLy3uR0Xg8lu9PTk7IYrFQqVRa8H99fSVBEOaqfCnQbrdTv9+nwWCw9G0BkCAIinPHx8dktVrJ5/NRKBSSxxV7aS6Xo1arRW9vb0thR0dHZLPZ6PLyktRq9cL83t4eiaKouMoFRaNRMDP29/dRLpdxfX2Ng4MDMDOcTicymQy63e4m9aZcpbe3tzg/P8fj4yMA4OzsTN5r6XR6I9BK4N+qVCoyMJFIfD8wHo+DmeFwONBsNr8E/NA+NJvNpNPpyOv1zh3Am2jtafGv9fN/orYO/A1MXXywaeEaKwAAAABJRU5ErkJggg==' width='64' height='64'>\n",
       "                        <br>\n",
       "                        <p>label: <b>2</b></p>\n",
       "                    </td></tr><tr>\n",
       "                    <td style='text-align:center; padding:5px'>\n",
       "                        <img src='data:image/png;base64,iVBORw0KGgoAAAANSUhEUgAAABwAAAAcCAYAAAByDd+UAAAAOXRFWHRTb2Z0d2FyZQBNYXRwbG90bGliIHZlcnNpb24zLjguNCwgaHR0cHM6Ly9tYXRwbG90bGliLm9yZy8fJSN1AAAACXBIWXMAAA9hAAAPYQGoP6dpAAACM0lEQVR4nO2WP2vqYBTGn1ykdLAaM0jc7FDtVHSzs4NmcOhQhA6dhJIv4FSR0tWlDtLBzV1KMzi4FIoSEJybfILaPyqWFNsqz51uuKVGTe0td+gD7xA45/lxzuE9bwSSxDfq13fCfoD/B/Dt7Q0vLy/2KZfLKBQK8Pv9EAQBgiBgd3cX0+l0tgGX0PPzM03TZD6fZzgcJoCF5/X1dabXQmCv12MkEplpKooiJUmiJEk8OTmhz+dbHWgYBgFwbW2NoVCIiUSClUqFlUqF9/f3dpxlWQwGgwTAvb09TiaTzwGHwyGr1SovLi7mxpVKJbu6p6cnx7ilZrhI19fX9Hq9BMB0Ou3Yzi8BDodDKopCAJQkie12e278SsDBYGDDAPD09HRhzkrA/f19GxaPx/nw8PDvgLqu29dAlmXe3t4uledxu2kA4PHxEcViEaPRCABwdHSEyWSCZrMJAAiHw9ja2vr8pvmjfr9PTdOYSqXeLYBYLMbNzU37++bmxtFjLtCyLNbrdZ6fnzMWizEajc5dZ4qisNVqOV56x5Z2u12cnZ1B13WYpunY2lQqhUAggJ2dHWQyGWxvb8PjWTClv+ndbpeHh4cURXFuJaFQiFdXVxyPx24m8rGlx8fH74w3NjaYy+XYaDTsucmyzE6n4xo0E3h5eUlVVamqKjVN493dHUmyVqtxfX2dABbuVFdAJ2WzWbs6wzBWArp68Q8ODhCJRNykfJArYDKZXAkGAAL58yP8tfoN4mqrkO7qkrQAAAAASUVORK5CYII=' width='64' height='64'>\n",
       "                        <br>\n",
       "                        <p>label: <b>2</b></p>\n",
       "                    </td></tr></table><p>Total: 21</p>"
      ],
      "text/plain": [
       "<IPython.core.display.HTML object>"
      ]
     },
     "metadata": {},
     "output_type": "display_data"
    }
   ],
   "source": [
    "idxs = (y_test == 7) & (y_test_pred_max != 7)\n",
    "render_image_grid(X_test[idxs], y_test_pred_max[idxs], PER_ROW)"
   ]
  },
  {
   "cell_type": "code",
   "execution_count": 82,
   "id": "d971df32",
   "metadata": {},
   "outputs": [
    {
     "data": {
      "text/html": [
       "<table><tr>\n",
       "                    <td style='text-align:center; padding:5px'>\n",
       "                        <img src='data:image/png;base64,iVBORw0KGgoAAAANSUhEUgAAABwAAAAcCAYAAAByDd+UAAAAOXRFWHRTb2Z0d2FyZQBNYXRwbG90bGliIHZlcnNpb24zLjguNCwgaHR0cHM6Ly9tYXRwbG90bGliLm9yZy8fJSN1AAAACXBIWXMAAA9hAAAPYQGoP6dpAAABwklEQVR4nO2Wv6riQBjFv2+4WCmksFCQkEIsQx5A/PMEsfYBBAtB30S0UdLqC+QBhGlMGSvBdIoJmMpWCJxtVlkXiZm7mwsX7oEUmZmTH5wzQ4YBgL5Q4ith3w8YBAF1u11yHCe7CZ/U4XBAvV6HEAKGYWT2fQo4nU5hGAaEEBBCoN1uZ/YqR5okCe33ezoej0RE1Gg0aLVa5RfpfD6HEALMDCEEms2mkl8JGIYhLMsCM4OIwMzwPC8/4Ha7ffTGzLBtG7fbTQmo1GGpVKJyufx49zyPgiBQ+YR6h4PB4KnD4XCo5FcGnk6nJ2CtVsNut8sPCACTyeSxaZgZuq7nC7xer1iv1ygWixBCoFAoYDQawff9fIB39Xo9aJr22LnVahVxHOcHBIDFYvF0VM7nc+r6f/49maaptP4tUEpJUsqXc47jUL/fp99JETJcHj7SJqMoItu2qdVqURzHj3HXdUlKSZfLhZIkIWYmy7LIdV2qVCrpxLS8/z5zfz73MU3TsFwuEUVRps5TgWEYQtO0l0Bd12HbNjabTSbQXQykBy+lJN/3iYhoNptRp9Mh0zRpPB6/7euV3gL/t77Xre0H+Eq/ALGpQgSa7Bg5AAAAAElFTkSuQmCC' width='64' height='64'>\n",
       "                        <br>\n",
       "                        <p>label: <b>3</b></p>\n",
       "                    </td>\n",
       "                    <td style='text-align:center; padding:5px'>\n",
       "                        <img src='data:image/png;base64,iVBORw0KGgoAAAANSUhEUgAAABwAAAAcCAYAAAByDd+UAAAAOXRFWHRTb2Z0d2FyZQBNYXRwbG90bGliIHZlcnNpb24zLjguNCwgaHR0cHM6Ly9tYXRwbG90bGliLm9yZy8fJSN1AAAACXBIWXMAAA9hAAAPYQGoP6dpAAAB9klEQVR4nO1WIY/iYBB98+UcyAUssk1tLWCxNPwFQh0CB3WE4NBUg22QgAQN9itILGCr34lLe8uy0LKbI7lkx0zSmc6b13nzfRWSxAtNvRLsBxCbzQamaUIphVqtBtd14bouarUaRARKKYgIZrNZdkQ+MN/3KSJUSn3qm80mPc9jFEWPylzZr0fNVCoVxCKeTCY3MdM0szPLwpBkwigIgswsHlkqYLVapYjQtu3XAC6XSyqlmM/nGYbhvwckSdu2CYDL5fLbgJn20DRNiAhGo9HzInlWNCSptSYAigjX6/VVbLFYsN1uJ/FCocDtdnu3ViZA8q9afd+n1pqDwYC2bX+6n6VSiVrr7wHGao2ZvPeO4zAIAmqtaRhGwvR4PH4dMFZrzKRYLNJ1Xe52u6uTJooiOo5DEaHjOF8HHI/HCSPP81Lz4y9wOp2unme+LQ6HA0QExWIRrVYrNV9EICKYz+fPq5QkgyBguVzmYDBIzV2v1wnDG+ZpL2utk2PtfD5naq5er1NEaFnW84Dx7D7u3z3r9/vJrKfT6U384fX0fnbdbvdqdoZhYL/fJx4A5vM5VqsVRASNRgOO49wWfKbjLD6Xy3E4HN6tl8qw1+tBRHC5XAAAYRgC+HO+hmGI0+kEy7Lw9vYGAOh0OjAM4249IX/+S/9zwN8rfWPZup8+oAAAAABJRU5ErkJggg==' width='64' height='64'>\n",
       "                        <br>\n",
       "                        <p>label: <b>8</b></p>\n",
       "                    </td>\n",
       "                    <td style='text-align:center; padding:5px'>\n",
       "                        <img src='data:image/png;base64,iVBORw0KGgoAAAANSUhEUgAAABwAAAAcCAYAAAByDd+UAAAAOXRFWHRTb2Z0d2FyZQBNYXRwbG90bGliIHZlcnNpb24zLjguNCwgaHR0cHM6Ly9tYXRwbG90bGliLm9yZy8fJSN1AAAACXBIWXMAAA9hAAAPYQGoP6dpAAACLUlEQVR4nO2WPa8pURSGX9dHjIT4DhGUKjRqySQUKgoFohARidJv8BOORO0fSCQaiUah0GjEZ43sSHw3iHW6iXOdzDgccov7JpPszN5rnnnXrLX3yIiI8Eb9eSfsP/D9QMYYgsEgPj4+0Gq1fodIIhqPxwSAAJDf76fdbie2/C6JOtxsNsJ4Op2i0+k8bVAhtcBqtYIxBo7jIJfLb+a32y0GgwHMZjPm8zkWi4UwZzKZwPO8NPB0OoExBrvdDo/HA8YYlssl4vH4DfR8PgMA1Go1AECj0SCTyUChUMBms908W/bdTrPZbFAsFlGtVnG5XAAAFosFgUAAAODz+XA8HjEcDpHP5+F0OsFxHMxmM6xWq0i+IF40zWZTKJpIJCLcv1wutFqt6HA4/G7RNBoNYdzr9VAqlZBMJpFIJGAwGOD1elEul7Fer8Vd3etwNBqR0+kUXF5fDoeDQqEQASC3203tdvsuh6JAIqJCoUAcx5FerycApNVqKZfLERFRrVYTXsBms9F6vX4eSETU7/dpMplQt9ul4XD4ZU6pVArQcDgs+V3vAorpGuhyuYgx9jpgvV4nmUwmABuNhmTMU6fFYrEAXbXxfr+XjHkKeN02HMdBqVRKBz2azk6nQyqVSkhnOp2+K+5hYDab/dKX97TEw8But0s6nY4AkNFopEqlQufz+XXAaDQqOON5/kexkufh35rNZtjtduB5HrFYDKlU6kfx3x5Pr9S/9df2Cn0CUkai4jPsKhoAAAAASUVORK5CYII=' width='64' height='64'>\n",
       "                        <br>\n",
       "                        <p>label: <b>4</b></p>\n",
       "                    </td>\n",
       "                    <td style='text-align:center; padding:5px'>\n",
       "                        <img src='data:image/png;base64,iVBORw0KGgoAAAANSUhEUgAAABwAAAAcCAYAAAByDd+UAAAAOXRFWHRTb2Z0d2FyZQBNYXRwbG90bGliIHZlcnNpb24zLjguNCwgaHR0cHM6Ly9tYXRwbG90bGliLm9yZy8fJSN1AAAACXBIWXMAAA9hAAAPYQGoP6dpAAAB2ElEQVR4nO2WsaviQBDGZwetJKSysTCdvkJsUoVUAbVKsPavMGUaES3EasH/wNrCRrCzEAUbi4CVtlYWggipBL9rLjnunpp4752F3AdbDDvMj9nNfhMBAPRC8Sth/4HvAUwlTTwej7Tb7W7uKYpCpVIpWSHEKAgCDAYDfHx8gJkhhAAzR0sIAVVVYRgGDMPAaDTCfr+/W0/EvcNcLkeHwyGKXdcl5l83cb1eaTqdRt0DIM/zqNfr/V2HRAQhBFzXxfl8vpu33W4hpYSiKBBCoN/v364XBwyPcDwex6UCAHzfh2ma0DQNm83meWC73QYzwzRN+L6fCCqlhGmasCzreeDlcoHjOGBmqKqK9XqdCBoEAU6n0/PAUJ1OB+l0GkQEx3FuHlcSJQYCQLfbje5U07S7H8a3AQFgtVqh1Wohm82CmVGr1R6+uy8DQy0WC1iWBSEEyuUyJpPJvwWGqtfryGQyKBaLiTr9MhAAms0mmBmNRuM1wOFwGHlrnD5NCykl2bZNhULhphVKKUkIEcXz+ZxmsxkREem6/siWb3tp6IXhCr30XpxKpZDP51GpVB56bahP02K5XJLneb9Ngz+nQxjruk7VapVs247v7Kdix9N36/3/ad4f+APNsyxLvH+84gAAAABJRU5ErkJggg==' width='64' height='64'>\n",
       "                        <br>\n",
       "                        <p>label: <b>3</b></p>\n",
       "                    </td>\n",
       "                    <td style='text-align:center; padding:5px'>\n",
       "                        <img src='data:image/png;base64,iVBORw0KGgoAAAANSUhEUgAAABwAAAAcCAYAAAByDd+UAAAAOXRFWHRTb2Z0d2FyZQBNYXRwbG90bGliIHZlcnNpb24zLjguNCwgaHR0cHM6Ly9tYXRwbG90bGliLm9yZy8fJSN1AAAACXBIWXMAAA9hAAAPYQGoP6dpAAACMUlEQVR4nOXWz8spURgH8O97SUgyNbOQUhZkYWosWEkpC1Z2NmpC+SPEyspG/AFSWPFfKBb0rqampKRYUPJjwwL1vItb053Ly53XfS3ufepszjnP+Zzn1Dkzb0REeGH8eCX2f4D6v7lYtVrF+XwGAKxWK2w2GzSbzefBTqeDw+EAAAgEAigWi+j3+9hut6p58Xj8KlczyPM8xuMxLpcLAIDjOKzXawBALBaDXv9zyWw2i0gkcpX/pvVahEIhXC4XeDweuFwulEolAIAoimg0GtDpdHfzNVfY7/cBAMfjEdFoVOkXBOEhBgCgL8RwOKR4PE4ACACxLPvHuZrBwWBAiURCwRwOh6Z8zaDRaFQwANRut78H7PV6ZLfbVRgAstlsZLfbSRRFOp1Oz4O73Y5SqRQxDHOF/d58Ph8tFovnwEwmo1qU4zgSBEFphUKBWJZVxqfT6ddBWZbJ4XAoR5fNZun9/V0153w+qzb1FEhEVKlUKJfLkSRJN8dns5nqBJ4G70W73Sae5xXM7/fTdrv9HrDb7ZLX61Vh+/3+YZ5mcDKZUD6fJ4PBQADIaDRSMpl8WNldsNVqUTAYpNlspvRJkkTBYJCcTqdSFc/z1Gg0NG345uO9XC4xGo2QTqdhNpsBALIsYz6fAwCsVisikQjq9TpYln38YP8SN0GTyQSLxYJer6fqZ1kW5XIZbrcb4XBYE6TEZ6VLkkQcxxEAYhiGarWapqP7LDR/gJ+Nf/838eXgB+IuIaHuBzHXAAAAAElFTkSuQmCC' width='64' height='64'>\n",
       "                        <br>\n",
       "                        <p>label: <b>3</b></p>\n",
       "                    </td>\n",
       "                    <td style='text-align:center; padding:5px'>\n",
       "                        <img src='data:image/png;base64,iVBORw0KGgoAAAANSUhEUgAAABwAAAAcCAYAAAByDd+UAAAAOXRFWHRTb2Z0d2FyZQBNYXRwbG90bGliIHZlcnNpb24zLjguNCwgaHR0cHM6Ly9tYXRwbG90bGliLm9yZy8fJSN1AAAACXBIWXMAAA9hAAAPYQGoP6dpAAACBElEQVR4nO2WIZCqUBiFz2VeUiNI0jECmW7FKFmjM1SrQ9ti0uigUStjtYoVKmjDKlTzeeHNY3Z3VkXX3X3hnfIP3Mv97pn7n7kIksQ3SvpO2H/gzwOjKILrurBtG5IkQQgBwzBQr9fhOA6CILi9CEvI932apkkhBCVJKmq9Xme73S6eW60W+/3+1bVuAnu9HgFQCFHUarVK0zT58vLCOI7peR6zLON2u6VpmvQ873Hga2ftdpuO4zBJkovzsyxjlmUXxwV5PfhJkiDLMhiGAVmWAQCbzQb7/R55nmM0GqFSqZRvhFsO36vX6705w+PxeNf3pYFxHFPTtOIsbdum7/v37rccMI5j1mq1wpnrujyfz3fDSgMnk0nhTNf1h0B/VSr4hmFACAEhBA6HAzqdDubzeflGeaRpfN+n53m0LIuKolAIQU3TGIbhXQ7v7lKSPB6PjKKIuq5TkiQOh8Or2fs08LV836eiKHRdl6fT6euBJBmGIVVVpWmaDILg64Hkn+goikJd1686fRqQJJfLJVVVpWVZjwHTNGWapndBLcsiAE6n0w/Hf12LzHq9xng8RqPRuDin2+1C0zQAQJ7nyPO8yOtHunlbAChCvtvtsN/vEYYhhBAgebE6joPZbPYY8L1WqxUMw8BisXjzPkkS6LoOWZYxGAzQbDafA/yM/u2/tmfoN0Iq08g0VpHRAAAAAElFTkSuQmCC' width='64' height='64'>\n",
       "                        <br>\n",
       "                        <p>label: <b>3</b></p>\n",
       "                    </td>\n",
       "                    <td style='text-align:center; padding:5px'>\n",
       "                        <img src='data:image/png;base64,iVBORw0KGgoAAAANSUhEUgAAABwAAAAcCAYAAAByDd+UAAAAOXRFWHRTb2Z0d2FyZQBNYXRwbG90bGliIHZlcnNpb24zLjguNCwgaHR0cHM6Ly9tYXRwbG90bGliLm9yZy8fJSN1AAAACXBIWXMAAA9hAAAPYQGoP6dpAAABrUlEQVR4nO2Wv4riUBjFz5VtxSGInYjaaCNpAj5AQEIsBMFKH0CwESuR1D5FwBcQBEXsRAsVLASxiCAWVpImTUDU4kw128wW3szGYtlTf4ffPRe+P4Ik8UZF3gn7DwxFv4IaH48H5vM5FosFNpsNdF3HaDSC7/uo1+toNBpIJpPfjQwg13VpGAaj0ShTqRRt2/5Ws91u/+iVBs5mM8ZiMQohuFqtpB8rBbQsix8fH4zH4xwMBnw+n+EBLcuioihMJBLs9/vSICng8XikoigUQrDb7QaGvQxstVoUQlAIwd1u9yPgS23R6/UQiUSw3++Rz+eDdpJcW5xOJ6bTabbbbY7H48AJX5402WwWtVoNh8MBy+USvu+Hm/BLqqoSADVN4/1+Dy/hl0qlEoQQcBwHnueFn/B8PjOXy1FVVTabTemEgWapbdu/22Q4HEp5f7yeHMeRqg8ENE0TmqYFsQZbTyQ5nU5ZKBSYyWTe86WGYcDzPFSrVSnfyxv/crmgUqnANE1cr1dMJhO4rgtd16WAgnz9Lr3dbuh0Oliv1zBNE8ViEeVyOTzg39C/fyZ+AtQux5nTxYmzAAAAAElFTkSuQmCC' width='64' height='64'>\n",
       "                        <br>\n",
       "                        <p>label: <b>8</b></p>\n",
       "                    </td>\n",
       "                    <td style='text-align:center; padding:5px'>\n",
       "                        <img src='data:image/png;base64,iVBORw0KGgoAAAANSUhEUgAAABwAAAAcCAYAAAByDd+UAAAAOXRFWHRTb2Z0d2FyZQBNYXRwbG90bGliIHZlcnNpb24zLjguNCwgaHR0cHM6Ly9tYXRwbG90bGliLm9yZy8fJSN1AAAACXBIWXMAAA9hAAAPYQGoP6dpAAAB9ElEQVR4nO3WP2siQRgG8Gf8g9qoCKYS3EZUbLRZLCSNCIHFxkr9INr4DWzsJY2iRRAsbK0UQUQsolikU0EtRJtlUQk8KY4TjiTcbgzCHXm63Z2Z374z7M4IksQNY7ol9gP+gP8GaLmm8263w3w+R7vdRqvVgqZp79pEIhH0er3LtTDy4W+3W8TjcYTDYcxmM2iahsPhgFgsBqvVCgB4eHiA0+lEMpmE1+uFx+OB3W7/WoUulwuZTAadTgeqqmI8HgMAJEmC2WzWNYbuNTwcDkilUqhUKnC73Xh+fgZJkISqqvrfmjqyXC55f39PIQSFELy7u6MsywRAIQQlSWK1WtUzFP+6hq+vr0gkEhiNRgB+TWsgEIAsy5c2/X4fDocDw+Hw+grH4zFNJhNtNhtzuRz3+/0fzxeLBQOBALPZrK4KdU3p4+Mj5/P5u/tPT0+UJImyLHM6nX4f+FHK5TIBUFEUvry86O5nGDyfzywWi7RarVQUhafTyVB/Q2Cz2WQwGKTFYmGpVDKM6QZXqxULhQJtNhuj0Sgnk4lhSBeoqiprtRr9fj+FEEyn01wsFl/GPgU3mw0bjQZDoRCFEIxGoxwMBtQ07SrsU9Dn812ger3O4/F4NfQ7H/5put0u1us18vk8LJardrB3MbQ9fUf+/yPGzcE3l3lSfC+dwasAAAAASUVORK5CYII=' width='64' height='64'>\n",
       "                        <br>\n",
       "                        <p>label: <b>4</b></p>\n",
       "                    </td>\n",
       "                    <td style='text-align:center; padding:5px'>\n",
       "                        <img src='data:image/png;base64,iVBORw0KGgoAAAANSUhEUgAAABwAAAAcCAYAAAByDd+UAAAAOXRFWHRTb2Z0d2FyZQBNYXRwbG90bGliIHZlcnNpb24zLjguNCwgaHR0cHM6Ly9tYXRwbG90bGliLm9yZy8fJSN1AAAACXBIWXMAAA9hAAAPYQGoP6dpAAAByUlEQVR4nO3WP6uCUBgG8HNeIXKoNiEIrc21NnGpD9AsfYNa/AYhbUXQFo1tbU3OBtLqEDW5JjXpEhVKw3M34V7uoN4/w+UeOIv4vL/z8qrIAYD94qLfxP7Bf5AlScLm8znr9XrMdd1sIRRccRxjNBqBiNBoNOD7fqZcbnC1WkHTNHQ6HRARFEXB6XTKnM8Fep6HcrkMIgLnHESEdruN2+2WuUauGUZRxJIkYQCYIAhMFEV2OBxYrVZj3W6X7XY7FkXR98zweDxClmUQEYgItm1ju91CVdV3HSuKgul0isvl8mmdzGC9Xk8Lzmaz9HoYhlgulzAMA4qipAdqNptwHKcY6Hneu5ktFotP7wvDEEEQpPv5fBYDVVUFYwyc83RXKhU4joM4jrOUyAf6vg9N02CaJnRdR6vVSjsej8ffD35c1+sV/X4fRARd1/F4PH4WBIDz+Zw+IEEQZM4V/pbe73cGgImiyARByB4s2uFgMAARwTCMXLlCoO/74JxDkiS4rvuz4GazgSzL4JxjvV7njWcHX68XLMtK38PhcJgbywValgUigiRJME2zEJYZnEwmhWeWG7RtG6VSCdVqFfv9/ksYAHDgj/95vwHcEcU0gJxk2wAAAABJRU5ErkJggg==' width='64' height='64'>\n",
       "                        <br>\n",
       "                        <p>label: <b>9</b></p>\n",
       "                    </td>\n",
       "                    <td style='text-align:center; padding:5px'>\n",
       "                        <img src='data:image/png;base64,iVBORw0KGgoAAAANSUhEUgAAABwAAAAcCAYAAAByDd+UAAAAOXRFWHRTb2Z0d2FyZQBNYXRwbG90bGliIHZlcnNpb24zLjguNCwgaHR0cHM6Ly9tYXRwbG90bGliLm9yZy8fJSN1AAAACXBIWXMAAA9hAAAPYQGoP6dpAAACYUlEQVR4nO2WMUhqYRTH/+cbQnFSQ4RycDAcLgpuEUEtQYsSxM0tajUU56YmIVrbbG1puHPcsSVcBKUhUShwMZS8DqaD/Ju8PF8+r88n8R68A99yzrnn9333/L/DJySJbzT1nbD/QABArVbDzs4O6vX6UoDiJJput4tEIoHRaATDMNBoNLC5uYn19fXFiJzDrq6uKCL0eDxUSjGfz7PX6/Hl5YWHh4e8vLycpwxJci5gKpWiiFApZa+NjQ1GIhEqpXh8fLwcYL/fZ71ep6ZpFBHG4/EJ6HgT0Wh0OcBWq0URoYjQ6/WyWCwyEAjYPgAUEfp8PlqWNRfQUaUiAhFBt9uFaZrQNM32/RjTdR29Xs9RM791D4fDIarVKlZWVpDNZuH1eu2YaZpIpVL4+PiYXWTW8QeDAbe2tib6FQ6HeXNzQ5K0LIuFQoHhcNju6/n5+eI9JMmLiwsbuL+/z7e3ty85r6+vPDs74+rqKl0uF0ul0uJAkry9vWWlUnHM297eJgAeHR0tDry7u+Pu7i4Nw3AENptNigiDwSDf398XA+q6TqUUT05OHIEkKSJ0u91st9tT444qXVtbAwAYhgHTNGfm3t/fAwCSyST8fv/UHEdgMpkEAFiWBV3XcXp6ikajMTX3V/4Jm+c3jcUwnjAiwlgsxkwmw8fHR5bLZWYyGfp8vuWo9Pr6+svwHl+VYDBIl8tlD/R0Oj2z1lzAfr/PXC5nF/55eI+Xx+Ohpml/DhxbsVicgE479d7e3vKAJPn8/MynpyceHBxMAEOhEB8eHtjpdGZ+7/jEWLb9fa+2fx74CTPnNWFi4/GlAAAAAElFTkSuQmCC' width='64' height='64'>\n",
       "                        <br>\n",
       "                        <p>label: <b>0</b></p>\n",
       "                    </td></tr><tr>\n",
       "                    <td style='text-align:center; padding:5px'>\n",
       "                        <img src='data:image/png;base64,iVBORw0KGgoAAAANSUhEUgAAABwAAAAcCAYAAAByDd+UAAAAOXRFWHRTb2Z0d2FyZQBNYXRwbG90bGliIHZlcnNpb24zLjguNCwgaHR0cHM6Ly9tYXRwbG90bGliLm9yZy8fJSN1AAAACXBIWXMAAA9hAAAPYQGoP6dpAAAByklEQVR4nO3Wr6vyUBgH8OeMiYImxYFuGJYM2kw2QcGBwf9gMAwmMQoGs0EE8+z+ASaDQVlUFMMwKToEg0lw8XvTvSC8bud975D3wv3Caed5PuzHczgMAOiNEd6J/YL/F9jr9YgxRowxSqVSZNs2XyE4st1u0e/3IcsyNE1DOByGIAhgjH2tXC7H0wpcYKPReGr+p5XNZoMBx+MxRFH0BXVdDwacz+eIRqMvIUmS0O128Xg8ggEBQNO0l6Cqqjifz1wYN2iapufrLBQKOJ1OwYG32w2KoviiPE/KNYfxeJzK5TLFYjEiIioWi1StVimRSHztWa1WZJpmMHP4mfV6DcuycL/fAQC73Q7NZhOSJIExhkgkgtFo5Nnjr8BXmc1mSCaTYIxBURTPvYGcpZVKhUqlEtfeQMDj8UiWZb0HdF2XhsMhXS4XvoLvfDvXddFqtZ7GI5/Pe9ZwgYvFAoZhYDAYwHEcOI6D5XKJWq32hIVCIUwmk++D9Xrd9/BmjKHdbvv24gJlWfaERFGEqqqwbTsYMJPJvMQEQUCn0+FpAwBggP+9dLPZ0HQ6JSKi/X5P1+uVDocD6bpO6XSaDMPg/qu5wCDzc25t/5oPkIwLalPxFRcAAAAASUVORK5CYII=' width='64' height='64'>\n",
       "                        <br>\n",
       "                        <p>label: <b>3</b></p>\n",
       "                    </td>\n",
       "                    <td style='text-align:center; padding:5px'>\n",
       "                        <img src='data:image/png;base64,iVBORw0KGgoAAAANSUhEUgAAABwAAAAcCAYAAAByDd+UAAAAOXRFWHRTb2Z0d2FyZQBNYXRwbG90bGliIHZlcnNpb24zLjguNCwgaHR0cHM6Ly9tYXRwbG90bGliLm9yZy8fJSN1AAAACXBIWXMAAA9hAAAPYQGoP6dpAAACVUlEQVR4nN2Wv0tyYRTHv+flRQzBKAwRUXBrEHSQcJaIWiTBIUfdhP4EQS530MW/QBCkxcFAlxaHhnLIQQxEcXAKMSoEh5siwffd7ouV+fPthQ482/c8n+ece7/neYQk8Y3x6zth/wX4e5Obvb6+ol6v4/b2FkajET6fDy6XC3a7/a+IG4rxeMxEIkERIQCKCEWEVquVwWBQ122kwqurK6iqiru7OwDA6ekpRASBQABOp3NavG5ljUaDFouFIsKDgwO2Wq0v9WsBO50OY7EYt7a2qCgKJ5PJ3JyVgZqmMRwOEwBDodDCeSsDz87OKCKMRqN8enr6d8DxeMxSqcTt7W2KCCuVylL5SwE1TWM+n9d/eRGhxWLh3t4eI5EIe73eZoHhcHgK9t5zXq+Xj4+P6wM1TWMulyMAffn9fqZSKZLk/f09vV4vATCdTq8HHA6H+gQxGAwMBAKsVCp8e3ubOlAoFKKI8Pz8fDXgy8sLVVWlzWbTWxaJRD7VPj8/65pqtboaMB6PT32r/f19jkajT7WKouiTZp75ZwJjsZjeIo/HQxFhJpP5oCsWizSZTBSRuWNtLhAAy+Uy2+02AdBqtbLf75OcnjRms3lhP868gB8eHiAiqNfr2NnZwcnJCUQEtVoNhUIBPp8Pl5eXcDgcuL6+xuHh4WJXy6yTtFotut1uigiTySSPj4+nPCciPDo64s3NzUKVzW0pSWazWTocjg8mdzqdVFWV3W53KRhJCvn1q20wGODi4gLNZhMAYDQaoSgKdnd3F2vhu5gL3HT8/Gfizwf+AZdGKHASRTJzAAAAAElFTkSuQmCC' width='64' height='64'>\n",
       "                        <br>\n",
       "                        <p>label: <b>6</b></p>\n",
       "                    </td></tr></table><p>Total: 12</p>"
      ],
      "text/plain": [
       "<IPython.core.display.HTML object>"
      ]
     },
     "metadata": {},
     "output_type": "display_data"
    }
   ],
   "source": [
    "idxs = (y_test == 5) & (y_test_pred_max != 5)\n",
    "render_image_grid(X_test[idxs], y_test_pred_max[idxs], PER_ROW)"
   ]
  },
  {
   "cell_type": "code",
   "execution_count": 83,
   "id": "641736a1",
   "metadata": {},
   "outputs": [
    {
     "data": {
      "text/html": [
       "<table><tr>\n",
       "                    <td style='text-align:center; padding:5px'>\n",
       "                        <img src='data:image/png;base64,iVBORw0KGgoAAAANSUhEUgAAABwAAAAcCAYAAAByDd+UAAAAOXRFWHRTb2Z0d2FyZQBNYXRwbG90bGliIHZlcnNpb24zLjguNCwgaHR0cHM6Ly9tYXRwbG90bGliLm9yZy8fJSN1AAAACXBIWXMAAA9hAAAPYQGoP6dpAAAB0UlEQVR4nO3WvarqQBQF4JUQ/EELK0Ew+ABiZWUnFlpYBRQELS2sfQU7bVQQBB/AQrGxE1urNDZBUMRY+QJB0ZisU1yuIKcwI94DF86GwDCbPR+THSYjkSR+MOSfxH7BlzEcDiFJEmazmfcivhmDwYCSJBEAF4uF57q3wNVqRUVRGAgEOJ1OhWqFQcMwqKoqFUVhv98XLRcDD4cD4/E4ZVlmr9cTxoRA27apaRolSWKz2XzK3e93uq77WbDT6RAAK5XK07zjOCyVShyNRp8DTdOkqqpMpVLcbDZPuePxSABMJpO8XC6fARuNBgGw2+0+zd9uN9ZqNQJgLpfzstRrcLfb0e/3s1gsfuvTfr8nAALw/MW+PGnm8zmu1ytc1/2Wm0wmj3G5XP7MSWMYBhVFIQBqmkZd10mS2+2W4XCYAFiv1+k4jqcdeuphq9V6vLpIJMJ8Pv/AZFnm6XTyhHkGSXI8HlNV1Qf898lms54xIZAkr9crz+czdV0nAIZCIZqmKQQq3jr9J3w+HwDAsiwAQCwWQyKREFnivf9hu90GABQKBeFaYXC9XmO5XApDb4OWZcG2bYTDYVSr1X8PRqNRBINBpNNpZDIZYVAif++l/zn4BQC7QLKY+r0FAAAAAElFTkSuQmCC' width='64' height='64'>\n",
       "                        <br>\n",
       "                        <p>label: <b>9</b></p>\n",
       "                    </td>\n",
       "                    <td style='text-align:center; padding:5px'>\n",
       "                        <img src='data:image/png;base64,iVBORw0KGgoAAAANSUhEUgAAABwAAAAcCAYAAAByDd+UAAAAOXRFWHRTb2Z0d2FyZQBNYXRwbG90bGliIHZlcnNpb24zLjguNCwgaHR0cHM6Ly9tYXRwbG90bGliLm9yZy8fJSN1AAAACXBIWXMAAA9hAAAPYQGoP6dpAAACHUlEQVR4nO2WP2vqYBTGnxRpLLp0MRWx0qUd20WcHHTLkrWTdvEDSBFchY5FP0PBwc3BRZRAPkBBCtIhm4j1D6Ik+K9o5bnTDZTb2ybRW+6Fe+Ad8p73Ob/3nPPmTQSSxDfawXfCdgYul0soioJsNmtfxB1M13UC4NHREafTqS3NXkoqSRIODw9trd0LUJZl+Hw+e4t3KWk2m6UoitR13bZGIN29Ft1uF5eXlxAEAdPp1LbOdUlVVYVhGMjn886Ebko5Go14cXHBk5MTDodDR1pXGdbrdei6jng8DkmSsFqtMJvN/kyG8/mcyWSSAPj4+MjNZkNFURiLxTiZTL7UOwbe3d0RABOJBEmy0WgQAAHw6elpv8B2u81wOEwALJfLHI/HPD8/JwAGg0Fb/bQFXK/XrNVqDIVCVjaLxYLVatV6DofD7PV6fH193Q1oGAYTiYQV+KtxenrKZrP523ifnlLTNJHL5aBpGgDA7/ejUCigVCohGo1+qPF4PGi1Ws5P6Xq9ZiaTebf7YrFIklytVjw+PiYACoLAq6sr3t7eUtM0mqbprqTPz8/vYKlUim9vbyTJh4cHa16W5c97Yhd4c3NjBT07O2On07F89/f3BMB0Os3tdusI+GEPJ5OJ1TdRFFGpVBCJRCz/y8sLvF4vrq+vcXDg8LL6aBeDwYCBQIAAqKrqL/5+v89Wq+Uos5/m+vPk1v6tv7b/wL8C+ANsO8SsRag9sAAAAABJRU5ErkJggg==' width='64' height='64'>\n",
       "                        <br>\n",
       "                        <p>label: <b>2</b></p>\n",
       "                    </td>\n",
       "                    <td style='text-align:center; padding:5px'>\n",
       "                        <img src='data:image/png;base64,iVBORw0KGgoAAAANSUhEUgAAABwAAAAcCAYAAAByDd+UAAAAOXRFWHRTb2Z0d2FyZQBNYXRwbG90bGliIHZlcnNpb24zLjguNCwgaHR0cHM6Ly9tYXRwbG90bGliLm9yZy8fJSN1AAAACXBIWXMAAA9hAAAPYQGoP6dpAAAB1ElEQVR4nO3WsYrqQBQG4JnDJYUKWogoBhtRA4F0gi8gKig2voEK2iRYi09hY5HOzqewFbTQNNFOQVELxcJY/lvdcMXNmuiyxWV/mGaYzMc55JBwAGA/GPpJ7Bf8Be0sl0vWbDZZqVRiRMTq9brzYbwZVVXh9/tBRPZKJBKO518GF4sF2u02BEG4w4gI1Wr1e0HDMBCJRB4gIkIoFMJ4PP4e0DAMaJoGURTBOf8UlGX5yztcg5ZloVwu2xdzzhGLxaDrOqLRqL3f6XTeB1erFfL5/F0lnHOkUilks9mHlo5Go9fBw+EAVVUfWufU0mdv6Z+v5ms+n7NisciOx+PTWQwEAqzRaLBkMsn8fr/3OZzNZqjVao5V/FuhoijY7XbPmuXc0ul0imAwCM6542KMgXMORVEwHA5dYY5gv9//tKpCoYBWq3VX4WAwcI25AiuVCnq9HrbbLa7XKy6Xiw3Ksozz+fw+eDqdYJomTNPE7Xaz9/f7PSRJAhFBkiRsNhtPmCPolG63a1eu67pnzBO4Xq8Rj8chCAJyudxLmGvQsixomgYiQjqdfhlzDU4mExARwuEwTNN8C/T0xff5fCyTyXh55CGuQFEUmSzLb0F/w4H//M/7A6ydwyD7jXKuAAAAAElFTkSuQmCC' width='64' height='64'>\n",
       "                        <br>\n",
       "                        <p>label: <b>9</b></p>\n",
       "                    </td>\n",
       "                    <td style='text-align:center; padding:5px'>\n",
       "                        <img src='data:image/png;base64,iVBORw0KGgoAAAANSUhEUgAAABwAAAAcCAYAAAByDd+UAAAAOXRFWHRTb2Z0d2FyZQBNYXRwbG90bGliIHZlcnNpb24zLjguNCwgaHR0cHM6Ly9tYXRwbG90bGliLm9yZy8fJSN1AAAACXBIWXMAAA9hAAAPYQGoP6dpAAABuklEQVR4nO2VrcvyYBSHf74gC2pRZNGPajOozWie+A9oMphEhVXNJpuIis2yv8BkkGETyxAWFAVBVoagZfye9I5nfj2b8D7wghcs3Oec+742zg63jyTxi/z5TdlH+BHaHA4HqKqK6/X6czFvGAwGlCSJq9XqNvWUdrtNAGw2m7xcLi9r74QACICxWIzr9dqTEABbrZY3YafToSRJBMBcLudKOJ/PKQgCATCfz3sTkuRwOCQA+nw+1ut1V9Jer2fvkWX5PSEAiqLIzWbzo3A2mzEUChEA/X4/p9Ope6FhGIzH47bU7VcmEgl7z2g0eljzcCzC4TCSyaS97vf7OB6Pb4/Nd57OoSzLEAQBAHA+n1EoFLDdbmFZ1l2taZrY7/cPc7f4yOfXU7fbRaPRcMQqlQqCwaAjtlwuoaqqIyZJEhRFuT/0VU92ux1rtZrdFy9PIBDgYrFw99N8x7IsjsdjptPpl4JUKsVqtUpRFO1YsVj0LvyLYRjUdZ3lcpmlUomiKDKbzXIymVDXdZ5OJ5KkoiiOF7nlZQ9foWkaotEoIpGII26aJjRNs9eZTMaRf1v4Lv/nffgRfoT/lC+t+2BZxG4+dgAAAABJRU5ErkJggg==' width='64' height='64'>\n",
       "                        <br>\n",
       "                        <p>label: <b>7</b></p>\n",
       "                    </td>\n",
       "                    <td style='text-align:center; padding:5px'>\n",
       "                        <img src='data:image/png;base64,iVBORw0KGgoAAAANSUhEUgAAABwAAAAcCAYAAAByDd+UAAAAOXRFWHRTb2Z0d2FyZQBNYXRwbG90bGliIHZlcnNpb24zLjguNCwgaHR0cHM6Ly9tYXRwbG90bGliLm9yZy8fJSN1AAAACXBIWXMAAA9hAAAPYQGoP6dpAAAB/UlEQVR4nO3WIavyUBgH8GcvIg7FJCKICxZZsBjUoEGwCwanRYuCfgDFZhMMgh9BMVgEYVG0miyyIAYFm4pW2cb0f9M73nG5uin3wgv3gRO2w/P/nQPjnDEAQD9Yf34S+wWfVjgcJoZhqFKpmG/Ci9VqtWCz2UBEYBgGk8nEVN/LOzwej6RpGhEReTwe4nn++3Y4GAxgt9tBRCAilEol072WwfV6DY7jdCwWi2G73X4PKMsyEomEjjEMg16vZ2nBpkFN0xCNRnWMiFAsFgEAt9sN3W4XtVoNm83mfVCWZWSzWQOWy+VwuVwAAJ1OR38fj8ffA6/XK+r1ugGLx+M4n88AgOl0aviAYrHYe2CxWDRgbrcbi8UCALDb7RAKhQzzjUbjdVAURXi9Xj3M5XJhPp8DABRFgSAIBoyIwPM8RqMRFEWxDvr9fj3I6XRiNpvpc+12+xP27yiXy9bA1WoFh8OhB/T7faiqClVVIYoiWJZ9CHIcZw2UJOlp6FfD7Xaj3+9bAwEgEolYglKpFARBwHK5/DLzIbjf75FMJh8iPp8P+Xwe4/EY9/v9UdxzEABUVYUkSQgGg5+wZrOJ0+n0FLEE/q10Om3AMpkMrterJQwweR/KskyHw0F/5jiOqtUqsSxrpt1YZlc2HA4RCARQKBSeHtCPigF+/0v/c/ADy4/ys6lDZREAAAAASUVORK5CYII=' width='64' height='64'>\n",
       "                        <br>\n",
       "                        <p>label: <b>6</b></p>\n",
       "                    </td>\n",
       "                    <td style='text-align:center; padding:5px'>\n",
       "                        <img src='data:image/png;base64,iVBORw0KGgoAAAANSUhEUgAAABwAAAAcCAYAAAByDd+UAAAAOXRFWHRTb2Z0d2FyZQBNYXRwbG90bGliIHZlcnNpb24zLjguNCwgaHR0cHM6Ly9tYXRwbG90bGliLm9yZy8fJSN1AAAACXBIWXMAAA9hAAAPYQGoP6dpAAABp0lEQVR4nO2WvariUBSF1zWCBiNRFK0krxAEwc50Ilhr6yuksbNJZZEn8AmsLUSLRLCyFo7YJNjYCjYWarJuJwwzxUnmkmZmVYd9WHysvTk/XySJDJXLEvYf+I8DZ7MZlsslqtUqwjCUNzKFttstC4UCK5UKATAIAmnvV9JzeLlcYFkWDMNArVaDEAKn0wmKokj5E7d0t9vher3CNE2cz2domiYNA5CspWEYsl6vczqdkiTH4/FnLSvphHEcw3EcaJoG27aTNiZ5wuPxSABcLBafmmEYiRNKAaMo4mg0Yrvd5vv9/tRVVeV8Pv95YBAEBMDNZvNLXVVV7vd7kuTr9ZICSs1wvV6j1WrBsqzf9p7PJxzHged5PzdDIQQB0DRNuq7L1WpF27aZz+fZaDQ4HA6lE0oB4zjm4XDgYDCgruvUdZ2lUokA6LouoyiSgkkD/yTf9wngM0NZpb68Pc9DuVxGp9NJ5EsNfDweyOVyKBaL2QCbzWYqX2pgr9dDHMe43W7ZALvdLhRFgRAiGyAA9Pt93O/37ICTyQS+7yfyJH7x/1aZ/9q+ATDGdYlBJ3nNAAAAAElFTkSuQmCC' width='64' height='64'>\n",
       "                        <br>\n",
       "                        <p>label: <b>9</b></p>\n",
       "                    </td>\n",
       "                    <td style='text-align:center; padding:5px'>\n",
       "                        <img src='data:image/png;base64,iVBORw0KGgoAAAANSUhEUgAAABwAAAAcCAYAAAByDd+UAAAAOXRFWHRTb2Z0d2FyZQBNYXRwbG90bGliIHZlcnNpb24zLjguNCwgaHR0cHM6Ly9tYXRwbG90bGliLm9yZy8fJSN1AAAACXBIWXMAAA9hAAAPYQGoP6dpAAACQ0lEQVR4nO2WsWvqUBTGv3sphG5FMqh/gEgdBG1ApEPpqJOLc9oK0iGDOHRT8C+wQ6mDW5cWd0cHHRRcShGk1K2gKBWDN4MuPW94JI+gSfqwlTe8b7o337nnx7335CSMiAh7FN8n7D9w/8ButwvOOfr9/n6AAMAYQyKR2A/w6enJ0Xt+foaqqkgmk5jNZl8nkouy2SxxzolzvuEVCgXLK5fLbmlsctzh+/s7Go0GiAhOvcHNM3V7ewtd1625I1CSJMiyDMYYGGNbY0wvl8tt9cfjMarVKgzD8AZ+R8ebz+dYLBZ4fHz0Bt7f32M+nwMA4vH4hh+LxaxxvV7fmsMwDAghMJ1OvYHL5dK6o1QqteGfn5/j8PAQRIRKpbLhD4dDXFxcgIjw+fnpDQT+3FEgENjwgsEg0um07Y6FEOh2u7i8vEQkEsHb2xsYYwgGg9a6AzegqdFo5BmjaRra7TYGg4H1TJZlFItFqKr6d8CrqysAv6vObAZCCDSbTSvm7u7OVs1nZ2fIZDLQNM2WyxVoVurx8TGIyJZw21ySJJyensLv9+Ph4cEx6VZ1Oh2KRqNWN2GMWeNtc1VVqdVqeXYaRi4vnBACpVIJk8nEehYKhayqHQwGyOfzAABFUdDr9dwOzH2HX9FqtaKTkxPinNPR0RG9vr56rtnpAyxJEnw+H4gIuq7j5eXFc83OX/ybmxtIkgTGmO3oHbXLkZq6vr4mxhiFw2H6+Phwjf0WIBFRrVYjRVFovV67xrlW6U/o3/pr+wn9ApcroqXHlUxEAAAAAElFTkSuQmCC' width='64' height='64'>\n",
       "                        <br>\n",
       "                        <p>label: <b>6</b></p>\n",
       "                    </td>\n",
       "                    <td style='text-align:center; padding:5px'>\n",
       "                        <img src='data:image/png;base64,iVBORw0KGgoAAAANSUhEUgAAABwAAAAcCAYAAAByDd+UAAAAOXRFWHRTb2Z0d2FyZQBNYXRwbG90bGliIHZlcnNpb24zLjguNCwgaHR0cHM6Ly9tYXRwbG90bGliLm9yZy8fJSN1AAAACXBIWXMAAA9hAAAPYQGoP6dpAAACLUlEQVR4nO3Wv2vqUBQH8HukxLi4CKIEioIgrtJRCGQREdtmFAc3wdFNEBQqFLfSxclNFPRfEEFBKHQRm0Fc/IF0EkFELFbJt9vlFR5t8tQ+HrwDWc7h3E9ukpt7CQDYD4blJ7GTgMlkkl1fX7PZbGasAUfEYrGA1+sFEaFQKBjqOWqGg8GATadTZrVaWTQaPe8M9/s9JEkCESEWixnu+2Pw4eEBRAQiwnq9Pj8YCARARLi8vMThcDgvWC6XIQgC3G43hsOhqV7T4H6/h6IoICLc3NyYbTcPdjodEBEEQcDT0xMAQNd17HY79Pv904MejwdEhGKxyHPNZhNEBLvdjpeXl9OBlUoFoigiGAxiu93yvCAIHNQ07TSgpmmwWCwgItRqNQDA6+sr7u7ueP7+/v7bcQyD8XgcRARRFJHNZiHLMlwuF1+LRASv1wtZlhEOh1Gv16GqKur1Op6fn82B1WqVz8LIdXFxAY/Hg9vbW5RKJczncz4WAV/vh71ej6mqypbLJc9dXV0xSZLYarVi3W6XMcZYKBRiDoeDRSIR5vP5mKIo5v+lb29vkGWZ33UymcRoNMJ2u4Wu60ilUiAiOJ1OTCYTQ6/mSzCRSPDHlM/nP9XG4zGvZTIZQ9iXYLVahSiKICL4/X5sNptP9cfHRw52u93jQcYYiAg2m40vg1+j0Whw8P39/Xiw3W7D5XIhl8v9tq7rOlqtFtLptKnd4tuv9NTx753a/oN/HfwAaBuOW2Bt8k0AAAAASUVORK5CYII=' width='64' height='64'>\n",
       "                        <br>\n",
       "                        <p>label: <b>2</b></p>\n",
       "                    </td>\n",
       "                    <td style='text-align:center; padding:5px'>\n",
       "                        <img src='data:image/png;base64,iVBORw0KGgoAAAANSUhEUgAAABwAAAAcCAYAAAByDd+UAAAAOXRFWHRTb2Z0d2FyZQBNYXRwbG90bGliIHZlcnNpb24zLjguNCwgaHR0cHM6Ly9tYXRwbG90bGliLm9yZy8fJSN1AAAACXBIWXMAAA9hAAAPYQGoP6dpAAAB5UlEQVR4nO3WP4viQBgG8NmDJKRIIyJ2BhFRMIK1lRYBS8HSMtiIiBb5EEJqLRXRxkYUP4HYqIg2NloKpvO/pog8V10g5646LrfF7r0wxWQyz493EkjeAIB8Yf36Suw/+EPB/X5P8vk8kWWZ9Pt9cr1e6QJAUdvtFqqqghBijWq1aq3P53N0Oh3MZrMPM54GL5cL4vG4DSOEwOfzAQCm0ykcDgcIIRAEAYZhvA7udjvEYjEbxPM8QqEQcrkcFosFnE6nbV3TtNfBdDptCwsEAmg0GgCA0WiESCRy03k2m6UHTdOELMvgOM4KCofD0HUdhmGgXq9DEIQbjGEY9Ho9erBWq9mCPB4PdF3HcDiE1+u9gf50PxgMPsy8C4qiaAsTRRGpVAoMw7yL8TyPdrt9L5IOfDSSyeRd7CGYyWSowMlk8jlwtVrB7/ffHKuiKEgkErbrqqrCNM3PgQBwOp2w2WygaRrK5TKOxyPO5zMkSbK9TOv1+iH2FPheNZtNC2NZFpVK5em9L4HBYNACXS4X1V5qsNVq2Z5dqVSi2k/9eep2u7a5JEl0AbQdRqNRW4eCIGC5XP67Dv+uw+FAxuPx0/dTg4qiEJZlrTnHccTtdj8fQHukAFAoFKwjLRaLVHvfgG/+5/0b7GKWtzEitGwAAAAASUVORK5CYII=' width='64' height='64'>\n",
       "                        <br>\n",
       "                        <p>label: <b>9</b></p>\n",
       "                    </td>\n",
       "                    <td style='text-align:center; padding:5px'>\n",
       "                        <img src='data:image/png;base64,iVBORw0KGgoAAAANSUhEUgAAABwAAAAcCAYAAAByDd+UAAAAOXRFWHRTb2Z0d2FyZQBNYXRwbG90bGliIHZlcnNpb24zLjguNCwgaHR0cHM6Ly9tYXRwbG90bGliLm9yZy8fJSN1AAAACXBIWXMAAA9hAAAPYQGoP6dpAAAB80lEQVR4nO2VT8tpURTGn+3vwL8BSkxOKUyMUIqJiYG5gWTIxNw3MDMQ5QvIhDJWFMbyBcgpA5IMTqQM6LkzXVHnvN57deu9T+3arfZav9baa+8lSBIflO6TsP/AHwaczWb3fTqdRqVSeY9IDVosFjSbzWy1WiTJQCBAg8HA0Wikxf1BmoDFYpFCCFqtViqKwkAgQIvFwuVy+WWgakmPxyMmkwkAIJlMwmg0IhgMQqfTQZblv1PSeDxOIQQ3mw1JcjqdUgjBQqHw5zPc7XZYrVbI5/Pwer0AAL/fD4fDAb7xK6oCx+MxDocDstns3ebz+RAKhSCE+DLQoHZgu90CAEwm04M9HA6j2+0+2G63G2RZRqfTgcvlQqlUevJTvcP9fk+Px8N6vf5gbzQaFELwcrlwvV6zWq0yGo1SCEEAFEK87GLVDN1uNyRJQq1Wg9PpBABIkoT5fA4AiMfjUBQF6/X6yc9msz0H1NJZvV6PAFSXJEksl8tst9u8XC4vY2kC3m435nK5e6l+XwAYi8XYbDZ5Pp9VYwlSW2+fTif0+31Mp1MAgNfrRaPRQCQSwWg0gl6v1xIGmoGvlMlkcL1eMRgMoNNpmwPfHk/D4RCKomg+/+/Ow58LTCQSsNvtnwGmUinY7XYYDKof1l3fehbv6ON3+AvfKoxEnU/aewAAAABJRU5ErkJggg==' width='64' height='64'>\n",
       "                        <br>\n",
       "                        <p>label: <b>7</b></p>\n",
       "                    </td></tr><tr>\n",
       "                    <td style='text-align:center; padding:5px'>\n",
       "                        <img src='data:image/png;base64,iVBORw0KGgoAAAANSUhEUgAAABwAAAAcCAYAAAByDd+UAAAAOXRFWHRTb2Z0d2FyZQBNYXRwbG90bGliIHZlcnNpb24zLjguNCwgaHR0cHM6Ly9tYXRwbG90bGliLm9yZy8fJSN1AAAACXBIWXMAAA9hAAAPYQGoP6dpAAACPklEQVR4nO2WsUvrUBTGz7k+2lLExSk0jYvSgFucSgulUHBp544uirjbUf0HXBykwXZw7dKl6VjolKWFgnTq0kCKWOggSKHi8L3hwaVqExNFQXhnyuF+9/5yzncSLgMA/WCIn4T9HuDT0xPt7e2Rqqo0HA7DbcYnolKpgJkhhEChUMBisQi8N3SFpmmSbdsyT6VSxMzfV2E6nYYQAswMVVXhOE6o/aEqbDab5DgOASAAlEwmaWtrK8wR9CeMWFEUmk6nxMwUjUbp4OAgFIwo5JSORiP5nM1m6fj4ODQwsIetVgvr6+sQQkAIgW63G9L9fxEYeHR0BGYGM+Pi4mKl5u7uDtVqFS8vL18D3tzcyO9OCAHXdd9pbm9voWkahBAwTfNrQE3TJLBer+P5+fmdplQqyRc6PT31POvDKbUsix4eHmS+u7tLkUjklebk5IQsy5I/gFqtRoqi0GAwIMMwyDAMyuVyHw/NeDyGoihgZhCR9JCZYRjGq/zt+nKeSCSCtdS2bdmmZQ+D5rquI5PJYDqdBmtpo9HwXIvH41QsFomIqN1u03w+l2vn5+e0v79POzs7tLm5+XqjV3Vvv7t8Po/Ly0u4rgvXdXF/fy+1y0Ol6zoeHx89u+YJXPZoY2MD/X5/pW4+n0NRFOnZ9fW1n0vewGVP/Ma80+kgFotJz2az2eeAqVRKAnu9nu8htVoN5XIZZ2dnvjoAYGD1rW0ymdDV1RVtb2/T4eEhra2t+c1X4PAEflf8jlvbf6Bf/AXF9323COkYZwAAAABJRU5ErkJggg==' width='64' height='64'>\n",
       "                        <br>\n",
       "                        <p>label: <b>6</b></p>\n",
       "                    </td>\n",
       "                    <td style='text-align:center; padding:5px'>\n",
       "                        <img src='data:image/png;base64,iVBORw0KGgoAAAANSUhEUgAAABwAAAAcCAYAAAByDd+UAAAAOXRFWHRTb2Z0d2FyZQBNYXRwbG90bGliIHZlcnNpb24zLjguNCwgaHR0cHM6Ly9tYXRwbG90bGliLm9yZy8fJSN1AAAACXBIWXMAAA9hAAAPYQGoP6dpAAACFklEQVR4nO3WsUtqcRjG8Sc56BlCzKkhwr1NMFysNQhrcm0KaTFxcRIaBSGkQWiQDvQPRBhNEW0NDRpuLiYGQS6iiKfh9L3DBaHrzfR0Cy70wm84PL/n/ZzlwJkD0DeO5zux/xPs9XqKx+O6vLz8ehDQ6empLi4udHV1NXXJ9Tw8PCAJwzC4ubmZquMafHp6Ynt7G0mUSqWpe67Bs7MzJLGwsEC73f5asN/vE4lE8Hg8WJY1U9cVaFkWkvB6vTN3ZwbPz88JhUKYpkkul/tasNlssrGxgSTC4fBYXqvVsCyL4XD4b8B0Oo0kgsEg9/f3Y/n+/j6SyGaznwcfHx/x+/1IolAojOXlchmv14skNjc3cRyH19dX9+Da2hqS2NvbA35/h9VqlW63S6lUIhQKIQlJ+P1+YrEYqVSKXq83G+g4DpVKBcMwkEQ8Hmd9fZ3FxUVM02R5eXkE/XlM0+Tu7m42sFqtvrswGo2+efb5fCSTSba2tjg6OqLRaIztmwjats3KyspoYTAYJJ/P02q1aLVa2LZNJpMZYQcHBx+9/2Tw5ORkhCUSCZ6fn9/kLy8vo/zw8PBDbCJ4fHyMz+dDEjs7O/T7/bE7xWIRSSwtLWHbtnvw9vaW1dVVJBEIBOh0On8tJxIJJHF9fT0V9i64u7uLJObn56lUKu+W6/U6g8EAx3E+BxYKBQzDmIi5nTn4+U38AWebX5mL4A6X8nAwAAAAAElFTkSuQmCC' width='64' height='64'>\n",
       "                        <br>\n",
       "                        <p>label: <b>6</b></p>\n",
       "                    </td>\n",
       "                    <td style='text-align:center; padding:5px'>\n",
       "                        <img src='data:image/png;base64,iVBORw0KGgoAAAANSUhEUgAAABwAAAAcCAYAAAByDd+UAAAAOXRFWHRTb2Z0d2FyZQBNYXRwbG90bGliIHZlcnNpb24zLjguNCwgaHR0cHM6Ly9tYXRwbG90bGliLm9yZy8fJSN1AAAACXBIWXMAAA9hAAAPYQGoP6dpAAAB2UlEQVR4nO2WP68xQRTGnxWNZONPM5INChGVYluF4GNQ0KAnGl9Ch15DpSJaCWFLHcXS7CashF0N2523eSPZ5N7LuK7cN3mfZIrJmef8ciZzZkYgIsIb5Xon7D/w9wAty4IkSUgmk7Asi89MT6jRaBAAAkCj0YjLy13hfD7HcDi8zWez2c9WmMlkbtUBoMFgwOXnArbbbRIEwQFcLpdcwIe39Hw+o9vtgoggyzIqlQrfVv7Vw8BqtQpFUSCKIprNJoLB4M8BVVVFv98HANTrdWSz2VvsdDq9HtjpdHC9XhGJRFAulx2x9Xr9euButwMAlEolSJLkiGma9nrgeDyGx+NBLpfjSv4UcLvdwrZtFAoFxGIxAMDxeIRpmgCAxWKBYrEIWZYhyzLy+Twul8un+dz3gKqqwrZtGIaBVCoF27ah6zr2+z0AYDKZONZrmgZd1xGPxz9OeK9RTdMkxpij2T8aoihSOp0mRVG+zPfQTdPr9SgcDhNjjHw+HzHGyO12k9/vp1arRdPplDabzUM3jUDE96c5HA5wuVxIJBIIBAJYrVY8dv73kDEGXddhGAav9TkgAESjUYRCofcBvV4vRFF8Cni3LT5TrVaDoijcPu5D8139G7+27+gPEKpax0WoJasAAAAASUVORK5CYII=' width='64' height='64'>\n",
       "                        <br>\n",
       "                        <p>label: <b>6</b></p>\n",
       "                    </td>\n",
       "                    <td style='text-align:center; padding:5px'>\n",
       "                        <img src='data:image/png;base64,iVBORw0KGgoAAAANSUhEUgAAABwAAAAcCAYAAAByDd+UAAAAOXRFWHRTb2Z0d2FyZQBNYXRwbG90bGliIHZlcnNpb24zLjguNCwgaHR0cHM6Ly9tYXRwbG90bGliLm9yZy8fJSN1AAAACXBIWXMAAA9hAAAPYQGoP6dpAAACKElEQVR4nO2WP2v6QBjHn0uj3TSWJsRFAio4+QoEO3RyUxApIuLQwUXBwUXia1Cyi5sufQeFQhctVKK7gujgYBG6qUS+nX6hwX+JP3DqAw8kd/d8P/ccd88dAwC6onHXhP0B/4DXATabTWKMEWOMVFW19A2HQ7q7uyPGGFWr1cMCsGHf3994enrCYDCAIAhgjIExBkVRMJlMAAC6ruP+/t7sc7lc6HQ6e1q2gMViETzPQxRFU/Cf1+t16LoOSZIs7R6PB6+vr86Aq9UK+Xx+DySKIrrdLt7f39Hv91Eul/cmomnaQc2TwHa7vScUCoUsM//6+kI4HLaMicfjWCwWzoCbzQaRSMQU4TgOmUwGhmGYY2azGXK5nAXmdrvx+fl5NImjwFarZRESBMHSr2kanp+f91YgnU4fhZ0EGoZhyZAxhtvbW9M5jtuDMcbA8zweHx+dAwEgm80eFD3lqqpiuVxeBuz1evD5fLZAoVAIHx8fWK/XpyTPn8OXlxfLYT/kiqJgPB6fkwIA8OdKWSqVIkmSaD6fm221Wo2m06n5X6lUKBgM2iqNZ4FERLFYzPze7Xa03W6pUCgQEZHL5aKbmxtbMCKyV0t/W6PRMJdSlmWMRiNH8f91Pfn9fopGo86CnGYoy7KZ3dvbm9Nw5xkKgkBERMlkkh4eHpyGO7+AA4EAeb1eKpVKjmFENnfpb0skEiSKIkUikYuAF22aRCJxEYyIiAHXfer/ADiHBLmOKhonAAAAAElFTkSuQmCC' width='64' height='64'>\n",
       "                        <br>\n",
       "                        <p>label: <b>9</b></p>\n",
       "                    </td>\n",
       "                    <td style='text-align:center; padding:5px'>\n",
       "                        <img src='data:image/png;base64,iVBORw0KGgoAAAANSUhEUgAAABwAAAAcCAYAAAByDd+UAAAAOXRFWHRTb2Z0d2FyZQBNYXRwbG90bGliIHZlcnNpb24zLjguNCwgaHR0cHM6Ly9tYXRwbG90bGliLm9yZy8fJSN1AAAACXBIWXMAAA9hAAAPYQGoP6dpAAAB9UlEQVR4nO2Wv8txYRzGr/OSH3+BMhAZGGRgUPIHWMRgNJgkdv4DC2UxG2WySQalM8hCnEWSGBgkoSj5cT3b21vv7T3HMzzv4lrP9+rzPZ/7rnMkksQP5tdPwj7AD/D/A/v9PnK5HMbj8fvA2+32FmyxWCCRSODxeMBisbwepCDX65Uej4f1el30+K88Hg+mUinGYjHVWSFwuVwSAKvVqibg6XQiALZaLdVZodLFYqGqcLvdIp1OQ1EUNBoNmEwm+P1+dfeiLdxuN51OJw+Hw8tNs9ksjUYjp9Mpk8kk4/G4JhtCYDAYpKIoL0vtdpuSJLFSqZAkbTYbC4XC94Hr9fpl4Xg80uVyMRqN8vl8stvtEgBlWdYE1Is0D4dDWK1W4RGUy2XM53PsdjvY7Xacz2cAQCaTgcfjAQAEAgHsdjvMZjOMRiOsVqvffeGlKZVKuN/vQqAsyzCZTIhEIohEItjv97Db7fD5fDAYDDAYDJhMJthsNgiFQpBlWf3SAOBgMBAqGY/H3Gw2JMn9fk8A7HQ6mnSSL84QAPP5vGq52WzSZrPxcrloBgqVSpKEYDAoVPpnGo0GwuEwzGaz6uw/lfZ6PdVND4cDvV4va7Wa5rcjXyjVEkVRqNfreb/f3+p9+/PkcDhQLBah0+ne6knk5zfxA3wvX/gQ9sYdEC8RAAAAAElFTkSuQmCC' width='64' height='64'>\n",
       "                        <br>\n",
       "                        <p>label: <b>2</b></p>\n",
       "                    </td>\n",
       "                    <td style='text-align:center; padding:5px'>\n",
       "                        <img src='data:image/png;base64,iVBORw0KGgoAAAANSUhEUgAAABwAAAAcCAYAAAByDd+UAAAAOXRFWHRTb2Z0d2FyZQBNYXRwbG90bGliIHZlcnNpb24zLjguNCwgaHR0cHM6Ly9tYXRwbG90bGliLm9yZy8fJSN1AAAACXBIWXMAAA9hAAAPYQGoP6dpAAACWUlEQVR4nO2WzUsyURTGnyvTYOHQrJxgkCRqJULbAUHatHLVLhGCNuHCRav+AIkJ+g8kNy3cK4LIQO1aB+rs2hWm6a4PxfR5N28TNX6lL0LwHjiLee6c85tz7pzLFSSJBZpnkbDfCWy329je3oYQAoZhoFqtjg/gHGbbNjc3NymEcPzo6GhszMwVFotFxONx3N3dfdEbjca/rzCdTtPn832p7MOPj4/Hxk4FfHp64vv7O0ny4eGBXq/XAXwHl0ql+YDZbJZ+v597e3t8fHxkNBp1kquqSsuyKMsyhRDUNI2NRmN2YLfb5c7OjgPQNI1LS0sUQnB5eZlXV1e8vb2lJEkUQjAYDE76/vFA0zSH7pMQgqZpkiQvLi4czTCM+YCGYQyFra+vs16vkyRvbm7o8XgohODZ2dlE4MixeH19xcvLi0uXJAmZTAZra2sAAMMwIEnS1OM0ElgoFFCpVFz6wcEBdnd3pwa4bFTp4XDY1UpFUXh/f+969+Mvnaul36tbWVlBLpeDruuzV4cfHN6BQACxWMylX15eotfrufS3tzecn5/j+fl5NqDX60U+n4dt21/0YbByuYzDw0OcnJwgEong+vr6c3FUrwEMHQlFUajrOgOBAFOpFFVVddZWV1ep67pzEHx4Mpn8zPtT4E89HA7Tsiwn78gBymazOD09RbPZxMbGBnRdRygUAgDUajVUq1W0Wi10Oh0nRtM0JBIJ53l/fx9bW1tQFGVyS6cx27apKIpzrHW73Ykxc10x+v0+BoMBACAYDEKW5Ykx4u9+Lcx+363tP/C7/QGKkPE9rUWYyAAAAABJRU5ErkJggg==' width='64' height='64'>\n",
       "                        <br>\n",
       "                        <p>label: <b>9</b></p>\n",
       "                    </td>\n",
       "                    <td style='text-align:center; padding:5px'>\n",
       "                        <img src='data:image/png;base64,iVBORw0KGgoAAAANSUhEUgAAABwAAAAcCAYAAAByDd+UAAAAOXRFWHRTb2Z0d2FyZQBNYXRwbG90bGliIHZlcnNpb24zLjguNCwgaHR0cHM6Ly9tYXRwbG90bGliLm9yZy8fJSN1AAAACXBIWXMAAA9hAAAPYQGoP6dpAAABvUlEQVR4nO2VvYrCUBCFZy4K2iWgSAohaCMoadXON0jlI2gjiA9gJQiW1iK+gSDaSLCws7GwsBJ/UATFzkIsRM92AX9Wk11js3tginth5mPOHe4wANAHJT4J+wf+QeB0OiVN0ygcDpMsy5RKpWg8HtsjwqI2mw1kWYYQwgxmRrvdtloCAGCpw91uR7qu036/t9fNA70EXi4XyufzNBwOzTtJksjlchER0WAwsEd8ZUGlUrmyUVVVbLdb5HI5MDMURcFqtbJs6VNgq9WC2+2+ApbLZQBAtVoFM0MIgWaz+R5gPB6/ggkhIEkSEokEgsGgCcxms+8Bapp2B7ydUiEEIpEIGo0GDMNAJpPBfD53FngbxWLx25oMfL+eDMOgbrdrnk+nE00mE4pGozQajajf7xMz3+X5/X7q9XoUi8XsT+kzERGYGcwMVVURCoUQCATAzKjX6/YtfSVd100bD4cDAGC9XqNUKmG5XL4fWCgUIIRAOp3G+Xy2lPOrbZFMJomIyOPxPHzLh/pNh7PZ7M5SRzv8id4GrNVqnwUej0fngYqimIOzWCycB3q9XvL5fERE1Ol0LOU8/dqc0Men9As2HciAIuyIlAAAAABJRU5ErkJggg==' width='64' height='64'>\n",
       "                        <br>\n",
       "                        <p>label: <b>9</b></p>\n",
       "                    </td>\n",
       "                    <td style='text-align:center; padding:5px'>\n",
       "                        <img src='data:image/png;base64,iVBORw0KGgoAAAANSUhEUgAAABwAAAAcCAYAAAByDd+UAAAAOXRFWHRTb2Z0d2FyZQBNYXRwbG90bGliIHZlcnNpb24zLjguNCwgaHR0cHM6Ly9tYXRwbG90bGliLm9yZy8fJSN1AAAACXBIWXMAAA9hAAAPYQGoP6dpAAACXElEQVR4nO1Wv0tqYRh+3ovDMUQbDE3IljgmFDnp4CpSUxxolX6NhX9CW0hTQzUeEBdBoVkHF5fcpEWQs0fBGTIJMZTnLil09ZyjXoo73AfO8p3n/Z7nfd/v4/2EJPGD+PWTYv8Ff17w9vYWp6eneHl5sd1kxJsJnIL393cWi0X6/X6KCHVdn0YbY2VlhSLCx8dHWx5JTs2wUqlgaWkJoVAIABAOh21Nr62tAQDu7+8Xy3CEy8tLJhIJR9flcpkiwlwu58h12ZnZ3t6Gy2VLAQBsbW05Z/YJ20NjGAYODw8dN9nc3MTR0RGSyaQj19Z+PB5HIBBw3GQwGGAwGMAwDCSTSTQaDXQ6HYgIdnd3v5Ktal0oFGgYhmNPGo0G7+7uKCLMZrO8uLigiFBEmE6nJ/iWgm9vbxwOh5ZCT09PrFarVFV1LACAmUyGe3t7XF1d5f7+/myC7XZ7Yq3X61HXdeq6Tk3TGAwGGQwGx2IjwVgsxpubGz4/P081OiGoqioVReHJyQlrtRoPDg4IgJFIhABsv3q9ztfXV8uqkKSQX+ehiEBE/uzzeM3j8cDtduP4+BiKoiAQCODs7Aw7OztoNpuOB8zxkq2vryMWi0FVVfT7fZyfn2NjY2P8P5vNAgA0TXMUG7n/AtM0mc/naZomTdNkt9u1LM/DwwNTqRQjkQg/Pj5sS2nZw3lwdXVFEWE0Gp055q/n4afpuQIWRiKRoKIoLJVKM8csLNhqtej1eqlp2lxxC5e0Wq2i2+3C5/PNFec8eyywvLyM6+trZDKZueImLv534996tX0HfgP9exE/Z0CUWwAAAABJRU5ErkJggg==' width='64' height='64'>\n",
       "                        <br>\n",
       "                        <p>label: <b>7</b></p>\n",
       "                    </td>\n",
       "                    <td style='text-align:center; padding:5px'>\n",
       "                        <img src='data:image/png;base64,iVBORw0KGgoAAAANSUhEUgAAABwAAAAcCAYAAAByDd+UAAAAOXRFWHRTb2Z0d2FyZQBNYXRwbG90bGliIHZlcnNpb24zLjguNCwgaHR0cHM6Ly9tYXRwbG90bGliLm9yZy8fJSN1AAAACXBIWXMAAA9hAAAPYQGoP6dpAAABiklEQVR4nO2WsY4BURSGj5tINBINUaCikklUKolkKDyAQuIFpvEAClFKZEKt8Q7jthq9StBRCYVEMY0G/xYbwt7dO3f3Dtv4k9P8uSff/OfcmUwAAOiFYq+EvYH/A9xut2QYBoVCIep2u3Q+n/WI8FClUgER3arZbHq1SCVNuFwuaT6fP3iLxYI452SaJpVKJRqPx/4lPBwOyOVyDwm/ViwWw263U04oBY5GIynsWu12+7VAxhgcx1EC+vJaXC4Xmk6n+jv8KWGn0/k2peu6z0lYrVYpm80KKVUkBUajUYpEIoK/2WwoGAyqP+G9vEZQq9WE8cXjcYTDYcG3bdtzpJ7A/X6PfD6vdFszmQx6vZ4eEAA45ygWi0rQdDqNfr+P0+n0dyAAHI9HtFotMMaUwJxzPeBVrutiMpnAsiwkEgkBVK/XYVkWZrOZP8B7lctlAbharaQ9Wl+aRqMheOv1WtqjBUwmk4I3GAyeB0ylUmSa5u+adHYIfF6iQqFw2+FwOJSeDwDvH2F/9QGLPzXr6sIjkgAAAABJRU5ErkJggg==' width='64' height='64'>\n",
       "                        <br>\n",
       "                        <p>label: <b>9</b></p>\n",
       "                    </td>\n",
       "                    <td style='text-align:center; padding:5px'>\n",
       "                        <img src='data:image/png;base64,iVBORw0KGgoAAAANSUhEUgAAABwAAAAcCAYAAAByDd+UAAAAOXRFWHRTb2Z0d2FyZQBNYXRwbG90bGliIHZlcnNpb24zLjguNCwgaHR0cHM6Ly9tYXRwbG90bGliLm9yZy8fJSN1AAAACXBIWXMAAA9hAAAPYQGoP6dpAAACU0lEQVR4nO3WsUvrUBTH8d95SMxQqpM6CNpB7OKiWFxEdHNxEOwU0dXBoc4Ogoj4B0hR8C9ws0upiNAuYqGDkxAQwS6lSBeRaoXvmxp4Qm0bi7wH70CWG8793JOcm1wD0A/Gr5/E/oN/J1gqlTQ/P690Oi1JyufzmpmZaZ3AN+L8/JyRkRHMjPX1dWq1GkNDQ0xOTrbMCV1hqVTS9va2KpWK+vr6lEgklMvlVK1WNTU11fsKPc/DzDAzPM8DIJlM4jgOt7e3LfO+DQ4MDJDP57m6ukISc3NzX+aFAsvlMpKQxOnpKW9vb6ytrSGJnZ2d3oKNRoPFxUUkkUwmqdVqZLNZzIzBwUGq1WpvwYuLC8yM6elpKpUKAAcHB5gZy8vLbfO7AjOZDNFoFNd1KRaLAFxeXhKNRjEzstlsb8ByuUwqlSISiWBmnJ2dBfc2NzcxM5aWljpadFuwUCgEDSKJ8fFxisUiu7u7xOPxYDwWi+F5Hq7rksvlwoOpVApJmBkbGxs8PDxwc3NDLBYL9mHzksTs7CwfHx/hwEwmQyQSQRLxeJzDw0MSiUQwuZnhui4rKyvs7e3h+z5PT09fFtAS9H0/aIbm5J+rcRyHdDrd7iF1Bi4sLPwxefMDfXR0FIydnJx0hbUFm+9kf3+fer3Oy8tL0ChbW1vU6/Xega+vrzw/P/P+/h6Mra6uBhv8/v6+a+xL8HMcHx/T39/PxMQEvu+HwjoGr6+vcRyHsbExHh8fQ2MABu3PpaOjo2o0Grq7u9Pw8HDYf7YkqSOwl/Hvndq6jd8B12VU4x6UDQAAAABJRU5ErkJggg==' width='64' height='64'>\n",
       "                        <br>\n",
       "                        <p>label: <b>2</b></p>\n",
       "                    </td></tr><tr>\n",
       "                    <td style='text-align:center; padding:5px'>\n",
       "                        <img src='data:image/png;base64,iVBORw0KGgoAAAANSUhEUgAAABwAAAAcCAYAAAByDd+UAAAAOXRFWHRTb2Z0d2FyZQBNYXRwbG90bGliIHZlcnNpb24zLjguNCwgaHR0cHM6Ly9tYXRwbG90bGliLm9yZy8fJSN1AAAACXBIWXMAAA9hAAAPYQGoP6dpAAAB/0lEQVR4nO3WsUvqURjG8ccLSiKCOCU0/KbAxSCsHM1QcMpJdxdzEAraGvoXFBcXdWppcxBxqkUXJ3UoEEcnAy1SQZLv3cLhdvtp3oZLL5zx4XPOyzm8xwKgb6xf34n9gD+gJOnu7k6pVEqPj4+KxWKyWCyq1+sfB/hC3d/f43Q6kcTR0RGSODg44PX19cPM2uBwOGR/fx9JGIaBJCRxdnb219xa4Hg85vT0FEkcHh5yfHyMJDweDy8vL5sF397eyGazSCISiVAoFLDb7RiGQaPR+DS/Mliv15GE2+2mVqtxcXGBJC4vL03lVwJLpRKGYWCz2bi6uqLdbmO323G5XHQ6nc2CDw8P75cjnU4DkEgkkMT5+bnpTZsCR6MR8Xj8/doPBgOq1SpbW1vs7u7S7/c3C1YqFSThcDgolUrkcjlCoRCS8Hq91Gq1zYFPT0+Ew+H3d7a8tre32dvbIx6PM5lMNgM2m80/YpJIpVIAn769lcBer0c6nSYYDNJqtcjn80hiZ2eHbrdrGjINLtdkMiEajSKJZDK5MrYyWC6XsdlsBAKBldq4XKbH02w2083NjebzuU5OTuR0Os1G1xtPxWIRq9VKIBBgOp2udTow2dLn52f8fj+SuL29XRszDV5fXyOJTCbDYrH4t2C/38fn8xGNRhkOh1/CACzwn/+8fwM0qQtnuFZBDQAAAABJRU5ErkJggg==' width='64' height='64'>\n",
       "                        <br>\n",
       "                        <p>label: <b>9</b></p>\n",
       "                    </td></tr></table><p>Total: 21</p>"
      ],
      "text/plain": [
       "<IPython.core.display.HTML object>"
      ]
     },
     "metadata": {},
     "output_type": "display_data"
    }
   ],
   "source": [
    "idxs = (y_test == 4) & (y_test_pred_max != 4)\n",
    "render_image_grid(X_test[idxs], y_test_pred_max[idxs], PER_ROW)"
   ]
  }
 ],
 "metadata": {
  "kernelspec": {
   "display_name": "homl3",
   "language": "python",
   "name": "python3"
  },
  "language_info": {
   "codemirror_mode": {
    "name": "ipython",
    "version": 3
   },
   "file_extension": ".py",
   "mimetype": "text/x-python",
   "name": "python",
   "nbconvert_exporter": "python",
   "pygments_lexer": "ipython3",
   "version": "3.10.18"
  }
 },
 "nbformat": 4,
 "nbformat_minor": 5
}
